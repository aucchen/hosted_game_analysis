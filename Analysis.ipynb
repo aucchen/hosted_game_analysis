{
 "cells": [
  {
   "cell_type": "markdown",
   "metadata": {},
   "source": [
    "# Analysis of Hosted Game Data"
   ]
  },
  {
   "cell_type": "code",
   "execution_count": 1,
   "metadata": {},
   "outputs": [],
   "source": [
    "# importing libraries\n",
    "import pandas as pd\n",
    "import matplotlib.pyplot as plt\n",
    "import seaborn as sns\n",
    "import plotly.express as px"
   ]
  },
  {
   "cell_type": "code",
   "execution_count": 2,
   "metadata": {},
   "outputs": [],
   "source": [
    "data = pd.read_csv('data.csv', sep='\\t')"
   ]
  },
  {
   "cell_type": "code",
   "execution_count": 3,
   "metadata": {},
   "outputs": [
    {
     "data": {
      "text/html": [
       "<div>\n",
       "<style scoped>\n",
       "    .dataframe tbody tr th:only-of-type {\n",
       "        vertical-align: middle;\n",
       "    }\n",
       "\n",
       "    .dataframe tbody tr th {\n",
       "        vertical-align: top;\n",
       "    }\n",
       "\n",
       "    .dataframe thead th {\n",
       "        text-align: right;\n",
       "    }\n",
       "</style>\n",
       "<table border=\"1\" class=\"dataframe\">\n",
       "  <thead>\n",
       "    <tr style=\"text-align: right;\">\n",
       "      <th></th>\n",
       "      <th>HG Story Title</th>\n",
       "      <th>Author</th>\n",
       "      <th>Genre</th>\n",
       "      <th>Subgenre (if applicable)</th>\n",
       "      <th>Word Count</th>\n",
       "      <th># of Omnibus Ratings</th>\n",
       "      <th>Omnibus Rating</th>\n",
       "      <th># of Steam Reviews</th>\n",
       "      <th>% of Positive Steam Reviews</th>\n",
       "      <th># of Google Reviews</th>\n",
       "      <th># of GPS Installs</th>\n",
       "      <th>GPS Score</th>\n",
       "      <th>Release Date</th>\n",
       "      <th>Price</th>\n",
       "      <th>Free?</th>\n",
       "    </tr>\n",
       "  </thead>\n",
       "  <tbody>\n",
       "    <tr>\n",
       "      <th>0</th>\n",
       "      <td>Popcorn, Soda�Murder?</td>\n",
       "      <td>Pauzle</td>\n",
       "      <td>Mystery</td>\n",
       "      <td>NaN</td>\n",
       "      <td>23000</td>\n",
       "      <td>65</td>\n",
       "      <td>4.1</td>\n",
       "      <td>NaN</td>\n",
       "      <td>NaN</td>\n",
       "      <td>1229.0</td>\n",
       "      <td>100k+</td>\n",
       "      <td>3.6</td>\n",
       "      <td>3/4/2010</td>\n",
       "      <td>$1.99</td>\n",
       "      <td>Yup</td>\n",
       "    </tr>\n",
       "    <tr>\n",
       "      <th>1</th>\n",
       "      <td>The Nightmare Maze</td>\n",
       "      <td>Alex Livingston</td>\n",
       "      <td>Horror</td>\n",
       "      <td>Puzzle</td>\n",
       "      <td>5200</td>\n",
       "      <td>29</td>\n",
       "      <td>4.0</td>\n",
       "      <td>NaN</td>\n",
       "      <td>NaN</td>\n",
       "      <td>1069.0</td>\n",
       "      <td>50k+</td>\n",
       "      <td>3.5</td>\n",
       "      <td>6/17/2010</td>\n",
       "      <td>$0.99</td>\n",
       "      <td>Yup</td>\n",
       "    </tr>\n",
       "    <tr>\n",
       "      <th>2</th>\n",
       "      <td>What Happened Last Night?</td>\n",
       "      <td>Kie Brooks</td>\n",
       "      <td>Mystery</td>\n",
       "      <td>Humor</td>\n",
       "      <td>4900</td>\n",
       "      <td>134</td>\n",
       "      <td>3.9</td>\n",
       "      <td>NaN</td>\n",
       "      <td>NaN</td>\n",
       "      <td>753.0</td>\n",
       "      <td>50k+</td>\n",
       "      <td>3.1</td>\n",
       "      <td>7/19/2010</td>\n",
       "      <td>$0.99</td>\n",
       "      <td>Yup</td>\n",
       "    </tr>\n",
       "    <tr>\n",
       "      <th>3</th>\n",
       "      <td>Paranoia</td>\n",
       "      <td>Kie Brooks</td>\n",
       "      <td>Puzzle</td>\n",
       "      <td>NaN</td>\n",
       "      <td>5800</td>\n",
       "      <td>180</td>\n",
       "      <td>3.9</td>\n",
       "      <td>NaN</td>\n",
       "      <td>NaN</td>\n",
       "      <td>1139.0</td>\n",
       "      <td>50k+</td>\n",
       "      <td>3.4</td>\n",
       "      <td>4/16/2011</td>\n",
       "      <td>$0.99</td>\n",
       "      <td>Yup</td>\n",
       "    </tr>\n",
       "    <tr>\n",
       "      <th>4</th>\n",
       "      <td>Imprisoned</td>\n",
       "      <td>Myth Thrazz</td>\n",
       "      <td>Fantasy</td>\n",
       "      <td>Puzzle</td>\n",
       "      <td>40000</td>\n",
       "      <td>358</td>\n",
       "      <td>4.2</td>\n",
       "      <td>NaN</td>\n",
       "      <td>NaN</td>\n",
       "      <td>2211.0</td>\n",
       "      <td>100k+</td>\n",
       "      <td>3.6</td>\n",
       "      <td>4/21/2011</td>\n",
       "      <td>$0.99</td>\n",
       "      <td>Yup</td>\n",
       "    </tr>\n",
       "  </tbody>\n",
       "</table>\n",
       "</div>"
      ],
      "text/plain": [
       "              HG Story Title           Author    Genre  \\\n",
       "0      Popcorn, Soda�Murder?           Pauzle  Mystery   \n",
       "1         The Nightmare Maze  Alex Livingston   Horror   \n",
       "2  What Happened Last Night?       Kie Brooks  Mystery   \n",
       "3                   Paranoia       Kie Brooks   Puzzle   \n",
       "4                 Imprisoned      Myth Thrazz  Fantasy   \n",
       "\n",
       "  Subgenre (if applicable)  Word Count  # of Omnibus Ratings  Omnibus Rating  \\\n",
       "0                      NaN       23000                    65             4.1   \n",
       "1                   Puzzle        5200                    29             4.0   \n",
       "2                    Humor        4900                   134             3.9   \n",
       "3                      NaN        5800                   180             3.9   \n",
       "4                   Puzzle       40000                   358             4.2   \n",
       "\n",
       "   # of Steam Reviews % of Positive Steam Reviews  # of Google Reviews  \\\n",
       "0                 NaN                         NaN               1229.0   \n",
       "1                 NaN                         NaN               1069.0   \n",
       "2                 NaN                         NaN                753.0   \n",
       "3                 NaN                         NaN               1139.0   \n",
       "4                 NaN                         NaN               2211.0   \n",
       "\n",
       "  # of GPS Installs  GPS Score Release Date  Price Free?  \n",
       "0             100k+        3.6     3/4/2010  $1.99   Yup  \n",
       "1              50k+        3.5    6/17/2010  $0.99   Yup  \n",
       "2              50k+        3.1    7/19/2010  $0.99   Yup  \n",
       "3              50k+        3.4    4/16/2011  $0.99   Yup  \n",
       "4             100k+        3.6    4/21/2011  $0.99   Yup  "
      ]
     },
     "execution_count": 3,
     "metadata": {},
     "output_type": "execute_result"
    }
   ],
   "source": [
    "data.head()"
   ]
  },
  {
   "cell_type": "markdown",
   "metadata": {},
   "source": [
    "## 1. How many games have been released each year?"
   ]
  },
  {
   "cell_type": "code",
   "execution_count": 4,
   "metadata": {},
   "outputs": [],
   "source": [
    "import datetime"
   ]
  },
  {
   "cell_type": "code",
   "execution_count": 5,
   "metadata": {},
   "outputs": [],
   "source": [
    "# just converting dates to a standard format\n",
    "release_dates = pd.to_datetime(data['Release Date'])"
   ]
  },
  {
   "cell_type": "code",
   "execution_count": 6,
   "metadata": {},
   "outputs": [],
   "source": [
    "data['Release Date'] = release_dates"
   ]
  },
  {
   "cell_type": "code",
   "execution_count": 27,
   "metadata": {},
   "outputs": [],
   "source": [
    "date_group = data.groupby([data['Release Date'].dt.year]).count()"
   ]
  },
  {
   "cell_type": "code",
   "execution_count": 28,
   "metadata": {},
   "outputs": [
    {
     "data": {
      "text/html": [
       "<div>\n",
       "<style scoped>\n",
       "    .dataframe tbody tr th:only-of-type {\n",
       "        vertical-align: middle;\n",
       "    }\n",
       "\n",
       "    .dataframe tbody tr th {\n",
       "        vertical-align: top;\n",
       "    }\n",
       "\n",
       "    .dataframe thead th {\n",
       "        text-align: right;\n",
       "    }\n",
       "</style>\n",
       "<table border=\"1\" class=\"dataframe\">\n",
       "  <thead>\n",
       "    <tr style=\"text-align: right;\">\n",
       "      <th></th>\n",
       "      <th>HG Story Title</th>\n",
       "      <th>Author</th>\n",
       "      <th>Genre</th>\n",
       "      <th>Subgenre (if applicable)</th>\n",
       "      <th>Word Count</th>\n",
       "      <th># of Omnibus Ratings</th>\n",
       "      <th>Omnibus Rating</th>\n",
       "      <th># of Steam Reviews</th>\n",
       "      <th>% of Positive Steam Reviews</th>\n",
       "      <th># of Google Reviews</th>\n",
       "      <th># of GPS Installs</th>\n",
       "      <th>GPS Score</th>\n",
       "      <th>Release Date</th>\n",
       "      <th>Price</th>\n",
       "      <th>Free?</th>\n",
       "    </tr>\n",
       "    <tr>\n",
       "      <th>Release Date</th>\n",
       "      <th></th>\n",
       "      <th></th>\n",
       "      <th></th>\n",
       "      <th></th>\n",
       "      <th></th>\n",
       "      <th></th>\n",
       "      <th></th>\n",
       "      <th></th>\n",
       "      <th></th>\n",
       "      <th></th>\n",
       "      <th></th>\n",
       "      <th></th>\n",
       "      <th></th>\n",
       "      <th></th>\n",
       "      <th></th>\n",
       "    </tr>\n",
       "  </thead>\n",
       "  <tbody>\n",
       "    <tr>\n",
       "      <th>2010</th>\n",
       "      <td>3</td>\n",
       "      <td>3</td>\n",
       "      <td>3</td>\n",
       "      <td>2</td>\n",
       "      <td>3</td>\n",
       "      <td>3</td>\n",
       "      <td>3</td>\n",
       "      <td>0</td>\n",
       "      <td>0</td>\n",
       "      <td>3</td>\n",
       "      <td>3</td>\n",
       "      <td>3</td>\n",
       "      <td>3</td>\n",
       "      <td>3</td>\n",
       "      <td>3</td>\n",
       "    </tr>\n",
       "    <tr>\n",
       "      <th>2011</th>\n",
       "      <td>10</td>\n",
       "      <td>10</td>\n",
       "      <td>10</td>\n",
       "      <td>8</td>\n",
       "      <td>10</td>\n",
       "      <td>10</td>\n",
       "      <td>10</td>\n",
       "      <td>1</td>\n",
       "      <td>1</td>\n",
       "      <td>10</td>\n",
       "      <td>10</td>\n",
       "      <td>10</td>\n",
       "      <td>10</td>\n",
       "      <td>10</td>\n",
       "      <td>10</td>\n",
       "    </tr>\n",
       "    <tr>\n",
       "      <th>2012</th>\n",
       "      <td>3</td>\n",
       "      <td>3</td>\n",
       "      <td>3</td>\n",
       "      <td>2</td>\n",
       "      <td>3</td>\n",
       "      <td>3</td>\n",
       "      <td>3</td>\n",
       "      <td>0</td>\n",
       "      <td>0</td>\n",
       "      <td>3</td>\n",
       "      <td>3</td>\n",
       "      <td>3</td>\n",
       "      <td>3</td>\n",
       "      <td>3</td>\n",
       "      <td>3</td>\n",
       "    </tr>\n",
       "    <tr>\n",
       "      <th>2013</th>\n",
       "      <td>5</td>\n",
       "      <td>5</td>\n",
       "      <td>5</td>\n",
       "      <td>3</td>\n",
       "      <td>5</td>\n",
       "      <td>5</td>\n",
       "      <td>5</td>\n",
       "      <td>1</td>\n",
       "      <td>1</td>\n",
       "      <td>5</td>\n",
       "      <td>5</td>\n",
       "      <td>5</td>\n",
       "      <td>5</td>\n",
       "      <td>5</td>\n",
       "      <td>5</td>\n",
       "    </tr>\n",
       "    <tr>\n",
       "      <th>2014</th>\n",
       "      <td>13</td>\n",
       "      <td>13</td>\n",
       "      <td>13</td>\n",
       "      <td>7</td>\n",
       "      <td>13</td>\n",
       "      <td>13</td>\n",
       "      <td>13</td>\n",
       "      <td>3</td>\n",
       "      <td>3</td>\n",
       "      <td>11</td>\n",
       "      <td>11</td>\n",
       "      <td>11</td>\n",
       "      <td>13</td>\n",
       "      <td>13</td>\n",
       "      <td>13</td>\n",
       "    </tr>\n",
       "    <tr>\n",
       "      <th>2015</th>\n",
       "      <td>17</td>\n",
       "      <td>17</td>\n",
       "      <td>17</td>\n",
       "      <td>11</td>\n",
       "      <td>17</td>\n",
       "      <td>17</td>\n",
       "      <td>17</td>\n",
       "      <td>5</td>\n",
       "      <td>5</td>\n",
       "      <td>17</td>\n",
       "      <td>17</td>\n",
       "      <td>17</td>\n",
       "      <td>17</td>\n",
       "      <td>17</td>\n",
       "      <td>17</td>\n",
       "    </tr>\n",
       "    <tr>\n",
       "      <th>2016</th>\n",
       "      <td>22</td>\n",
       "      <td>22</td>\n",
       "      <td>22</td>\n",
       "      <td>15</td>\n",
       "      <td>22</td>\n",
       "      <td>22</td>\n",
       "      <td>22</td>\n",
       "      <td>10</td>\n",
       "      <td>10</td>\n",
       "      <td>22</td>\n",
       "      <td>22</td>\n",
       "      <td>22</td>\n",
       "      <td>22</td>\n",
       "      <td>22</td>\n",
       "      <td>22</td>\n",
       "    </tr>\n",
       "    <tr>\n",
       "      <th>2017</th>\n",
       "      <td>16</td>\n",
       "      <td>16</td>\n",
       "      <td>16</td>\n",
       "      <td>12</td>\n",
       "      <td>16</td>\n",
       "      <td>16</td>\n",
       "      <td>16</td>\n",
       "      <td>7</td>\n",
       "      <td>6</td>\n",
       "      <td>16</td>\n",
       "      <td>16</td>\n",
       "      <td>16</td>\n",
       "      <td>16</td>\n",
       "      <td>16</td>\n",
       "      <td>16</td>\n",
       "    </tr>\n",
       "    <tr>\n",
       "      <th>2018</th>\n",
       "      <td>25</td>\n",
       "      <td>25</td>\n",
       "      <td>25</td>\n",
       "      <td>15</td>\n",
       "      <td>25</td>\n",
       "      <td>25</td>\n",
       "      <td>25</td>\n",
       "      <td>15</td>\n",
       "      <td>14</td>\n",
       "      <td>25</td>\n",
       "      <td>25</td>\n",
       "      <td>25</td>\n",
       "      <td>25</td>\n",
       "      <td>25</td>\n",
       "      <td>25</td>\n",
       "    </tr>\n",
       "    <tr>\n",
       "      <th>2019</th>\n",
       "      <td>21</td>\n",
       "      <td>21</td>\n",
       "      <td>21</td>\n",
       "      <td>10</td>\n",
       "      <td>21</td>\n",
       "      <td>21</td>\n",
       "      <td>21</td>\n",
       "      <td>10</td>\n",
       "      <td>10</td>\n",
       "      <td>21</td>\n",
       "      <td>21</td>\n",
       "      <td>21</td>\n",
       "      <td>21</td>\n",
       "      <td>21</td>\n",
       "      <td>21</td>\n",
       "    </tr>\n",
       "    <tr>\n",
       "      <th>2020</th>\n",
       "      <td>21</td>\n",
       "      <td>21</td>\n",
       "      <td>21</td>\n",
       "      <td>17</td>\n",
       "      <td>21</td>\n",
       "      <td>21</td>\n",
       "      <td>21</td>\n",
       "      <td>9</td>\n",
       "      <td>9</td>\n",
       "      <td>20</td>\n",
       "      <td>21</td>\n",
       "      <td>20</td>\n",
       "      <td>21</td>\n",
       "      <td>21</td>\n",
       "      <td>21</td>\n",
       "    </tr>\n",
       "    <tr>\n",
       "      <th>2021</th>\n",
       "      <td>5</td>\n",
       "      <td>5</td>\n",
       "      <td>5</td>\n",
       "      <td>4</td>\n",
       "      <td>5</td>\n",
       "      <td>5</td>\n",
       "      <td>5</td>\n",
       "      <td>2</td>\n",
       "      <td>2</td>\n",
       "      <td>5</td>\n",
       "      <td>5</td>\n",
       "      <td>5</td>\n",
       "      <td>5</td>\n",
       "      <td>5</td>\n",
       "      <td>5</td>\n",
       "    </tr>\n",
       "  </tbody>\n",
       "</table>\n",
       "</div>"
      ],
      "text/plain": [
       "              HG Story Title  Author  Genre  Subgenre (if applicable)  \\\n",
       "Release Date                                                            \n",
       "2010                       3       3      3                         2   \n",
       "2011                      10      10     10                         8   \n",
       "2012                       3       3      3                         2   \n",
       "2013                       5       5      5                         3   \n",
       "2014                      13      13     13                         7   \n",
       "2015                      17      17     17                        11   \n",
       "2016                      22      22     22                        15   \n",
       "2017                      16      16     16                        12   \n",
       "2018                      25      25     25                        15   \n",
       "2019                      21      21     21                        10   \n",
       "2020                      21      21     21                        17   \n",
       "2021                       5       5      5                         4   \n",
       "\n",
       "              Word Count  # of Omnibus Ratings  Omnibus Rating  \\\n",
       "Release Date                                                     \n",
       "2010                   3                     3               3   \n",
       "2011                  10                    10              10   \n",
       "2012                   3                     3               3   \n",
       "2013                   5                     5               5   \n",
       "2014                  13                    13              13   \n",
       "2015                  17                    17              17   \n",
       "2016                  22                    22              22   \n",
       "2017                  16                    16              16   \n",
       "2018                  25                    25              25   \n",
       "2019                  21                    21              21   \n",
       "2020                  21                    21              21   \n",
       "2021                   5                     5               5   \n",
       "\n",
       "              # of Steam Reviews  % of Positive Steam Reviews  \\\n",
       "Release Date                                                    \n",
       "2010                           0                            0   \n",
       "2011                           1                            1   \n",
       "2012                           0                            0   \n",
       "2013                           1                            1   \n",
       "2014                           3                            3   \n",
       "2015                           5                            5   \n",
       "2016                          10                           10   \n",
       "2017                           7                            6   \n",
       "2018                          15                           14   \n",
       "2019                          10                           10   \n",
       "2020                           9                            9   \n",
       "2021                           2                            2   \n",
       "\n",
       "              # of Google Reviews  # of GPS Installs  GPS Score  Release Date  \\\n",
       "Release Date                                                                    \n",
       "2010                            3                  3          3             3   \n",
       "2011                           10                 10         10            10   \n",
       "2012                            3                  3          3             3   \n",
       "2013                            5                  5          5             5   \n",
       "2014                           11                 11         11            13   \n",
       "2015                           17                 17         17            17   \n",
       "2016                           22                 22         22            22   \n",
       "2017                           16                 16         16            16   \n",
       "2018                           25                 25         25            25   \n",
       "2019                           21                 21         21            21   \n",
       "2020                           20                 21         20            21   \n",
       "2021                            5                  5          5             5   \n",
       "\n",
       "              Price  Free?  \n",
       "Release Date                \n",
       "2010              3      3  \n",
       "2011             10     10  \n",
       "2012              3      3  \n",
       "2013              5      5  \n",
       "2014             13     13  \n",
       "2015             17     17  \n",
       "2016             22     22  \n",
       "2017             16     16  \n",
       "2018             25     25  \n",
       "2019             21     21  \n",
       "2020             21     21  \n",
       "2021              5      5  "
      ]
     },
     "execution_count": 28,
     "metadata": {},
     "output_type": "execute_result"
    }
   ],
   "source": [
    "date_group"
   ]
  },
  {
   "cell_type": "code",
   "execution_count": 35,
   "metadata": {},
   "outputs": [
    {
     "data": {
      "image/png": "[encoded data removed]",
      "text/plain": [
       "<Figure size 432x288 with 1 Axes>"
      ]
     },
     "metadata": {
      "needs_background": "light"
     },
     "output_type": "display_data"
    }
   ],
   "source": [
    "plt.plot(date_group['Release Date'].index, date_group['HG Story Title'], marker='x')\n",
    "plt.xlabel('Release Year')\n",
    "plt.ylabel('Count')\n",
    "plt.title('Stories released per year')\n",
    "plt.grid(True)\n",
    "plt.xticks(date_group['Release Date'].index, rotation=45)\n",
    "plt.show()"
   ]
  },
  {
   "cell_type": "markdown",
   "metadata": {},
   "source": [
    "Overall, the trend is increasing until a peak in 2018. Data for 2021 is incomplete."
   ]
  },
  {
   "cell_type": "markdown",
   "metadata": {},
   "source": [
    "## 2. How many games have been released in each genre?"
   ]
  },
  {
   "cell_type": "code",
   "execution_count": 16,
   "metadata": {},
   "outputs": [],
   "source": [
    "genre_group = data[['Genre', 'HG Story Title']].groupby('Genre').count()"
   ]
  },
  {
   "cell_type": "code",
   "execution_count": 17,
   "metadata": {},
   "outputs": [
    {
     "data": {
      "text/html": [
       "<div>\n",
       "<style scoped>\n",
       "    .dataframe tbody tr th:only-of-type {\n",
       "        vertical-align: middle;\n",
       "    }\n",
       "\n",
       "    .dataframe tbody tr th {\n",
       "        vertical-align: top;\n",
       "    }\n",
       "\n",
       "    .dataframe thead th {\n",
       "        text-align: right;\n",
       "    }\n",
       "</style>\n",
       "<table border=\"1\" class=\"dataframe\">\n",
       "  <thead>\n",
       "    <tr style=\"text-align: right;\">\n",
       "      <th></th>\n",
       "      <th>HG Story Title</th>\n",
       "    </tr>\n",
       "    <tr>\n",
       "      <th>Genre</th>\n",
       "      <th></th>\n",
       "    </tr>\n",
       "  </thead>\n",
       "  <tbody>\n",
       "    <tr>\n",
       "      <th>Adventure</th>\n",
       "      <td>1</td>\n",
       "    </tr>\n",
       "    <tr>\n",
       "      <th>Crime</th>\n",
       "      <td>6</td>\n",
       "    </tr>\n",
       "    <tr>\n",
       "      <th>Fantasy</th>\n",
       "      <td>46</td>\n",
       "    </tr>\n",
       "    <tr>\n",
       "      <th>Historical</th>\n",
       "      <td>7</td>\n",
       "    </tr>\n",
       "    <tr>\n",
       "      <th>Horror</th>\n",
       "      <td>6</td>\n",
       "    </tr>\n",
       "    <tr>\n",
       "      <th>Humor</th>\n",
       "      <td>3</td>\n",
       "    </tr>\n",
       "    <tr>\n",
       "      <th>Mystery</th>\n",
       "      <td>11</td>\n",
       "    </tr>\n",
       "    <tr>\n",
       "      <th>Post-apocalyptic</th>\n",
       "      <td>6</td>\n",
       "    </tr>\n",
       "    <tr>\n",
       "      <th>Puzzle</th>\n",
       "      <td>6</td>\n",
       "    </tr>\n",
       "    <tr>\n",
       "      <th>Romance</th>\n",
       "      <td>5</td>\n",
       "    </tr>\n",
       "    <tr>\n",
       "      <th>School</th>\n",
       "      <td>1</td>\n",
       "    </tr>\n",
       "    <tr>\n",
       "      <th>Sci-Fi</th>\n",
       "      <td>16</td>\n",
       "    </tr>\n",
       "    <tr>\n",
       "      <th>Slice of Life</th>\n",
       "      <td>6</td>\n",
       "    </tr>\n",
       "    <tr>\n",
       "      <th>Spy</th>\n",
       "      <td>1</td>\n",
       "    </tr>\n",
       "    <tr>\n",
       "      <th>Steampunk</th>\n",
       "      <td>4</td>\n",
       "    </tr>\n",
       "    <tr>\n",
       "      <th>Superhero</th>\n",
       "      <td>9</td>\n",
       "    </tr>\n",
       "    <tr>\n",
       "      <th>Supernatural</th>\n",
       "      <td>20</td>\n",
       "    </tr>\n",
       "    <tr>\n",
       "      <th>War</th>\n",
       "      <td>7</td>\n",
       "    </tr>\n",
       "  </tbody>\n",
       "</table>\n",
       "</div>"
      ],
      "text/plain": [
       "                  HG Story Title\n",
       "Genre                           \n",
       "Adventure                      1\n",
       "Crime                          6\n",
       "Fantasy                       46\n",
       "Historical                     7\n",
       "Horror                         6\n",
       "Humor                          3\n",
       "Mystery                       11\n",
       "Post-apocalyptic               6\n",
       "Puzzle                         6\n",
       "Romance                        5\n",
       "School                         1\n",
       "Sci-Fi                        16\n",
       "Slice of Life                  6\n",
       "Spy                            1\n",
       "Steampunk                      4\n",
       "Superhero                      9\n",
       "Supernatural                  20\n",
       "War                            7"
      ]
     },
     "execution_count": 17,
     "metadata": {},
     "output_type": "execute_result"
    }
   ],
   "source": [
    "genre_group"
   ]
  },
  {
   "cell_type": "code",
   "execution_count": 18,
   "metadata": {},
   "outputs": [],
   "source": [
    "import plotly.graph_objects as go\n",
    "from plotly.offline import init_notebook_mode, iplot"
   ]
  },
  {
   "cell_type": "code",
   "execution_count": 19,
   "metadata": {},
   "outputs": [
    {
     "data": {
      "application/vnd.plotly.v1+json": {
       "config": {
        "linkText": "Export to plot.ly",
        "plotlyServerURL": "https://plot.ly",
        "showLink": false
       },
       "data": [
        {
         "labels": [
          "Adventure",
          "Crime",
          "Fantasy",
          "Historical",
          "Horror",
          "Humor",
          "Mystery",
          "Post-apocalyptic",
          "Puzzle",
          "Romance",
          "School",
          "Sci-Fi",
          "Slice of Life",
          "Spy",
          "Steampunk",
          "Superhero",
          "Supernatural",
          "War"
         ],
         "type": "pie",
         "values": [
          1,
          6,
          46,
          7,
          6,
          3,
          11,
          6,
          6,
          5,
          1,
          16,
          6,
          1,
          4,
          9,
          20,
          7
         ]
        }
       ],
       "layout": {
        "autosize": true,
        "template": {
         "data": {
          "bar": [
           {
            "error_x": {
             "color": "#2a3f5f"
            },
            "error_y": {
             "color": "#2a3f5f"
            },
            "marker": {
             "line": {
              "color": "#E5ECF6",
              "width": 0.5
             }
            },
            "type": "bar"
           }
          ],
          "barpolar": [
           {
            "marker": {
             "line": {
              "color": "#E5ECF6",
              "width": 0.5
             }
            },
            "type": "barpolar"
           }
          ],
          "carpet": [
           {
            "aaxis": {
             "endlinecolor": "#2a3f5f",
             "gridcolor": "white",
             "linecolor": "white",
             "minorgridcolor": "white",
             "startlinecolor": "#2a3f5f"
            },
            "baxis": {
             "endlinecolor": "#2a3f5f",
             "gridcolor": "white",
             "linecolor": "white",
             "minorgridcolor": "white",
             "startlinecolor": "#2a3f5f"
            },
            "type": "carpet"
           }
          ],
          "choropleth": [
           {
            "colorbar": {
             "outlinewidth": 0,
             "ticks": ""
            },
            "type": "choropleth"
           }
          ],
          "contour": [
           {
            "colorbar": {
             "outlinewidth": 0,
             "ticks": ""
            },
            "colorscale": [
             [
              0,
              "#0d0887"
             ],
             [
              0.1111111111111111,
              "#46039f"
             ],
             [
              0.2222222222222222,
              "#7201a8"
             ],
             [
              0.3333333333333333,
              "#9c179e"
             ],
             [
              0.4444444444444444,
              "#bd3786"
             ],
             [
              0.5555555555555556,
              "#d8576b"
             ],
             [
              0.6666666666666666,
              "#ed7953"
             ],
             [
              0.7777777777777778,
              "#fb9f3a"
             ],
             [
              0.8888888888888888,
              "#fdca26"
             ],
             [
              1,
              "#f0f921"
             ]
            ],
            "type": "contour"
           }
          ],
          "contourcarpet": [
           {
            "colorbar": {
             "outlinewidth": 0,
             "ticks": ""
            },
            "type": "contourcarpet"
           }
          ],
          "heatmap": [
           {
            "colorbar": {
             "outlinewidth": 0,
             "ticks": ""
            },
            "colorscale": [
             [
              0,
              "#0d0887"
             ],
             [
              0.1111111111111111,
              "#46039f"
             ],
             [
              0.2222222222222222,
              "#7201a8"
             ],
             [
              0.3333333333333333,
              "#9c179e"
             ],
             [
              0.4444444444444444,
              "#bd3786"
             ],
             [
              0.5555555555555556,
              "#d8576b"
             ],
             [
              0.6666666666666666,
              "#ed7953"
             ],
             [
              0.7777777777777778,
              "#fb9f3a"
             ],
             [
              0.8888888888888888,
              "#fdca26"
             ],
             [
              1,
              "#f0f921"
             ]
            ],
            "type": "heatmap"
           }
          ],
          "heatmapgl": [
           {
            "colorbar": {
             "outlinewidth": 0,
             "ticks": ""
            },
            "colorscale": [
             [
              0,
              "#0d0887"
             ],
             [
              0.1111111111111111,
              "#46039f"
             ],
             [
              0.2222222222222222,
              "#7201a8"
             ],
             [
              0.3333333333333333,
              "#9c179e"
             ],
             [
              0.4444444444444444,
              "#bd3786"
             ],
             [
              0.5555555555555556,
              "#d8576b"
             ],
             [
              0.6666666666666666,
              "#ed7953"
             ],
             [
              0.7777777777777778,
              "#fb9f3a"
             ],
             [
              0.8888888888888888,
              "#fdca26"
             ],
             [
              1,
              "#f0f921"
             ]
            ],
            "type": "heatmapgl"
           }
          ],
          "histogram": [
           {
            "marker": {
             "colorbar": {
              "outlinewidth": 0,
              "ticks": ""
             }
            },
            "type": "histogram"
           }
          ],
          "histogram2d": [
           {
            "colorbar": {
             "outlinewidth": 0,
             "ticks": ""
            },
            "colorscale": [
             [
              0,
              "#0d0887"
             ],
             [
              0.1111111111111111,
              "#46039f"
             ],
             [
              0.2222222222222222,
              "#7201a8"
             ],
             [
              0.3333333333333333,
              "#9c179e"
             ],
             [
              0.4444444444444444,
              "#bd3786"
             ],
             [
              0.5555555555555556,
              "#d8576b"
             ],
             [
              0.6666666666666666,
              "#ed7953"
             ],
             [
              0.7777777777777778,
              "#fb9f3a"
             ],
             [
              0.8888888888888888,
              "#fdca26"
             ],
             [
              1,
              "#f0f921"
             ]
            ],
            "type": "histogram2d"
           }
          ],
          "histogram2dcontour": [
           {
            "colorbar": {
             "outlinewidth": 0,
             "ticks": ""
            },
            "colorscale": [
             [
              0,
              "#0d0887"
             ],
             [
              0.1111111111111111,
              "#46039f"
             ],
             [
              0.2222222222222222,
              "#7201a8"
             ],
             [
              0.3333333333333333,
              "#9c179e"
             ],
             [
              0.4444444444444444,
              "#bd3786"
             ],
             [
              0.5555555555555556,
              "#d8576b"
             ],
             [
              0.6666666666666666,
              "#ed7953"
             ],
             [
              0.7777777777777778,
              "#fb9f3a"
             ],
             [
              0.8888888888888888,
              "#fdca26"
             ],
             [
              1,
              "#f0f921"
             ]
            ],
            "type": "histogram2dcontour"
           }
          ],
          "mesh3d": [
           {
            "colorbar": {
             "outlinewidth": 0,
             "ticks": ""
            },
            "type": "mesh3d"
           }
          ],
          "parcoords": [
           {
            "line": {
             "colorbar": {
              "outlinewidth": 0,
              "ticks": ""
             }
            },
            "type": "parcoords"
           }
          ],
          "pie": [
           {
            "automargin": true,
            "type": "pie"
           }
          ],
          "scatter": [
           {
            "marker": {
             "colorbar": {
              "outlinewidth": 0,
              "ticks": ""
             }
            },
            "type": "scatter"
           }
          ],
          "scatter3d": [
           {
            "line": {
             "colorbar": {
              "outlinewidth": 0,
              "ticks": ""
             }
            },
            "marker": {
             "colorbar": {
              "outlinewidth": 0,
              "ticks": ""
             }
            },
            "type": "scatter3d"
           }
          ],
          "scattercarpet": [
           {
            "marker": {
             "colorbar": {
              "outlinewidth": 0,
              "ticks": ""
             }
            },
            "type": "scattercarpet"
           }
          ],
          "scattergeo": [
           {
            "marker": {
             "colorbar": {
              "outlinewidth": 0,
              "ticks": ""
             }
            },
            "type": "scattergeo"
           }
          ],
          "scattergl": [
           {
            "marker": {
             "colorbar": {
              "outlinewidth": 0,
              "ticks": ""
             }
            },
            "type": "scattergl"
           }
          ],
          "scattermapbox": [
           {
            "marker": {
             "colorbar": {
              "outlinewidth": 0,
              "ticks": ""
             }
            },
            "type": "scattermapbox"
           }
          ],
          "scatterpolar": [
           {
            "marker": {
             "colorbar": {
              "outlinewidth": 0,
              "ticks": ""
             }
            },
            "type": "scatterpolar"
           }
          ],
          "scatterpolargl": [
           {
            "marker": {
             "colorbar": {
              "outlinewidth": 0,
              "ticks": ""
             }
            },
            "type": "scatterpolargl"
           }
          ],
          "scatterternary": [
           {
            "marker": {
             "colorbar": {
              "outlinewidth": 0,
              "ticks": ""
             }
            },
            "type": "scatterternary"
           }
          ],
          "surface": [
           {
            "colorbar": {
             "outlinewidth": 0,
             "ticks": ""
            },
            "colorscale": [
             [
              0,
              "#0d0887"
             ],
             [
              0.1111111111111111,
              "#46039f"
             ],
             [
              0.2222222222222222,
              "#7201a8"
             ],
             [
              0.3333333333333333,
              "#9c179e"
             ],
             [
              0.4444444444444444,
              "#bd3786"
             ],
             [
              0.5555555555555556,
              "#d8576b"
             ],
             [
              0.6666666666666666,
              "#ed7953"
             ],
             [
              0.7777777777777778,
              "#fb9f3a"
             ],
             [
              0.8888888888888888,
              "#fdca26"
             ],
             [
              1,
              "#f0f921"
             ]
            ],
            "type": "surface"
           }
          ],
          "table": [
           {
            "cells": {
             "fill": {
              "color": "#EBF0F8"
             },
             "line": {
              "color": "white"
             }
            },
            "header": {
             "fill": {
              "color": "#C8D4E3"
             },
             "line": {
              "color": "white"
             }
            },
            "type": "table"
           }
          ]
         },
         "layout": {
          "annotationdefaults": {
           "arrowcolor": "#2a3f5f",
           "arrowhead": 0,
           "arrowwidth": 1
          },
          "autotypenumbers": "strict",
          "coloraxis": {
           "colorbar": {
            "outlinewidth": 0,
            "ticks": ""
           }
          },
          "colorscale": {
           "diverging": [
            [
             0,
             "#8e0152"
            ],
            [
             0.1,
             "#c51b7d"
            ],
            [
             0.2,
             "#de77ae"
            ],
            [
             0.3,
             "#f1b6da"
            ],
            [
             0.4,
             "#fde0ef"
            ],
            [
             0.5,
             "#f7f7f7"
            ],
            [
             0.6,
             "#e6f5d0"
            ],
            [
             0.7,
             "#b8e186"
            ],
            [
             0.8,
             "#7fbc41"
            ],
            [
             0.9,
             "#4d9221"
            ],
            [
             1,
             "#276419"
            ]
           ],
           "sequential": [
            [
             0,
             "#0d0887"
            ],
            [
             0.1111111111111111,
             "#46039f"
            ],
            [
             0.2222222222222222,
             "#7201a8"
            ],
            [
             0.3333333333333333,
             "#9c179e"
            ],
            [
             0.4444444444444444,
             "#bd3786"
            ],
            [
             0.5555555555555556,
             "#d8576b"
            ],
            [
             0.6666666666666666,
             "#ed7953"
            ],
            [
             0.7777777777777778,
             "#fb9f3a"
            ],
            [
             0.8888888888888888,
             "#fdca26"
            ],
            [
             1,
             "#f0f921"
            ]
           ],
           "sequentialminus": [
            [
             0,
             "#0d0887"
            ],
            [
             0.1111111111111111,
             "#46039f"
            ],
            [
             0.2222222222222222,
             "#7201a8"
            ],
            [
             0.3333333333333333,
             "#9c179e"
            ],
            [
             0.4444444444444444,
             "#bd3786"
            ],
            [
             0.5555555555555556,
             "#d8576b"
            ],
            [
             0.6666666666666666,
             "#ed7953"
            ],
            [
             0.7777777777777778,
             "#fb9f3a"
            ],
            [
             0.8888888888888888,
             "#fdca26"
            ],
            [
             1,
             "#f0f921"
            ]
           ]
          },
          "colorway": [
           "#636efa",
           "#EF553B",
           "#00cc96",
           "#ab63fa",
           "#FFA15A",
           "#19d3f3",
           "#FF6692",
           "#B6E880",
           "#FF97FF",
           "#FECB52"
          ],
          "font": {
           "color": "#2a3f5f"
          },
          "geo": {
           "bgcolor": "white",
           "lakecolor": "white",
           "landcolor": "#E5ECF6",
           "showlakes": true,
           "showland": true,
           "subunitcolor": "white"
          },
          "hoverlabel": {
           "align": "left"
          },
          "hovermode": "closest",
          "mapbox": {
           "style": "light"
          },
          "paper_bgcolor": "white",
          "plot_bgcolor": "#E5ECF6",
          "polar": {
           "angularaxis": {
            "gridcolor": "white",
            "linecolor": "white",
            "ticks": ""
           },
           "bgcolor": "#E5ECF6",
           "radialaxis": {
            "gridcolor": "white",
            "linecolor": "white",
            "ticks": ""
           }
          },
          "scene": {
           "xaxis": {
            "backgroundcolor": "#E5ECF6",
            "gridcolor": "white",
            "gridwidth": 2,
            "linecolor": "white",
            "showbackground": true,
            "ticks": "",
            "zerolinecolor": "white"
           },
           "yaxis": {
            "backgroundcolor": "#E5ECF6",
            "gridcolor": "white",
            "gridwidth": 2,
            "linecolor": "white",
            "showbackground": true,
            "ticks": "",
            "zerolinecolor": "white"
           },
           "zaxis": {
            "backgroundcolor": "#E5ECF6",
            "gridcolor": "white",
            "gridwidth": 2,
            "linecolor": "white",
            "showbackground": true,
            "ticks": "",
            "zerolinecolor": "white"
           }
          },
          "shapedefaults": {
           "line": {
            "color": "#2a3f5f"
           }
          },
          "ternary": {
           "aaxis": {
            "gridcolor": "white",
            "linecolor": "white",
            "ticks": ""
           },
           "baxis": {
            "gridcolor": "white",
            "linecolor": "white",
            "ticks": ""
           },
           "bgcolor": "#E5ECF6",
           "caxis": {
            "gridcolor": "white",
            "linecolor": "white",
            "ticks": ""
           }
          },
          "title": {
           "x": 0.05
          },
          "xaxis": {
           "automargin": true,
           "gridcolor": "white",
           "linecolor": "white",
           "ticks": "",
           "title": {
            "standoff": 15
           },
           "zerolinecolor": "white",
           "zerolinewidth": 2
          },
          "yaxis": {
           "automargin": true,
           "gridcolor": "white",
           "linecolor": "white",
           "ticks": "",
           "title": {
            "standoff": 15
           },
           "zerolinecolor": "white",
           "zerolinewidth": 2
          }
         }
        }
       }
      },
      "image/png": "[encoded data removed]",
      "text/html": [
       "<div>                            <div id=\"db290abf-6b77-4602-93a4-f98d9fdfb64e\" class=\"plotly-graph-div\" style=\"height:525px; width:100%;\"></div>            <script type=\"text/javascript\">                require([\"plotly\"], function(Plotly) {                    window.PLOTLYENV=window.PLOTLYENV || {};                                    if (document.getElementById(\"db290abf-6b77-4602-93a4-f98d9fdfb64e\")) {                    Plotly.newPlot(                        \"db290abf-6b77-4602-93a4-f98d9fdfb64e\",                        [{\"labels\": [\"Adventure\", \"Crime\", \"Fantasy\", \"Historical\", \"Horror\", \"Humor\", \"Mystery\", \"Post-apocalyptic\", \"Puzzle\", \"Romance\", \"School\", \"Sci-Fi\", \"Slice of Life\", \"Spy\", \"Steampunk\", \"Superhero\", \"Supernatural\", \"War\"], \"type\": \"pie\", \"values\": [1, 6, 46, 7, 6, 3, 11, 6, 6, 5, 1, 16, 6, 1, 4, 9, 20, 7]}],                        {\"template\": {\"data\": {\"bar\": [{\"error_x\": {\"color\": \"#2a3f5f\"}, \"error_y\": {\"color\": \"#2a3f5f\"}, \"marker\": {\"line\": {\"color\": \"#E5ECF6\", \"width\": 0.5}}, \"type\": \"bar\"}], \"barpolar\": [{\"marker\": {\"line\": {\"color\": \"#E5ECF6\", \"width\": 0.5}}, \"type\": \"barpolar\"}], \"carpet\": [{\"aaxis\": {\"endlinecolor\": \"#2a3f5f\", \"gridcolor\": \"white\", \"linecolor\": \"white\", \"minorgridcolor\": \"white\", \"startlinecolor\": \"#2a3f5f\"}, \"baxis\": {\"endlinecolor\": \"#2a3f5f\", \"gridcolor\": \"white\", \"linecolor\": \"white\", \"minorgridcolor\": \"white\", \"startlinecolor\": \"#2a3f5f\"}, \"type\": \"carpet\"}], \"choropleth\": [{\"colorbar\": {\"outlinewidth\": 0, \"ticks\": \"\"}, \"type\": \"choropleth\"}], \"contour\": [{\"colorbar\": {\"outlinewidth\": 0, \"ticks\": \"\"}, \"colorscale\": [[0.0, \"#0d0887\"], [0.1111111111111111, \"#46039f\"], [0.2222222222222222, \"#7201a8\"], [0.3333333333333333, \"#9c179e\"], [0.4444444444444444, \"#bd3786\"], [0.5555555555555556, \"#d8576b\"], [0.6666666666666666, \"#ed7953\"], [0.7777777777777778, \"#fb9f3a\"], [0.8888888888888888, \"#fdca26\"], [1.0, \"#f0f921\"]], \"type\": \"contour\"}], \"contourcarpet\": [{\"colorbar\": {\"outlinewidth\": 0, \"ticks\": \"\"}, \"type\": \"contourcarpet\"}], \"heatmap\": [{\"colorbar\": {\"outlinewidth\": 0, \"ticks\": \"\"}, \"colorscale\": [[0.0, \"#0d0887\"], [0.1111111111111111, \"#46039f\"], [0.2222222222222222, \"#7201a8\"], [0.3333333333333333, \"#9c179e\"], [0.4444444444444444, \"#bd3786\"], [0.5555555555555556, \"#d8576b\"], [0.6666666666666666, \"#ed7953\"], [0.7777777777777778, \"#fb9f3a\"], [0.8888888888888888, \"#fdca26\"], [1.0, \"#f0f921\"]], \"type\": \"heatmap\"}], \"heatmapgl\": [{\"colorbar\": {\"outlinewidth\": 0, \"ticks\": \"\"}, \"colorscale\": [[0.0, \"#0d0887\"], [0.1111111111111111, \"#46039f\"], [0.2222222222222222, \"#7201a8\"], [0.3333333333333333, \"#9c179e\"], [0.4444444444444444, \"#bd3786\"], [0.5555555555555556, \"#d8576b\"], [0.6666666666666666, \"#ed7953\"], [0.7777777777777778, \"#fb9f3a\"], [0.8888888888888888, \"#fdca26\"], [1.0, \"#f0f921\"]], \"type\": \"heatmapgl\"}], \"histogram\": [{\"marker\": {\"colorbar\": {\"outlinewidth\": 0, \"ticks\": \"\"}}, \"type\": \"histogram\"}], \"histogram2d\": [{\"colorbar\": {\"outlinewidth\": 0, \"ticks\": \"\"}, \"colorscale\": [[0.0, \"#0d0887\"], [0.1111111111111111, \"#46039f\"], [0.2222222222222222, \"#7201a8\"], [0.3333333333333333, \"#9c179e\"], [0.4444444444444444, \"#bd3786\"], [0.5555555555555556, \"#d8576b\"], [0.6666666666666666, \"#ed7953\"], [0.7777777777777778, \"#fb9f3a\"], [0.8888888888888888, \"#fdca26\"], [1.0, \"#f0f921\"]], \"type\": \"histogram2d\"}], \"histogram2dcontour\": [{\"colorbar\": {\"outlinewidth\": 0, \"ticks\": \"\"}, \"colorscale\": [[0.0, \"#0d0887\"], [0.1111111111111111, \"#46039f\"], [0.2222222222222222, \"#7201a8\"], [0.3333333333333333, \"#9c179e\"], [0.4444444444444444, \"#bd3786\"], [0.5555555555555556, \"#d8576b\"], [0.6666666666666666, \"#ed7953\"], [0.7777777777777778, \"#fb9f3a\"], [0.8888888888888888, \"#fdca26\"], [1.0, \"#f0f921\"]], \"type\": \"histogram2dcontour\"}], \"mesh3d\": [{\"colorbar\": {\"outlinewidth\": 0, \"ticks\": \"\"}, \"type\": \"mesh3d\"}], \"parcoords\": [{\"line\": {\"colorbar\": {\"outlinewidth\": 0, \"ticks\": \"\"}}, \"type\": \"parcoords\"}], \"pie\": [{\"automargin\": true, \"type\": \"pie\"}], \"scatter\": [{\"marker\": {\"colorbar\": {\"outlinewidth\": 0, \"ticks\": \"\"}}, \"type\": \"scatter\"}], \"scatter3d\": [{\"line\": {\"colorbar\": {\"outlinewidth\": 0, \"ticks\": \"\"}}, \"marker\": {\"colorbar\": {\"outlinewidth\": 0, \"ticks\": \"\"}}, \"type\": \"scatter3d\"}], \"scattercarpet\": [{\"marker\": {\"colorbar\": {\"outlinewidth\": 0, \"ticks\": \"\"}}, \"type\": \"scattercarpet\"}], \"scattergeo\": [{\"marker\": {\"colorbar\": {\"outlinewidth\": 0, \"ticks\": \"\"}}, \"type\": \"scattergeo\"}], \"scattergl\": [{\"marker\": {\"colorbar\": {\"outlinewidth\": 0, \"ticks\": \"\"}}, \"type\": \"scattergl\"}], \"scattermapbox\": [{\"marker\": {\"colorbar\": {\"outlinewidth\": 0, \"ticks\": \"\"}}, \"type\": \"scattermapbox\"}], \"scatterpolar\": [{\"marker\": {\"colorbar\": {\"outlinewidth\": 0, \"ticks\": \"\"}}, \"type\": \"scatterpolar\"}], \"scatterpolargl\": [{\"marker\": {\"colorbar\": {\"outlinewidth\": 0, \"ticks\": \"\"}}, \"type\": \"scatterpolargl\"}], \"scatterternary\": [{\"marker\": {\"colorbar\": {\"outlinewidth\": 0, \"ticks\": \"\"}}, \"type\": \"scatterternary\"}], \"surface\": [{\"colorbar\": {\"outlinewidth\": 0, \"ticks\": \"\"}, \"colorscale\": [[0.0, \"#0d0887\"], [0.1111111111111111, \"#46039f\"], [0.2222222222222222, \"#7201a8\"], [0.3333333333333333, \"#9c179e\"], [0.4444444444444444, \"#bd3786\"], [0.5555555555555556, \"#d8576b\"], [0.6666666666666666, \"#ed7953\"], [0.7777777777777778, \"#fb9f3a\"], [0.8888888888888888, \"#fdca26\"], [1.0, \"#f0f921\"]], \"type\": \"surface\"}], \"table\": [{\"cells\": {\"fill\": {\"color\": \"#EBF0F8\"}, \"line\": {\"color\": \"white\"}}, \"header\": {\"fill\": {\"color\": \"#C8D4E3\"}, \"line\": {\"color\": \"white\"}}, \"type\": \"table\"}]}, \"layout\": {\"annotationdefaults\": {\"arrowcolor\": \"#2a3f5f\", \"arrowhead\": 0, \"arrowwidth\": 1}, \"autotypenumbers\": \"strict\", \"coloraxis\": {\"colorbar\": {\"outlinewidth\": 0, \"ticks\": \"\"}}, \"colorscale\": {\"diverging\": [[0, \"#8e0152\"], [0.1, \"#c51b7d\"], [0.2, \"#de77ae\"], [0.3, \"#f1b6da\"], [0.4, \"#fde0ef\"], [0.5, \"#f7f7f7\"], [0.6, \"#e6f5d0\"], [0.7, \"#b8e186\"], [0.8, \"#7fbc41\"], [0.9, \"#4d9221\"], [1, \"#276419\"]], \"sequential\": [[0.0, \"#0d0887\"], [0.1111111111111111, \"#46039f\"], [0.2222222222222222, \"#7201a8\"], [0.3333333333333333, \"#9c179e\"], [0.4444444444444444, \"#bd3786\"], [0.5555555555555556, \"#d8576b\"], [0.6666666666666666, \"#ed7953\"], [0.7777777777777778, \"#fb9f3a\"], [0.8888888888888888, \"#fdca26\"], [1.0, \"#f0f921\"]], \"sequentialminus\": [[0.0, \"#0d0887\"], [0.1111111111111111, \"#46039f\"], [0.2222222222222222, \"#7201a8\"], [0.3333333333333333, \"#9c179e\"], [0.4444444444444444, \"#bd3786\"], [0.5555555555555556, \"#d8576b\"], [0.6666666666666666, \"#ed7953\"], [0.7777777777777778, \"#fb9f3a\"], [0.8888888888888888, \"#fdca26\"], [1.0, \"#f0f921\"]]}, \"colorway\": [\"#636efa\", \"#EF553B\", \"#00cc96\", \"#ab63fa\", \"#FFA15A\", \"#19d3f3\", \"#FF6692\", \"#B6E880\", \"#FF97FF\", \"#FECB52\"], \"font\": {\"color\": \"#2a3f5f\"}, \"geo\": {\"bgcolor\": \"white\", \"lakecolor\": \"white\", \"landcolor\": \"#E5ECF6\", \"showlakes\": true, \"showland\": true, \"subunitcolor\": \"white\"}, \"hoverlabel\": {\"align\": \"left\"}, \"hovermode\": \"closest\", \"mapbox\": {\"style\": \"light\"}, \"paper_bgcolor\": \"white\", \"plot_bgcolor\": \"#E5ECF6\", \"polar\": {\"angularaxis\": {\"gridcolor\": \"white\", \"linecolor\": \"white\", \"ticks\": \"\"}, \"bgcolor\": \"#E5ECF6\", \"radialaxis\": {\"gridcolor\": \"white\", \"linecolor\": \"white\", \"ticks\": \"\"}}, \"scene\": {\"xaxis\": {\"backgroundcolor\": \"#E5ECF6\", \"gridcolor\": \"white\", \"gridwidth\": 2, \"linecolor\": \"white\", \"showbackground\": true, \"ticks\": \"\", \"zerolinecolor\": \"white\"}, \"yaxis\": {\"backgroundcolor\": \"#E5ECF6\", \"gridcolor\": \"white\", \"gridwidth\": 2, \"linecolor\": \"white\", \"showbackground\": true, \"ticks\": \"\", \"zerolinecolor\": \"white\"}, \"zaxis\": {\"backgroundcolor\": \"#E5ECF6\", \"gridcolor\": \"white\", \"gridwidth\": 2, \"linecolor\": \"white\", \"showbackground\": true, \"ticks\": \"\", \"zerolinecolor\": \"white\"}}, \"shapedefaults\": {\"line\": {\"color\": \"#2a3f5f\"}}, \"ternary\": {\"aaxis\": {\"gridcolor\": \"white\", \"linecolor\": \"white\", \"ticks\": \"\"}, \"baxis\": {\"gridcolor\": \"white\", \"linecolor\": \"white\", \"ticks\": \"\"}, \"bgcolor\": \"#E5ECF6\", \"caxis\": {\"gridcolor\": \"white\", \"linecolor\": \"white\", \"ticks\": \"\"}}, \"title\": {\"x\": 0.05}, \"xaxis\": {\"automargin\": true, \"gridcolor\": \"white\", \"linecolor\": \"white\", \"ticks\": \"\", \"title\": {\"standoff\": 15}, \"zerolinecolor\": \"white\", \"zerolinewidth\": 2}, \"yaxis\": {\"automargin\": true, \"gridcolor\": \"white\", \"linecolor\": \"white\", \"ticks\": \"\", \"title\": {\"standoff\": 15}, \"zerolinecolor\": \"white\", \"zerolinewidth\": 2}}}},                        {\"responsive\": true}                    ).then(function(){\n",
       "                            \n",
       "var gd = document.getElementById('db290abf-6b77-4602-93a4-f98d9fdfb64e');\n",
       "var x = new MutationObserver(function (mutations, observer) {{\n",
       "        var display = window.getComputedStyle(gd).display;\n",
       "        if (!display || display === 'none') {{\n",
       "            console.log([gd, 'removed!']);\n",
       "            Plotly.purge(gd);\n",
       "            observer.disconnect();\n",
       "        }}\n",
       "}});\n",
       "\n",
       "// Listen for the removal of the full notebook cells\n",
       "var notebookContainer = gd.closest('#notebook-container');\n",
       "if (notebookContainer) {{\n",
       "    x.observe(notebookContainer, {childList: true});\n",
       "}}\n",
       "\n",
       "// Listen for the clearing of the current output cell\n",
       "var outputEl = gd.closest('.output');\n",
       "if (outputEl) {{\n",
       "    x.observe(outputEl, {childList: true});\n",
       "}}\n",
       "\n",
       "                        })                };                });            </script>        </div>"
      ]
     },
     "metadata": {},
     "output_type": "display_data"
    }
   ],
   "source": [
    "fig = go.Figure(data=[go.Pie(labels=genre_group.index, values=genre_group['HG Story Title'])])\n",
    "iplot(fig)"
   ]
  },
  {
   "cell_type": "code",
   "execution_count": 39,
   "metadata": {},
   "outputs": [
    {
     "data": {
      "image/png": "[encoded data removed]",
      "text/plain": [
       "<Figure size 720x576 with 1 Axes>"
      ]
     },
     "metadata": {
      "needs_background": "light"
     },
     "output_type": "display_data"
    }
   ],
   "source": [
    "plt.figure(figsize=(10, 8))\n",
    "plt.barh(genre_group.index, genre_group['HG Story Title'])\n",
    "plt.xlabel('Count')\n",
    "plt.ylabel('Genre')\n",
    "plt.title('Stories released per genre')\n",
    "plt.grid(True, axis='x')\n",
    "plt.show()"
   ]
  },
  {
   "cell_type": "markdown",
   "metadata": {},
   "source": [
    "Fantasy is the most common genre, followed by Supernatural and Sci-Fi."
   ]
  },
  {
   "cell_type": "markdown",
   "metadata": {},
   "source": [
    "## 3. What are the most popular games?\n",
    "\n",
    "### How do we measure popularity?\n",
    "\n",
    "Maybe we can define \"popularity\" as omnibus reviews + Google reviews, since the Google downloads data is very coarse-grained.\n",
    "\n",
    "As a sanity check, let's plot omnibus ratings vs google reviews, to see if they correlate."
   ]
  },
  {
   "cell_type": "code",
   "execution_count": 40,
   "metadata": {},
   "outputs": [],
   "source": [
    "data['Popularity'] = data['# of Omnibus Ratings'] + data['# of Google Reviews']"
   ]
  },
  {
   "cell_type": "code",
   "execution_count": 95,
   "metadata": {},
   "outputs": [
    {
     "data": {
      "application/vnd.plotly.v1+json": {
       "config": {
        "plotlyServerURL": "https://plot.ly"
       },
       "data": [
        {
         "customdata": [
          [
           "Popcorn, Soda�Murder?"
          ],
          [
           "The Nightmare Maze"
          ],
          [
           "What Happened Last Night?"
          ],
          [
           "Paranoia"
          ],
          [
           "Imprisoned"
          ],
          [
           "Land of Three Classes"
          ],
          [
           "Marine Raider"
          ],
          [
           "Dilemma"
          ],
          [
           "Zombie Exodus"
          ],
          [
           "Zebulon"
          ],
          [
           "Mobile Armored Marine: Mission to Far Hope"
          ],
          [
           "The Race"
          ],
          [
           "Dead Already?"
          ],
          [
           "Apex Patrol"
          ],
          [
           "The Sons of the Cherry"
          ],
          [
           "Way Walkers: University"
          ],
          [
           "Life of a Wizard"
          ],
          [
           "Sabres of Infinity"
          ],
          [
           "Paradox Factor"
          ],
          [
           "Way Walkers: University 2"
          ],
          [
           "Burn(t)"
          ],
          [
           "UnNatural"
          ],
          [
           "Tin Star"
          ],
          [
           "Trial of the Demon Hunter"
          ],
          [
           "Planetary Quarantine"
          ],
          [
           "Life of a Mobster"
          ],
          [
           "Fatehaven"
          ],
          [
           "Path of Light"
          ],
          [
           "Sword of the Elements"
          ],
          [
           "The Gangs of Old Camp"
          ],
          [
           "Divided We Fall"
          ],
          [
           "The Ascot"
          ],
          [
           "Somme Trench"
          ],
          [
           "Silent Gear"
          ],
          [
           "Lords of Aswisk - First of His Blood"
          ],
          [
           "The Lost Heir: The Fall of Daria"
          ],
          [
           "Seven Bullets"
          ],
          [
           "Zombien"
          ],
          [
           "The Volunteer Firefighter"
          ],
          [
           "The Shadow Horror"
          ],
          [
           "No Proper Thief"
          ],
          [
           "Double/Cross"
          ],
          [
           "Samurai of Hyuga"
          ],
          [
           "Dancing with Demons"
          ],
          [
           "So, You’re Possessed!"
          ],
          [
           "Founders Saga: The Culling"
          ],
          [
           "Attack of the Clockwork Army"
          ],
          [
           "A Study in Steampunk: Choice by Gaslight"
          ],
          [
           "Captive of Fortune"
          ],
          [
           "Factions: Raids of the Divided"
          ],
          [
           "Community College Hero"
          ],
          [
           "Vampire House"
          ],
          [
           "Lost Heir 2: Forging a Kingdom"
          ],
          [
           "Wizardy Level C"
          ],
          [
           "Magikiras"
          ],
          [
           "Scarlet Sails"
          ],
          [
           "Guns of Infinity"
          ],
          [
           "First Year Demons"
          ],
          [
           "Best of Us"
          ],
          [
           "Gambling With Eternity"
          ],
          [
           "Doomsday on Demand"
          ],
          [
           "Starship Adventures"
          ],
          [
           "The Iron Destinies"
          ],
          [
           "Swamp Castle"
          ],
          [
           "The 3Games"
          ],
          [
           "Academy of Disaster"
          ],
          [
           "Machinations: Fog of War"
          ],
          [
           "Samurai of Hyuga Book 2"
          ],
          [
           "Elemental Saga: The Awakening"
          ],
          [
           "Tomb of the Khan"
          ],
          [
           "Twin Flames"
          ],
          [
           "Zombie Exodus: Safe Haven"
          ],
          [
           "Tokyo Wizard"
          ],
          [
           "Evertree Inn"
          ],
          [
           "The Great Tournament"
          ],
          [
           "Spacing Out"
          ],
          [
           "The Lost Heir 3: Demon War"
          ],
          [
           "Paradigm City"
          ],
          [
           "The Daily Blackmail"
          ],
          [
           "Treasure of the Forbidden City"
          ],
          [
           "My Day off Work"
          ],
          [
           "The Spy and the Labyrinth"
          ],
          [
           "Diamant Rose"
          ],
          [
           "The Dryad’s Riddle"
          ],
          [
           "Knight of the Fellowship"
          ],
          [
           "Lost in the Pages"
          ],
          [
           "Highlands, Deep Waters"
          ],
          [
           "Samurai of Hyuga Book 3"
          ],
          [
           "Foundation of Nightmares"
          ],
          [
           "The Aether: Life as a God"
          ],
          [
           "Comrade or Czar"
          ],
          [
           "The Great Tournament 2"
          ],
          [
           "Wayhaven Chronicles: Book One"
          ],
          [
           "Fallen Hero: Rebirth"
          ],
          [
           "Highway Wars"
          ],
          [
           "NE by NW Oz"
          ],
          [
           "The Kepler Colony: Evacuation"
          ],
          [
           "Community College Hero: Knowledge is Power"
          ],
          [
           "A Mummy is Not an Antique"
          ],
          [
           "The Courting of Miss Bennet"
          ],
          [
           "Doomsday on Demand 2"
          ],
          [
           "The Harbinger’s Head"
          ],
          [
           "The Last Wizard"
          ],
          [
           "The Magician’s Burden"
          ],
          [
           "The Haze Under Windbrooke"
          ],
          [
           "The Grim and I"
          ],
          [
           "The Twelve Trials"
          ],
          [
           "Nuclear Powered Toaster"
          ],
          [
           "Love at Elevation"
          ],
          [
           "Missing Wings"
          ],
          [
           "The Slayer of Evil"
          ],
          [
           "The Butler Did It"
          ],
          [
           "Critical Mass: The Bridge"
          ],
          [
           "Life of a Mercenary"
          ],
          [
           "Gladiator: Road to the Colosseum"
          ],
          [
           "Keeper of the Sun and Moon"
          ],
          [
           "Dragon Racer"
          ],
          [
           "Tudor Intrigue"
          ],
          [
           "The Paths to Greatness"
          ],
          [
           "Sordwin"
          ],
          [
           "Totem Force"
          ],
          [
           "The Saga of Oedipus Rex"
          ],
          [
           "Scratch"
          ],
          [
           "Who Was the Real Robin Hood?"
          ],
          [
           "A Sensei’s Story"
          ],
          [
           "One Minute Mysteries"
          ],
          [
           "Samurai of Hyuga Book 4"
          ],
          [
           "Hero or Villain: Genesis"
          ],
          [
           "The Parenting Simulator"
          ],
          [
           "Death at the Rectory"
          ],
          [
           "Moonrise"
          ],
          [
           "War of the Gods"
          ],
          [
           "The Oldest Dream"
          ],
          [
           "Breach: The Archangel Job"
          ],
          [
           "The War for the West"
          ],
          [
           "Street Jam: The Rise"
          ],
          [
           "The Shadow Society"
          ],
          [
           "Critical Mass: The Black Vein"
          ],
          [
           "The Soul Stone War"
          ],
          [
           "The Aegis Saga*"
          ],
          [
           "Kidnapped Prom Queen"
          ],
          [
           "Wayhaven Chronicles: Book Two*"
          ],
          [
           "AI-Aftermath"
          ],
          [
           "Journey into Darkness"
          ],
          [
           "War for Magincia"
          ],
          [
           "Trees Don’t Tell"
          ],
          [
           "President Disaster"
          ],
          [
           "The Floating City"
          ],
          [
           "Macabre Mansion"
          ],
          [
           "A Sorcerer’s Story"
          ],
          [
           "Balance of Superpower"
          ],
          [
           "Hero or Villain: Battle Royale*"
          ],
          [
           "Demon: Recollect"
          ],
          [
           "Too Different"
          ],
          [
           "Score of a Lifetime"
          ],
          [
           "After the Storm"
          ],
          [
           "The Brothers’ War"
          ],
          [
           "Relics of the Lost Age"
          ],
          [
           "Keeper of the Day and Night"
          ],
          [
           "The Mage’s Adventures"
          ],
          [
           "War of 2022"
          ]
         ],
         "hovertemplate": "# of Omnibus Ratings=%{x}<br># of Google Reviews=%{y}<br>HG Story Title=%{customdata[0]}<extra></extra>",
         "legendgroup": "",
         "marker": {
          "color": "#636efa",
          "symbol": "circle"
         },
         "mode": "markers",
         "name": "",
         "orientation": "v",
         "showlegend": false,
         "type": "scatter",
         "x": [
          65,
          29,
          134,
          180,
          358,
          18,
          388,
          202,
          1463,
          36,
          189,
          101,
          70,
          266,
          138,
          859,
          753,
          952,
          78,
          675,
          378,
          421,
          847,
          115,
          20,
          763,
          722,
          14,
          11,
          80,
          60,
          48,
          183,
          169,
          449,
          3161,
          205,
          125,
          134,
          37,
          90,
          125,
          2344,
          79,
          146,
          321,
          19,
          356,
          35,
          71,
          1168,
          1175,
          1923,
          54,
          204,
          132,
          683,
          48,
          186,
          158,
          417,
          31,
          46,
          1175,
          25,
          14,
          12,
          2445,
          273,
          49,
          60,
          5187,
          542,
          3563,
          13831,
          36,
          1122,
          366,
          143,
          46,
          681,
          13,
          15,
          8,
          40,
          35,
          109,
          1849,
          41,
          1571,
          127,
          866,
          11807,
          2389,
          355,
          6,
          182,
          709,
          3,
          84,
          122,
          93,
          497,
          558,
          57,
          902,
          270,
          53,
          806,
          17,
          23,
          125,
          140,
          13260,
          967,
          3359,
          918,
          543,
          216,
          3510,
          537,
          167,
          70,
          49,
          324,
          6,
          3832,
          8984,
          2995,
          139,
          250,
          4699,
          374,
          4972,
          4740,
          897,
          2963,
          113,
          3856,
          225,
          90,
          12458,
          104,
          10,
          819,
          9,
          322,
          25,
          122,
          126,
          422,
          1955,
          2316,
          636,
          230,
          1196,
          339,
          603,
          2499,
          524,
          598
         ],
         "xaxis": "x",
         "y": [
          1229,
          1069,
          753,
          1139,
          2211,
          165,
          2660,
          643,
          7191,
          337,
          2451,
          399,
          551,
          186,
          275,
          746,
          1310,
          924,
          289,
          693,
          561,
          3688,
          1188,
          237,
          131,
          976,
          1075,
          null,
          97,
          86,
          174,
          89,
          298,
          null,
          843,
          936,
          85,
          1864,
          159,
          35,
          178,
          492,
          3719,
          117,
          792,
          414,
          155,
          772,
          47,
          80,
          2574,
          3519,
          485,
          233,
          660,
          184,
          647,
          36,
          233,
          165,
          5395,
          77,
          96,
          3101,
          131,
          82,
          124,
          843,
          716,
          40,
          111,
          4176,
          516,
          1898,
          32649,
          174,
          594,
          563,
          80,
          23,
          340,
          35,
          68,
          33,
          181,
          115,
          458,
          570,
          72,
          3547,
          113,
          2292,
          5909,
          3198,
          243,
          32,
          227,
          820,
          15,
          189,
          428,
          106,
          561,
          281,
          78,
          1032,
          138,
          66,
          302,
          53,
          38,
          96,
          46,
          10060,
          535,
          748,
          975,
          207,
          153,
          848,
          297,
          65,
          69,
          44,
          142,
          23,
          889,
          2380,
          1015,
          33,
          99,
          924,
          64,
          1792,
          2458,
          269,
          731,
          35,
          624,
          89,
          41,
          2319,
          38,
          null,
          288,
          16,
          108,
          44,
          18,
          48,
          70,
          387,
          451,
          65,
          31,
          168,
          71,
          141,
          265,
          57,
          92
         ],
         "yaxis": "y"
        },
        {
         "hovertemplate": "<b>OLS trendline</b><br># of Google Reviews = 0.831075 * # of Omnibus Ratings + 116.293<br>R<sup>2</sup>=0.437021<br><br># of Omnibus Ratings=%{x}<br># of Google Reviews=%{y} <b>(trend)</b><extra></extra>",
         "legendgroup": "",
         "marker": {
          "color": "#636efa",
          "symbol": "circle"
         },
         "mode": "lines",
         "name": "",
         "showlegend": false,
         "type": "scatter",
         "x": [
          3,
          6,
          6,
          8,
          9,
          11,
          12,
          13,
          14,
          15,
          17,
          18,
          19,
          20,
          23,
          25,
          25,
          29,
          31,
          35,
          35,
          36,
          36,
          37,
          40,
          41,
          46,
          46,
          48,
          48,
          49,
          49,
          53,
          54,
          57,
          60,
          60,
          65,
          70,
          70,
          71,
          78,
          79,
          80,
          84,
          90,
          90,
          93,
          101,
          104,
          109,
          113,
          115,
          122,
          122,
          125,
          125,
          125,
          126,
          127,
          132,
          134,
          134,
          138,
          139,
          140,
          143,
          146,
          158,
          167,
          180,
          182,
          183,
          186,
          189,
          202,
          204,
          205,
          216,
          225,
          230,
          250,
          266,
          270,
          273,
          321,
          322,
          324,
          339,
          355,
          356,
          358,
          366,
          374,
          378,
          388,
          417,
          421,
          422,
          449,
          497,
          524,
          537,
          542,
          543,
          558,
          598,
          603,
          636,
          675,
          681,
          683,
          709,
          722,
          753,
          763,
          806,
          819,
          847,
          859,
          866,
          897,
          902,
          918,
          952,
          967,
          1122,
          1168,
          1175,
          1175,
          1196,
          1463,
          1571,
          1849,
          1923,
          1955,
          2316,
          2344,
          2389,
          2445,
          2499,
          2963,
          2995,
          3161,
          3359,
          3510,
          3563,
          3832,
          3856,
          4699,
          4740,
          4972,
          5187,
          8984,
          11807,
          12458,
          13260,
          13831
         ],
         "xaxis": "x",
         "y": [
          118.78609082998932,
          121.27931599095758,
          121.27931599095758,
          122.94146609826976,
          123.77254115192584,
          125.43469125923801,
          126.26576631289409,
          127.09684136655018,
          127.92791642020626,
          128.75899147386235,
          130.4211415811745,
          131.2522166348306,
          132.0832916884867,
          132.91436674214276,
          135.40759190311104,
          137.0697420104232,
          137.0697420104232,
          140.39404222504754,
          142.0561923323597,
          145.38049254698404,
          145.38049254698404,
          146.21156760064014,
          146.21156760064014,
          147.04264265429623,
          149.53586781526448,
          150.36694286892055,
          154.52231813720098,
          154.52231813720098,
          156.18446824451314,
          156.18446824451314,
          157.01554329816923,
          157.01554329816923,
          160.33984351279358,
          161.17091856644967,
          163.66414372741792,
          166.15736888838617,
          166.15736888838617,
          170.3127441566666,
          174.46811942494702,
          174.46811942494702,
          175.2991944786031,
          181.1167198541957,
          181.9477949078518,
          182.7788699615079,
          186.1031701761322,
          191.0896204980687,
          191.0896204980687,
          193.582845659037,
          200.23144608828568,
          202.72467124925393,
          206.88004651753437,
          210.20434673215868,
          211.86649683947087,
          217.68402221506346,
          217.68402221506346,
          220.17724737603172,
          220.17724737603172,
          220.17724737603172,
          221.00832242968778,
          221.83939748334387,
          225.9947727516243,
          227.65692285893647,
          227.65692285893647,
          230.9812230735608,
          231.8122981272169,
          232.64337318087297,
          235.13659834184125,
          237.6298235028095,
          247.60272414668253,
          255.0823996295873,
          265.8863753271164,
          267.5485254344286,
          268.37960048808463,
          270.8728256490529,
          273.3660508100212,
          284.17002650755023,
          285.8321766148624,
          286.6632516685185,
          295.8050772587354,
          303.2847527416402,
          307.4401280099206,
          324.06162908304236,
          337.35882994153974,
          340.68313015616405,
          343.17635531713233,
          383.0679578926244,
          383.8990329462805,
          385.56118305359263,
          398.0273088584339,
          411.3245097169313,
          412.1555847705874,
          413.81773487789957,
          420.46633530714826,
          427.1149357363969,
          430.43923595102126,
          438.7499864875821,
          462.85116304360855,
          466.1754632582329,
          467.006538311889,
          489.4455647606033,
          529.3371673360954,
          551.7761937848097,
          562.5801694823388,
          566.7355447506193,
          567.5666198042753,
          580.0327456091165,
          613.27574775536,
          617.4311230236403,
          644.8565997942912,
          677.2685268868786,
          682.254977208815,
          683.9171273161271,
          705.5250787111854,
          716.3290544087145,
          742.0923810720533,
          750.4031316086141,
          786.1393589158256,
          796.9433346133549,
          820.2134361157252,
          830.1863367595981,
          836.0038621351907,
          861.7671887985293,
          865.9225640668099,
          879.2197649253071,
          907.4763167496142,
          919.9424425544555,
          1048.7590758711485,
          1086.9885283393285,
          1092.806053714921,
          1092.806053714921,
          1110.2586298416988,
          1332.1556691678736,
          1421.9117749627308,
          1652.9506398791225,
          1714.4501938496728,
          1741.0445955666676,
          2041.0626899365143,
          2064.3327914388847,
          2101.7311688534087,
          2148.2713718581495,
          2193.149424755578,
          2578.7682496520015,
          2605.362651368996,
          2743.321110275906,
          2907.873970899811,
          3033.36630400188,
          3077.4132818456524,
          3300.9724712791394,
          3320.918272566885,
          4021.514542798965,
          4055.5886199988645,
          4248.398032447077,
          4427.079168983135,
          7582.67114771529,
          9928.796024186418,
          10469.82588411653,
          11136.34807714871,
          11610.891932786335
         ],
         "yaxis": "y"
        }
       ],
       "layout": {
        "autosize": true,
        "legend": {
         "tracegroupgap": 0
        },
        "margin": {
         "t": 60
        },
        "template": {
         "data": {
          "bar": [
           {
            "error_x": {
             "color": "#2a3f5f"
            },
            "error_y": {
             "color": "#2a3f5f"
            },
            "marker": {
             "line": {
              "color": "#E5ECF6",
              "width": 0.5
             }
            },
            "type": "bar"
           }
          ],
          "barpolar": [
           {
            "marker": {
             "line": {
              "color": "#E5ECF6",
              "width": 0.5
             }
            },
            "type": "barpolar"
           }
          ],
          "carpet": [
           {
            "aaxis": {
             "endlinecolor": "#2a3f5f",
             "gridcolor": "white",
             "linecolor": "white",
             "minorgridcolor": "white",
             "startlinecolor": "#2a3f5f"
            },
            "baxis": {
             "endlinecolor": "#2a3f5f",
             "gridcolor": "white",
             "linecolor": "white",
             "minorgridcolor": "white",
             "startlinecolor": "#2a3f5f"
            },
            "type": "carpet"
           }
          ],
          "choropleth": [
           {
            "colorbar": {
             "outlinewidth": 0,
             "ticks": ""
            },
            "type": "choropleth"
           }
          ],
          "contour": [
           {
            "colorbar": {
             "outlinewidth": 0,
             "ticks": ""
            },
            "colorscale": [
             [
              0,
              "#0d0887"
             ],
             [
              0.1111111111111111,
              "#46039f"
             ],
             [
              0.2222222222222222,
              "#7201a8"
             ],
             [
              0.3333333333333333,
              "#9c179e"
             ],
             [
              0.4444444444444444,
              "#bd3786"
             ],
             [
              0.5555555555555556,
              "#d8576b"
             ],
             [
              0.6666666666666666,
              "#ed7953"
             ],
             [
              0.7777777777777778,
              "#fb9f3a"
             ],
             [
              0.8888888888888888,
              "#fdca26"
             ],
             [
              1,
              "#f0f921"
             ]
            ],
            "type": "contour"
           }
          ],
          "contourcarpet": [
           {
            "colorbar": {
             "outlinewidth": 0,
             "ticks": ""
            },
            "type": "contourcarpet"
           }
          ],
          "heatmap": [
           {
            "colorbar": {
             "outlinewidth": 0,
             "ticks": ""
            },
            "colorscale": [
             [
              0,
              "#0d0887"
             ],
             [
              0.1111111111111111,
              "#46039f"
             ],
             [
              0.2222222222222222,
              "#7201a8"
             ],
             [
              0.3333333333333333,
              "#9c179e"
             ],
             [
              0.4444444444444444,
              "#bd3786"
             ],
             [
              0.5555555555555556,
              "#d8576b"
             ],
             [
              0.6666666666666666,
              "#ed7953"
             ],
             [
              0.7777777777777778,
              "#fb9f3a"
             ],
             [
              0.8888888888888888,
              "#fdca26"
             ],
             [
              1,
              "#f0f921"
             ]
            ],
            "type": "heatmap"
           }
          ],
          "heatmapgl": [
           {
            "colorbar": {
             "outlinewidth": 0,
             "ticks": ""
            },
            "colorscale": [
             [
              0,
              "#0d0887"
             ],
             [
              0.1111111111111111,
              "#46039f"
             ],
             [
              0.2222222222222222,
              "#7201a8"
             ],
             [
              0.3333333333333333,
              "#9c179e"
             ],
             [
              0.4444444444444444,
              "#bd3786"
             ],
             [
              0.5555555555555556,
              "#d8576b"
             ],
             [
              0.6666666666666666,
              "#ed7953"
             ],
             [
              0.7777777777777778,
              "#fb9f3a"
             ],
             [
              0.8888888888888888,
              "#fdca26"
             ],
             [
              1,
              "#f0f921"
             ]
            ],
            "type": "heatmapgl"
           }
          ],
          "histogram": [
           {
            "marker": {
             "colorbar": {
              "outlinewidth": 0,
              "ticks": ""
             }
            },
            "type": "histogram"
           }
          ],
          "histogram2d": [
           {
            "colorbar": {
             "outlinewidth": 0,
             "ticks": ""
            },
            "colorscale": [
             [
              0,
              "#0d0887"
             ],
             [
              0.1111111111111111,
              "#46039f"
             ],
             [
              0.2222222222222222,
              "#7201a8"
             ],
             [
              0.3333333333333333,
              "#9c179e"
             ],
             [
              0.4444444444444444,
              "#bd3786"
             ],
             [
              0.5555555555555556,
              "#d8576b"
             ],
             [
              0.6666666666666666,
              "#ed7953"
             ],
             [
              0.7777777777777778,
              "#fb9f3a"
             ],
             [
              0.8888888888888888,
              "#fdca26"
             ],
             [
              1,
              "#f0f921"
             ]
            ],
            "type": "histogram2d"
           }
          ],
          "histogram2dcontour": [
           {
            "colorbar": {
             "outlinewidth": 0,
             "ticks": ""
            },
            "colorscale": [
             [
              0,
              "#0d0887"
             ],
             [
              0.1111111111111111,
              "#46039f"
             ],
             [
              0.2222222222222222,
              "#7201a8"
             ],
             [
              0.3333333333333333,
              "#9c179e"
             ],
             [
              0.4444444444444444,
              "#bd3786"
             ],
             [
              0.5555555555555556,
              "#d8576b"
             ],
             [
              0.6666666666666666,
              "#ed7953"
             ],
             [
              0.7777777777777778,
              "#fb9f3a"
             ],
             [
              0.8888888888888888,
              "#fdca26"
             ],
             [
              1,
              "#f0f921"
             ]
            ],
            "type": "histogram2dcontour"
           }
          ],
          "mesh3d": [
           {
            "colorbar": {
             "outlinewidth": 0,
             "ticks": ""
            },
            "type": "mesh3d"
           }
          ],
          "parcoords": [
           {
            "line": {
             "colorbar": {
              "outlinewidth": 0,
              "ticks": ""
             }
            },
            "type": "parcoords"
           }
          ],
          "pie": [
           {
            "automargin": true,
            "type": "pie"
           }
          ],
          "scatter": [
           {
            "marker": {
             "colorbar": {
              "outlinewidth": 0,
              "ticks": ""
             }
            },
            "type": "scatter"
           }
          ],
          "scatter3d": [
           {
            "line": {
             "colorbar": {
              "outlinewidth": 0,
              "ticks": ""
             }
            },
            "marker": {
             "colorbar": {
              "outlinewidth": 0,
              "ticks": ""
             }
            },
            "type": "scatter3d"
           }
          ],
          "scattercarpet": [
           {
            "marker": {
             "colorbar": {
              "outlinewidth": 0,
              "ticks": ""
             }
            },
            "type": "scattercarpet"
           }
          ],
          "scattergeo": [
           {
            "marker": {
             "colorbar": {
              "outlinewidth": 0,
              "ticks": ""
             }
            },
            "type": "scattergeo"
           }
          ],
          "scattergl": [
           {
            "marker": {
             "colorbar": {
              "outlinewidth": 0,
              "ticks": ""
             }
            },
            "type": "scattergl"
           }
          ],
          "scattermapbox": [
           {
            "marker": {
             "colorbar": {
              "outlinewidth": 0,
              "ticks": ""
             }
            },
            "type": "scattermapbox"
           }
          ],
          "scatterpolar": [
           {
            "marker": {
             "colorbar": {
              "outlinewidth": 0,
              "ticks": ""
             }
            },
            "type": "scatterpolar"
           }
          ],
          "scatterpolargl": [
           {
            "marker": {
             "colorbar": {
              "outlinewidth": 0,
              "ticks": ""
             }
            },
            "type": "scatterpolargl"
           }
          ],
          "scatterternary": [
           {
            "marker": {
             "colorbar": {
              "outlinewidth": 0,
              "ticks": ""
             }
            },
            "type": "scatterternary"
           }
          ],
          "surface": [
           {
            "colorbar": {
             "outlinewidth": 0,
             "ticks": ""
            },
            "colorscale": [
             [
              0,
              "#0d0887"
             ],
             [
              0.1111111111111111,
              "#46039f"
             ],
             [
              0.2222222222222222,
              "#7201a8"
             ],
             [
              0.3333333333333333,
              "#9c179e"
             ],
             [
              0.4444444444444444,
              "#bd3786"
             ],
             [
              0.5555555555555556,
              "#d8576b"
             ],
             [
              0.6666666666666666,
              "#ed7953"
             ],
             [
              0.7777777777777778,
              "#fb9f3a"
             ],
             [
              0.8888888888888888,
              "#fdca26"
             ],
             [
              1,
              "#f0f921"
             ]
            ],
            "type": "surface"
           }
          ],
          "table": [
           {
            "cells": {
             "fill": {
              "color": "#EBF0F8"
             },
             "line": {
              "color": "white"
             }
            },
            "header": {
             "fill": {
              "color": "#C8D4E3"
             },
             "line": {
              "color": "white"
             }
            },
            "type": "table"
           }
          ]
         },
         "layout": {
          "annotationdefaults": {
           "arrowcolor": "#2a3f5f",
           "arrowhead": 0,
           "arrowwidth": 1
          },
          "autotypenumbers": "strict",
          "coloraxis": {
           "colorbar": {
            "outlinewidth": 0,
            "ticks": ""
           }
          },
          "colorscale": {
           "diverging": [
            [
             0,
             "#8e0152"
            ],
            [
             0.1,
             "#c51b7d"
            ],
            [
             0.2,
             "#de77ae"
            ],
            [
             0.3,
             "#f1b6da"
            ],
            [
             0.4,
             "#fde0ef"
            ],
            [
             0.5,
             "#f7f7f7"
            ],
            [
             0.6,
             "#e6f5d0"
            ],
            [
             0.7,
             "#b8e186"
            ],
            [
             0.8,
             "#7fbc41"
            ],
            [
             0.9,
             "#4d9221"
            ],
            [
             1,
             "#276419"
            ]
           ],
           "sequential": [
            [
             0,
             "#0d0887"
            ],
            [
             0.1111111111111111,
             "#46039f"
            ],
            [
             0.2222222222222222,
             "#7201a8"
            ],
            [
             0.3333333333333333,
             "#9c179e"
            ],
            [
             0.4444444444444444,
             "#bd3786"
            ],
            [
             0.5555555555555556,
             "#d8576b"
            ],
            [
             0.6666666666666666,
             "#ed7953"
            ],
            [
             0.7777777777777778,
             "#fb9f3a"
            ],
            [
             0.8888888888888888,
             "#fdca26"
            ],
            [
             1,
             "#f0f921"
            ]
           ],
           "sequentialminus": [
            [
             0,
             "#0d0887"
            ],
            [
             0.1111111111111111,
             "#46039f"
            ],
            [
             0.2222222222222222,
             "#7201a8"
            ],
            [
             0.3333333333333333,
             "#9c179e"
            ],
            [
             0.4444444444444444,
             "#bd3786"
            ],
            [
             0.5555555555555556,
             "#d8576b"
            ],
            [
             0.6666666666666666,
             "#ed7953"
            ],
            [
             0.7777777777777778,
             "#fb9f3a"
            ],
            [
             0.8888888888888888,
             "#fdca26"
            ],
            [
             1,
             "#f0f921"
            ]
           ]
          },
          "colorway": [
           "#636efa",
           "#EF553B",
           "#00cc96",
           "#ab63fa",
           "#FFA15A",
           "#19d3f3",
           "#FF6692",
           "#B6E880",
           "#FF97FF",
           "#FECB52"
          ],
          "font": {
           "color": "#2a3f5f"
          },
          "geo": {
           "bgcolor": "white",
           "lakecolor": "white",
           "landcolor": "#E5ECF6",
           "showlakes": true,
           "showland": true,
           "subunitcolor": "white"
          },
          "hoverlabel": {
           "align": "left"
          },
          "hovermode": "closest",
          "mapbox": {
           "style": "light"
          },
          "paper_bgcolor": "white",
          "plot_bgcolor": "#E5ECF6",
          "polar": {
           "angularaxis": {
            "gridcolor": "white",
            "linecolor": "white",
            "ticks": ""
           },
           "bgcolor": "#E5ECF6",
           "radialaxis": {
            "gridcolor": "white",
            "linecolor": "white",
            "ticks": ""
           }
          },
          "scene": {
           "xaxis": {
            "backgroundcolor": "#E5ECF6",
            "gridcolor": "white",
            "gridwidth": 2,
            "linecolor": "white",
            "showbackground": true,
            "ticks": "",
            "zerolinecolor": "white"
           },
           "yaxis": {
            "backgroundcolor": "#E5ECF6",
            "gridcolor": "white",
            "gridwidth": 2,
            "linecolor": "white",
            "showbackground": true,
            "ticks": "",
            "zerolinecolor": "white"
           },
           "zaxis": {
            "backgroundcolor": "#E5ECF6",
            "gridcolor": "white",
            "gridwidth": 2,
            "linecolor": "white",
            "showbackground": true,
            "ticks": "",
            "zerolinecolor": "white"
           }
          },
          "shapedefaults": {
           "line": {
            "color": "#2a3f5f"
           }
          },
          "ternary": {
           "aaxis": {
            "gridcolor": "white",
            "linecolor": "white",
            "ticks": ""
           },
           "baxis": {
            "gridcolor": "white",
            "linecolor": "white",
            "ticks": ""
           },
           "bgcolor": "#E5ECF6",
           "caxis": {
            "gridcolor": "white",
            "linecolor": "white",
            "ticks": ""
           }
          },
          "title": {
           "x": 0.05
          },
          "xaxis": {
           "automargin": true,
           "gridcolor": "white",
           "linecolor": "white",
           "ticks": "",
           "title": {
            "standoff": 15
           },
           "zerolinecolor": "white",
           "zerolinewidth": 2
          },
          "yaxis": {
           "automargin": true,
           "gridcolor": "white",
           "linecolor": "white",
           "ticks": "",
           "title": {
            "standoff": 15
           },
           "zerolinecolor": "white",
           "zerolinewidth": 2
          }
         }
        },
        "xaxis": {
         "anchor": "y",
         "autorange": true,
         "domain": [
          0,
          1
         ],
         "range": [
          -834.306954436451,
          14668.306954436452
         ],
         "title": {
          "text": "# of Omnibus Ratings"
         },
         "type": "linear"
        },
        "yaxis": {
         "anchor": "x",
         "autorange": true,
         "domain": [
          0,
          1
         ],
         "range": [
          -2298.8287292817677,
          34962.82872928177
         ],
         "title": {
          "text": "# of Google Reviews"
         },
         "type": "linear"
        }
       }
      },
      "image/png": "[encoded data removed]",
      "text/html": [
       "<div>                            <div id=\"8c983f5d-b6a7-4e54-b21f-75c95f06a8cf\" class=\"plotly-graph-div\" style=\"height:525px; width:100%;\"></div>            <script type=\"text/javascript\">                require([\"plotly\"], function(Plotly) {                    window.PLOTLYENV=window.PLOTLYENV || {};                                    if (document.getElementById(\"8c983f5d-b6a7-4e54-b21f-75c95f06a8cf\")) {                    Plotly.newPlot(                        \"8c983f5d-b6a7-4e54-b21f-75c95f06a8cf\",                        [{\"customdata\": [[\"Popcorn, Soda\\ufffdMurder?\"], [\"The Nightmare Maze\"], [\"What Happened Last Night?\"], [\"Paranoia\"], [\"Imprisoned\"], [\"Land of Three Classes\"], [\"Marine Raider\"], [\"Dilemma\"], [\"Zombie Exodus\"], [\"Zebulon\"], [\"Mobile Armored Marine: Mission to Far Hope\"], [\"The Race\"], [\"Dead Already?\"], [\"Apex Patrol\"], [\"The Sons of the Cherry\"], [\"Way Walkers: University\"], [\"Life of a Wizard\"], [\"Sabres of Infinity\"], [\"Paradox Factor\"], [\"Way Walkers: University 2\"], [\"Burn(t)\"], [\"UnNatural\"], [\"Tin Star\"], [\"Trial of the Demon Hunter\"], [\"Planetary Quarantine\"], [\"Life of a Mobster\"], [\"Fatehaven\"], [\"Path of Light\"], [\"Sword of the Elements\"], [\"The Gangs of Old Camp\"], [\"Divided We Fall\"], [\"The Ascot\"], [\"Somme Trench\"], [\"Silent Gear\"], [\"Lords of Aswisk - First of His Blood\"], [\"The Lost Heir: The Fall of Daria\"], [\"Seven Bullets\"], [\"Zombien\"], [\"The Volunteer Firefighter\"], [\"The Shadow Horror\"], [\"No Proper Thief\"], [\"Double/Cross\"], [\"Samurai of Hyuga\"], [\"Dancing with Demons\"], [\"So, You\\u2019re Possessed!\"], [\"Founders Saga: The Culling\"], [\"Attack of the Clockwork Army\"], [\"A Study in Steampunk: Choice by Gaslight\"], [\"Captive of Fortune\"], [\"Factions: Raids of the Divided\"], [\"Community College Hero\"], [\"Vampire House\"], [\"Lost Heir 2: Forging a Kingdom\"], [\"Wizardy Level C\"], [\"Magikiras\"], [\"Scarlet Sails\"], [\"Guns of Infinity\"], [\"First Year Demons\"], [\"Best of Us\"], [\"Gambling With Eternity\"], [\"Doomsday on Demand\"], [\"Starship Adventures\"], [\"The Iron Destinies\"], [\"Swamp Castle\"], [\"The 3Games\"], [\"Academy of Disaster\"], [\"Machinations: Fog of War\"], [\"Samurai of Hyuga Book 2\"], [\"Elemental Saga: The Awakening\"], [\"Tomb of the Khan\"], [\"Twin Flames\"], [\"Zombie Exodus: Safe Haven\"], [\"Tokyo Wizard\"], [\"Evertree Inn\"], [\"The Great Tournament\"], [\"Spacing Out\"], [\"The Lost Heir 3: Demon War\"], [\"Paradigm City\"], [\"The Daily Blackmail\"], [\"Treasure of the Forbidden City\"], [\"My Day off Work\"], [\"The Spy and the Labyrinth\"], [\"Diamant Rose\"], [\"The Dryad\\u2019s Riddle\"], [\"Knight of the Fellowship\"], [\"Lost in the Pages\"], [\"Highlands, Deep Waters\"], [\"Samurai of Hyuga Book 3\"], [\"Foundation of Nightmares\"], [\"The Aether: Life as a God\"], [\"Comrade or Czar\"], [\"The Great Tournament 2\"], [\"Wayhaven Chronicles: Book One\"], [\"Fallen Hero: Rebirth\"], [\"Highway Wars\"], [\"NE by NW Oz\"], [\"The Kepler Colony: Evacuation\"], [\"Community College Hero: Knowledge is Power\"], [\"A Mummy is Not an Antique\"], [\"The Courting of Miss Bennet\"], [\"Doomsday on Demand 2\"], [\"The Harbinger\\u2019s Head\"], [\"The Last Wizard\"], [\"The Magician\\u2019s Burden\"], [\"The Haze Under Windbrooke\"], [\"The Grim and I\"], [\"The Twelve Trials\"], [\"Nuclear Powered Toaster\"], [\"Love at Elevation\"], [\"Missing Wings\"], [\"The Slayer of Evil\"], [\"The Butler Did It\"], [\"Critical Mass: The Bridge\"], [\"Life of a Mercenary\"], [\"Gladiator: Road to the Colosseum\"], [\"Keeper of the Sun and Moon\"], [\"Dragon Racer\"], [\"Tudor Intrigue\"], [\"The Paths to Greatness\"], [\"Sordwin\"], [\"Totem Force\"], [\"The Saga of Oedipus Rex\"], [\"Scratch\"], [\"Who Was the Real Robin Hood?\"], [\"A Sensei\\u2019s Story\"], [\"One Minute Mysteries\"], [\"Samurai of Hyuga Book 4\"], [\"Hero or Villain: Genesis\"], [\"The Parenting Simulator\"], [\"Death at the Rectory\"], [\"Moonrise\"], [\"War of the Gods\"], [\"The Oldest Dream\"], [\"Breach: The Archangel Job\"], [\"The War for the West\"], [\"Street Jam: The Rise\"], [\"The Shadow Society\"], [\"Critical Mass: The Black Vein\"], [\"The Soul Stone War\"], [\"The Aegis Saga*\"], [\"Kidnapped Prom Queen\"], [\"Wayhaven Chronicles: Book Two*\"], [\"AI-Aftermath\"], [\"Journey into Darkness\"], [\"War for Magincia\"], [\"Trees Don\\u2019t Tell\"], [\"President Disaster\"], [\"The Floating City\"], [\"Macabre Mansion\"], [\"A Sorcerer\\u2019s Story\"], [\"Balance of Superpower\"], [\"Hero or Villain: Battle Royale*\"], [\"Demon: Recollect\"], [\"Too Different\"], [\"Score of a Lifetime\"], [\"After the Storm\"], [\"The Brothers\\u2019 War\"], [\"Relics of the Lost Age\"], [\"Keeper of the Day and Night\"], [\"The Mage\\u2019s Adventures\"], [\"War of 2022\"]], \"hovertemplate\": \"# of Omnibus Ratings=%{x}<br># of Google Reviews=%{y}<br>HG Story Title=%{customdata[0]}<extra></extra>\", \"legendgroup\": \"\", \"marker\": {\"color\": \"#636efa\", \"symbol\": \"circle\"}, \"mode\": \"markers\", \"name\": \"\", \"orientation\": \"v\", \"showlegend\": false, \"type\": \"scatter\", \"x\": [65, 29, 134, 180, 358, 18, 388, 202, 1463, 36, 189, 101, 70, 266, 138, 859, 753, 952, 78, 675, 378, 421, 847, 115, 20, 763, 722, 14, 11, 80, 60, 48, 183, 169, 449, 3161, 205, 125, 134, 37, 90, 125, 2344, 79, 146, 321, 19, 356, 35, 71, 1168, 1175, 1923, 54, 204, 132, 683, 48, 186, 158, 417, 31, 46, 1175, 25, 14, 12, 2445, 273, 49, 60, 5187, 542, 3563, 13831, 36, 1122, 366, 143, 46, 681, 13, 15, 8, 40, 35, 109, 1849, 41, 1571, 127, 866, 11807, 2389, 355, 6, 182, 709, 3, 84, 122, 93, 497, 558, 57, 902, 270, 53, 806, 17, 23, 125, 140, 13260, 967, 3359, 918, 543, 216, 3510, 537, 167, 70, 49, 324, 6, 3832, 8984, 2995, 139, 250, 4699, 374, 4972, 4740, 897, 2963, 113, 3856, 225, 90, 12458, 104, 10, 819, 9, 322, 25, 122, 126, 422, 1955, 2316, 636, 230, 1196, 339, 603, 2499, 524, 598], \"xaxis\": \"x\", \"y\": [1229.0, 1069.0, 753.0, 1139.0, 2211.0, 165.0, 2660.0, 643.0, 7191.0, 337.0, 2451.0, 399.0, 551.0, 186.0, 275.0, 746.0, 1310.0, 924.0, 289.0, 693.0, 561.0, 3688.0, 1188.0, 237.0, 131.0, 976.0, 1075.0, null, 97.0, 86.0, 174.0, 89.0, 298.0, null, 843.0, 936.0, 85.0, 1864.0, 159.0, 35.0, 178.0, 492.0, 3719.0, 117.0, 792.0, 414.0, 155.0, 772.0, 47.0, 80.0, 2574.0, 3519.0, 485.0, 233.0, 660.0, 184.0, 647.0, 36.0, 233.0, 165.0, 5395.0, 77.0, 96.0, 3101.0, 131.0, 82.0, 124.0, 843.0, 716.0, 40.0, 111.0, 4176.0, 516.0, 1898.0, 32649.0, 174.0, 594.0, 563.0, 80.0, 23.0, 340.0, 35.0, 68.0, 33.0, 181.0, 115.0, 458.0, 570.0, 72.0, 3547.0, 113.0, 2292.0, 5909.0, 3198.0, 243.0, 32.0, 227.0, 820.0, 15.0, 189.0, 428.0, 106.0, 561.0, 281.0, 78.0, 1032.0, 138.0, 66.0, 302.0, 53.0, 38.0, 96.0, 46.0, 10060.0, 535.0, 748.0, 975.0, 207.0, 153.0, 848.0, 297.0, 65.0, 69.0, 44.0, 142.0, 23.0, 889.0, 2380.0, 1015.0, 33.0, 99.0, 924.0, 64.0, 1792.0, 2458.0, 269.0, 731.0, 35.0, 624.0, 89.0, 41.0, 2319.0, 38.0, null, 288.0, 16.0, 108.0, 44.0, 18.0, 48.0, 70.0, 387.0, 451.0, 65.0, 31.0, 168.0, 71.0, 141.0, 265.0, 57.0, 92.0], \"yaxis\": \"y\"}, {\"hovertemplate\": \"<b>OLS trendline</b><br># of Google Reviews = 0.831075 * # of Omnibus Ratings + 116.293<br>R<sup>2</sup>=0.437021<br><br># of Omnibus Ratings=%{x}<br># of Google Reviews=%{y} <b>(trend)</b><extra></extra>\", \"legendgroup\": \"\", \"marker\": {\"color\": \"#636efa\", \"symbol\": \"circle\"}, \"mode\": \"lines\", \"name\": \"\", \"showlegend\": false, \"type\": \"scatter\", \"x\": [3, 6, 6, 8, 9, 11, 12, 13, 14, 15, 17, 18, 19, 20, 23, 25, 25, 29, 31, 35, 35, 36, 36, 37, 40, 41, 46, 46, 48, 48, 49, 49, 53, 54, 57, 60, 60, 65, 70, 70, 71, 78, 79, 80, 84, 90, 90, 93, 101, 104, 109, 113, 115, 122, 122, 125, 125, 125, 126, 127, 132, 134, 134, 138, 139, 140, 143, 146, 158, 167, 180, 182, 183, 186, 189, 202, 204, 205, 216, 225, 230, 250, 266, 270, 273, 321, 322, 324, 339, 355, 356, 358, 366, 374, 378, 388, 417, 421, 422, 449, 497, 524, 537, 542, 543, 558, 598, 603, 636, 675, 681, 683, 709, 722, 753, 763, 806, 819, 847, 859, 866, 897, 902, 918, 952, 967, 1122, 1168, 1175, 1175, 1196, 1463, 1571, 1849, 1923, 1955, 2316, 2344, 2389, 2445, 2499, 2963, 2995, 3161, 3359, 3510, 3563, 3832, 3856, 4699, 4740, 4972, 5187, 8984, 11807, 12458, 13260, 13831], \"xaxis\": \"x\", \"y\": [118.78609082998932, 121.27931599095758, 121.27931599095758, 122.94146609826976, 123.77254115192584, 125.43469125923801, 126.26576631289409, 127.09684136655018, 127.92791642020626, 128.75899147386235, 130.4211415811745, 131.2522166348306, 132.0832916884867, 132.91436674214276, 135.40759190311104, 137.0697420104232, 137.0697420104232, 140.39404222504754, 142.0561923323597, 145.38049254698404, 145.38049254698404, 146.21156760064014, 146.21156760064014, 147.04264265429623, 149.53586781526448, 150.36694286892055, 154.52231813720098, 154.52231813720098, 156.18446824451314, 156.18446824451314, 157.01554329816923, 157.01554329816923, 160.33984351279358, 161.17091856644967, 163.66414372741792, 166.15736888838617, 166.15736888838617, 170.3127441566666, 174.46811942494702, 174.46811942494702, 175.2991944786031, 181.1167198541957, 181.9477949078518, 182.7788699615079, 186.1031701761322, 191.0896204980687, 191.0896204980687, 193.582845659037, 200.23144608828568, 202.72467124925393, 206.88004651753437, 210.20434673215868, 211.86649683947087, 217.68402221506346, 217.68402221506346, 220.17724737603172, 220.17724737603172, 220.17724737603172, 221.00832242968778, 221.83939748334387, 225.9947727516243, 227.65692285893647, 227.65692285893647, 230.9812230735608, 231.8122981272169, 232.64337318087297, 235.13659834184125, 237.6298235028095, 247.60272414668253, 255.0823996295873, 265.8863753271164, 267.5485254344286, 268.37960048808463, 270.8728256490529, 273.3660508100212, 284.17002650755023, 285.8321766148624, 286.6632516685185, 295.8050772587354, 303.2847527416402, 307.4401280099206, 324.06162908304236, 337.35882994153974, 340.68313015616405, 343.17635531713233, 383.0679578926244, 383.8990329462805, 385.56118305359263, 398.0273088584339, 411.3245097169313, 412.1555847705874, 413.81773487789957, 420.46633530714826, 427.1149357363969, 430.43923595102126, 438.7499864875821, 462.85116304360855, 466.1754632582329, 467.006538311889, 489.4455647606033, 529.3371673360954, 551.7761937848097, 562.5801694823388, 566.7355447506193, 567.5666198042753, 580.0327456091165, 613.27574775536, 617.4311230236403, 644.8565997942912, 677.2685268868786, 682.254977208815, 683.9171273161271, 705.5250787111854, 716.3290544087145, 742.0923810720533, 750.4031316086141, 786.1393589158256, 796.9433346133549, 820.2134361157252, 830.1863367595981, 836.0038621351907, 861.7671887985293, 865.9225640668099, 879.2197649253071, 907.4763167496142, 919.9424425544555, 1048.7590758711485, 1086.9885283393285, 1092.806053714921, 1092.806053714921, 1110.2586298416988, 1332.1556691678736, 1421.9117749627308, 1652.9506398791225, 1714.4501938496728, 1741.0445955666676, 2041.0626899365143, 2064.3327914388847, 2101.7311688534087, 2148.2713718581495, 2193.149424755578, 2578.7682496520015, 2605.362651368996, 2743.321110275906, 2907.873970899811, 3033.36630400188, 3077.4132818456524, 3300.9724712791394, 3320.918272566885, 4021.514542798965, 4055.5886199988645, 4248.398032447077, 4427.079168983135, 7582.67114771529, 9928.796024186418, 10469.82588411653, 11136.34807714871, 11610.891932786335], \"yaxis\": \"y\"}],                        {\"legend\": {\"tracegroupgap\": 0}, \"margin\": {\"t\": 60}, \"template\": {\"data\": {\"bar\": [{\"error_x\": {\"color\": \"#2a3f5f\"}, \"error_y\": {\"color\": \"#2a3f5f\"}, \"marker\": {\"line\": {\"color\": \"#E5ECF6\", \"width\": 0.5}}, \"type\": \"bar\"}], \"barpolar\": [{\"marker\": {\"line\": {\"color\": \"#E5ECF6\", \"width\": 0.5}}, \"type\": \"barpolar\"}], \"carpet\": [{\"aaxis\": {\"endlinecolor\": \"#2a3f5f\", \"gridcolor\": \"white\", \"linecolor\": \"white\", \"minorgridcolor\": \"white\", \"startlinecolor\": \"#2a3f5f\"}, \"baxis\": {\"endlinecolor\": \"#2a3f5f\", \"gridcolor\": \"white\", \"linecolor\": \"white\", \"minorgridcolor\": \"white\", \"startlinecolor\": \"#2a3f5f\"}, \"type\": \"carpet\"}], \"choropleth\": [{\"colorbar\": {\"outlinewidth\": 0, \"ticks\": \"\"}, \"type\": \"choropleth\"}], \"contour\": [{\"colorbar\": {\"outlinewidth\": 0, \"ticks\": \"\"}, \"colorscale\": [[0.0, \"#0d0887\"], [0.1111111111111111, \"#46039f\"], [0.2222222222222222, \"#7201a8\"], [0.3333333333333333, \"#9c179e\"], [0.4444444444444444, \"#bd3786\"], [0.5555555555555556, \"#d8576b\"], [0.6666666666666666, \"#ed7953\"], [0.7777777777777778, \"#fb9f3a\"], [0.8888888888888888, \"#fdca26\"], [1.0, \"#f0f921\"]], \"type\": \"contour\"}], \"contourcarpet\": [{\"colorbar\": {\"outlinewidth\": 0, \"ticks\": \"\"}, \"type\": \"contourcarpet\"}], \"heatmap\": [{\"colorbar\": {\"outlinewidth\": 0, \"ticks\": \"\"}, \"colorscale\": [[0.0, \"#0d0887\"], [0.1111111111111111, \"#46039f\"], [0.2222222222222222, \"#7201a8\"], [0.3333333333333333, \"#9c179e\"], [0.4444444444444444, \"#bd3786\"], [0.5555555555555556, \"#d8576b\"], [0.6666666666666666, \"#ed7953\"], [0.7777777777777778, \"#fb9f3a\"], [0.8888888888888888, \"#fdca26\"], [1.0, \"#f0f921\"]], \"type\": \"heatmap\"}], \"heatmapgl\": [{\"colorbar\": {\"outlinewidth\": 0, \"ticks\": \"\"}, \"colorscale\": [[0.0, \"#0d0887\"], [0.1111111111111111, \"#46039f\"], [0.2222222222222222, \"#7201a8\"], [0.3333333333333333, \"#9c179e\"], [0.4444444444444444, \"#bd3786\"], [0.5555555555555556, \"#d8576b\"], [0.6666666666666666, \"#ed7953\"], [0.7777777777777778, \"#fb9f3a\"], [0.8888888888888888, \"#fdca26\"], [1.0, \"#f0f921\"]], \"type\": \"heatmapgl\"}], \"histogram\": [{\"marker\": {\"colorbar\": {\"outlinewidth\": 0, \"ticks\": \"\"}}, \"type\": \"histogram\"}], \"histogram2d\": [{\"colorbar\": {\"outlinewidth\": 0, \"ticks\": \"\"}, \"colorscale\": [[0.0, \"#0d0887\"], [0.1111111111111111, \"#46039f\"], [0.2222222222222222, \"#7201a8\"], [0.3333333333333333, \"#9c179e\"], [0.4444444444444444, \"#bd3786\"], [0.5555555555555556, \"#d8576b\"], [0.6666666666666666, \"#ed7953\"], [0.7777777777777778, \"#fb9f3a\"], [0.8888888888888888, \"#fdca26\"], [1.0, \"#f0f921\"]], \"type\": \"histogram2d\"}], \"histogram2dcontour\": [{\"colorbar\": {\"outlinewidth\": 0, \"ticks\": \"\"}, \"colorscale\": [[0.0, \"#0d0887\"], [0.1111111111111111, \"#46039f\"], [0.2222222222222222, \"#7201a8\"], [0.3333333333333333, \"#9c179e\"], [0.4444444444444444, \"#bd3786\"], [0.5555555555555556, \"#d8576b\"], [0.6666666666666666, \"#ed7953\"], [0.7777777777777778, \"#fb9f3a\"], [0.8888888888888888, \"#fdca26\"], [1.0, \"#f0f921\"]], \"type\": \"histogram2dcontour\"}], \"mesh3d\": [{\"colorbar\": {\"outlinewidth\": 0, \"ticks\": \"\"}, \"type\": \"mesh3d\"}], \"parcoords\": [{\"line\": {\"colorbar\": {\"outlinewidth\": 0, \"ticks\": \"\"}}, \"type\": \"parcoords\"}], \"pie\": [{\"automargin\": true, \"type\": \"pie\"}], \"scatter\": [{\"marker\": {\"colorbar\": {\"outlinewidth\": 0, \"ticks\": \"\"}}, \"type\": \"scatter\"}], \"scatter3d\": [{\"line\": {\"colorbar\": {\"outlinewidth\": 0, \"ticks\": \"\"}}, \"marker\": {\"colorbar\": {\"outlinewidth\": 0, \"ticks\": \"\"}}, \"type\": \"scatter3d\"}], \"scattercarpet\": [{\"marker\": {\"colorbar\": {\"outlinewidth\": 0, \"ticks\": \"\"}}, \"type\": \"scattercarpet\"}], \"scattergeo\": [{\"marker\": {\"colorbar\": {\"outlinewidth\": 0, \"ticks\": \"\"}}, \"type\": \"scattergeo\"}], \"scattergl\": [{\"marker\": {\"colorbar\": {\"outlinewidth\": 0, \"ticks\": \"\"}}, \"type\": \"scattergl\"}], \"scattermapbox\": [{\"marker\": {\"colorbar\": {\"outlinewidth\": 0, \"ticks\": \"\"}}, \"type\": \"scattermapbox\"}], \"scatterpolar\": [{\"marker\": {\"colorbar\": {\"outlinewidth\": 0, \"ticks\": \"\"}}, \"type\": \"scatterpolar\"}], \"scatterpolargl\": [{\"marker\": {\"colorbar\": {\"outlinewidth\": 0, \"ticks\": \"\"}}, \"type\": \"scatterpolargl\"}], \"scatterternary\": [{\"marker\": {\"colorbar\": {\"outlinewidth\": 0, \"ticks\": \"\"}}, \"type\": \"scatterternary\"}], \"surface\": [{\"colorbar\": {\"outlinewidth\": 0, \"ticks\": \"\"}, \"colorscale\": [[0.0, \"#0d0887\"], [0.1111111111111111, \"#46039f\"], [0.2222222222222222, \"#7201a8\"], [0.3333333333333333, \"#9c179e\"], [0.4444444444444444, \"#bd3786\"], [0.5555555555555556, \"#d8576b\"], [0.6666666666666666, \"#ed7953\"], [0.7777777777777778, \"#fb9f3a\"], [0.8888888888888888, \"#fdca26\"], [1.0, \"#f0f921\"]], \"type\": \"surface\"}], \"table\": [{\"cells\": {\"fill\": {\"color\": \"#EBF0F8\"}, \"line\": {\"color\": \"white\"}}, \"header\": {\"fill\": {\"color\": \"#C8D4E3\"}, \"line\": {\"color\": \"white\"}}, \"type\": \"table\"}]}, \"layout\": {\"annotationdefaults\": {\"arrowcolor\": \"#2a3f5f\", \"arrowhead\": 0, \"arrowwidth\": 1}, \"autotypenumbers\": \"strict\", \"coloraxis\": {\"colorbar\": {\"outlinewidth\": 0, \"ticks\": \"\"}}, \"colorscale\": {\"diverging\": [[0, \"#8e0152\"], [0.1, \"#c51b7d\"], [0.2, \"#de77ae\"], [0.3, \"#f1b6da\"], [0.4, \"#fde0ef\"], [0.5, \"#f7f7f7\"], [0.6, \"#e6f5d0\"], [0.7, \"#b8e186\"], [0.8, \"#7fbc41\"], [0.9, \"#4d9221\"], [1, \"#276419\"]], \"sequential\": [[0.0, \"#0d0887\"], [0.1111111111111111, \"#46039f\"], [0.2222222222222222, \"#7201a8\"], [0.3333333333333333, \"#9c179e\"], [0.4444444444444444, \"#bd3786\"], [0.5555555555555556, \"#d8576b\"], [0.6666666666666666, \"#ed7953\"], [0.7777777777777778, \"#fb9f3a\"], [0.8888888888888888, \"#fdca26\"], [1.0, \"#f0f921\"]], \"sequentialminus\": [[0.0, \"#0d0887\"], [0.1111111111111111, \"#46039f\"], [0.2222222222222222, \"#7201a8\"], [0.3333333333333333, \"#9c179e\"], [0.4444444444444444, \"#bd3786\"], [0.5555555555555556, \"#d8576b\"], [0.6666666666666666, \"#ed7953\"], [0.7777777777777778, \"#fb9f3a\"], [0.8888888888888888, \"#fdca26\"], [1.0, \"#f0f921\"]]}, \"colorway\": [\"#636efa\", \"#EF553B\", \"#00cc96\", \"#ab63fa\", \"#FFA15A\", \"#19d3f3\", \"#FF6692\", \"#B6E880\", \"#FF97FF\", \"#FECB52\"], \"font\": {\"color\": \"#2a3f5f\"}, \"geo\": {\"bgcolor\": \"white\", \"lakecolor\": \"white\", \"landcolor\": \"#E5ECF6\", \"showlakes\": true, \"showland\": true, \"subunitcolor\": \"white\"}, \"hoverlabel\": {\"align\": \"left\"}, \"hovermode\": \"closest\", \"mapbox\": {\"style\": \"light\"}, \"paper_bgcolor\": \"white\", \"plot_bgcolor\": \"#E5ECF6\", \"polar\": {\"angularaxis\": {\"gridcolor\": \"white\", \"linecolor\": \"white\", \"ticks\": \"\"}, \"bgcolor\": \"#E5ECF6\", \"radialaxis\": {\"gridcolor\": \"white\", \"linecolor\": \"white\", \"ticks\": \"\"}}, \"scene\": {\"xaxis\": {\"backgroundcolor\": \"#E5ECF6\", \"gridcolor\": \"white\", \"gridwidth\": 2, \"linecolor\": \"white\", \"showbackground\": true, \"ticks\": \"\", \"zerolinecolor\": \"white\"}, \"yaxis\": {\"backgroundcolor\": \"#E5ECF6\", \"gridcolor\": \"white\", \"gridwidth\": 2, \"linecolor\": \"white\", \"showbackground\": true, \"ticks\": \"\", \"zerolinecolor\": \"white\"}, \"zaxis\": {\"backgroundcolor\": \"#E5ECF6\", \"gridcolor\": \"white\", \"gridwidth\": 2, \"linecolor\": \"white\", \"showbackground\": true, \"ticks\": \"\", \"zerolinecolor\": \"white\"}}, \"shapedefaults\": {\"line\": {\"color\": \"#2a3f5f\"}}, \"ternary\": {\"aaxis\": {\"gridcolor\": \"white\", \"linecolor\": \"white\", \"ticks\": \"\"}, \"baxis\": {\"gridcolor\": \"white\", \"linecolor\": \"white\", \"ticks\": \"\"}, \"bgcolor\": \"#E5ECF6\", \"caxis\": {\"gridcolor\": \"white\", \"linecolor\": \"white\", \"ticks\": \"\"}}, \"title\": {\"x\": 0.05}, \"xaxis\": {\"automargin\": true, \"gridcolor\": \"white\", \"linecolor\": \"white\", \"ticks\": \"\", \"title\": {\"standoff\": 15}, \"zerolinecolor\": \"white\", \"zerolinewidth\": 2}, \"yaxis\": {\"automargin\": true, \"gridcolor\": \"white\", \"linecolor\": \"white\", \"ticks\": \"\", \"title\": {\"standoff\": 15}, \"zerolinecolor\": \"white\", \"zerolinewidth\": 2}}}, \"xaxis\": {\"anchor\": \"y\", \"domain\": [0.0, 1.0], \"title\": {\"text\": \"# of Omnibus Ratings\"}}, \"yaxis\": {\"anchor\": \"x\", \"domain\": [0.0, 1.0], \"title\": {\"text\": \"# of Google Reviews\"}}},                        {\"responsive\": true}                    ).then(function(){\n",
       "                            \n",
       "var gd = document.getElementById('8c983f5d-b6a7-4e54-b21f-75c95f06a8cf');\n",
       "var x = new MutationObserver(function (mutations, observer) {{\n",
       "        var display = window.getComputedStyle(gd).display;\n",
       "        if (!display || display === 'none') {{\n",
       "            console.log([gd, 'removed!']);\n",
       "            Plotly.purge(gd);\n",
       "            observer.disconnect();\n",
       "        }}\n",
       "}});\n",
       "\n",
       "// Listen for the removal of the full notebook cells\n",
       "var notebookContainer = gd.closest('#notebook-container');\n",
       "if (notebookContainer) {{\n",
       "    x.observe(notebookContainer, {childList: true});\n",
       "}}\n",
       "\n",
       "// Listen for the clearing of the current output cell\n",
       "var outputEl = gd.closest('.output');\n",
       "if (outputEl) {{\n",
       "    x.observe(outputEl, {childList: true});\n",
       "}}\n",
       "\n",
       "                        })                };                });            </script>        </div>"
      ]
     },
     "metadata": {},
     "output_type": "display_data"
    }
   ],
   "source": [
    "px.scatter(data, x='# of Omnibus Ratings', y='# of Google Reviews', hover_data=['HG Story Title'], trendline='ols')"
   ]
  },
  {
   "cell_type": "markdown",
   "metadata": {},
   "source": [
    "This doesn't look so good but let's just calculate a correlation..."
   ]
  },
  {
   "cell_type": "code",
   "execution_count": 83,
   "metadata": {
    "tags": []
   },
   "outputs": [],
   "source": [
    "import statsmodels.api as sm\n",
    "import statsmodels.formula.api as smf"
   ]
  },
  {
   "cell_type": "markdown",
   "metadata": {},
   "source": [
    "It turns out that some of the games don't have Google review data. Which are those games?"
   ]
  },
  {
   "cell_type": "code",
   "execution_count": 90,
   "metadata": {},
   "outputs": [
    {
     "data": {
      "text/html": [
       "<div>\n",
       "<style scoped>\n",
       "    .dataframe tbody tr th:only-of-type {\n",
       "        vertical-align: middle;\n",
       "    }\n",
       "\n",
       "    .dataframe tbody tr th {\n",
       "        vertical-align: top;\n",
       "    }\n",
       "\n",
       "    .dataframe thead th {\n",
       "        text-align: right;\n",
       "    }\n",
       "</style>\n",
       "<table border=\"1\" class=\"dataframe\">\n",
       "  <thead>\n",
       "    <tr style=\"text-align: right;\">\n",
       "      <th></th>\n",
       "      <th>HG Story Title</th>\n",
       "      <th>Author</th>\n",
       "      <th>Genre</th>\n",
       "      <th>Subgenre (if applicable)</th>\n",
       "      <th>Word Count</th>\n",
       "      <th># of Omnibus Ratings</th>\n",
       "      <th>Omnibus Rating</th>\n",
       "      <th># of Steam Reviews</th>\n",
       "      <th>% of Positive Steam Reviews</th>\n",
       "      <th># of Google Reviews</th>\n",
       "      <th># of GPS Installs</th>\n",
       "      <th>GPS Score</th>\n",
       "      <th>Release Date</th>\n",
       "      <th>Price</th>\n",
       "      <th>Free?</th>\n",
       "      <th>Popularity</th>\n",
       "    </tr>\n",
       "  </thead>\n",
       "  <tbody>\n",
       "    <tr>\n",
       "      <th>27</th>\n",
       "      <td>Path of Light</td>\n",
       "      <td>Ivailo Daskalov</td>\n",
       "      <td>Fantasy</td>\n",
       "      <td>NaN</td>\n",
       "      <td>100000</td>\n",
       "      <td>14</td>\n",
       "      <td>4.4</td>\n",
       "      <td>NaN</td>\n",
       "      <td>NaN</td>\n",
       "      <td>NaN</td>\n",
       "      <td>NaN</td>\n",
       "      <td>NaN</td>\n",
       "      <td>2014-08-15</td>\n",
       "      <td>$0.99</td>\n",
       "      <td>Nope</td>\n",
       "      <td>NaN</td>\n",
       "    </tr>\n",
       "    <tr>\n",
       "      <th>33</th>\n",
       "      <td>Silent Gear</td>\n",
       "      <td>Lee Yuan</td>\n",
       "      <td>Sci-Fi</td>\n",
       "      <td>War</td>\n",
       "      <td>40000</td>\n",
       "      <td>169</td>\n",
       "      <td>4.2</td>\n",
       "      <td>NaN</td>\n",
       "      <td>NaN</td>\n",
       "      <td>NaN</td>\n",
       "      <td>NaN</td>\n",
       "      <td>NaN</td>\n",
       "      <td>2014-12-29</td>\n",
       "      <td>$1.99</td>\n",
       "      <td>Yup</td>\n",
       "      <td>NaN</td>\n",
       "    </tr>\n",
       "    <tr>\n",
       "      <th>143</th>\n",
       "      <td>Journey into Darkness</td>\n",
       "      <td>Jonathan Clark</td>\n",
       "      <td>Historical</td>\n",
       "      <td>Puzzle</td>\n",
       "      <td>110000</td>\n",
       "      <td>10</td>\n",
       "      <td>3.6</td>\n",
       "      <td>NaN</td>\n",
       "      <td>NaN</td>\n",
       "      <td>NaN</td>\n",
       "      <td>1k+</td>\n",
       "      <td>NaN</td>\n",
       "      <td>2020-05-21</td>\n",
       "      <td>$3.99</td>\n",
       "      <td>Nope</td>\n",
       "      <td>NaN</td>\n",
       "    </tr>\n",
       "  </tbody>\n",
       "</table>\n",
       "</div>"
      ],
      "text/plain": [
       "            HG Story Title           Author       Genre  \\\n",
       "27           Path of Light  Ivailo Daskalov     Fantasy   \n",
       "33             Silent Gear         Lee Yuan      Sci-Fi   \n",
       "143  Journey into Darkness   Jonathan Clark  Historical   \n",
       "\n",
       "    Subgenre (if applicable)  Word Count  # of Omnibus Ratings  \\\n",
       "27                       NaN      100000                    14   \n",
       "33                       War       40000                   169   \n",
       "143                   Puzzle      110000                    10   \n",
       "\n",
       "     Omnibus Rating  # of Steam Reviews % of Positive Steam Reviews  \\\n",
       "27              4.4                 NaN                         NaN   \n",
       "33              4.2                 NaN                         NaN   \n",
       "143             3.6                 NaN                         NaN   \n",
       "\n",
       "     # of Google Reviews # of GPS Installs  GPS Score Release Date  Price  \\\n",
       "27                   NaN               NaN        NaN   2014-08-15  $0.99   \n",
       "33                   NaN               NaN        NaN   2014-12-29  $1.99   \n",
       "143                  NaN               1k+        NaN   2020-05-21  $3.99   \n",
       "\n",
       "    Free?  Popularity  \n",
       "27   Nope         NaN  \n",
       "33    Yup         NaN  \n",
       "143  Nope         NaN  "
      ]
     },
     "execution_count": 90,
     "metadata": {},
     "output_type": "execute_result"
    }
   ],
   "source": [
    "data[data['# of Google Reviews'].isna()]"
   ]
  },
  {
   "cell_type": "markdown",
   "metadata": {
    "tags": []
   },
   "source": [
    "Alright, let's just remove those games from the data."
   ]
  },
  {
   "cell_type": "code",
   "execution_count": 92,
   "metadata": {},
   "outputs": [],
   "source": [
    "data_clean = data[~data['# of Google Reviews'].isna()]"
   ]
  },
  {
   "cell_type": "code",
   "execution_count": 99,
   "metadata": {},
   "outputs": [],
   "source": [
    "results = sm.OLS(data_clean['# of Omnibus Ratings'], sm.add_constant(data_clean['# of Google Reviews'])).fit()"
   ]
  },
  {
   "cell_type": "code",
   "execution_count": 100,
   "metadata": {},
   "outputs": [
    {
     "name": "stdout",
     "output_type": "stream",
     "text": [
      "                             OLS Regression Results                             \n",
      "================================================================================\n",
      "Dep. Variable:     # of Omnibus Ratings   R-squared:                       0.437\n",
      "Model:                              OLS   Adj. R-squared:                  0.433\n",
      "Method:                   Least Squares   F-statistic:                     121.1\n",
      "Date:                  Mon, 07 Jun 2021   Prob (F-statistic):           3.31e-21\n",
      "Time:                          18:26:39   Log-Likelihood:                -1400.9\n",
      "No. Observations:                   158   AIC:                             2806.\n",
      "Df Residuals:                       156   BIC:                             2812.\n",
      "Df Model:                             1                                         \n",
      "Covariance Type:              nonrobust                                         \n",
      "=======================================================================================\n",
      "                          coef    std err          t      P>|t|      [0.025      0.975]\n",
      "---------------------------------------------------------------------------------------\n",
      "const                 531.4866    145.277      3.658      0.000     244.522     818.451\n",
      "# of Google Reviews     0.5258      0.048     11.004      0.000       0.431       0.620\n",
      "==============================================================================\n",
      "Omnibus:                      141.753   Durbin-Watson:                   1.813\n",
      "Prob(Omnibus):                  0.000   Jarque-Bera (JB):             1762.216\n",
      "Skew:                           3.350   Prob(JB):                         0.00\n",
      "Kurtosis:                      17.926   Cond. No.                     3.22e+03\n",
      "==============================================================================\n",
      "\n",
      "Warnings:\n",
      "[1] Standard Errors assume that the covariance matrix of the errors is correctly specified.\n",
      "[2] The condition number is large, 3.22e+03. This might indicate that there are\n",
      "strong multicollinearity or other numerical problems.\n"
     ]
    }
   ],
   "source": [
    "print(results.summary())"
   ]
  },
  {
   "cell_type": "markdown",
   "metadata": {},
   "source": [
    "That's a lot of numbers! Here I am attempting to discern the relationship between \n",
    "\n",
    "An important number here is **R-squared**. Basically, this shows the strength of the relationship between the two variables. It's 0.496, which is pretty decent. So there definitely is a relationship between the two popularity metrics. But I'm guessing the outlier kind of skews the results... What is the outlier, anyway? That seems to be by far the most popular game published by Hosted Games.\n",
    "\n",
    "### Okay, but really, what are the most popular games?"
   ]
  },
  {
   "cell_type": "code",
   "execution_count": 67,
   "metadata": {},
   "outputs": [],
   "source": [
    "data_popular = data.sort_values('Popularity', ascending=False)"
   ]
  },
  {
   "cell_type": "code",
   "execution_count": 69,
   "metadata": {},
   "outputs": [
    {
     "data": {
      "text/html": [
       "<div>\n",
       "<style scoped>\n",
       "    .dataframe tbody tr th:only-of-type {\n",
       "        vertical-align: middle;\n",
       "    }\n",
       "\n",
       "    .dataframe tbody tr th {\n",
       "        vertical-align: top;\n",
       "    }\n",
       "\n",
       "    .dataframe thead th {\n",
       "        text-align: right;\n",
       "    }\n",
       "</style>\n",
       "<table border=\"1\" class=\"dataframe\">\n",
       "  <thead>\n",
       "    <tr style=\"text-align: right;\">\n",
       "      <th></th>\n",
       "      <th>HG Story Title</th>\n",
       "      <th>Author</th>\n",
       "      <th>Genre</th>\n",
       "      <th>Subgenre (if applicable)</th>\n",
       "      <th>Word Count</th>\n",
       "      <th># of Omnibus Ratings</th>\n",
       "      <th>Omnibus Rating</th>\n",
       "      <th># of Steam Reviews</th>\n",
       "      <th>% of Positive Steam Reviews</th>\n",
       "      <th># of Google Reviews</th>\n",
       "      <th># of GPS Installs</th>\n",
       "      <th>GPS Score</th>\n",
       "      <th>Release Date</th>\n",
       "      <th>Price</th>\n",
       "      <th>Free?</th>\n",
       "      <th>Popularity</th>\n",
       "    </tr>\n",
       "  </thead>\n",
       "  <tbody>\n",
       "    <tr>\n",
       "      <th>74</th>\n",
       "      <td>The Great Tournament</td>\n",
       "      <td>Philip Kempton</td>\n",
       "      <td>Fantasy</td>\n",
       "      <td>Historical</td>\n",
       "      <td>190000</td>\n",
       "      <td>13831</td>\n",
       "      <td>4.7</td>\n",
       "      <td>21.0</td>\n",
       "      <td>90%</td>\n",
       "      <td>32649.0</td>\n",
       "      <td>500k+</td>\n",
       "      <td>4.7</td>\n",
       "      <td>2017-03-03</td>\n",
       "      <td>$4.99</td>\n",
       "      <td>Yup</td>\n",
       "      <td>46480.0</td>\n",
       "    </tr>\n",
       "    <tr>\n",
       "      <th>113</th>\n",
       "      <td>Life of a Mercenary</td>\n",
       "      <td>Philip Kempton</td>\n",
       "      <td>Fantasy</td>\n",
       "      <td>Historical</td>\n",
       "      <td>340000</td>\n",
       "      <td>13260</td>\n",
       "      <td>4.6</td>\n",
       "      <td>6.0</td>\n",
       "      <td>100%</td>\n",
       "      <td>10060.0</td>\n",
       "      <td>100k+</td>\n",
       "      <td>4.4</td>\n",
       "      <td>2018-12-18</td>\n",
       "      <td>$3.99</td>\n",
       "      <td>Yup</td>\n",
       "      <td>23320.0</td>\n",
       "    </tr>\n",
       "    <tr>\n",
       "      <th>92</th>\n",
       "      <td>Wayhaven Chronicles: Book One</td>\n",
       "      <td>Mishka Jenkins</td>\n",
       "      <td>Supernatural</td>\n",
       "      <td>Romance</td>\n",
       "      <td>440000</td>\n",
       "      <td>11807</td>\n",
       "      <td>4.8</td>\n",
       "      <td>238.0</td>\n",
       "      <td>95%</td>\n",
       "      <td>5909.0</td>\n",
       "      <td>100k+</td>\n",
       "      <td>4.7</td>\n",
       "      <td>2018-03-08</td>\n",
       "      <td>$4.99</td>\n",
       "      <td>Nope</td>\n",
       "      <td>17716.0</td>\n",
       "    </tr>\n",
       "    <tr>\n",
       "      <th>141</th>\n",
       "      <td>Wayhaven Chronicles: Book Two*</td>\n",
       "      <td>Mishka Jenkins</td>\n",
       "      <td>Supernatural</td>\n",
       "      <td>Romance</td>\n",
       "      <td>790000</td>\n",
       "      <td>12458</td>\n",
       "      <td>4.9</td>\n",
       "      <td>140.0</td>\n",
       "      <td>99%</td>\n",
       "      <td>2319.0</td>\n",
       "      <td>10k+</td>\n",
       "      <td>4.9</td>\n",
       "      <td>2020-05-07</td>\n",
       "      <td>$6.99</td>\n",
       "      <td>Nope</td>\n",
       "      <td>14777.0</td>\n",
       "    </tr>\n",
       "    <tr>\n",
       "      <th>127</th>\n",
       "      <td>Hero or Villain: Genesis</td>\n",
       "      <td>Adrao</td>\n",
       "      <td>Superhero</td>\n",
       "      <td>NaN</td>\n",
       "      <td>330000</td>\n",
       "      <td>8984</td>\n",
       "      <td>4.6</td>\n",
       "      <td>25.0</td>\n",
       "      <td>68%</td>\n",
       "      <td>2380.0</td>\n",
       "      <td>100k+</td>\n",
       "      <td>4.2</td>\n",
       "      <td>2019-09-19</td>\n",
       "      <td>$3.99</td>\n",
       "      <td>Nope</td>\n",
       "      <td>11364.0</td>\n",
       "    </tr>\n",
       "    <tr>\n",
       "      <th>71</th>\n",
       "      <td>Zombie Exodus: Safe Haven</td>\n",
       "      <td>Jim Dattilo</td>\n",
       "      <td>Supernatural</td>\n",
       "      <td>Post-apocalyptic</td>\n",
       "      <td>1100000</td>\n",
       "      <td>5187</td>\n",
       "      <td>4.8</td>\n",
       "      <td>129.0</td>\n",
       "      <td>89%</td>\n",
       "      <td>4176.0</td>\n",
       "      <td>100k+</td>\n",
       "      <td>4.4</td>\n",
       "      <td>2016-10-28</td>\n",
       "      <td>$4.99</td>\n",
       "      <td>Nope</td>\n",
       "      <td>9363.0</td>\n",
       "    </tr>\n",
       "    <tr>\n",
       "      <th>8</th>\n",
       "      <td>Zombie Exodus</td>\n",
       "      <td>Jim Dattilo</td>\n",
       "      <td>Supernatural</td>\n",
       "      <td>Post-apocalyptic</td>\n",
       "      <td>700000</td>\n",
       "      <td>1463</td>\n",
       "      <td>4.7</td>\n",
       "      <td>138.0</td>\n",
       "      <td>89%</td>\n",
       "      <td>7191.0</td>\n",
       "      <td>100k+</td>\n",
       "      <td>4.3</td>\n",
       "      <td>2011-12-04</td>\n",
       "      <td>$1.99</td>\n",
       "      <td>Nope</td>\n",
       "      <td>8654.0</td>\n",
       "    </tr>\n",
       "    <tr>\n",
       "      <th>134</th>\n",
       "      <td>The War for the West</td>\n",
       "      <td>Lucas Zaper</td>\n",
       "      <td>Fantasy</td>\n",
       "      <td>NaN</td>\n",
       "      <td>490000</td>\n",
       "      <td>4740</td>\n",
       "      <td>4.8</td>\n",
       "      <td>43.0</td>\n",
       "      <td>81%</td>\n",
       "      <td>2458.0</td>\n",
       "      <td>50k+</td>\n",
       "      <td>4.5</td>\n",
       "      <td>2019-11-14</td>\n",
       "      <td>$6.99</td>\n",
       "      <td>Nope</td>\n",
       "      <td>7198.0</td>\n",
       "    </tr>\n",
       "    <tr>\n",
       "      <th>133</th>\n",
       "      <td>Breach: The Archangel Job</td>\n",
       "      <td>Michael Maxwell and S. Ben Luigi</td>\n",
       "      <td>Crime</td>\n",
       "      <td>NaN</td>\n",
       "      <td>820000</td>\n",
       "      <td>4972</td>\n",
       "      <td>4.9</td>\n",
       "      <td>53.0</td>\n",
       "      <td>94%</td>\n",
       "      <td>1792.0</td>\n",
       "      <td>10k+</td>\n",
       "      <td>4.6</td>\n",
       "      <td>2019-11-14</td>\n",
       "      <td>$6.99</td>\n",
       "      <td>Nope</td>\n",
       "      <td>6764.0</td>\n",
       "    </tr>\n",
       "    <tr>\n",
       "      <th>42</th>\n",
       "      <td>Samurai of Hyuga</td>\n",
       "      <td>Devon Connell</td>\n",
       "      <td>Fantasy</td>\n",
       "      <td>Historical</td>\n",
       "      <td>140000</td>\n",
       "      <td>2344</td>\n",
       "      <td>4.8</td>\n",
       "      <td>41.0</td>\n",
       "      <td>82%</td>\n",
       "      <td>3719.0</td>\n",
       "      <td>100k+</td>\n",
       "      <td>4.5</td>\n",
       "      <td>2015-07-17</td>\n",
       "      <td>$3.99</td>\n",
       "      <td>Nope</td>\n",
       "      <td>6063.0</td>\n",
       "    </tr>\n",
       "  </tbody>\n",
       "</table>\n",
       "</div>"
      ],
      "text/plain": [
       "                     HG Story Title                            Author  \\\n",
       "74             The Great Tournament                    Philip Kempton   \n",
       "113             Life of a Mercenary                    Philip Kempton   \n",
       "92    Wayhaven Chronicles: Book One                    Mishka Jenkins   \n",
       "141  Wayhaven Chronicles: Book Two*                    Mishka Jenkins   \n",
       "127        Hero or Villain: Genesis                             Adrao   \n",
       "71        Zombie Exodus: Safe Haven                       Jim Dattilo   \n",
       "8                     Zombie Exodus                       Jim Dattilo   \n",
       "134            The War for the West                       Lucas Zaper   \n",
       "133       Breach: The Archangel Job  Michael Maxwell and S. Ben Luigi   \n",
       "42                 Samurai of Hyuga                     Devon Connell   \n",
       "\n",
       "            Genre Subgenre (if applicable)  Word Count  # of Omnibus Ratings  \\\n",
       "74        Fantasy               Historical      190000                 13831   \n",
       "113       Fantasy               Historical      340000                 13260   \n",
       "92   Supernatural                  Romance      440000                 11807   \n",
       "141  Supernatural                  Romance      790000                 12458   \n",
       "127     Superhero                      NaN      330000                  8984   \n",
       "71   Supernatural         Post-apocalyptic     1100000                  5187   \n",
       "8    Supernatural         Post-apocalyptic      700000                  1463   \n",
       "134       Fantasy                      NaN      490000                  4740   \n",
       "133         Crime                      NaN      820000                  4972   \n",
       "42        Fantasy               Historical      140000                  2344   \n",
       "\n",
       "     Omnibus Rating  # of Steam Reviews % of Positive Steam Reviews  \\\n",
       "74              4.7                21.0                         90%   \n",
       "113             4.6                 6.0                        100%   \n",
       "92              4.8               238.0                         95%   \n",
       "141             4.9               140.0                         99%   \n",
       "127             4.6                25.0                         68%   \n",
       "71              4.8               129.0                         89%   \n",
       "8               4.7               138.0                         89%   \n",
       "134             4.8                43.0                         81%   \n",
       "133             4.9                53.0                         94%   \n",
       "42              4.8                41.0                         82%   \n",
       "\n",
       "     # of Google Reviews # of GPS Installs  GPS Score Release Date  Price  \\\n",
       "74               32649.0             500k+        4.7   2017-03-03  $4.99   \n",
       "113              10060.0             100k+        4.4   2018-12-18  $3.99   \n",
       "92                5909.0             100k+        4.7   2018-03-08  $4.99   \n",
       "141               2319.0              10k+        4.9   2020-05-07  $6.99   \n",
       "127               2380.0             100k+        4.2   2019-09-19  $3.99   \n",
       "71                4176.0             100k+        4.4   2016-10-28  $4.99   \n",
       "8                 7191.0             100k+        4.3   2011-12-04  $1.99   \n",
       "134               2458.0              50k+        4.5   2019-11-14  $6.99   \n",
       "133               1792.0              10k+        4.6   2019-11-14  $6.99   \n",
       "42                3719.0             100k+        4.5   2015-07-17  $3.99   \n",
       "\n",
       "    Free?  Popularity  \n",
       "74    Yup     46480.0  \n",
       "113   Yup     23320.0  \n",
       "92   Nope     17716.0  \n",
       "141  Nope     14777.0  \n",
       "127  Nope     11364.0  \n",
       "71   Nope      9363.0  \n",
       "8    Nope      8654.0  \n",
       "134  Nope      7198.0  \n",
       "133  Nope      6764.0  \n",
       "42   Nope      6063.0  "
      ]
     },
     "execution_count": 69,
     "metadata": {},
     "output_type": "execute_result"
    }
   ],
   "source": [
    "data_popular.head(10)"
   ]
  },
  {
   "cell_type": "markdown",
   "metadata": {},
   "source": [
    "The outlier that we saw earlier was *The Great Tournament*, which is the most popular Hosted Game.\n",
    "\n",
    "By most metrics, Philip Kempton's The Great Tournament and Life of a Mercenary are the two most popular Hosted Games. Congrats I guess."
   ]
  },
  {
   "cell_type": "markdown",
   "metadata": {},
   "source": [
    "## 4. What factors relate to the popularity of a game?\n",
    "\n",
    "### a) How does word count relate to popularity?\n",
    "\n",
    "Let's do another linear regression!"
   ]
  },
  {
   "cell_type": "code",
   "execution_count": 106,
   "metadata": {},
   "outputs": [],
   "source": [
    "results = sm.OLS(data_clean['Popularity'], sm.add_constant(data_clean['Word Count'])).fit()"
   ]
  },
  {
   "cell_type": "code",
   "execution_count": 107,
   "metadata": {},
   "outputs": [
    {
     "name": "stdout",
     "output_type": "stream",
     "text": [
      "                            OLS Regression Results                            \n",
      "==============================================================================\n",
      "Dep. Variable:             Popularity   R-squared:                       0.083\n",
      "Model:                            OLS   Adj. R-squared:                  0.077\n",
      "Method:                 Least Squares   F-statistic:                     14.03\n",
      "Date:                Mon, 07 Jun 2021   Prob (F-statistic):           0.000252\n",
      "Time:                        18:28:25   Log-Likelihood:                -1553.6\n",
      "No. Observations:                 158   AIC:                             3111.\n",
      "Df Residuals:                     156   BIC:                             3117.\n",
      "Df Model:                           1                                         \n",
      "Covariance Type:            nonrobust                                         \n",
      "==============================================================================\n",
      "                 coef    std err          t      P>|t|      [0.025      0.975]\n",
      "------------------------------------------------------------------------------\n",
      "const        762.4819    497.399      1.533      0.127    -220.025    1744.989\n",
      "Word Count     0.0065      0.002      3.746      0.000       0.003       0.010\n",
      "==============================================================================\n",
      "Omnibus:                      248.175   Durbin-Watson:                   1.913\n",
      "Prob(Omnibus):                  0.000   Jarque-Bera (JB):            25216.973\n",
      "Skew:                           6.873   Prob(JB):                         0.00\n",
      "Kurtosis:                      63.344   Cond. No.                     3.92e+05\n",
      "==============================================================================\n",
      "\n",
      "Warnings:\n",
      "[1] Standard Errors assume that the covariance matrix of the errors is correctly specified.\n",
      "[2] The condition number is large, 3.92e+05. This might indicate that there are\n",
      "strong multicollinearity or other numerical problems.\n"
     ]
    }
   ],
   "source": [
    "print(results.summary())"
   ]
  },
  {
   "cell_type": "code",
   "execution_count": 108,
   "metadata": {},
   "outputs": [
    {
     "data": {
      "application/vnd.plotly.v1+json": {
       "config": {
        "plotlyServerURL": "https://plot.ly"
       },
       "data": [
        {
         "customdata": [
          [
           "Popcorn, Soda�Murder?"
          ],
          [
           "The Nightmare Maze"
          ],
          [
           "What Happened Last Night?"
          ],
          [
           "Paranoia"
          ],
          [
           "Imprisoned"
          ],
          [
           "Land of Three Classes"
          ],
          [
           "Marine Raider"
          ],
          [
           "Dilemma"
          ],
          [
           "Zombie Exodus"
          ],
          [
           "Zebulon"
          ],
          [
           "Mobile Armored Marine: Mission to Far Hope"
          ],
          [
           "The Race"
          ],
          [
           "Dead Already?"
          ],
          [
           "Apex Patrol"
          ],
          [
           "The Sons of the Cherry"
          ],
          [
           "Way Walkers: University"
          ],
          [
           "Life of a Wizard"
          ],
          [
           "Sabres of Infinity"
          ],
          [
           "Paradox Factor"
          ],
          [
           "Way Walkers: University 2"
          ],
          [
           "Burn(t)"
          ],
          [
           "UnNatural"
          ],
          [
           "Tin Star"
          ],
          [
           "Trial of the Demon Hunter"
          ],
          [
           "Planetary Quarantine"
          ],
          [
           "Life of a Mobster"
          ],
          [
           "Fatehaven"
          ],
          [
           "Sword of the Elements"
          ],
          [
           "The Gangs of Old Camp"
          ],
          [
           "Divided We Fall"
          ],
          [
           "The Ascot"
          ],
          [
           "Somme Trench"
          ],
          [
           "Lords of Aswisk - First of His Blood"
          ],
          [
           "The Lost Heir: The Fall of Daria"
          ],
          [
           "Seven Bullets"
          ],
          [
           "Zombien"
          ],
          [
           "The Volunteer Firefighter"
          ],
          [
           "The Shadow Horror"
          ],
          [
           "No Proper Thief"
          ],
          [
           "Double/Cross"
          ],
          [
           "Samurai of Hyuga"
          ],
          [
           "Dancing with Demons"
          ],
          [
           "So, You’re Possessed!"
          ],
          [
           "Founders Saga: The Culling"
          ],
          [
           "Attack of the Clockwork Army"
          ],
          [
           "A Study in Steampunk: Choice by Gaslight"
          ],
          [
           "Captive of Fortune"
          ],
          [
           "Factions: Raids of the Divided"
          ],
          [
           "Community College Hero"
          ],
          [
           "Vampire House"
          ],
          [
           "Lost Heir 2: Forging a Kingdom"
          ],
          [
           "Wizardy Level C"
          ],
          [
           "Magikiras"
          ],
          [
           "Scarlet Sails"
          ],
          [
           "Guns of Infinity"
          ],
          [
           "First Year Demons"
          ],
          [
           "Best of Us"
          ],
          [
           "Gambling With Eternity"
          ],
          [
           "Doomsday on Demand"
          ],
          [
           "Starship Adventures"
          ],
          [
           "The Iron Destinies"
          ],
          [
           "Swamp Castle"
          ],
          [
           "The 3Games"
          ],
          [
           "Academy of Disaster"
          ],
          [
           "Machinations: Fog of War"
          ],
          [
           "Samurai of Hyuga Book 2"
          ],
          [
           "Elemental Saga: The Awakening"
          ],
          [
           "Tomb of the Khan"
          ],
          [
           "Twin Flames"
          ],
          [
           "Zombie Exodus: Safe Haven"
          ],
          [
           "Tokyo Wizard"
          ],
          [
           "Evertree Inn"
          ],
          [
           "The Great Tournament"
          ],
          [
           "Spacing Out"
          ],
          [
           "The Lost Heir 3: Demon War"
          ],
          [
           "Paradigm City"
          ],
          [
           "The Daily Blackmail"
          ],
          [
           "Treasure of the Forbidden City"
          ],
          [
           "My Day off Work"
          ],
          [
           "The Spy and the Labyrinth"
          ],
          [
           "Diamant Rose"
          ],
          [
           "The Dryad’s Riddle"
          ],
          [
           "Knight of the Fellowship"
          ],
          [
           "Lost in the Pages"
          ],
          [
           "Highlands, Deep Waters"
          ],
          [
           "Samurai of Hyuga Book 3"
          ],
          [
           "Foundation of Nightmares"
          ],
          [
           "The Aether: Life as a God"
          ],
          [
           "Comrade or Czar"
          ],
          [
           "The Great Tournament 2"
          ],
          [
           "Wayhaven Chronicles: Book One"
          ],
          [
           "Fallen Hero: Rebirth"
          ],
          [
           "Highway Wars"
          ],
          [
           "NE by NW Oz"
          ],
          [
           "The Kepler Colony: Evacuation"
          ],
          [
           "Community College Hero: Knowledge is Power"
          ],
          [
           "A Mummy is Not an Antique"
          ],
          [
           "The Courting of Miss Bennet"
          ],
          [
           "Doomsday on Demand 2"
          ],
          [
           "The Harbinger’s Head"
          ],
          [
           "The Last Wizard"
          ],
          [
           "The Magician’s Burden"
          ],
          [
           "The Haze Under Windbrooke"
          ],
          [
           "The Grim and I"
          ],
          [
           "The Twelve Trials"
          ],
          [
           "Nuclear Powered Toaster"
          ],
          [
           "Love at Elevation"
          ],
          [
           "Missing Wings"
          ],
          [
           "The Slayer of Evil"
          ],
          [
           "The Butler Did It"
          ],
          [
           "Critical Mass: The Bridge"
          ],
          [
           "Life of a Mercenary"
          ],
          [
           "Gladiator: Road to the Colosseum"
          ],
          [
           "Keeper of the Sun and Moon"
          ],
          [
           "Dragon Racer"
          ],
          [
           "Tudor Intrigue"
          ],
          [
           "The Paths to Greatness"
          ],
          [
           "Sordwin"
          ],
          [
           "Totem Force"
          ],
          [
           "The Saga of Oedipus Rex"
          ],
          [
           "Scratch"
          ],
          [
           "Who Was the Real Robin Hood?"
          ],
          [
           "A Sensei’s Story"
          ],
          [
           "One Minute Mysteries"
          ],
          [
           "Samurai of Hyuga Book 4"
          ],
          [
           "Hero or Villain: Genesis"
          ],
          [
           "The Parenting Simulator"
          ],
          [
           "Death at the Rectory"
          ],
          [
           "Moonrise"
          ],
          [
           "War of the Gods"
          ],
          [
           "The Oldest Dream"
          ],
          [
           "Breach: The Archangel Job"
          ],
          [
           "The War for the West"
          ],
          [
           "Street Jam: The Rise"
          ],
          [
           "The Shadow Society"
          ],
          [
           "Critical Mass: The Black Vein"
          ],
          [
           "The Soul Stone War"
          ],
          [
           "The Aegis Saga*"
          ],
          [
           "Kidnapped Prom Queen"
          ],
          [
           "Wayhaven Chronicles: Book Two*"
          ],
          [
           "AI-Aftermath"
          ],
          [
           "War for Magincia"
          ],
          [
           "Trees Don’t Tell"
          ],
          [
           "President Disaster"
          ],
          [
           "The Floating City"
          ],
          [
           "Macabre Mansion"
          ],
          [
           "A Sorcerer’s Story"
          ],
          [
           "Balance of Superpower"
          ],
          [
           "Hero or Villain: Battle Royale*"
          ],
          [
           "Demon: Recollect"
          ],
          [
           "Too Different"
          ],
          [
           "Score of a Lifetime"
          ],
          [
           "After the Storm"
          ],
          [
           "The Brothers’ War"
          ],
          [
           "Relics of the Lost Age"
          ],
          [
           "Keeper of the Day and Night"
          ],
          [
           "The Mage’s Adventures"
          ],
          [
           "War of 2022"
          ]
         ],
         "hovertemplate": "Word Count=%{x}<br>Popularity=%{y}<br>HG Story Title=%{customdata[0]}<extra></extra>",
         "legendgroup": "",
         "marker": {
          "color": "#636efa",
          "symbol": "circle"
         },
         "mode": "markers",
         "name": "",
         "orientation": "v",
         "showlegend": false,
         "type": "scatter",
         "x": [
          23000,
          5200,
          4900,
          5800,
          40000,
          35000,
          43000,
          7000,
          700000,
          29000,
          65000,
          72000,
          7400,
          270000,
          15000,
          190000,
          140000,
          200000,
          30000,
          200000,
          71000,
          290000,
          1400000,
          78000,
          90000,
          150000,
          110000,
          230000,
          35000,
          140000,
          160000,
          230000,
          300000,
          160000,
          290000,
          280000,
          130000,
          540000,
          56000,
          97000,
          140000,
          47000,
          50000,
          54000,
          66000,
          280000,
          130000,
          22000,
          170000,
          85000,
          240000,
          99000,
          1100000,
          80000,
          440000,
          76000,
          120000,
          53000,
          120000,
          94000,
          460000,
          100000,
          200000,
          68000,
          170000,
          210000,
          100000,
          54000,
          46000,
          1100000,
          160000,
          270000,
          190000,
          51000,
          290000,
          110000,
          34000,
          40000,
          240000,
          45000,
          89000,
          71000,
          52000,
          130000,
          350000,
          230000,
          96000,
          64000,
          61000,
          370000,
          440000,
          390000,
          200000,
          32000,
          170000,
          200000,
          54000,
          200000,
          140000,
          48000,
          190000,
          230000,
          120000,
          160000,
          160000,
          160000,
          320000,
          140000,
          57000,
          300000,
          160000,
          340000,
          220000,
          320000,
          420000,
          180000,
          180000,
          440000,
          260000,
          100000,
          170000,
          150000,
          240000,
          60000,
          440000,
          330000,
          190000,
          88000,
          50000,
          260000,
          36000,
          820000,
          490000,
          370000,
          680000,
          110000,
          480000,
          280000,
          130000,
          790000,
          38000,
          200000,
          36000,
          36000,
          140000,
          43000,
          55000,
          67000,
          250000,
          180000,
          220000,
          43000,
          190000,
          62000,
          400000,
          390000,
          120000,
          120000
         ],
         "xaxis": "x",
         "y": [
          1294,
          1098,
          887,
          1319,
          2569,
          183,
          3048,
          845,
          8654,
          373,
          2640,
          500,
          621,
          452,
          413,
          1605,
          2063,
          1876,
          367,
          1368,
          939,
          4109,
          2035,
          352,
          151,
          1739,
          1797,
          108,
          166,
          234,
          137,
          481,
          1292,
          4097,
          290,
          1989,
          293,
          72,
          268,
          617,
          6063,
          196,
          938,
          735,
          174,
          1128,
          82,
          151,
          3742,
          4694,
          2408,
          287,
          864,
          316,
          1330,
          84,
          419,
          323,
          5812,
          108,
          142,
          4276,
          156,
          96,
          136,
          3288,
          989,
          89,
          171,
          9363,
          1058,
          5461,
          46480,
          210,
          1716,
          929,
          223,
          69,
          1021,
          48,
          83,
          41,
          221,
          150,
          567,
          2419,
          113,
          5118,
          240,
          3158,
          17716,
          5587,
          598,
          38,
          409,
          1529,
          18,
          273,
          550,
          199,
          1058,
          839,
          135,
          1934,
          408,
          119,
          1108,
          70,
          61,
          221,
          186,
          23320,
          1502,
          4107,
          1893,
          750,
          369,
          4358,
          834,
          232,
          139,
          93,
          466,
          29,
          4721,
          11364,
          4010,
          172,
          349,
          5623,
          438,
          6764,
          7198,
          1166,
          3694,
          148,
          4480,
          314,
          131,
          14777,
          142,
          1107,
          25,
          430,
          69,
          140,
          174,
          492,
          2342,
          2767,
          701,
          261,
          1364,
          410,
          744,
          2764,
          581,
          690
         ],
         "yaxis": "y"
        },
        {
         "hovertemplate": "<b>OLS trendline</b><br>Popularity = 0.00654739 * Word Count + 762.482<br>R<sup>2</sup>=0.082536<br><br>Word Count=%{x}<br>Popularity=%{y} <b>(trend)</b><extra></extra>",
         "legendgroup": "",
         "marker": {
          "color": "#636efa",
          "symbol": "circle"
         },
         "mode": "lines",
         "name": "",
         "showlegend": false,
         "type": "scatter",
         "x": [
          4900,
          5200,
          5800,
          7000,
          7400,
          15000,
          22000,
          23000,
          29000,
          30000,
          32000,
          34000,
          35000,
          35000,
          36000,
          36000,
          36000,
          38000,
          40000,
          40000,
          43000,
          43000,
          43000,
          45000,
          46000,
          47000,
          48000,
          50000,
          50000,
          51000,
          52000,
          53000,
          54000,
          54000,
          54000,
          55000,
          56000,
          57000,
          60000,
          61000,
          62000,
          64000,
          65000,
          66000,
          67000,
          68000,
          71000,
          71000,
          72000,
          76000,
          78000,
          80000,
          85000,
          88000,
          89000,
          90000,
          94000,
          96000,
          97000,
          99000,
          100000,
          100000,
          100000,
          110000,
          110000,
          110000,
          120000,
          120000,
          120000,
          120000,
          120000,
          130000,
          130000,
          130000,
          130000,
          140000,
          140000,
          140000,
          140000,
          140000,
          140000,
          150000,
          150000,
          160000,
          160000,
          160000,
          160000,
          160000,
          160000,
          160000,
          170000,
          170000,
          170000,
          170000,
          180000,
          180000,
          180000,
          190000,
          190000,
          190000,
          190000,
          190000,
          200000,
          200000,
          200000,
          200000,
          200000,
          200000,
          200000,
          210000,
          220000,
          220000,
          230000,
          230000,
          230000,
          230000,
          240000,
          240000,
          240000,
          250000,
          260000,
          260000,
          270000,
          270000,
          280000,
          280000,
          280000,
          290000,
          290000,
          290000,
          300000,
          300000,
          320000,
          320000,
          330000,
          340000,
          350000,
          370000,
          370000,
          390000,
          390000,
          400000,
          420000,
          440000,
          440000,
          440000,
          440000,
          460000,
          480000,
          490000,
          540000,
          680000,
          700000,
          790000,
          820000,
          1100000,
          1100000,
          1400000
         ],
         "xaxis": "x",
         "y": [
          794.5641315881758,
          796.528349047325,
          800.4567839656237,
          808.313653802221,
          810.9326104144201,
          860.6927860462029,
          906.524526759687,
          913.0719182901846,
          952.356267473171,
          958.9036590036687,
          971.9984420646642,
          985.0932251256597,
          991.6406166561574,
          991.6406166561574,
          998.1880081866551,
          998.1880081866551,
          998.1880081866551,
          1011.2827912476506,
          1024.377574308646,
          1024.377574308646,
          1044.0197489001393,
          1044.0197489001393,
          1044.0197489001393,
          1057.1145319611346,
          1063.6619234916325,
          1070.20931502213,
          1076.7567065526277,
          1089.8514896136235,
          1089.8514896136235,
          1096.398881144121,
          1102.9462726746187,
          1109.4936642051166,
          1116.0410557356142,
          1116.0410557356142,
          1116.0410557356142,
          1122.5884472661119,
          1129.1358387966097,
          1135.6832303271074,
          1155.3254049186007,
          1161.8727964490984,
          1168.420187979596,
          1181.5149710405915,
          1188.0623625710894,
          1194.609754101587,
          1201.1571456320848,
          1207.7045371625825,
          1227.3467117540756,
          1227.3467117540756,
          1233.8941032845732,
          1260.0836694065642,
          1273.1784524675597,
          1286.2732355285552,
          1319.0101931810439,
          1338.6523677725372,
          1345.1997593030346,
          1351.7471508335325,
          1377.9367169555235,
          1391.0315000165187,
          1397.5788915470166,
          1410.673674608012,
          1417.2210661385097,
          1417.2210661385097,
          1417.2210661385097,
          1482.694981443487,
          1482.694981443487,
          1482.694981443487,
          1548.1688967484642,
          1548.1688967484642,
          1548.1688967484642,
          1548.1688967484642,
          1548.1688967484642,
          1613.6428120534417,
          1613.6428120534417,
          1613.6428120534417,
          1613.6428120534417,
          1679.116727358419,
          1679.116727358419,
          1679.116727358419,
          1679.116727358419,
          1679.116727358419,
          1679.116727358419,
          1744.5906426633965,
          1744.5906426633965,
          1810.0645579683737,
          1810.0645579683737,
          1810.0645579683737,
          1810.0645579683737,
          1810.0645579683737,
          1810.0645579683737,
          1810.0645579683737,
          1875.538473273351,
          1875.538473273351,
          1875.538473273351,
          1875.538473273351,
          1941.0123885783282,
          1941.0123885783282,
          1941.0123885783282,
          2006.4863038833055,
          2006.4863038833055,
          2006.4863038833055,
          2006.4863038833055,
          2006.4863038833055,
          2071.9602191882827,
          2071.9602191882827,
          2071.9602191882827,
          2071.9602191882827,
          2071.9602191882827,
          2071.9602191882827,
          2071.9602191882827,
          2137.43413449326,
          2202.9080497982372,
          2202.9080497982372,
          2268.3819651032145,
          2268.3819651032145,
          2268.3819651032145,
          2268.3819651032145,
          2333.8558804081918,
          2333.8558804081918,
          2333.8558804081918,
          2399.3297957131695,
          2464.8037110181467,
          2464.8037110181467,
          2530.277626323124,
          2530.277626323124,
          2595.751541628101,
          2595.751541628101,
          2595.751541628101,
          2661.2254569330785,
          2661.2254569330785,
          2661.2254569330785,
          2726.6993722380557,
          2726.6993722380557,
          2857.6472028480102,
          2857.6472028480102,
          2923.1211181529875,
          2988.5950334579647,
          3054.068948762942,
          3185.0167793728965,
          3185.0167793728965,
          3315.9646099828515,
          3315.9646099828515,
          3381.4385252878287,
          3512.3863558977832,
          3643.3341865077377,
          3643.3341865077377,
          3643.3341865077377,
          3643.3341865077377,
          3774.2820171176922,
          3905.2298477276468,
          3970.703763032624,
          4298.073339557511,
          5214.708153827193,
          5345.655984437148,
          5934.921222181943,
          6131.342968096876,
          7964.61259663624,
          7964.61259663624,
          9928.830055785558
         ],
         "yaxis": "y"
        }
       ],
       "layout": {
        "autosize": true,
        "legend": {
         "tracegroupgap": 0
        },
        "margin": {
         "t": 60
        },
        "template": {
         "data": {
          "bar": [
           {
            "error_x": {
             "color": "#2a3f5f"
            },
            "error_y": {
             "color": "#2a3f5f"
            },
            "marker": {
             "line": {
              "color": "#E5ECF6",
              "width": 0.5
             }
            },
            "type": "bar"
           }
          ],
          "barpolar": [
           {
            "marker": {
             "line": {
              "color": "#E5ECF6",
              "width": 0.5
             }
            },
            "type": "barpolar"
           }
          ],
          "carpet": [
           {
            "aaxis": {
             "endlinecolor": "#2a3f5f",
             "gridcolor": "white",
             "linecolor": "white",
             "minorgridcolor": "white",
             "startlinecolor": "#2a3f5f"
            },
            "baxis": {
             "endlinecolor": "#2a3f5f",
             "gridcolor": "white",
             "linecolor": "white",
             "minorgridcolor": "white",
             "startlinecolor": "#2a3f5f"
            },
            "type": "carpet"
           }
          ],
          "choropleth": [
           {
            "colorbar": {
             "outlinewidth": 0,
             "ticks": ""
            },
            "type": "choropleth"
           }
          ],
          "contour": [
           {
            "colorbar": {
             "outlinewidth": 0,
             "ticks": ""
            },
            "colorscale": [
             [
              0,
              "#0d0887"
             ],
             [
              0.1111111111111111,
              "#46039f"
             ],
             [
              0.2222222222222222,
              "#7201a8"
             ],
             [
              0.3333333333333333,
              "#9c179e"
             ],
             [
              0.4444444444444444,
              "#bd3786"
             ],
             [
              0.5555555555555556,
              "#d8576b"
             ],
             [
              0.6666666666666666,
              "#ed7953"
             ],
             [
              0.7777777777777778,
              "#fb9f3a"
             ],
             [
              0.8888888888888888,
              "#fdca26"
             ],
             [
              1,
              "#f0f921"
             ]
            ],
            "type": "contour"
           }
          ],
          "contourcarpet": [
           {
            "colorbar": {
             "outlinewidth": 0,
             "ticks": ""
            },
            "type": "contourcarpet"
           }
          ],
          "heatmap": [
           {
            "colorbar": {
             "outlinewidth": 0,
             "ticks": ""
            },
            "colorscale": [
             [
              0,
              "#0d0887"
             ],
             [
              0.1111111111111111,
              "#46039f"
             ],
             [
              0.2222222222222222,
              "#7201a8"
             ],
             [
              0.3333333333333333,
              "#9c179e"
             ],
             [
              0.4444444444444444,
              "#bd3786"
             ],
             [
              0.5555555555555556,
              "#d8576b"
             ],
             [
              0.6666666666666666,
              "#ed7953"
             ],
             [
              0.7777777777777778,
              "#fb9f3a"
             ],
             [
              0.8888888888888888,
              "#fdca26"
             ],
             [
              1,
              "#f0f921"
             ]
            ],
            "type": "heatmap"
           }
          ],
          "heatmapgl": [
           {
            "colorbar": {
             "outlinewidth": 0,
             "ticks": ""
            },
            "colorscale": [
             [
              0,
              "#0d0887"
             ],
             [
              0.1111111111111111,
              "#46039f"
             ],
             [
              0.2222222222222222,
              "#7201a8"
             ],
             [
              0.3333333333333333,
              "#9c179e"
             ],
             [
              0.4444444444444444,
              "#bd3786"
             ],
             [
              0.5555555555555556,
              "#d8576b"
             ],
             [
              0.6666666666666666,
              "#ed7953"
             ],
             [
              0.7777777777777778,
              "#fb9f3a"
             ],
             [
              0.8888888888888888,
              "#fdca26"
             ],
             [
              1,
              "#f0f921"
             ]
            ],
            "type": "heatmapgl"
           }
          ],
          "histogram": [
           {
            "marker": {
             "colorbar": {
              "outlinewidth": 0,
              "ticks": ""
             }
            },
            "type": "histogram"
           }
          ],
          "histogram2d": [
           {
            "colorbar": {
             "outlinewidth": 0,
             "ticks": ""
            },
            "colorscale": [
             [
              0,
              "#0d0887"
             ],
             [
              0.1111111111111111,
              "#46039f"
             ],
             [
              0.2222222222222222,
              "#7201a8"
             ],
             [
              0.3333333333333333,
              "#9c179e"
             ],
             [
              0.4444444444444444,
              "#bd3786"
             ],
             [
              0.5555555555555556,
              "#d8576b"
             ],
             [
              0.6666666666666666,
              "#ed7953"
             ],
             [
              0.7777777777777778,
              "#fb9f3a"
             ],
             [
              0.8888888888888888,
              "#fdca26"
             ],
             [
              1,
              "#f0f921"
             ]
            ],
            "type": "histogram2d"
           }
          ],
          "histogram2dcontour": [
           {
            "colorbar": {
             "outlinewidth": 0,
             "ticks": ""
            },
            "colorscale": [
             [
              0,
              "#0d0887"
             ],
             [
              0.1111111111111111,
              "#46039f"
             ],
             [
              0.2222222222222222,
              "#7201a8"
             ],
             [
              0.3333333333333333,
              "#9c179e"
             ],
             [
              0.4444444444444444,
              "#bd3786"
             ],
             [
              0.5555555555555556,
              "#d8576b"
             ],
             [
              0.6666666666666666,
              "#ed7953"
             ],
             [
              0.7777777777777778,
              "#fb9f3a"
             ],
             [
              0.8888888888888888,
              "#fdca26"
             ],
             [
              1,
              "#f0f921"
             ]
            ],
            "type": "histogram2dcontour"
           }
          ],
          "mesh3d": [
           {
            "colorbar": {
             "outlinewidth": 0,
             "ticks": ""
            },
            "type": "mesh3d"
           }
          ],
          "parcoords": [
           {
            "line": {
             "colorbar": {
              "outlinewidth": 0,
              "ticks": ""
             }
            },
            "type": "parcoords"
           }
          ],
          "pie": [
           {
            "automargin": true,
            "type": "pie"
           }
          ],
          "scatter": [
           {
            "marker": {
             "colorbar": {
              "outlinewidth": 0,
              "ticks": ""
             }
            },
            "type": "scatter"
           }
          ],
          "scatter3d": [
           {
            "line": {
             "colorbar": {
              "outlinewidth": 0,
              "ticks": ""
             }
            },
            "marker": {
             "colorbar": {
              "outlinewidth": 0,
              "ticks": ""
             }
            },
            "type": "scatter3d"
           }
          ],
          "scattercarpet": [
           {
            "marker": {
             "colorbar": {
              "outlinewidth": 0,
              "ticks": ""
             }
            },
            "type": "scattercarpet"
           }
          ],
          "scattergeo": [
           {
            "marker": {
             "colorbar": {
              "outlinewidth": 0,
              "ticks": ""
             }
            },
            "type": "scattergeo"
           }
          ],
          "scattergl": [
           {
            "marker": {
             "colorbar": {
              "outlinewidth": 0,
              "ticks": ""
             }
            },
            "type": "scattergl"
           }
          ],
          "scattermapbox": [
           {
            "marker": {
             "colorbar": {
              "outlinewidth": 0,
              "ticks": ""
             }
            },
            "type": "scattermapbox"
           }
          ],
          "scatterpolar": [
           {
            "marker": {
             "colorbar": {
              "outlinewidth": 0,
              "ticks": ""
             }
            },
            "type": "scatterpolar"
           }
          ],
          "scatterpolargl": [
           {
            "marker": {
             "colorbar": {
              "outlinewidth": 0,
              "ticks": ""
             }
            },
            "type": "scatterpolargl"
           }
          ],
          "scatterternary": [
           {
            "marker": {
             "colorbar": {
              "outlinewidth": 0,
              "ticks": ""
             }
            },
            "type": "scatterternary"
           }
          ],
          "surface": [
           {
            "colorbar": {
             "outlinewidth": 0,
             "ticks": ""
            },
            "colorscale": [
             [
              0,
              "#0d0887"
             ],
             [
              0.1111111111111111,
              "#46039f"
             ],
             [
              0.2222222222222222,
              "#7201a8"
             ],
             [
              0.3333333333333333,
              "#9c179e"
             ],
             [
              0.4444444444444444,
              "#bd3786"
             ],
             [
              0.5555555555555556,
              "#d8576b"
             ],
             [
              0.6666666666666666,
              "#ed7953"
             ],
             [
              0.7777777777777778,
              "#fb9f3a"
             ],
             [
              0.8888888888888888,
              "#fdca26"
             ],
             [
              1,
              "#f0f921"
             ]
            ],
            "type": "surface"
           }
          ],
          "table": [
           {
            "cells": {
             "fill": {
              "color": "#EBF0F8"
             },
             "line": {
              "color": "white"
             }
            },
            "header": {
             "fill": {
              "color": "#C8D4E3"
             },
             "line": {
              "color": "white"
             }
            },
            "type": "table"
           }
          ]
         },
         "layout": {
          "annotationdefaults": {
           "arrowcolor": "#2a3f5f",
           "arrowhead": 0,
           "arrowwidth": 1
          },
          "autotypenumbers": "strict",
          "coloraxis": {
           "colorbar": {
            "outlinewidth": 0,
            "ticks": ""
           }
          },
          "colorscale": {
           "diverging": [
            [
             0,
             "#8e0152"
            ],
            [
             0.1,
             "#c51b7d"
            ],
            [
             0.2,
             "#de77ae"
            ],
            [
             0.3,
             "#f1b6da"
            ],
            [
             0.4,
             "#fde0ef"
            ],
            [
             0.5,
             "#f7f7f7"
            ],
            [
             0.6,
             "#e6f5d0"
            ],
            [
             0.7,
             "#b8e186"
            ],
            [
             0.8,
             "#7fbc41"
            ],
            [
             0.9,
             "#4d9221"
            ],
            [
             1,
             "#276419"
            ]
           ],
           "sequential": [
            [
             0,
             "#0d0887"
            ],
            [
             0.1111111111111111,
             "#46039f"
            ],
            [
             0.2222222222222222,
             "#7201a8"
            ],
            [
             0.3333333333333333,
             "#9c179e"
            ],
            [
             0.4444444444444444,
             "#bd3786"
            ],
            [
             0.5555555555555556,
             "#d8576b"
            ],
            [
             0.6666666666666666,
             "#ed7953"
            ],
            [
             0.7777777777777778,
             "#fb9f3a"
            ],
            [
             0.8888888888888888,
             "#fdca26"
            ],
            [
             1,
             "#f0f921"
            ]
           ],
           "sequentialminus": [
            [
             0,
             "#0d0887"
            ],
            [
             0.1111111111111111,
             "#46039f"
            ],
            [
             0.2222222222222222,
             "#7201a8"
            ],
            [
             0.3333333333333333,
             "#9c179e"
            ],
            [
             0.4444444444444444,
             "#bd3786"
            ],
            [
             0.5555555555555556,
             "#d8576b"
            ],
            [
             0.6666666666666666,
             "#ed7953"
            ],
            [
             0.7777777777777778,
             "#fb9f3a"
            ],
            [
             0.8888888888888888,
             "#fdca26"
            ],
            [
             1,
             "#f0f921"
            ]
           ]
          },
          "colorway": [
           "#636efa",
           "#EF553B",
           "#00cc96",
           "#ab63fa",
           "#FFA15A",
           "#19d3f3",
           "#FF6692",
           "#B6E880",
           "#FF97FF",
           "#FECB52"
          ],
          "font": {
           "color": "#2a3f5f"
          },
          "geo": {
           "bgcolor": "white",
           "lakecolor": "white",
           "landcolor": "#E5ECF6",
           "showlakes": true,
           "showland": true,
           "subunitcolor": "white"
          },
          "hoverlabel": {
           "align": "left"
          },
          "hovermode": "closest",
          "mapbox": {
           "style": "light"
          },
          "paper_bgcolor": "white",
          "plot_bgcolor": "#E5ECF6",
          "polar": {
           "angularaxis": {
            "gridcolor": "white",
            "linecolor": "white",
            "ticks": ""
           },
           "bgcolor": "#E5ECF6",
           "radialaxis": {
            "gridcolor": "white",
            "linecolor": "white",
            "ticks": ""
           }
          },
          "scene": {
           "xaxis": {
            "backgroundcolor": "#E5ECF6",
            "gridcolor": "white",
            "gridwidth": 2,
            "linecolor": "white",
            "showbackground": true,
            "ticks": "",
            "zerolinecolor": "white"
           },
           "yaxis": {
            "backgroundcolor": "#E5ECF6",
            "gridcolor": "white",
            "gridwidth": 2,
            "linecolor": "white",
            "showbackground": true,
            "ticks": "",
            "zerolinecolor": "white"
           },
           "zaxis": {
            "backgroundcolor": "#E5ECF6",
            "gridcolor": "white",
            "gridwidth": 2,
            "linecolor": "white",
            "showbackground": true,
            "ticks": "",
            "zerolinecolor": "white"
           }
          },
          "shapedefaults": {
           "line": {
            "color": "#2a3f5f"
           }
          },
          "ternary": {
           "aaxis": {
            "gridcolor": "white",
            "linecolor": "white",
            "ticks": ""
           },
           "baxis": {
            "gridcolor": "white",
            "linecolor": "white",
            "ticks": ""
           },
           "bgcolor": "#E5ECF6",
           "caxis": {
            "gridcolor": "white",
            "linecolor": "white",
            "ticks": ""
           }
          },
          "title": {
           "x": 0.05
          },
          "xaxis": {
           "automargin": true,
           "gridcolor": "white",
           "linecolor": "white",
           "ticks": "",
           "title": {
            "standoff": 15
           },
           "zerolinecolor": "white",
           "zerolinewidth": 2
          },
          "yaxis": {
           "automargin": true,
           "gridcolor": "white",
           "linecolor": "white",
           "ticks": "",
           "title": {
            "standoff": 15
           },
           "zerolinecolor": "white",
           "zerolinewidth": 2
          }
         }
        },
        "xaxis": {
         "anchor": "y",
         "autorange": true,
         "domain": [
          0,
          1
         ],
         "range": [
          -79575.47961630695,
          1484475.479616307
         ],
         "title": {
          "text": "Word Count"
         },
         "type": "linear"
        },
        "yaxis": {
         "anchor": "x",
         "autorange": true,
         "domain": [
          0,
          1
         ],
         "range": [
          -3276.267034990792,
          49774.26703499079
         ],
         "title": {
          "text": "Popularity"
         },
         "type": "linear"
        }
       }
      },
      "image/png": "[encoded data removed]",
      "text/html": [
       "<div>                            <div id=\"4a74eea7-2fbb-4a54-be08-0484fd03d752\" class=\"plotly-graph-div\" style=\"height:525px; width:100%;\"></div>            <script type=\"text/javascript\">                require([\"plotly\"], function(Plotly) {                    window.PLOTLYENV=window.PLOTLYENV || {};                                    if (document.getElementById(\"4a74eea7-2fbb-4a54-be08-0484fd03d752\")) {                    Plotly.newPlot(                        \"4a74eea7-2fbb-4a54-be08-0484fd03d752\",                        [{\"customdata\": [[\"Popcorn, Soda\\ufffdMurder?\"], [\"The Nightmare Maze\"], [\"What Happened Last Night?\"], [\"Paranoia\"], [\"Imprisoned\"], [\"Land of Three Classes\"], [\"Marine Raider\"], [\"Dilemma\"], [\"Zombie Exodus\"], [\"Zebulon\"], [\"Mobile Armored Marine: Mission to Far Hope\"], [\"The Race\"], [\"Dead Already?\"], [\"Apex Patrol\"], [\"The Sons of the Cherry\"], [\"Way Walkers: University\"], [\"Life of a Wizard\"], [\"Sabres of Infinity\"], [\"Paradox Factor\"], [\"Way Walkers: University 2\"], [\"Burn(t)\"], [\"UnNatural\"], [\"Tin Star\"], [\"Trial of the Demon Hunter\"], [\"Planetary Quarantine\"], [\"Life of a Mobster\"], [\"Fatehaven\"], [\"Sword of the Elements\"], [\"The Gangs of Old Camp\"], [\"Divided We Fall\"], [\"The Ascot\"], [\"Somme Trench\"], [\"Lords of Aswisk - First of His Blood\"], [\"The Lost Heir: The Fall of Daria\"], [\"Seven Bullets\"], [\"Zombien\"], [\"The Volunteer Firefighter\"], [\"The Shadow Horror\"], [\"No Proper Thief\"], [\"Double/Cross\"], [\"Samurai of Hyuga\"], [\"Dancing with Demons\"], [\"So, You\\u2019re Possessed!\"], [\"Founders Saga: The Culling\"], [\"Attack of the Clockwork Army\"], [\"A Study in Steampunk: Choice by Gaslight\"], [\"Captive of Fortune\"], [\"Factions: Raids of the Divided\"], [\"Community College Hero\"], [\"Vampire House\"], [\"Lost Heir 2: Forging a Kingdom\"], [\"Wizardy Level C\"], [\"Magikiras\"], [\"Scarlet Sails\"], [\"Guns of Infinity\"], [\"First Year Demons\"], [\"Best of Us\"], [\"Gambling With Eternity\"], [\"Doomsday on Demand\"], [\"Starship Adventures\"], [\"The Iron Destinies\"], [\"Swamp Castle\"], [\"The 3Games\"], [\"Academy of Disaster\"], [\"Machinations: Fog of War\"], [\"Samurai of Hyuga Book 2\"], [\"Elemental Saga: The Awakening\"], [\"Tomb of the Khan\"], [\"Twin Flames\"], [\"Zombie Exodus: Safe Haven\"], [\"Tokyo Wizard\"], [\"Evertree Inn\"], [\"The Great Tournament\"], [\"Spacing Out\"], [\"The Lost Heir 3: Demon War\"], [\"Paradigm City\"], [\"The Daily Blackmail\"], [\"Treasure of the Forbidden City\"], [\"My Day off Work\"], [\"The Spy and the Labyrinth\"], [\"Diamant Rose\"], [\"The Dryad\\u2019s Riddle\"], [\"Knight of the Fellowship\"], [\"Lost in the Pages\"], [\"Highlands, Deep Waters\"], [\"Samurai of Hyuga Book 3\"], [\"Foundation of Nightmares\"], [\"The Aether: Life as a God\"], [\"Comrade or Czar\"], [\"The Great Tournament 2\"], [\"Wayhaven Chronicles: Book One\"], [\"Fallen Hero: Rebirth\"], [\"Highway Wars\"], [\"NE by NW Oz\"], [\"The Kepler Colony: Evacuation\"], [\"Community College Hero: Knowledge is Power\"], [\"A Mummy is Not an Antique\"], [\"The Courting of Miss Bennet\"], [\"Doomsday on Demand 2\"], [\"The Harbinger\\u2019s Head\"], [\"The Last Wizard\"], [\"The Magician\\u2019s Burden\"], [\"The Haze Under Windbrooke\"], [\"The Grim and I\"], [\"The Twelve Trials\"], [\"Nuclear Powered Toaster\"], [\"Love at Elevation\"], [\"Missing Wings\"], [\"The Slayer of Evil\"], [\"The Butler Did It\"], [\"Critical Mass: The Bridge\"], [\"Life of a Mercenary\"], [\"Gladiator: Road to the Colosseum\"], [\"Keeper of the Sun and Moon\"], [\"Dragon Racer\"], [\"Tudor Intrigue\"], [\"The Paths to Greatness\"], [\"Sordwin\"], [\"Totem Force\"], [\"The Saga of Oedipus Rex\"], [\"Scratch\"], [\"Who Was the Real Robin Hood?\"], [\"A Sensei\\u2019s Story\"], [\"One Minute Mysteries\"], [\"Samurai of Hyuga Book 4\"], [\"Hero or Villain: Genesis\"], [\"The Parenting Simulator\"], [\"Death at the Rectory\"], [\"Moonrise\"], [\"War of the Gods\"], [\"The Oldest Dream\"], [\"Breach: The Archangel Job\"], [\"The War for the West\"], [\"Street Jam: The Rise\"], [\"The Shadow Society\"], [\"Critical Mass: The Black Vein\"], [\"The Soul Stone War\"], [\"The Aegis Saga*\"], [\"Kidnapped Prom Queen\"], [\"Wayhaven Chronicles: Book Two*\"], [\"AI-Aftermath\"], [\"War for Magincia\"], [\"Trees Don\\u2019t Tell\"], [\"President Disaster\"], [\"The Floating City\"], [\"Macabre Mansion\"], [\"A Sorcerer\\u2019s Story\"], [\"Balance of Superpower\"], [\"Hero or Villain: Battle Royale*\"], [\"Demon: Recollect\"], [\"Too Different\"], [\"Score of a Lifetime\"], [\"After the Storm\"], [\"The Brothers\\u2019 War\"], [\"Relics of the Lost Age\"], [\"Keeper of the Day and Night\"], [\"The Mage\\u2019s Adventures\"], [\"War of 2022\"]], \"hovertemplate\": \"Word Count=%{x}<br>Popularity=%{y}<br>HG Story Title=%{customdata[0]}<extra></extra>\", \"legendgroup\": \"\", \"marker\": {\"color\": \"#636efa\", \"symbol\": \"circle\"}, \"mode\": \"markers\", \"name\": \"\", \"orientation\": \"v\", \"showlegend\": false, \"type\": \"scatter\", \"x\": [23000, 5200, 4900, 5800, 40000, 35000, 43000, 7000, 700000, 29000, 65000, 72000, 7400, 270000, 15000, 190000, 140000, 200000, 30000, 200000, 71000, 290000, 1400000, 78000, 90000, 150000, 110000, 230000, 35000, 140000, 160000, 230000, 300000, 160000, 290000, 280000, 130000, 540000, 56000, 97000, 140000, 47000, 50000, 54000, 66000, 280000, 130000, 22000, 170000, 85000, 240000, 99000, 1100000, 80000, 440000, 76000, 120000, 53000, 120000, 94000, 460000, 100000, 200000, 68000, 170000, 210000, 100000, 54000, 46000, 1100000, 160000, 270000, 190000, 51000, 290000, 110000, 34000, 40000, 240000, 45000, 89000, 71000, 52000, 130000, 350000, 230000, 96000, 64000, 61000, 370000, 440000, 390000, 200000, 32000, 170000, 200000, 54000, 200000, 140000, 48000, 190000, 230000, 120000, 160000, 160000, 160000, 320000, 140000, 57000, 300000, 160000, 340000, 220000, 320000, 420000, 180000, 180000, 440000, 260000, 100000, 170000, 150000, 240000, 60000, 440000, 330000, 190000, 88000, 50000, 260000, 36000, 820000, 490000, 370000, 680000, 110000, 480000, 280000, 130000, 790000, 38000, 200000, 36000, 36000, 140000, 43000, 55000, 67000, 250000, 180000, 220000, 43000, 190000, 62000, 400000, 390000, 120000, 120000], \"xaxis\": \"x\", \"y\": [1294.0, 1098.0, 887.0, 1319.0, 2569.0, 183.0, 3048.0, 845.0, 8654.0, 373.0, 2640.0, 500.0, 621.0, 452.0, 413.0, 1605.0, 2063.0, 1876.0, 367.0, 1368.0, 939.0, 4109.0, 2035.0, 352.0, 151.0, 1739.0, 1797.0, 108.0, 166.0, 234.0, 137.0, 481.0, 1292.0, 4097.0, 290.0, 1989.0, 293.0, 72.0, 268.0, 617.0, 6063.0, 196.0, 938.0, 735.0, 174.0, 1128.0, 82.0, 151.0, 3742.0, 4694.0, 2408.0, 287.0, 864.0, 316.0, 1330.0, 84.0, 419.0, 323.0, 5812.0, 108.0, 142.0, 4276.0, 156.0, 96.0, 136.0, 3288.0, 989.0, 89.0, 171.0, 9363.0, 1058.0, 5461.0, 46480.0, 210.0, 1716.0, 929.0, 223.0, 69.0, 1021.0, 48.0, 83.0, 41.0, 221.0, 150.0, 567.0, 2419.0, 113.0, 5118.0, 240.0, 3158.0, 17716.0, 5587.0, 598.0, 38.0, 409.0, 1529.0, 18.0, 273.0, 550.0, 199.0, 1058.0, 839.0, 135.0, 1934.0, 408.0, 119.0, 1108.0, 70.0, 61.0, 221.0, 186.0, 23320.0, 1502.0, 4107.0, 1893.0, 750.0, 369.0, 4358.0, 834.0, 232.0, 139.0, 93.0, 466.0, 29.0, 4721.0, 11364.0, 4010.0, 172.0, 349.0, 5623.0, 438.0, 6764.0, 7198.0, 1166.0, 3694.0, 148.0, 4480.0, 314.0, 131.0, 14777.0, 142.0, 1107.0, 25.0, 430.0, 69.0, 140.0, 174.0, 492.0, 2342.0, 2767.0, 701.0, 261.0, 1364.0, 410.0, 744.0, 2764.0, 581.0, 690.0], \"yaxis\": \"y\"}, {\"hovertemplate\": \"<b>OLS trendline</b><br>Popularity = 0.00654739 * Word Count + 762.482<br>R<sup>2</sup>=0.082536<br><br>Word Count=%{x}<br>Popularity=%{y} <b>(trend)</b><extra></extra>\", \"legendgroup\": \"\", \"marker\": {\"color\": \"#636efa\", \"symbol\": \"circle\"}, \"mode\": \"lines\", \"name\": \"\", \"showlegend\": false, \"type\": \"scatter\", \"x\": [4900, 5200, 5800, 7000, 7400, 15000, 22000, 23000, 29000, 30000, 32000, 34000, 35000, 35000, 36000, 36000, 36000, 38000, 40000, 40000, 43000, 43000, 43000, 45000, 46000, 47000, 48000, 50000, 50000, 51000, 52000, 53000, 54000, 54000, 54000, 55000, 56000, 57000, 60000, 61000, 62000, 64000, 65000, 66000, 67000, 68000, 71000, 71000, 72000, 76000, 78000, 80000, 85000, 88000, 89000, 90000, 94000, 96000, 97000, 99000, 100000, 100000, 100000, 110000, 110000, 110000, 120000, 120000, 120000, 120000, 120000, 130000, 130000, 130000, 130000, 140000, 140000, 140000, 140000, 140000, 140000, 150000, 150000, 160000, 160000, 160000, 160000, 160000, 160000, 160000, 170000, 170000, 170000, 170000, 180000, 180000, 180000, 190000, 190000, 190000, 190000, 190000, 200000, 200000, 200000, 200000, 200000, 200000, 200000, 210000, 220000, 220000, 230000, 230000, 230000, 230000, 240000, 240000, 240000, 250000, 260000, 260000, 270000, 270000, 280000, 280000, 280000, 290000, 290000, 290000, 300000, 300000, 320000, 320000, 330000, 340000, 350000, 370000, 370000, 390000, 390000, 400000, 420000, 440000, 440000, 440000, 440000, 460000, 480000, 490000, 540000, 680000, 700000, 790000, 820000, 1100000, 1100000, 1400000], \"xaxis\": \"x\", \"y\": [794.5641315881758, 796.528349047325, 800.4567839656237, 808.313653802221, 810.9326104144201, 860.6927860462029, 906.524526759687, 913.0719182901846, 952.356267473171, 958.9036590036687, 971.9984420646642, 985.0932251256597, 991.6406166561574, 991.6406166561574, 998.1880081866551, 998.1880081866551, 998.1880081866551, 1011.2827912476506, 1024.377574308646, 1024.377574308646, 1044.0197489001393, 1044.0197489001393, 1044.0197489001393, 1057.1145319611346, 1063.6619234916325, 1070.20931502213, 1076.7567065526277, 1089.8514896136235, 1089.8514896136235, 1096.398881144121, 1102.9462726746187, 1109.4936642051166, 1116.0410557356142, 1116.0410557356142, 1116.0410557356142, 1122.5884472661119, 1129.1358387966097, 1135.6832303271074, 1155.3254049186007, 1161.8727964490984, 1168.420187979596, 1181.5149710405915, 1188.0623625710894, 1194.609754101587, 1201.1571456320848, 1207.7045371625825, 1227.3467117540756, 1227.3467117540756, 1233.8941032845732, 1260.0836694065642, 1273.1784524675597, 1286.2732355285552, 1319.0101931810439, 1338.6523677725372, 1345.1997593030346, 1351.7471508335325, 1377.9367169555235, 1391.0315000165187, 1397.5788915470166, 1410.673674608012, 1417.2210661385097, 1417.2210661385097, 1417.2210661385097, 1482.694981443487, 1482.694981443487, 1482.694981443487, 1548.1688967484642, 1548.1688967484642, 1548.1688967484642, 1548.1688967484642, 1548.1688967484642, 1613.6428120534417, 1613.6428120534417, 1613.6428120534417, 1613.6428120534417, 1679.116727358419, 1679.116727358419, 1679.116727358419, 1679.116727358419, 1679.116727358419, 1679.116727358419, 1744.5906426633965, 1744.5906426633965, 1810.0645579683737, 1810.0645579683737, 1810.0645579683737, 1810.0645579683737, 1810.0645579683737, 1810.0645579683737, 1810.0645579683737, 1875.538473273351, 1875.538473273351, 1875.538473273351, 1875.538473273351, 1941.0123885783282, 1941.0123885783282, 1941.0123885783282, 2006.4863038833055, 2006.4863038833055, 2006.4863038833055, 2006.4863038833055, 2006.4863038833055, 2071.9602191882827, 2071.9602191882827, 2071.9602191882827, 2071.9602191882827, 2071.9602191882827, 2071.9602191882827, 2071.9602191882827, 2137.43413449326, 2202.9080497982372, 2202.9080497982372, 2268.3819651032145, 2268.3819651032145, 2268.3819651032145, 2268.3819651032145, 2333.8558804081918, 2333.8558804081918, 2333.8558804081918, 2399.3297957131695, 2464.8037110181467, 2464.8037110181467, 2530.277626323124, 2530.277626323124, 2595.751541628101, 2595.751541628101, 2595.751541628101, 2661.2254569330785, 2661.2254569330785, 2661.2254569330785, 2726.6993722380557, 2726.6993722380557, 2857.6472028480102, 2857.6472028480102, 2923.1211181529875, 2988.5950334579647, 3054.068948762942, 3185.0167793728965, 3185.0167793728965, 3315.9646099828515, 3315.9646099828515, 3381.4385252878287, 3512.3863558977832, 3643.3341865077377, 3643.3341865077377, 3643.3341865077377, 3643.3341865077377, 3774.2820171176922, 3905.2298477276468, 3970.703763032624, 4298.073339557511, 5214.708153827193, 5345.655984437148, 5934.921222181943, 6131.342968096876, 7964.61259663624, 7964.61259663624, 9928.830055785558], \"yaxis\": \"y\"}],                        {\"legend\": {\"tracegroupgap\": 0}, \"margin\": {\"t\": 60}, \"template\": {\"data\": {\"bar\": [{\"error_x\": {\"color\": \"#2a3f5f\"}, \"error_y\": {\"color\": \"#2a3f5f\"}, \"marker\": {\"line\": {\"color\": \"#E5ECF6\", \"width\": 0.5}}, \"type\": \"bar\"}], \"barpolar\": [{\"marker\": {\"line\": {\"color\": \"#E5ECF6\", \"width\": 0.5}}, \"type\": \"barpolar\"}], \"carpet\": [{\"aaxis\": {\"endlinecolor\": \"#2a3f5f\", \"gridcolor\": \"white\", \"linecolor\": \"white\", \"minorgridcolor\": \"white\", \"startlinecolor\": \"#2a3f5f\"}, \"baxis\": {\"endlinecolor\": \"#2a3f5f\", \"gridcolor\": \"white\", \"linecolor\": \"white\", \"minorgridcolor\": \"white\", \"startlinecolor\": \"#2a3f5f\"}, \"type\": \"carpet\"}], \"choropleth\": [{\"colorbar\": {\"outlinewidth\": 0, \"ticks\": \"\"}, \"type\": \"choropleth\"}], \"contour\": [{\"colorbar\": {\"outlinewidth\": 0, \"ticks\": \"\"}, \"colorscale\": [[0.0, \"#0d0887\"], [0.1111111111111111, \"#46039f\"], [0.2222222222222222, \"#7201a8\"], [0.3333333333333333, \"#9c179e\"], [0.4444444444444444, \"#bd3786\"], [0.5555555555555556, \"#d8576b\"], [0.6666666666666666, \"#ed7953\"], [0.7777777777777778, \"#fb9f3a\"], [0.8888888888888888, \"#fdca26\"], [1.0, \"#f0f921\"]], \"type\": \"contour\"}], \"contourcarpet\": [{\"colorbar\": {\"outlinewidth\": 0, \"ticks\": \"\"}, \"type\": \"contourcarpet\"}], \"heatmap\": [{\"colorbar\": {\"outlinewidth\": 0, \"ticks\": \"\"}, \"colorscale\": [[0.0, \"#0d0887\"], [0.1111111111111111, \"#46039f\"], [0.2222222222222222, \"#7201a8\"], [0.3333333333333333, \"#9c179e\"], [0.4444444444444444, \"#bd3786\"], [0.5555555555555556, \"#d8576b\"], [0.6666666666666666, \"#ed7953\"], [0.7777777777777778, \"#fb9f3a\"], [0.8888888888888888, \"#fdca26\"], [1.0, \"#f0f921\"]], \"type\": \"heatmap\"}], \"heatmapgl\": [{\"colorbar\": {\"outlinewidth\": 0, \"ticks\": \"\"}, \"colorscale\": [[0.0, \"#0d0887\"], [0.1111111111111111, \"#46039f\"], [0.2222222222222222, \"#7201a8\"], [0.3333333333333333, \"#9c179e\"], [0.4444444444444444, \"#bd3786\"], [0.5555555555555556, \"#d8576b\"], [0.6666666666666666, \"#ed7953\"], [0.7777777777777778, \"#fb9f3a\"], [0.8888888888888888, \"#fdca26\"], [1.0, \"#f0f921\"]], \"type\": \"heatmapgl\"}], \"histogram\": [{\"marker\": {\"colorbar\": {\"outlinewidth\": 0, \"ticks\": \"\"}}, \"type\": \"histogram\"}], \"histogram2d\": [{\"colorbar\": {\"outlinewidth\": 0, \"ticks\": \"\"}, \"colorscale\": [[0.0, \"#0d0887\"], [0.1111111111111111, \"#46039f\"], [0.2222222222222222, \"#7201a8\"], [0.3333333333333333, \"#9c179e\"], [0.4444444444444444, \"#bd3786\"], [0.5555555555555556, \"#d8576b\"], [0.6666666666666666, \"#ed7953\"], [0.7777777777777778, \"#fb9f3a\"], [0.8888888888888888, \"#fdca26\"], [1.0, \"#f0f921\"]], \"type\": \"histogram2d\"}], \"histogram2dcontour\": [{\"colorbar\": {\"outlinewidth\": 0, \"ticks\": \"\"}, \"colorscale\": [[0.0, \"#0d0887\"], [0.1111111111111111, \"#46039f\"], [0.2222222222222222, \"#7201a8\"], [0.3333333333333333, \"#9c179e\"], [0.4444444444444444, \"#bd3786\"], [0.5555555555555556, \"#d8576b\"], [0.6666666666666666, \"#ed7953\"], [0.7777777777777778, \"#fb9f3a\"], [0.8888888888888888, \"#fdca26\"], [1.0, \"#f0f921\"]], \"type\": \"histogram2dcontour\"}], \"mesh3d\": [{\"colorbar\": {\"outlinewidth\": 0, \"ticks\": \"\"}, \"type\": \"mesh3d\"}], \"parcoords\": [{\"line\": {\"colorbar\": {\"outlinewidth\": 0, \"ticks\": \"\"}}, \"type\": \"parcoords\"}], \"pie\": [{\"automargin\": true, \"type\": \"pie\"}], \"scatter\": [{\"marker\": {\"colorbar\": {\"outlinewidth\": 0, \"ticks\": \"\"}}, \"type\": \"scatter\"}], \"scatter3d\": [{\"line\": {\"colorbar\": {\"outlinewidth\": 0, \"ticks\": \"\"}}, \"marker\": {\"colorbar\": {\"outlinewidth\": 0, \"ticks\": \"\"}}, \"type\": \"scatter3d\"}], \"scattercarpet\": [{\"marker\": {\"colorbar\": {\"outlinewidth\": 0, \"ticks\": \"\"}}, \"type\": \"scattercarpet\"}], \"scattergeo\": [{\"marker\": {\"colorbar\": {\"outlinewidth\": 0, \"ticks\": \"\"}}, \"type\": \"scattergeo\"}], \"scattergl\": [{\"marker\": {\"colorbar\": {\"outlinewidth\": 0, \"ticks\": \"\"}}, \"type\": \"scattergl\"}], \"scattermapbox\": [{\"marker\": {\"colorbar\": {\"outlinewidth\": 0, \"ticks\": \"\"}}, \"type\": \"scattermapbox\"}], \"scatterpolar\": [{\"marker\": {\"colorbar\": {\"outlinewidth\": 0, \"ticks\": \"\"}}, \"type\": \"scatterpolar\"}], \"scatterpolargl\": [{\"marker\": {\"colorbar\": {\"outlinewidth\": 0, \"ticks\": \"\"}}, \"type\": \"scatterpolargl\"}], \"scatterternary\": [{\"marker\": {\"colorbar\": {\"outlinewidth\": 0, \"ticks\": \"\"}}, \"type\": \"scatterternary\"}], \"surface\": [{\"colorbar\": {\"outlinewidth\": 0, \"ticks\": \"\"}, \"colorscale\": [[0.0, \"#0d0887\"], [0.1111111111111111, \"#46039f\"], [0.2222222222222222, \"#7201a8\"], [0.3333333333333333, \"#9c179e\"], [0.4444444444444444, \"#bd3786\"], [0.5555555555555556, \"#d8576b\"], [0.6666666666666666, \"#ed7953\"], [0.7777777777777778, \"#fb9f3a\"], [0.8888888888888888, \"#fdca26\"], [1.0, \"#f0f921\"]], \"type\": \"surface\"}], \"table\": [{\"cells\": {\"fill\": {\"color\": \"#EBF0F8\"}, \"line\": {\"color\": \"white\"}}, \"header\": {\"fill\": {\"color\": \"#C8D4E3\"}, \"line\": {\"color\": \"white\"}}, \"type\": \"table\"}]}, \"layout\": {\"annotationdefaults\": {\"arrowcolor\": \"#2a3f5f\", \"arrowhead\": 0, \"arrowwidth\": 1}, \"autotypenumbers\": \"strict\", \"coloraxis\": {\"colorbar\": {\"outlinewidth\": 0, \"ticks\": \"\"}}, \"colorscale\": {\"diverging\": [[0, \"#8e0152\"], [0.1, \"#c51b7d\"], [0.2, \"#de77ae\"], [0.3, \"#f1b6da\"], [0.4, \"#fde0ef\"], [0.5, \"#f7f7f7\"], [0.6, \"#e6f5d0\"], [0.7, \"#b8e186\"], [0.8, \"#7fbc41\"], [0.9, \"#4d9221\"], [1, \"#276419\"]], \"sequential\": [[0.0, \"#0d0887\"], [0.1111111111111111, \"#46039f\"], [0.2222222222222222, \"#7201a8\"], [0.3333333333333333, \"#9c179e\"], [0.4444444444444444, \"#bd3786\"], [0.5555555555555556, \"#d8576b\"], [0.6666666666666666, \"#ed7953\"], [0.7777777777777778, \"#fb9f3a\"], [0.8888888888888888, \"#fdca26\"], [1.0, \"#f0f921\"]], \"sequentialminus\": [[0.0, \"#0d0887\"], [0.1111111111111111, \"#46039f\"], [0.2222222222222222, \"#7201a8\"], [0.3333333333333333, \"#9c179e\"], [0.4444444444444444, \"#bd3786\"], [0.5555555555555556, \"#d8576b\"], [0.6666666666666666, \"#ed7953\"], [0.7777777777777778, \"#fb9f3a\"], [0.8888888888888888, \"#fdca26\"], [1.0, \"#f0f921\"]]}, \"colorway\": [\"#636efa\", \"#EF553B\", \"#00cc96\", \"#ab63fa\", \"#FFA15A\", \"#19d3f3\", \"#FF6692\", \"#B6E880\", \"#FF97FF\", \"#FECB52\"], \"font\": {\"color\": \"#2a3f5f\"}, \"geo\": {\"bgcolor\": \"white\", \"lakecolor\": \"white\", \"landcolor\": \"#E5ECF6\", \"showlakes\": true, \"showland\": true, \"subunitcolor\": \"white\"}, \"hoverlabel\": {\"align\": \"left\"}, \"hovermode\": \"closest\", \"mapbox\": {\"style\": \"light\"}, \"paper_bgcolor\": \"white\", \"plot_bgcolor\": \"#E5ECF6\", \"polar\": {\"angularaxis\": {\"gridcolor\": \"white\", \"linecolor\": \"white\", \"ticks\": \"\"}, \"bgcolor\": \"#E5ECF6\", \"radialaxis\": {\"gridcolor\": \"white\", \"linecolor\": \"white\", \"ticks\": \"\"}}, \"scene\": {\"xaxis\": {\"backgroundcolor\": \"#E5ECF6\", \"gridcolor\": \"white\", \"gridwidth\": 2, \"linecolor\": \"white\", \"showbackground\": true, \"ticks\": \"\", \"zerolinecolor\": \"white\"}, \"yaxis\": {\"backgroundcolor\": \"#E5ECF6\", \"gridcolor\": \"white\", \"gridwidth\": 2, \"linecolor\": \"white\", \"showbackground\": true, \"ticks\": \"\", \"zerolinecolor\": \"white\"}, \"zaxis\": {\"backgroundcolor\": \"#E5ECF6\", \"gridcolor\": \"white\", \"gridwidth\": 2, \"linecolor\": \"white\", \"showbackground\": true, \"ticks\": \"\", \"zerolinecolor\": \"white\"}}, \"shapedefaults\": {\"line\": {\"color\": \"#2a3f5f\"}}, \"ternary\": {\"aaxis\": {\"gridcolor\": \"white\", \"linecolor\": \"white\", \"ticks\": \"\"}, \"baxis\": {\"gridcolor\": \"white\", \"linecolor\": \"white\", \"ticks\": \"\"}, \"bgcolor\": \"#E5ECF6\", \"caxis\": {\"gridcolor\": \"white\", \"linecolor\": \"white\", \"ticks\": \"\"}}, \"title\": {\"x\": 0.05}, \"xaxis\": {\"automargin\": true, \"gridcolor\": \"white\", \"linecolor\": \"white\", \"ticks\": \"\", \"title\": {\"standoff\": 15}, \"zerolinecolor\": \"white\", \"zerolinewidth\": 2}, \"yaxis\": {\"automargin\": true, \"gridcolor\": \"white\", \"linecolor\": \"white\", \"ticks\": \"\", \"title\": {\"standoff\": 15}, \"zerolinecolor\": \"white\", \"zerolinewidth\": 2}}}, \"xaxis\": {\"anchor\": \"y\", \"domain\": [0.0, 1.0], \"title\": {\"text\": \"Word Count\"}}, \"yaxis\": {\"anchor\": \"x\", \"domain\": [0.0, 1.0], \"title\": {\"text\": \"Popularity\"}}},                        {\"responsive\": true}                    ).then(function(){\n",
       "                            \n",
       "var gd = document.getElementById('4a74eea7-2fbb-4a54-be08-0484fd03d752');\n",
       "var x = new MutationObserver(function (mutations, observer) {{\n",
       "        var display = window.getComputedStyle(gd).display;\n",
       "        if (!display || display === 'none') {{\n",
       "            console.log([gd, 'removed!']);\n",
       "            Plotly.purge(gd);\n",
       "            observer.disconnect();\n",
       "        }}\n",
       "}});\n",
       "\n",
       "// Listen for the removal of the full notebook cells\n",
       "var notebookContainer = gd.closest('#notebook-container');\n",
       "if (notebookContainer) {{\n",
       "    x.observe(notebookContainer, {childList: true});\n",
       "}}\n",
       "\n",
       "// Listen for the clearing of the current output cell\n",
       "var outputEl = gd.closest('.output');\n",
       "if (outputEl) {{\n",
       "    x.observe(outputEl, {childList: true});\n",
       "}}\n",
       "\n",
       "                        })                };                });            </script>        </div>"
      ]
     },
     "metadata": {},
     "output_type": "display_data"
    }
   ],
   "source": [
    "px.scatter(data_clean, x='Word Count', y='Popularity', hover_data=['HG Story Title'], trendline='ols')"
   ]
  },
  {
   "cell_type": "markdown",
   "metadata": {},
   "source": [
    "There's definitely a positive relationship between word count and popularity, but the R^2 between word count and popularity is about 0.08, which is... very weak.\n",
    "\n",
    "What happens if we remove The Great Tournament?"
   ]
  },
  {
   "cell_type": "code",
   "execution_count": 109,
   "metadata": {},
   "outputs": [],
   "source": [
    "data_no_outliers = data_clean[data_clean['HG Story Title'] != 'The Great Tournament']"
   ]
  },
  {
   "cell_type": "code",
   "execution_count": 110,
   "metadata": {},
   "outputs": [
    {
     "name": "stdout",
     "output_type": "stream",
     "text": [
      "                            OLS Regression Results                            \n",
      "==============================================================================\n",
      "Dep. Variable:             Popularity   R-squared:                       0.193\n",
      "Model:                            OLS   Adj. R-squared:                  0.188\n",
      "Method:                 Least Squares   F-statistic:                     37.05\n",
      "Date:                Mon, 07 Jun 2021   Prob (F-statistic):           8.70e-09\n",
      "Time:                        18:29:50   Log-Likelihood:                -1468.5\n",
      "No. Observations:                 157   AIC:                             2941.\n",
      "Df Residuals:                     155   BIC:                             2947.\n",
      "Df Model:                           1                                         \n",
      "Covariance Type:            nonrobust                                         \n",
      "==============================================================================\n",
      "                 coef    std err          t      P>|t|      [0.025      0.975]\n",
      "------------------------------------------------------------------------------\n",
      "const        471.8026    308.456      1.530      0.128    -137.518    1081.123\n",
      "Word Count     0.0066      0.001      6.087      0.000       0.004       0.009\n",
      "==============================================================================\n",
      "Omnibus:                      160.082   Durbin-Watson:                   1.945\n",
      "Prob(Omnibus):                  0.000   Jarque-Bera (JB):             3694.022\n",
      "Skew:                           3.717   Prob(JB):                         0.00\n",
      "Kurtosis:                      25.571   Cond. No.                     3.92e+05\n",
      "==============================================================================\n",
      "\n",
      "Warnings:\n",
      "[1] Standard Errors assume that the covariance matrix of the errors is correctly specified.\n",
      "[2] The condition number is large, 3.92e+05. This might indicate that there are\n",
      "strong multicollinearity or other numerical problems.\n"
     ]
    }
   ],
   "source": [
    "results = sm.OLS(data_no_outliers['Popularity'], sm.add_constant(data_no_outliers['Word Count'])).fit()\n",
    "print(results.summary())"
   ]
  },
  {
   "cell_type": "markdown",
   "metadata": {},
   "source": [
    "Now, the R^2 improves to 0.193, which is... better?\n",
    "\n",
    "The regression equation is $Popularity = 0.066*WordCount + 471.8$\n",
    "\n",
    "This means that, for example, the expected popularity of a 500k-word story would be about 3800."
   ]
  },
  {
   "cell_type": "code",
   "execution_count": 111,
   "metadata": {},
   "outputs": [
    {
     "data": {
      "application/vnd.plotly.v1+json": {
       "config": {
        "plotlyServerURL": "https://plot.ly"
       },
       "data": [
        {
         "customdata": [
          [
           "Popcorn, Soda�Murder?"
          ],
          [
           "The Nightmare Maze"
          ],
          [
           "What Happened Last Night?"
          ],
          [
           "Paranoia"
          ],
          [
           "Imprisoned"
          ],
          [
           "Land of Three Classes"
          ],
          [
           "Marine Raider"
          ],
          [
           "Dilemma"
          ],
          [
           "Zombie Exodus"
          ],
          [
           "Zebulon"
          ],
          [
           "Mobile Armored Marine: Mission to Far Hope"
          ],
          [
           "The Race"
          ],
          [
           "Dead Already?"
          ],
          [
           "Apex Patrol"
          ],
          [
           "The Sons of the Cherry"
          ],
          [
           "Way Walkers: University"
          ],
          [
           "Life of a Wizard"
          ],
          [
           "Sabres of Infinity"
          ],
          [
           "Paradox Factor"
          ],
          [
           "Way Walkers: University 2"
          ],
          [
           "Burn(t)"
          ],
          [
           "UnNatural"
          ],
          [
           "Tin Star"
          ],
          [
           "Trial of the Demon Hunter"
          ],
          [
           "Planetary Quarantine"
          ],
          [
           "Life of a Mobster"
          ],
          [
           "Fatehaven"
          ],
          [
           "Sword of the Elements"
          ],
          [
           "The Gangs of Old Camp"
          ],
          [
           "Divided We Fall"
          ],
          [
           "The Ascot"
          ],
          [
           "Somme Trench"
          ],
          [
           "Lords of Aswisk - First of His Blood"
          ],
          [
           "The Lost Heir: The Fall of Daria"
          ],
          [
           "Seven Bullets"
          ],
          [
           "Zombien"
          ],
          [
           "The Volunteer Firefighter"
          ],
          [
           "The Shadow Horror"
          ],
          [
           "No Proper Thief"
          ],
          [
           "Double/Cross"
          ],
          [
           "Samurai of Hyuga"
          ],
          [
           "Dancing with Demons"
          ],
          [
           "So, You’re Possessed!"
          ],
          [
           "Founders Saga: The Culling"
          ],
          [
           "Attack of the Clockwork Army"
          ],
          [
           "A Study in Steampunk: Choice by Gaslight"
          ],
          [
           "Captive of Fortune"
          ],
          [
           "Factions: Raids of the Divided"
          ],
          [
           "Community College Hero"
          ],
          [
           "Vampire House"
          ],
          [
           "Lost Heir 2: Forging a Kingdom"
          ],
          [
           "Wizardy Level C"
          ],
          [
           "Magikiras"
          ],
          [
           "Scarlet Sails"
          ],
          [
           "Guns of Infinity"
          ],
          [
           "First Year Demons"
          ],
          [
           "Best of Us"
          ],
          [
           "Gambling With Eternity"
          ],
          [
           "Doomsday on Demand"
          ],
          [
           "Starship Adventures"
          ],
          [
           "The Iron Destinies"
          ],
          [
           "Swamp Castle"
          ],
          [
           "The 3Games"
          ],
          [
           "Academy of Disaster"
          ],
          [
           "Machinations: Fog of War"
          ],
          [
           "Samurai of Hyuga Book 2"
          ],
          [
           "Elemental Saga: The Awakening"
          ],
          [
           "Tomb of the Khan"
          ],
          [
           "Twin Flames"
          ],
          [
           "Zombie Exodus: Safe Haven"
          ],
          [
           "Tokyo Wizard"
          ],
          [
           "Evertree Inn"
          ],
          [
           "Spacing Out"
          ],
          [
           "The Lost Heir 3: Demon War"
          ],
          [
           "Paradigm City"
          ],
          [
           "The Daily Blackmail"
          ],
          [
           "Treasure of the Forbidden City"
          ],
          [
           "My Day off Work"
          ],
          [
           "The Spy and the Labyrinth"
          ],
          [
           "Diamant Rose"
          ],
          [
           "The Dryad’s Riddle"
          ],
          [
           "Knight of the Fellowship"
          ],
          [
           "Lost in the Pages"
          ],
          [
           "Highlands, Deep Waters"
          ],
          [
           "Samurai of Hyuga Book 3"
          ],
          [
           "Foundation of Nightmares"
          ],
          [
           "The Aether: Life as a God"
          ],
          [
           "Comrade or Czar"
          ],
          [
           "The Great Tournament 2"
          ],
          [
           "Wayhaven Chronicles: Book One"
          ],
          [
           "Fallen Hero: Rebirth"
          ],
          [
           "Highway Wars"
          ],
          [
           "NE by NW Oz"
          ],
          [
           "The Kepler Colony: Evacuation"
          ],
          [
           "Community College Hero: Knowledge is Power"
          ],
          [
           "A Mummy is Not an Antique"
          ],
          [
           "The Courting of Miss Bennet"
          ],
          [
           "Doomsday on Demand 2"
          ],
          [
           "The Harbinger’s Head"
          ],
          [
           "The Last Wizard"
          ],
          [
           "The Magician’s Burden"
          ],
          [
           "The Haze Under Windbrooke"
          ],
          [
           "The Grim and I"
          ],
          [
           "The Twelve Trials"
          ],
          [
           "Nuclear Powered Toaster"
          ],
          [
           "Love at Elevation"
          ],
          [
           "Missing Wings"
          ],
          [
           "The Slayer of Evil"
          ],
          [
           "The Butler Did It"
          ],
          [
           "Critical Mass: The Bridge"
          ],
          [
           "Life of a Mercenary"
          ],
          [
           "Gladiator: Road to the Colosseum"
          ],
          [
           "Keeper of the Sun and Moon"
          ],
          [
           "Dragon Racer"
          ],
          [
           "Tudor Intrigue"
          ],
          [
           "The Paths to Greatness"
          ],
          [
           "Sordwin"
          ],
          [
           "Totem Force"
          ],
          [
           "The Saga of Oedipus Rex"
          ],
          [
           "Scratch"
          ],
          [
           "Who Was the Real Robin Hood?"
          ],
          [
           "A Sensei’s Story"
          ],
          [
           "One Minute Mysteries"
          ],
          [
           "Samurai of Hyuga Book 4"
          ],
          [
           "Hero or Villain: Genesis"
          ],
          [
           "The Parenting Simulator"
          ],
          [
           "Death at the Rectory"
          ],
          [
           "Moonrise"
          ],
          [
           "War of the Gods"
          ],
          [
           "The Oldest Dream"
          ],
          [
           "Breach: The Archangel Job"
          ],
          [
           "The War for the West"
          ],
          [
           "Street Jam: The Rise"
          ],
          [
           "The Shadow Society"
          ],
          [
           "Critical Mass: The Black Vein"
          ],
          [
           "The Soul Stone War"
          ],
          [
           "The Aegis Saga*"
          ],
          [
           "Kidnapped Prom Queen"
          ],
          [
           "Wayhaven Chronicles: Book Two*"
          ],
          [
           "AI-Aftermath"
          ],
          [
           "War for Magincia"
          ],
          [
           "Trees Don’t Tell"
          ],
          [
           "President Disaster"
          ],
          [
           "The Floating City"
          ],
          [
           "Macabre Mansion"
          ],
          [
           "A Sorcerer’s Story"
          ],
          [
           "Balance of Superpower"
          ],
          [
           "Hero or Villain: Battle Royale*"
          ],
          [
           "Demon: Recollect"
          ],
          [
           "Too Different"
          ],
          [
           "Score of a Lifetime"
          ],
          [
           "After the Storm"
          ],
          [
           "The Brothers’ War"
          ],
          [
           "Relics of the Lost Age"
          ],
          [
           "Keeper of the Day and Night"
          ],
          [
           "The Mage’s Adventures"
          ],
          [
           "War of 2022"
          ]
         ],
         "hovertemplate": "Word Count=%{x}<br>Popularity=%{y}<br>HG Story Title=%{customdata[0]}<extra></extra>",
         "legendgroup": "",
         "marker": {
          "color": "#636efa",
          "symbol": "circle"
         },
         "mode": "markers",
         "name": "",
         "orientation": "v",
         "showlegend": false,
         "type": "scatter",
         "x": [
          23000,
          5200,
          4900,
          5800,
          40000,
          35000,
          43000,
          7000,
          700000,
          29000,
          65000,
          72000,
          7400,
          270000,
          15000,
          190000,
          140000,
          200000,
          30000,
          200000,
          71000,
          290000,
          1400000,
          78000,
          90000,
          150000,
          110000,
          230000,
          35000,
          140000,
          160000,
          230000,
          300000,
          160000,
          290000,
          280000,
          130000,
          540000,
          56000,
          97000,
          140000,
          47000,
          50000,
          54000,
          66000,
          280000,
          130000,
          22000,
          170000,
          85000,
          240000,
          99000,
          1100000,
          80000,
          440000,
          76000,
          120000,
          53000,
          120000,
          94000,
          460000,
          100000,
          200000,
          68000,
          170000,
          210000,
          100000,
          54000,
          46000,
          1100000,
          160000,
          270000,
          51000,
          290000,
          110000,
          34000,
          40000,
          240000,
          45000,
          89000,
          71000,
          52000,
          130000,
          350000,
          230000,
          96000,
          64000,
          61000,
          370000,
          440000,
          390000,
          200000,
          32000,
          170000,
          200000,
          54000,
          200000,
          140000,
          48000,
          190000,
          230000,
          120000,
          160000,
          160000,
          160000,
          320000,
          140000,
          57000,
          300000,
          160000,
          340000,
          220000,
          320000,
          420000,
          180000,
          180000,
          440000,
          260000,
          100000,
          170000,
          150000,
          240000,
          60000,
          440000,
          330000,
          190000,
          88000,
          50000,
          260000,
          36000,
          820000,
          490000,
          370000,
          680000,
          110000,
          480000,
          280000,
          130000,
          790000,
          38000,
          200000,
          36000,
          36000,
          140000,
          43000,
          55000,
          67000,
          250000,
          180000,
          220000,
          43000,
          190000,
          62000,
          400000,
          390000,
          120000,
          120000
         ],
         "xaxis": "x",
         "y": [
          1294,
          1098,
          887,
          1319,
          2569,
          183,
          3048,
          845,
          8654,
          373,
          2640,
          500,
          621,
          452,
          413,
          1605,
          2063,
          1876,
          367,
          1368,
          939,
          4109,
          2035,
          352,
          151,
          1739,
          1797,
          108,
          166,
          234,
          137,
          481,
          1292,
          4097,
          290,
          1989,
          293,
          72,
          268,
          617,
          6063,
          196,
          938,
          735,
          174,
          1128,
          82,
          151,
          3742,
          4694,
          2408,
          287,
          864,
          316,
          1330,
          84,
          419,
          323,
          5812,
          108,
          142,
          4276,
          156,
          96,
          136,
          3288,
          989,
          89,
          171,
          9363,
          1058,
          5461,
          210,
          1716,
          929,
          223,
          69,
          1021,
          48,
          83,
          41,
          221,
          150,
          567,
          2419,
          113,
          5118,
          240,
          3158,
          17716,
          5587,
          598,
          38,
          409,
          1529,
          18,
          273,
          550,
          199,
          1058,
          839,
          135,
          1934,
          408,
          119,
          1108,
          70,
          61,
          221,
          186,
          23320,
          1502,
          4107,
          1893,
          750,
          369,
          4358,
          834,
          232,
          139,
          93,
          466,
          29,
          4721,
          11364,
          4010,
          172,
          349,
          5623,
          438,
          6764,
          7198,
          1166,
          3694,
          148,
          4480,
          314,
          131,
          14777,
          142,
          1107,
          25,
          430,
          69,
          140,
          174,
          492,
          2342,
          2767,
          701,
          261,
          1364,
          410,
          744,
          2764,
          581,
          690
         ],
         "yaxis": "y"
        },
        {
         "hovertemplate": "<b>OLS trendline</b><br>Popularity = 0.00658524 * Word Count + 471.803<br>R<sup>2</sup>=0.192901<br><br>Word Count=%{x}<br>Popularity=%{y} <b>(trend)</b><extra></extra>",
         "legendgroup": "",
         "marker": {
          "color": "#636efa",
          "symbol": "circle"
         },
         "mode": "lines",
         "name": "",
         "showlegend": false,
         "type": "scatter",
         "x": [
          4900,
          5200,
          5800,
          7000,
          7400,
          15000,
          22000,
          23000,
          29000,
          30000,
          32000,
          34000,
          35000,
          35000,
          36000,
          36000,
          36000,
          38000,
          40000,
          40000,
          43000,
          43000,
          43000,
          45000,
          46000,
          47000,
          48000,
          50000,
          50000,
          51000,
          52000,
          53000,
          54000,
          54000,
          54000,
          55000,
          56000,
          57000,
          60000,
          61000,
          62000,
          64000,
          65000,
          66000,
          67000,
          68000,
          71000,
          71000,
          72000,
          76000,
          78000,
          80000,
          85000,
          88000,
          89000,
          90000,
          94000,
          96000,
          97000,
          99000,
          100000,
          100000,
          100000,
          110000,
          110000,
          110000,
          120000,
          120000,
          120000,
          120000,
          120000,
          130000,
          130000,
          130000,
          130000,
          140000,
          140000,
          140000,
          140000,
          140000,
          140000,
          150000,
          150000,
          160000,
          160000,
          160000,
          160000,
          160000,
          160000,
          160000,
          170000,
          170000,
          170000,
          170000,
          180000,
          180000,
          180000,
          190000,
          190000,
          190000,
          190000,
          200000,
          200000,
          200000,
          200000,
          200000,
          200000,
          200000,
          210000,
          220000,
          220000,
          230000,
          230000,
          230000,
          230000,
          240000,
          240000,
          240000,
          250000,
          260000,
          260000,
          270000,
          270000,
          280000,
          280000,
          280000,
          290000,
          290000,
          290000,
          300000,
          300000,
          320000,
          320000,
          330000,
          340000,
          350000,
          370000,
          370000,
          390000,
          390000,
          400000,
          420000,
          440000,
          440000,
          440000,
          440000,
          460000,
          480000,
          490000,
          540000,
          680000,
          700000,
          790000,
          820000,
          1100000,
          1100000,
          1400000
         ],
         "xaxis": "x",
         "y": [
          504.07024035809974,
          506.0458124720819,
          509.9969567000462,
          517.8992451559749,
          520.5333413079511,
          570.5811681954991,
          616.6778508550829,
          623.2630912350235,
          662.7745335146667,
          669.3597738946072,
          682.5302546544883,
          695.7007354143693,
          702.2859757943099,
          702.2859757943099,
          708.8712161742504,
          708.8712161742504,
          708.8712161742504,
          722.0416969341314,
          735.2121776940126,
          735.2121776940126,
          754.9678988338342,
          754.9678988338342,
          754.9678988338342,
          768.1383795937152,
          774.7236199736558,
          781.3088603535963,
          787.8941007335368,
          801.0645814934179,
          801.0645814934179,
          807.6498218733584,
          814.235062253299,
          820.8203026332395,
          827.40554301318,
          827.40554301318,
          827.40554301318,
          833.9907833931206,
          840.5760237730611,
          847.1612641530016,
          866.9169852928233,
          873.5022256727639,
          880.0874660527044,
          893.2579468125855,
          899.843187192526,
          906.4284275724665,
          913.0136679524071,
          919.5989083323475,
          939.3546294721691,
          939.3546294721691,
          945.9398698521097,
          972.2808313718718,
          985.451312131753,
          998.621792891634,
          1031.5479947913368,
          1051.3037159311582,
          1057.8889563110988,
          1064.4741966910394,
          1090.8151582108014,
          1103.9856389706827,
          1110.570879350623,
          1123.7413601105043,
          1130.3266004904447,
          1130.3266004904447,
          1130.3266004904447,
          1196.1790042898501,
          1196.1790042898501,
          1196.1790042898501,
          1262.0314080892554,
          1262.0314080892554,
          1262.0314080892554,
          1262.0314080892554,
          1262.0314080892554,
          1327.8838118886608,
          1327.8838118886608,
          1327.8838118886608,
          1327.8838118886608,
          1393.7362156880663,
          1393.7362156880663,
          1393.7362156880663,
          1393.7362156880663,
          1393.7362156880663,
          1393.7362156880663,
          1459.5886194874715,
          1459.5886194874715,
          1525.441023286877,
          1525.441023286877,
          1525.441023286877,
          1525.441023286877,
          1525.441023286877,
          1525.441023286877,
          1525.441023286877,
          1591.2934270862825,
          1591.2934270862825,
          1591.2934270862825,
          1591.2934270862825,
          1657.1458308856877,
          1657.1458308856877,
          1657.1458308856877,
          1722.9982346850932,
          1722.9982346850932,
          1722.9982346850932,
          1722.9982346850932,
          1788.8506384844984,
          1788.8506384844984,
          1788.8506384844984,
          1788.8506384844984,
          1788.8506384844984,
          1788.8506384844984,
          1788.8506384844984,
          1854.7030422839039,
          1920.555446083309,
          1920.555446083309,
          1986.4078498827146,
          1986.4078498827146,
          1986.4078498827146,
          1986.4078498827146,
          2052.2602536821196,
          2052.2602536821196,
          2052.2602536821196,
          2118.1126574815253,
          2183.9650612809305,
          2183.9650612809305,
          2249.8174650803358,
          2249.8174650803358,
          2315.6698688797414,
          2315.6698688797414,
          2315.6698688797414,
          2381.5222726791467,
          2381.5222726791467,
          2381.5222726791467,
          2447.374676478552,
          2447.374676478552,
          2579.079484077363,
          2579.079484077363,
          2644.931887876768,
          2710.784291676174,
          2776.636695475579,
          2908.3415030743895,
          2908.3415030743895,
          3040.0463106732004,
          3040.0463106732004,
          3105.8987144726057,
          3237.6035220714166,
          3369.308329670227,
          3369.308329670227,
          3369.308329670227,
          3369.308329670227,
          3501.013137269038,
          3632.7179448678485,
          3698.570348667254,
          4027.832367664281,
          4949.766020855956,
          5081.470828454767,
          5674.142462649415,
          5871.699674047631,
          7715.566980430981,
          7715.566980430981,
          9691.139094413142
         ],
         "yaxis": "y"
        }
       ],
       "layout": {
        "autosize": true,
        "legend": {
         "tracegroupgap": 0
        },
        "margin": {
         "t": 60
        },
        "template": {
         "data": {
          "bar": [
           {
            "error_x": {
             "color": "#2a3f5f"
            },
            "error_y": {
             "color": "#2a3f5f"
            },
            "marker": {
             "line": {
              "color": "#E5ECF6",
              "width": 0.5
             }
            },
            "type": "bar"
           }
          ],
          "barpolar": [
           {
            "marker": {
             "line": {
              "color": "#E5ECF6",
              "width": 0.5
             }
            },
            "type": "barpolar"
           }
          ],
          "carpet": [
           {
            "aaxis": {
             "endlinecolor": "#2a3f5f",
             "gridcolor": "white",
             "linecolor": "white",
             "minorgridcolor": "white",
             "startlinecolor": "#2a3f5f"
            },
            "baxis": {
             "endlinecolor": "#2a3f5f",
             "gridcolor": "white",
             "linecolor": "white",
             "minorgridcolor": "white",
             "startlinecolor": "#2a3f5f"
            },
            "type": "carpet"
           }
          ],
          "choropleth": [
           {
            "colorbar": {
             "outlinewidth": 0,
             "ticks": ""
            },
            "type": "choropleth"
           }
          ],
          "contour": [
           {
            "colorbar": {
             "outlinewidth": 0,
             "ticks": ""
            },
            "colorscale": [
             [
              0,
              "#0d0887"
             ],
             [
              0.1111111111111111,
              "#46039f"
             ],
             [
              0.2222222222222222,
              "#7201a8"
             ],
             [
              0.3333333333333333,
              "#9c179e"
             ],
             [
              0.4444444444444444,
              "#bd3786"
             ],
             [
              0.5555555555555556,
              "#d8576b"
             ],
             [
              0.6666666666666666,
              "#ed7953"
             ],
             [
              0.7777777777777778,
              "#fb9f3a"
             ],
             [
              0.8888888888888888,
              "#fdca26"
             ],
             [
              1,
              "#f0f921"
             ]
            ],
            "type": "contour"
           }
          ],
          "contourcarpet": [
           {
            "colorbar": {
             "outlinewidth": 0,
             "ticks": ""
            },
            "type": "contourcarpet"
           }
          ],
          "heatmap": [
           {
            "colorbar": {
             "outlinewidth": 0,
             "ticks": ""
            },
            "colorscale": [
             [
              0,
              "#0d0887"
             ],
             [
              0.1111111111111111,
              "#46039f"
             ],
             [
              0.2222222222222222,
              "#7201a8"
             ],
             [
              0.3333333333333333,
              "#9c179e"
             ],
             [
              0.4444444444444444,
              "#bd3786"
             ],
             [
              0.5555555555555556,
              "#d8576b"
             ],
             [
              0.6666666666666666,
              "#ed7953"
             ],
             [
              0.7777777777777778,
              "#fb9f3a"
             ],
             [
              0.8888888888888888,
              "#fdca26"
             ],
             [
              1,
              "#f0f921"
             ]
            ],
            "type": "heatmap"
           }
          ],
          "heatmapgl": [
           {
            "colorbar": {
             "outlinewidth": 0,
             "ticks": ""
            },
            "colorscale": [
             [
              0,
              "#0d0887"
             ],
             [
              0.1111111111111111,
              "#46039f"
             ],
             [
              0.2222222222222222,
              "#7201a8"
             ],
             [
              0.3333333333333333,
              "#9c179e"
             ],
             [
              0.4444444444444444,
              "#bd3786"
             ],
             [
              0.5555555555555556,
              "#d8576b"
             ],
             [
              0.6666666666666666,
              "#ed7953"
             ],
             [
              0.7777777777777778,
              "#fb9f3a"
             ],
             [
              0.8888888888888888,
              "#fdca26"
             ],
             [
              1,
              "#f0f921"
             ]
            ],
            "type": "heatmapgl"
           }
          ],
          "histogram": [
           {
            "marker": {
             "colorbar": {
              "outlinewidth": 0,
              "ticks": ""
             }
            },
            "type": "histogram"
           }
          ],
          "histogram2d": [
           {
            "colorbar": {
             "outlinewidth": 0,
             "ticks": ""
            },
            "colorscale": [
             [
              0,
              "#0d0887"
             ],
             [
              0.1111111111111111,
              "#46039f"
             ],
             [
              0.2222222222222222,
              "#7201a8"
             ],
             [
              0.3333333333333333,
              "#9c179e"
             ],
             [
              0.4444444444444444,
              "#bd3786"
             ],
             [
              0.5555555555555556,
              "#d8576b"
             ],
             [
              0.6666666666666666,
              "#ed7953"
             ],
             [
              0.7777777777777778,
              "#fb9f3a"
             ],
             [
              0.8888888888888888,
              "#fdca26"
             ],
             [
              1,
              "#f0f921"
             ]
            ],
            "type": "histogram2d"
           }
          ],
          "histogram2dcontour": [
           {
            "colorbar": {
             "outlinewidth": 0,
             "ticks": ""
            },
            "colorscale": [
             [
              0,
              "#0d0887"
             ],
             [
              0.1111111111111111,
              "#46039f"
             ],
             [
              0.2222222222222222,
              "#7201a8"
             ],
             [
              0.3333333333333333,
              "#9c179e"
             ],
             [
              0.4444444444444444,
              "#bd3786"
             ],
             [
              0.5555555555555556,
              "#d8576b"
             ],
             [
              0.6666666666666666,
              "#ed7953"
             ],
             [
              0.7777777777777778,
              "#fb9f3a"
             ],
             [
              0.8888888888888888,
              "#fdca26"
             ],
             [
              1,
              "#f0f921"
             ]
            ],
            "type": "histogram2dcontour"
           }
          ],
          "mesh3d": [
           {
            "colorbar": {
             "outlinewidth": 0,
             "ticks": ""
            },
            "type": "mesh3d"
           }
          ],
          "parcoords": [
           {
            "line": {
             "colorbar": {
              "outlinewidth": 0,
              "ticks": ""
             }
            },
            "type": "parcoords"
           }
          ],
          "pie": [
           {
            "automargin": true,
            "type": "pie"
           }
          ],
          "scatter": [
           {
            "marker": {
             "colorbar": {
              "outlinewidth": 0,
              "ticks": ""
             }
            },
            "type": "scatter"
           }
          ],
          "scatter3d": [
           {
            "line": {
             "colorbar": {
              "outlinewidth": 0,
              "ticks": ""
             }
            },
            "marker": {
             "colorbar": {
              "outlinewidth": 0,
              "ticks": ""
             }
            },
            "type": "scatter3d"
           }
          ],
          "scattercarpet": [
           {
            "marker": {
             "colorbar": {
              "outlinewidth": 0,
              "ticks": ""
             }
            },
            "type": "scattercarpet"
           }
          ],
          "scattergeo": [
           {
            "marker": {
             "colorbar": {
              "outlinewidth": 0,
              "ticks": ""
             }
            },
            "type": "scattergeo"
           }
          ],
          "scattergl": [
           {
            "marker": {
             "colorbar": {
              "outlinewidth": 0,
              "ticks": ""
             }
            },
            "type": "scattergl"
           }
          ],
          "scattermapbox": [
           {
            "marker": {
             "colorbar": {
              "outlinewidth": 0,
              "ticks": ""
             }
            },
            "type": "scattermapbox"
           }
          ],
          "scatterpolar": [
           {
            "marker": {
             "colorbar": {
              "outlinewidth": 0,
              "ticks": ""
             }
            },
            "type": "scatterpolar"
           }
          ],
          "scatterpolargl": [
           {
            "marker": {
             "colorbar": {
              "outlinewidth": 0,
              "ticks": ""
             }
            },
            "type": "scatterpolargl"
           }
          ],
          "scatterternary": [
           {
            "marker": {
             "colorbar": {
              "outlinewidth": 0,
              "ticks": ""
             }
            },
            "type": "scatterternary"
           }
          ],
          "surface": [
           {
            "colorbar": {
             "outlinewidth": 0,
             "ticks": ""
            },
            "colorscale": [
             [
              0,
              "#0d0887"
             ],
             [
              0.1111111111111111,
              "#46039f"
             ],
             [
              0.2222222222222222,
              "#7201a8"
             ],
             [
              0.3333333333333333,
              "#9c179e"
             ],
             [
              0.4444444444444444,
              "#bd3786"
             ],
             [
              0.5555555555555556,
              "#d8576b"
             ],
             [
              0.6666666666666666,
              "#ed7953"
             ],
             [
              0.7777777777777778,
              "#fb9f3a"
             ],
             [
              0.8888888888888888,
              "#fdca26"
             ],
             [
              1,
              "#f0f921"
             ]
            ],
            "type": "surface"
           }
          ],
          "table": [
           {
            "cells": {
             "fill": {
              "color": "#EBF0F8"
             },
             "line": {
              "color": "white"
             }
            },
            "header": {
             "fill": {
              "color": "#C8D4E3"
             },
             "line": {
              "color": "white"
             }
            },
            "type": "table"
           }
          ]
         },
         "layout": {
          "annotationdefaults": {
           "arrowcolor": "#2a3f5f",
           "arrowhead": 0,
           "arrowwidth": 1
          },
          "autotypenumbers": "strict",
          "coloraxis": {
           "colorbar": {
            "outlinewidth": 0,
            "ticks": ""
           }
          },
          "colorscale": {
           "diverging": [
            [
             0,
             "#8e0152"
            ],
            [
             0.1,
             "#c51b7d"
            ],
            [
             0.2,
             "#de77ae"
            ],
            [
             0.3,
             "#f1b6da"
            ],
            [
             0.4,
             "#fde0ef"
            ],
            [
             0.5,
             "#f7f7f7"
            ],
            [
             0.6,
             "#e6f5d0"
            ],
            [
             0.7,
             "#b8e186"
            ],
            [
             0.8,
             "#7fbc41"
            ],
            [
             0.9,
             "#4d9221"
            ],
            [
             1,
             "#276419"
            ]
           ],
           "sequential": [
            [
             0,
             "#0d0887"
            ],
            [
             0.1111111111111111,
             "#46039f"
            ],
            [
             0.2222222222222222,
             "#7201a8"
            ],
            [
             0.3333333333333333,
             "#9c179e"
            ],
            [
             0.4444444444444444,
             "#bd3786"
            ],
            [
             0.5555555555555556,
             "#d8576b"
            ],
            [
             0.6666666666666666,
             "#ed7953"
            ],
            [
             0.7777777777777778,
             "#fb9f3a"
            ],
            [
             0.8888888888888888,
             "#fdca26"
            ],
            [
             1,
             "#f0f921"
            ]
           ],
           "sequentialminus": [
            [
             0,
             "#0d0887"
            ],
            [
             0.1111111111111111,
             "#46039f"
            ],
            [
             0.2222222222222222,
             "#7201a8"
            ],
            [
             0.3333333333333333,
             "#9c179e"
            ],
            [
             0.4444444444444444,
             "#bd3786"
            ],
            [
             0.5555555555555556,
             "#d8576b"
            ],
            [
             0.6666666666666666,
             "#ed7953"
            ],
            [
             0.7777777777777778,
             "#fb9f3a"
            ],
            [
             0.8888888888888888,
             "#fdca26"
            ],
            [
             1,
             "#f0f921"
            ]
           ]
          },
          "colorway": [
           "#636efa",
           "#EF553B",
           "#00cc96",
           "#ab63fa",
           "#FFA15A",
           "#19d3f3",
           "#FF6692",
           "#B6E880",
           "#FF97FF",
           "#FECB52"
          ],
          "font": {
           "color": "#2a3f5f"
          },
          "geo": {
           "bgcolor": "white",
           "lakecolor": "white",
           "landcolor": "#E5ECF6",
           "showlakes": true,
           "showland": true,
           "subunitcolor": "white"
          },
          "hoverlabel": {
           "align": "left"
          },
          "hovermode": "closest",
          "mapbox": {
           "style": "light"
          },
          "paper_bgcolor": "white",
          "plot_bgcolor": "#E5ECF6",
          "polar": {
           "angularaxis": {
            "gridcolor": "white",
            "linecolor": "white",
            "ticks": ""
           },
           "bgcolor": "#E5ECF6",
           "radialaxis": {
            "gridcolor": "white",
            "linecolor": "white",
            "ticks": ""
           }
          },
          "scene": {
           "xaxis": {
            "backgroundcolor": "#E5ECF6",
            "gridcolor": "white",
            "gridwidth": 2,
            "linecolor": "white",
            "showbackground": true,
            "ticks": "",
            "zerolinecolor": "white"
           },
           "yaxis": {
            "backgroundcolor": "#E5ECF6",
            "gridcolor": "white",
            "gridwidth": 2,
            "linecolor": "white",
            "showbackground": true,
            "ticks": "",
            "zerolinecolor": "white"
           },
           "zaxis": {
            "backgroundcolor": "#E5ECF6",
            "gridcolor": "white",
            "gridwidth": 2,
            "linecolor": "white",
            "showbackground": true,
            "ticks": "",
            "zerolinecolor": "white"
           }
          },
          "shapedefaults": {
           "line": {
            "color": "#2a3f5f"
           }
          },
          "ternary": {
           "aaxis": {
            "gridcolor": "white",
            "linecolor": "white",
            "ticks": ""
           },
           "baxis": {
            "gridcolor": "white",
            "linecolor": "white",
            "ticks": ""
           },
           "bgcolor": "#E5ECF6",
           "caxis": {
            "gridcolor": "white",
            "linecolor": "white",
            "ticks": ""
           }
          },
          "title": {
           "x": 0.05
          },
          "xaxis": {
           "automargin": true,
           "gridcolor": "white",
           "linecolor": "white",
           "ticks": "",
           "title": {
            "standoff": 15
           },
           "zerolinecolor": "white",
           "zerolinewidth": 2
          },
          "yaxis": {
           "automargin": true,
           "gridcolor": "white",
           "linecolor": "white",
           "ticks": "",
           "title": {
            "standoff": 15
           },
           "zerolinecolor": "white",
           "zerolinewidth": 2
          }
         }
        },
        "xaxis": {
         "anchor": "y",
         "autorange": true,
         "domain": [
          0,
          1
         ],
         "range": [
          -79575.47961630695,
          1484475.479616307
         ],
         "title": {
          "text": "Word Count"
         },
         "type": "linear"
        },
        "yaxis": {
         "anchor": "x",
         "autorange": true,
         "domain": [
          0,
          1
         ],
         "range": [
          -1634.1675874769799,
          24972.16758747698
         ],
         "title": {
          "text": "Popularity"
         },
         "type": "linear"
        }
       }
      },
      "image/png": "[encoded data removed]",
      "text/html": [
       "<div>                            <div id=\"cda29094-6d66-4ec3-8cc2-218a27f177f9\" class=\"plotly-graph-div\" style=\"height:525px; width:100%;\"></div>            <script type=\"text/javascript\">                require([\"plotly\"], function(Plotly) {                    window.PLOTLYENV=window.PLOTLYENV || {};                                    if (document.getElementById(\"cda29094-6d66-4ec3-8cc2-218a27f177f9\")) {                    Plotly.newPlot(                        \"cda29094-6d66-4ec3-8cc2-218a27f177f9\",                        [{\"customdata\": [[\"Popcorn, Soda\\ufffdMurder?\"], [\"The Nightmare Maze\"], [\"What Happened Last Night?\"], [\"Paranoia\"], [\"Imprisoned\"], [\"Land of Three Classes\"], [\"Marine Raider\"], [\"Dilemma\"], [\"Zombie Exodus\"], [\"Zebulon\"], [\"Mobile Armored Marine: Mission to Far Hope\"], [\"The Race\"], [\"Dead Already?\"], [\"Apex Patrol\"], [\"The Sons of the Cherry\"], [\"Way Walkers: University\"], [\"Life of a Wizard\"], [\"Sabres of Infinity\"], [\"Paradox Factor\"], [\"Way Walkers: University 2\"], [\"Burn(t)\"], [\"UnNatural\"], [\"Tin Star\"], [\"Trial of the Demon Hunter\"], [\"Planetary Quarantine\"], [\"Life of a Mobster\"], [\"Fatehaven\"], [\"Sword of the Elements\"], [\"The Gangs of Old Camp\"], [\"Divided We Fall\"], [\"The Ascot\"], [\"Somme Trench\"], [\"Lords of Aswisk - First of His Blood\"], [\"The Lost Heir: The Fall of Daria\"], [\"Seven Bullets\"], [\"Zombien\"], [\"The Volunteer Firefighter\"], [\"The Shadow Horror\"], [\"No Proper Thief\"], [\"Double/Cross\"], [\"Samurai of Hyuga\"], [\"Dancing with Demons\"], [\"So, You\\u2019re Possessed!\"], [\"Founders Saga: The Culling\"], [\"Attack of the Clockwork Army\"], [\"A Study in Steampunk: Choice by Gaslight\"], [\"Captive of Fortune\"], [\"Factions: Raids of the Divided\"], [\"Community College Hero\"], [\"Vampire House\"], [\"Lost Heir 2: Forging a Kingdom\"], [\"Wizardy Level C\"], [\"Magikiras\"], [\"Scarlet Sails\"], [\"Guns of Infinity\"], [\"First Year Demons\"], [\"Best of Us\"], [\"Gambling With Eternity\"], [\"Doomsday on Demand\"], [\"Starship Adventures\"], [\"The Iron Destinies\"], [\"Swamp Castle\"], [\"The 3Games\"], [\"Academy of Disaster\"], [\"Machinations: Fog of War\"], [\"Samurai of Hyuga Book 2\"], [\"Elemental Saga: The Awakening\"], [\"Tomb of the Khan\"], [\"Twin Flames\"], [\"Zombie Exodus: Safe Haven\"], [\"Tokyo Wizard\"], [\"Evertree Inn\"], [\"Spacing Out\"], [\"The Lost Heir 3: Demon War\"], [\"Paradigm City\"], [\"The Daily Blackmail\"], [\"Treasure of the Forbidden City\"], [\"My Day off Work\"], [\"The Spy and the Labyrinth\"], [\"Diamant Rose\"], [\"The Dryad\\u2019s Riddle\"], [\"Knight of the Fellowship\"], [\"Lost in the Pages\"], [\"Highlands, Deep Waters\"], [\"Samurai of Hyuga Book 3\"], [\"Foundation of Nightmares\"], [\"The Aether: Life as a God\"], [\"Comrade or Czar\"], [\"The Great Tournament 2\"], [\"Wayhaven Chronicles: Book One\"], [\"Fallen Hero: Rebirth\"], [\"Highway Wars\"], [\"NE by NW Oz\"], [\"The Kepler Colony: Evacuation\"], [\"Community College Hero: Knowledge is Power\"], [\"A Mummy is Not an Antique\"], [\"The Courting of Miss Bennet\"], [\"Doomsday on Demand 2\"], [\"The Harbinger\\u2019s Head\"], [\"The Last Wizard\"], [\"The Magician\\u2019s Burden\"], [\"The Haze Under Windbrooke\"], [\"The Grim and I\"], [\"The Twelve Trials\"], [\"Nuclear Powered Toaster\"], [\"Love at Elevation\"], [\"Missing Wings\"], [\"The Slayer of Evil\"], [\"The Butler Did It\"], [\"Critical Mass: The Bridge\"], [\"Life of a Mercenary\"], [\"Gladiator: Road to the Colosseum\"], [\"Keeper of the Sun and Moon\"], [\"Dragon Racer\"], [\"Tudor Intrigue\"], [\"The Paths to Greatness\"], [\"Sordwin\"], [\"Totem Force\"], [\"The Saga of Oedipus Rex\"], [\"Scratch\"], [\"Who Was the Real Robin Hood?\"], [\"A Sensei\\u2019s Story\"], [\"One Minute Mysteries\"], [\"Samurai of Hyuga Book 4\"], [\"Hero or Villain: Genesis\"], [\"The Parenting Simulator\"], [\"Death at the Rectory\"], [\"Moonrise\"], [\"War of the Gods\"], [\"The Oldest Dream\"], [\"Breach: The Archangel Job\"], [\"The War for the West\"], [\"Street Jam: The Rise\"], [\"The Shadow Society\"], [\"Critical Mass: The Black Vein\"], [\"The Soul Stone War\"], [\"The Aegis Saga*\"], [\"Kidnapped Prom Queen\"], [\"Wayhaven Chronicles: Book Two*\"], [\"AI-Aftermath\"], [\"War for Magincia\"], [\"Trees Don\\u2019t Tell\"], [\"President Disaster\"], [\"The Floating City\"], [\"Macabre Mansion\"], [\"A Sorcerer\\u2019s Story\"], [\"Balance of Superpower\"], [\"Hero or Villain: Battle Royale*\"], [\"Demon: Recollect\"], [\"Too Different\"], [\"Score of a Lifetime\"], [\"After the Storm\"], [\"The Brothers\\u2019 War\"], [\"Relics of the Lost Age\"], [\"Keeper of the Day and Night\"], [\"The Mage\\u2019s Adventures\"], [\"War of 2022\"]], \"hovertemplate\": \"Word Count=%{x}<br>Popularity=%{y}<br>HG Story Title=%{customdata[0]}<extra></extra>\", \"legendgroup\": \"\", \"marker\": {\"color\": \"#636efa\", \"symbol\": \"circle\"}, \"mode\": \"markers\", \"name\": \"\", \"orientation\": \"v\", \"showlegend\": false, \"type\": \"scatter\", \"x\": [23000, 5200, 4900, 5800, 40000, 35000, 43000, 7000, 700000, 29000, 65000, 72000, 7400, 270000, 15000, 190000, 140000, 200000, 30000, 200000, 71000, 290000, 1400000, 78000, 90000, 150000, 110000, 230000, 35000, 140000, 160000, 230000, 300000, 160000, 290000, 280000, 130000, 540000, 56000, 97000, 140000, 47000, 50000, 54000, 66000, 280000, 130000, 22000, 170000, 85000, 240000, 99000, 1100000, 80000, 440000, 76000, 120000, 53000, 120000, 94000, 460000, 100000, 200000, 68000, 170000, 210000, 100000, 54000, 46000, 1100000, 160000, 270000, 51000, 290000, 110000, 34000, 40000, 240000, 45000, 89000, 71000, 52000, 130000, 350000, 230000, 96000, 64000, 61000, 370000, 440000, 390000, 200000, 32000, 170000, 200000, 54000, 200000, 140000, 48000, 190000, 230000, 120000, 160000, 160000, 160000, 320000, 140000, 57000, 300000, 160000, 340000, 220000, 320000, 420000, 180000, 180000, 440000, 260000, 100000, 170000, 150000, 240000, 60000, 440000, 330000, 190000, 88000, 50000, 260000, 36000, 820000, 490000, 370000, 680000, 110000, 480000, 280000, 130000, 790000, 38000, 200000, 36000, 36000, 140000, 43000, 55000, 67000, 250000, 180000, 220000, 43000, 190000, 62000, 400000, 390000, 120000, 120000], \"xaxis\": \"x\", \"y\": [1294.0, 1098.0, 887.0, 1319.0, 2569.0, 183.0, 3048.0, 845.0, 8654.0, 373.0, 2640.0, 500.0, 621.0, 452.0, 413.0, 1605.0, 2063.0, 1876.0, 367.0, 1368.0, 939.0, 4109.0, 2035.0, 352.0, 151.0, 1739.0, 1797.0, 108.0, 166.0, 234.0, 137.0, 481.0, 1292.0, 4097.0, 290.0, 1989.0, 293.0, 72.0, 268.0, 617.0, 6063.0, 196.0, 938.0, 735.0, 174.0, 1128.0, 82.0, 151.0, 3742.0, 4694.0, 2408.0, 287.0, 864.0, 316.0, 1330.0, 84.0, 419.0, 323.0, 5812.0, 108.0, 142.0, 4276.0, 156.0, 96.0, 136.0, 3288.0, 989.0, 89.0, 171.0, 9363.0, 1058.0, 5461.0, 210.0, 1716.0, 929.0, 223.0, 69.0, 1021.0, 48.0, 83.0, 41.0, 221.0, 150.0, 567.0, 2419.0, 113.0, 5118.0, 240.0, 3158.0, 17716.0, 5587.0, 598.0, 38.0, 409.0, 1529.0, 18.0, 273.0, 550.0, 199.0, 1058.0, 839.0, 135.0, 1934.0, 408.0, 119.0, 1108.0, 70.0, 61.0, 221.0, 186.0, 23320.0, 1502.0, 4107.0, 1893.0, 750.0, 369.0, 4358.0, 834.0, 232.0, 139.0, 93.0, 466.0, 29.0, 4721.0, 11364.0, 4010.0, 172.0, 349.0, 5623.0, 438.0, 6764.0, 7198.0, 1166.0, 3694.0, 148.0, 4480.0, 314.0, 131.0, 14777.0, 142.0, 1107.0, 25.0, 430.0, 69.0, 140.0, 174.0, 492.0, 2342.0, 2767.0, 701.0, 261.0, 1364.0, 410.0, 744.0, 2764.0, 581.0, 690.0], \"yaxis\": \"y\"}, {\"hovertemplate\": \"<b>OLS trendline</b><br>Popularity = 0.00658524 * Word Count + 471.803<br>R<sup>2</sup>=0.192901<br><br>Word Count=%{x}<br>Popularity=%{y} <b>(trend)</b><extra></extra>\", \"legendgroup\": \"\", \"marker\": {\"color\": \"#636efa\", \"symbol\": \"circle\"}, \"mode\": \"lines\", \"name\": \"\", \"showlegend\": false, \"type\": \"scatter\", \"x\": [4900, 5200, 5800, 7000, 7400, 15000, 22000, 23000, 29000, 30000, 32000, 34000, 35000, 35000, 36000, 36000, 36000, 38000, 40000, 40000, 43000, 43000, 43000, 45000, 46000, 47000, 48000, 50000, 50000, 51000, 52000, 53000, 54000, 54000, 54000, 55000, 56000, 57000, 60000, 61000, 62000, 64000, 65000, 66000, 67000, 68000, 71000, 71000, 72000, 76000, 78000, 80000, 85000, 88000, 89000, 90000, 94000, 96000, 97000, 99000, 100000, 100000, 100000, 110000, 110000, 110000, 120000, 120000, 120000, 120000, 120000, 130000, 130000, 130000, 130000, 140000, 140000, 140000, 140000, 140000, 140000, 150000, 150000, 160000, 160000, 160000, 160000, 160000, 160000, 160000, 170000, 170000, 170000, 170000, 180000, 180000, 180000, 190000, 190000, 190000, 190000, 200000, 200000, 200000, 200000, 200000, 200000, 200000, 210000, 220000, 220000, 230000, 230000, 230000, 230000, 240000, 240000, 240000, 250000, 260000, 260000, 270000, 270000, 280000, 280000, 280000, 290000, 290000, 290000, 300000, 300000, 320000, 320000, 330000, 340000, 350000, 370000, 370000, 390000, 390000, 400000, 420000, 440000, 440000, 440000, 440000, 460000, 480000, 490000, 540000, 680000, 700000, 790000, 820000, 1100000, 1100000, 1400000], \"xaxis\": \"x\", \"y\": [504.07024035809974, 506.0458124720819, 509.9969567000462, 517.8992451559749, 520.5333413079511, 570.5811681954991, 616.6778508550829, 623.2630912350235, 662.7745335146667, 669.3597738946072, 682.5302546544883, 695.7007354143693, 702.2859757943099, 702.2859757943099, 708.8712161742504, 708.8712161742504, 708.8712161742504, 722.0416969341314, 735.2121776940126, 735.2121776940126, 754.9678988338342, 754.9678988338342, 754.9678988338342, 768.1383795937152, 774.7236199736558, 781.3088603535963, 787.8941007335368, 801.0645814934179, 801.0645814934179, 807.6498218733584, 814.235062253299, 820.8203026332395, 827.40554301318, 827.40554301318, 827.40554301318, 833.9907833931206, 840.5760237730611, 847.1612641530016, 866.9169852928233, 873.5022256727639, 880.0874660527044, 893.2579468125855, 899.843187192526, 906.4284275724665, 913.0136679524071, 919.5989083323475, 939.3546294721691, 939.3546294721691, 945.9398698521097, 972.2808313718718, 985.451312131753, 998.621792891634, 1031.5479947913368, 1051.3037159311582, 1057.8889563110988, 1064.4741966910394, 1090.8151582108014, 1103.9856389706827, 1110.570879350623, 1123.7413601105043, 1130.3266004904447, 1130.3266004904447, 1130.3266004904447, 1196.1790042898501, 1196.1790042898501, 1196.1790042898501, 1262.0314080892554, 1262.0314080892554, 1262.0314080892554, 1262.0314080892554, 1262.0314080892554, 1327.8838118886608, 1327.8838118886608, 1327.8838118886608, 1327.8838118886608, 1393.7362156880663, 1393.7362156880663, 1393.7362156880663, 1393.7362156880663, 1393.7362156880663, 1393.7362156880663, 1459.5886194874715, 1459.5886194874715, 1525.441023286877, 1525.441023286877, 1525.441023286877, 1525.441023286877, 1525.441023286877, 1525.441023286877, 1525.441023286877, 1591.2934270862825, 1591.2934270862825, 1591.2934270862825, 1591.2934270862825, 1657.1458308856877, 1657.1458308856877, 1657.1458308856877, 1722.9982346850932, 1722.9982346850932, 1722.9982346850932, 1722.9982346850932, 1788.8506384844984, 1788.8506384844984, 1788.8506384844984, 1788.8506384844984, 1788.8506384844984, 1788.8506384844984, 1788.8506384844984, 1854.7030422839039, 1920.555446083309, 1920.555446083309, 1986.4078498827146, 1986.4078498827146, 1986.4078498827146, 1986.4078498827146, 2052.2602536821196, 2052.2602536821196, 2052.2602536821196, 2118.1126574815253, 2183.9650612809305, 2183.9650612809305, 2249.8174650803358, 2249.8174650803358, 2315.6698688797414, 2315.6698688797414, 2315.6698688797414, 2381.5222726791467, 2381.5222726791467, 2381.5222726791467, 2447.374676478552, 2447.374676478552, 2579.079484077363, 2579.079484077363, 2644.931887876768, 2710.784291676174, 2776.636695475579, 2908.3415030743895, 2908.3415030743895, 3040.0463106732004, 3040.0463106732004, 3105.8987144726057, 3237.6035220714166, 3369.308329670227, 3369.308329670227, 3369.308329670227, 3369.308329670227, 3501.013137269038, 3632.7179448678485, 3698.570348667254, 4027.832367664281, 4949.766020855956, 5081.470828454767, 5674.142462649415, 5871.699674047631, 7715.566980430981, 7715.566980430981, 9691.139094413142], \"yaxis\": \"y\"}],                        {\"legend\": {\"tracegroupgap\": 0}, \"margin\": {\"t\": 60}, \"template\": {\"data\": {\"bar\": [{\"error_x\": {\"color\": \"#2a3f5f\"}, \"error_y\": {\"color\": \"#2a3f5f\"}, \"marker\": {\"line\": {\"color\": \"#E5ECF6\", \"width\": 0.5}}, \"type\": \"bar\"}], \"barpolar\": [{\"marker\": {\"line\": {\"color\": \"#E5ECF6\", \"width\": 0.5}}, \"type\": \"barpolar\"}], \"carpet\": [{\"aaxis\": {\"endlinecolor\": \"#2a3f5f\", \"gridcolor\": \"white\", \"linecolor\": \"white\", \"minorgridcolor\": \"white\", \"startlinecolor\": \"#2a3f5f\"}, \"baxis\": {\"endlinecolor\": \"#2a3f5f\", \"gridcolor\": \"white\", \"linecolor\": \"white\", \"minorgridcolor\": \"white\", \"startlinecolor\": \"#2a3f5f\"}, \"type\": \"carpet\"}], \"choropleth\": [{\"colorbar\": {\"outlinewidth\": 0, \"ticks\": \"\"}, \"type\": \"choropleth\"}], \"contour\": [{\"colorbar\": {\"outlinewidth\": 0, \"ticks\": \"\"}, \"colorscale\": [[0.0, \"#0d0887\"], [0.1111111111111111, \"#46039f\"], [0.2222222222222222, \"#7201a8\"], [0.3333333333333333, \"#9c179e\"], [0.4444444444444444, \"#bd3786\"], [0.5555555555555556, \"#d8576b\"], [0.6666666666666666, \"#ed7953\"], [0.7777777777777778, \"#fb9f3a\"], [0.8888888888888888, \"#fdca26\"], [1.0, \"#f0f921\"]], \"type\": \"contour\"}], \"contourcarpet\": [{\"colorbar\": {\"outlinewidth\": 0, \"ticks\": \"\"}, \"type\": \"contourcarpet\"}], \"heatmap\": [{\"colorbar\": {\"outlinewidth\": 0, \"ticks\": \"\"}, \"colorscale\": [[0.0, \"#0d0887\"], [0.1111111111111111, \"#46039f\"], [0.2222222222222222, \"#7201a8\"], [0.3333333333333333, \"#9c179e\"], [0.4444444444444444, \"#bd3786\"], [0.5555555555555556, \"#d8576b\"], [0.6666666666666666, \"#ed7953\"], [0.7777777777777778, \"#fb9f3a\"], [0.8888888888888888, \"#fdca26\"], [1.0, \"#f0f921\"]], \"type\": \"heatmap\"}], \"heatmapgl\": [{\"colorbar\": {\"outlinewidth\": 0, \"ticks\": \"\"}, \"colorscale\": [[0.0, \"#0d0887\"], [0.1111111111111111, \"#46039f\"], [0.2222222222222222, \"#7201a8\"], [0.3333333333333333, \"#9c179e\"], [0.4444444444444444, \"#bd3786\"], [0.5555555555555556, \"#d8576b\"], [0.6666666666666666, \"#ed7953\"], [0.7777777777777778, \"#fb9f3a\"], [0.8888888888888888, \"#fdca26\"], [1.0, \"#f0f921\"]], \"type\": \"heatmapgl\"}], \"histogram\": [{\"marker\": {\"colorbar\": {\"outlinewidth\": 0, \"ticks\": \"\"}}, \"type\": \"histogram\"}], \"histogram2d\": [{\"colorbar\": {\"outlinewidth\": 0, \"ticks\": \"\"}, \"colorscale\": [[0.0, \"#0d0887\"], [0.1111111111111111, \"#46039f\"], [0.2222222222222222, \"#7201a8\"], [0.3333333333333333, \"#9c179e\"], [0.4444444444444444, \"#bd3786\"], [0.5555555555555556, \"#d8576b\"], [0.6666666666666666, \"#ed7953\"], [0.7777777777777778, \"#fb9f3a\"], [0.8888888888888888, \"#fdca26\"], [1.0, \"#f0f921\"]], \"type\": \"histogram2d\"}], \"histogram2dcontour\": [{\"colorbar\": {\"outlinewidth\": 0, \"ticks\": \"\"}, \"colorscale\": [[0.0, \"#0d0887\"], [0.1111111111111111, \"#46039f\"], [0.2222222222222222, \"#7201a8\"], [0.3333333333333333, \"#9c179e\"], [0.4444444444444444, \"#bd3786\"], [0.5555555555555556, \"#d8576b\"], [0.6666666666666666, \"#ed7953\"], [0.7777777777777778, \"#fb9f3a\"], [0.8888888888888888, \"#fdca26\"], [1.0, \"#f0f921\"]], \"type\": \"histogram2dcontour\"}], \"mesh3d\": [{\"colorbar\": {\"outlinewidth\": 0, \"ticks\": \"\"}, \"type\": \"mesh3d\"}], \"parcoords\": [{\"line\": {\"colorbar\": {\"outlinewidth\": 0, \"ticks\": \"\"}}, \"type\": \"parcoords\"}], \"pie\": [{\"automargin\": true, \"type\": \"pie\"}], \"scatter\": [{\"marker\": {\"colorbar\": {\"outlinewidth\": 0, \"ticks\": \"\"}}, \"type\": \"scatter\"}], \"scatter3d\": [{\"line\": {\"colorbar\": {\"outlinewidth\": 0, \"ticks\": \"\"}}, \"marker\": {\"colorbar\": {\"outlinewidth\": 0, \"ticks\": \"\"}}, \"type\": \"scatter3d\"}], \"scattercarpet\": [{\"marker\": {\"colorbar\": {\"outlinewidth\": 0, \"ticks\": \"\"}}, \"type\": \"scattercarpet\"}], \"scattergeo\": [{\"marker\": {\"colorbar\": {\"outlinewidth\": 0, \"ticks\": \"\"}}, \"type\": \"scattergeo\"}], \"scattergl\": [{\"marker\": {\"colorbar\": {\"outlinewidth\": 0, \"ticks\": \"\"}}, \"type\": \"scattergl\"}], \"scattermapbox\": [{\"marker\": {\"colorbar\": {\"outlinewidth\": 0, \"ticks\": \"\"}}, \"type\": \"scattermapbox\"}], \"scatterpolar\": [{\"marker\": {\"colorbar\": {\"outlinewidth\": 0, \"ticks\": \"\"}}, \"type\": \"scatterpolar\"}], \"scatterpolargl\": [{\"marker\": {\"colorbar\": {\"outlinewidth\": 0, \"ticks\": \"\"}}, \"type\": \"scatterpolargl\"}], \"scatterternary\": [{\"marker\": {\"colorbar\": {\"outlinewidth\": 0, \"ticks\": \"\"}}, \"type\": \"scatterternary\"}], \"surface\": [{\"colorbar\": {\"outlinewidth\": 0, \"ticks\": \"\"}, \"colorscale\": [[0.0, \"#0d0887\"], [0.1111111111111111, \"#46039f\"], [0.2222222222222222, \"#7201a8\"], [0.3333333333333333, \"#9c179e\"], [0.4444444444444444, \"#bd3786\"], [0.5555555555555556, \"#d8576b\"], [0.6666666666666666, \"#ed7953\"], [0.7777777777777778, \"#fb9f3a\"], [0.8888888888888888, \"#fdca26\"], [1.0, \"#f0f921\"]], \"type\": \"surface\"}], \"table\": [{\"cells\": {\"fill\": {\"color\": \"#EBF0F8\"}, \"line\": {\"color\": \"white\"}}, \"header\": {\"fill\": {\"color\": \"#C8D4E3\"}, \"line\": {\"color\": \"white\"}}, \"type\": \"table\"}]}, \"layout\": {\"annotationdefaults\": {\"arrowcolor\": \"#2a3f5f\", \"arrowhead\": 0, \"arrowwidth\": 1}, \"autotypenumbers\": \"strict\", \"coloraxis\": {\"colorbar\": {\"outlinewidth\": 0, \"ticks\": \"\"}}, \"colorscale\": {\"diverging\": [[0, \"#8e0152\"], [0.1, \"#c51b7d\"], [0.2, \"#de77ae\"], [0.3, \"#f1b6da\"], [0.4, \"#fde0ef\"], [0.5, \"#f7f7f7\"], [0.6, \"#e6f5d0\"], [0.7, \"#b8e186\"], [0.8, \"#7fbc41\"], [0.9, \"#4d9221\"], [1, \"#276419\"]], \"sequential\": [[0.0, \"#0d0887\"], [0.1111111111111111, \"#46039f\"], [0.2222222222222222, \"#7201a8\"], [0.3333333333333333, \"#9c179e\"], [0.4444444444444444, \"#bd3786\"], [0.5555555555555556, \"#d8576b\"], [0.6666666666666666, \"#ed7953\"], [0.7777777777777778, \"#fb9f3a\"], [0.8888888888888888, \"#fdca26\"], [1.0, \"#f0f921\"]], \"sequentialminus\": [[0.0, \"#0d0887\"], [0.1111111111111111, \"#46039f\"], [0.2222222222222222, \"#7201a8\"], [0.3333333333333333, \"#9c179e\"], [0.4444444444444444, \"#bd3786\"], [0.5555555555555556, \"#d8576b\"], [0.6666666666666666, \"#ed7953\"], [0.7777777777777778, \"#fb9f3a\"], [0.8888888888888888, \"#fdca26\"], [1.0, \"#f0f921\"]]}, \"colorway\": [\"#636efa\", \"#EF553B\", \"#00cc96\", \"#ab63fa\", \"#FFA15A\", \"#19d3f3\", \"#FF6692\", \"#B6E880\", \"#FF97FF\", \"#FECB52\"], \"font\": {\"color\": \"#2a3f5f\"}, \"geo\": {\"bgcolor\": \"white\", \"lakecolor\": \"white\", \"landcolor\": \"#E5ECF6\", \"showlakes\": true, \"showland\": true, \"subunitcolor\": \"white\"}, \"hoverlabel\": {\"align\": \"left\"}, \"hovermode\": \"closest\", \"mapbox\": {\"style\": \"light\"}, \"paper_bgcolor\": \"white\", \"plot_bgcolor\": \"#E5ECF6\", \"polar\": {\"angularaxis\": {\"gridcolor\": \"white\", \"linecolor\": \"white\", \"ticks\": \"\"}, \"bgcolor\": \"#E5ECF6\", \"radialaxis\": {\"gridcolor\": \"white\", \"linecolor\": \"white\", \"ticks\": \"\"}}, \"scene\": {\"xaxis\": {\"backgroundcolor\": \"#E5ECF6\", \"gridcolor\": \"white\", \"gridwidth\": 2, \"linecolor\": \"white\", \"showbackground\": true, \"ticks\": \"\", \"zerolinecolor\": \"white\"}, \"yaxis\": {\"backgroundcolor\": \"#E5ECF6\", \"gridcolor\": \"white\", \"gridwidth\": 2, \"linecolor\": \"white\", \"showbackground\": true, \"ticks\": \"\", \"zerolinecolor\": \"white\"}, \"zaxis\": {\"backgroundcolor\": \"#E5ECF6\", \"gridcolor\": \"white\", \"gridwidth\": 2, \"linecolor\": \"white\", \"showbackground\": true, \"ticks\": \"\", \"zerolinecolor\": \"white\"}}, \"shapedefaults\": {\"line\": {\"color\": \"#2a3f5f\"}}, \"ternary\": {\"aaxis\": {\"gridcolor\": \"white\", \"linecolor\": \"white\", \"ticks\": \"\"}, \"baxis\": {\"gridcolor\": \"white\", \"linecolor\": \"white\", \"ticks\": \"\"}, \"bgcolor\": \"#E5ECF6\", \"caxis\": {\"gridcolor\": \"white\", \"linecolor\": \"white\", \"ticks\": \"\"}}, \"title\": {\"x\": 0.05}, \"xaxis\": {\"automargin\": true, \"gridcolor\": \"white\", \"linecolor\": \"white\", \"ticks\": \"\", \"title\": {\"standoff\": 15}, \"zerolinecolor\": \"white\", \"zerolinewidth\": 2}, \"yaxis\": {\"automargin\": true, \"gridcolor\": \"white\", \"linecolor\": \"white\", \"ticks\": \"\", \"title\": {\"standoff\": 15}, \"zerolinecolor\": \"white\", \"zerolinewidth\": 2}}}, \"xaxis\": {\"anchor\": \"y\", \"domain\": [0.0, 1.0], \"title\": {\"text\": \"Word Count\"}}, \"yaxis\": {\"anchor\": \"x\", \"domain\": [0.0, 1.0], \"title\": {\"text\": \"Popularity\"}}},                        {\"responsive\": true}                    ).then(function(){\n",
       "                            \n",
       "var gd = document.getElementById('cda29094-6d66-4ec3-8cc2-218a27f177f9');\n",
       "var x = new MutationObserver(function (mutations, observer) {{\n",
       "        var display = window.getComputedStyle(gd).display;\n",
       "        if (!display || display === 'none') {{\n",
       "            console.log([gd, 'removed!']);\n",
       "            Plotly.purge(gd);\n",
       "            observer.disconnect();\n",
       "        }}\n",
       "}});\n",
       "\n",
       "// Listen for the removal of the full notebook cells\n",
       "var notebookContainer = gd.closest('#notebook-container');\n",
       "if (notebookContainer) {{\n",
       "    x.observe(notebookContainer, {childList: true});\n",
       "}}\n",
       "\n",
       "// Listen for the clearing of the current output cell\n",
       "var outputEl = gd.closest('.output');\n",
       "if (outputEl) {{\n",
       "    x.observe(outputEl, {childList: true});\n",
       "}}\n",
       "\n",
       "                        })                };                });            </script>        </div>"
      ]
     },
     "metadata": {},
     "output_type": "display_data"
    }
   ],
   "source": [
    "px.scatter(data_no_outliers, x='Word Count', y='Popularity', hover_data=['HG Story Title'], trendline='ols')"
   ]
  },
  {
   "cell_type": "markdown",
   "metadata": {},
   "source": [
    "### How does release date relate to popularity?\n",
    "\n",
    "We might expect earlier released games to be more popular, just because they've had more time to acquire readers. But we might also expect later released games to be more popular, because of greater visibility for HG in more recent years, and the more recent release of the omnibus app. Or maybe there is no relation at all. Which hypothesis is true?"
   ]
  },
  {
   "cell_type": "code",
   "execution_count": 41,
   "metadata": {},
   "outputs": [
    {
     "data": {
      "text/plain": [
       "<matplotlib.collections.PathCollection at 0x7f6c42af7be0>"
      ]
     },
     "execution_count": 41,
     "metadata": {},
     "output_type": "execute_result"
    },
    {
     "data": {
      "image/png": "[encoded data removed]",
      "text/plain": [
       "<Figure size 432x288 with 1 Axes>"
      ]
     },
     "metadata": {
      "needs_background": "light"
     },
     "output_type": "display_data"
    }
   ],
   "source": [
    "plt.scatter(data['Release Date'], data['Popularity'])"
   ]
  },
  {
   "cell_type": "code",
   "execution_count": 97,
   "metadata": {},
   "outputs": [
    {
     "data": {
      "application/vnd.plotly.v1+json": {
       "config": {
        "plotlyServerURL": "https://plot.ly"
       },
       "data": [
        {
         "customdata": [
          [
           "Popcorn, Soda�Murder?"
          ],
          [
           "The Nightmare Maze"
          ],
          [
           "What Happened Last Night?"
          ],
          [
           "Paranoia"
          ],
          [
           "Imprisoned"
          ],
          [
           "Land of Three Classes"
          ],
          [
           "Marine Raider"
          ],
          [
           "Dilemma"
          ],
          [
           "Zombie Exodus"
          ],
          [
           "Zebulon"
          ],
          [
           "Mobile Armored Marine: Mission to Far Hope"
          ],
          [
           "The Race"
          ],
          [
           "Dead Already?"
          ],
          [
           "Apex Patrol"
          ],
          [
           "The Sons of the Cherry"
          ],
          [
           "Way Walkers: University"
          ],
          [
           "Life of a Wizard"
          ],
          [
           "Sabres of Infinity"
          ],
          [
           "Paradox Factor"
          ],
          [
           "Way Walkers: University 2"
          ],
          [
           "Burn(t)"
          ],
          [
           "UnNatural"
          ],
          [
           "Tin Star"
          ],
          [
           "Trial of the Demon Hunter"
          ],
          [
           "Planetary Quarantine"
          ],
          [
           "Life of a Mobster"
          ],
          [
           "Fatehaven"
          ],
          [
           "Path of Light"
          ],
          [
           "Sword of the Elements"
          ],
          [
           "The Gangs of Old Camp"
          ],
          [
           "Divided We Fall"
          ],
          [
           "The Ascot"
          ],
          [
           "Somme Trench"
          ],
          [
           "Silent Gear"
          ],
          [
           "Lords of Aswisk - First of His Blood"
          ],
          [
           "The Lost Heir: The Fall of Daria"
          ],
          [
           "Seven Bullets"
          ],
          [
           "Zombien"
          ],
          [
           "The Volunteer Firefighter"
          ],
          [
           "The Shadow Horror"
          ],
          [
           "No Proper Thief"
          ],
          [
           "Double/Cross"
          ],
          [
           "Samurai of Hyuga"
          ],
          [
           "Dancing with Demons"
          ],
          [
           "So, You’re Possessed!"
          ],
          [
           "Founders Saga: The Culling"
          ],
          [
           "Attack of the Clockwork Army"
          ],
          [
           "A Study in Steampunk: Choice by Gaslight"
          ],
          [
           "Captive of Fortune"
          ],
          [
           "Factions: Raids of the Divided"
          ],
          [
           "Community College Hero"
          ],
          [
           "Vampire House"
          ],
          [
           "Lost Heir 2: Forging a Kingdom"
          ],
          [
           "Wizardy Level C"
          ],
          [
           "Magikiras"
          ],
          [
           "Scarlet Sails"
          ],
          [
           "Guns of Infinity"
          ],
          [
           "First Year Demons"
          ],
          [
           "Best of Us"
          ],
          [
           "Gambling With Eternity"
          ],
          [
           "Doomsday on Demand"
          ],
          [
           "Starship Adventures"
          ],
          [
           "The Iron Destinies"
          ],
          [
           "Swamp Castle"
          ],
          [
           "The 3Games"
          ],
          [
           "Academy of Disaster"
          ],
          [
           "Machinations: Fog of War"
          ],
          [
           "Samurai of Hyuga Book 2"
          ],
          [
           "Elemental Saga: The Awakening"
          ],
          [
           "Tomb of the Khan"
          ],
          [
           "Twin Flames"
          ],
          [
           "Zombie Exodus: Safe Haven"
          ],
          [
           "Tokyo Wizard"
          ],
          [
           "Evertree Inn"
          ],
          [
           "The Great Tournament"
          ],
          [
           "Spacing Out"
          ],
          [
           "The Lost Heir 3: Demon War"
          ],
          [
           "Paradigm City"
          ],
          [
           "The Daily Blackmail"
          ],
          [
           "Treasure of the Forbidden City"
          ],
          [
           "My Day off Work"
          ],
          [
           "The Spy and the Labyrinth"
          ],
          [
           "Diamant Rose"
          ],
          [
           "The Dryad’s Riddle"
          ],
          [
           "Knight of the Fellowship"
          ],
          [
           "Lost in the Pages"
          ],
          [
           "Highlands, Deep Waters"
          ],
          [
           "Samurai of Hyuga Book 3"
          ],
          [
           "Foundation of Nightmares"
          ],
          [
           "The Aether: Life as a God"
          ],
          [
           "Comrade or Czar"
          ],
          [
           "The Great Tournament 2"
          ],
          [
           "Wayhaven Chronicles: Book One"
          ],
          [
           "Fallen Hero: Rebirth"
          ],
          [
           "Highway Wars"
          ],
          [
           "NE by NW Oz"
          ],
          [
           "The Kepler Colony: Evacuation"
          ],
          [
           "Community College Hero: Knowledge is Power"
          ],
          [
           "A Mummy is Not an Antique"
          ],
          [
           "The Courting of Miss Bennet"
          ],
          [
           "Doomsday on Demand 2"
          ],
          [
           "The Harbinger’s Head"
          ],
          [
           "The Last Wizard"
          ],
          [
           "The Magician’s Burden"
          ],
          [
           "The Haze Under Windbrooke"
          ],
          [
           "The Grim and I"
          ],
          [
           "The Twelve Trials"
          ],
          [
           "Nuclear Powered Toaster"
          ],
          [
           "Love at Elevation"
          ],
          [
           "Missing Wings"
          ],
          [
           "The Slayer of Evil"
          ],
          [
           "The Butler Did It"
          ],
          [
           "Critical Mass: The Bridge"
          ],
          [
           "Life of a Mercenary"
          ],
          [
           "Gladiator: Road to the Colosseum"
          ],
          [
           "Keeper of the Sun and Moon"
          ],
          [
           "Dragon Racer"
          ],
          [
           "Tudor Intrigue"
          ],
          [
           "The Paths to Greatness"
          ],
          [
           "Sordwin"
          ],
          [
           "Totem Force"
          ],
          [
           "The Saga of Oedipus Rex"
          ],
          [
           "Scratch"
          ],
          [
           "Who Was the Real Robin Hood?"
          ],
          [
           "A Sensei’s Story"
          ],
          [
           "One Minute Mysteries"
          ],
          [
           "Samurai of Hyuga Book 4"
          ],
          [
           "Hero or Villain: Genesis"
          ],
          [
           "The Parenting Simulator"
          ],
          [
           "Death at the Rectory"
          ],
          [
           "Moonrise"
          ],
          [
           "War of the Gods"
          ],
          [
           "The Oldest Dream"
          ],
          [
           "Breach: The Archangel Job"
          ],
          [
           "The War for the West"
          ],
          [
           "Street Jam: The Rise"
          ],
          [
           "The Shadow Society"
          ],
          [
           "Critical Mass: The Black Vein"
          ],
          [
           "The Soul Stone War"
          ],
          [
           "The Aegis Saga*"
          ],
          [
           "Kidnapped Prom Queen"
          ],
          [
           "Wayhaven Chronicles: Book Two*"
          ],
          [
           "AI-Aftermath"
          ],
          [
           "Journey into Darkness"
          ],
          [
           "War for Magincia"
          ],
          [
           "Trees Don’t Tell"
          ],
          [
           "President Disaster"
          ],
          [
           "The Floating City"
          ],
          [
           "Macabre Mansion"
          ],
          [
           "A Sorcerer’s Story"
          ],
          [
           "Balance of Superpower"
          ],
          [
           "Hero or Villain: Battle Royale*"
          ],
          [
           "Demon: Recollect"
          ],
          [
           "Too Different"
          ],
          [
           "Score of a Lifetime"
          ],
          [
           "After the Storm"
          ],
          [
           "The Brothers’ War"
          ],
          [
           "Relics of the Lost Age"
          ],
          [
           "Keeper of the Day and Night"
          ],
          [
           "The Mage’s Adventures"
          ],
          [
           "War of 2022"
          ]
         ],
         "hovertemplate": "Release Date=%{x}<br>Popularity=%{y}<br>HG Story Title=%{customdata[0]}<extra></extra>",
         "legendgroup": "",
         "marker": {
          "color": "#636efa",
          "symbol": "circle"
         },
         "mode": "markers",
         "name": "",
         "orientation": "v",
         "showlegend": false,
         "type": "scatter",
         "x": [
          "2010-03-04T00:00:00",
          "2010-06-17T00:00:00",
          "2010-07-19T00:00:00",
          "2011-04-16T00:00:00",
          "2011-04-21T00:00:00",
          "2011-04-21T00:00:00",
          "2011-04-25T00:00:00",
          "2011-11-29T00:00:00",
          "2011-12-04T00:00:00",
          "2011-12-12T00:00:00",
          "2011-12-16T00:00:00",
          "2011-12-22T00:00:00",
          "2011-12-22T00:00:00",
          "2012-03-23T00:00:00",
          "2012-04-28T00:00:00",
          "2012-08-31T00:00:00",
          "2013-02-27T00:00:00",
          "2013-06-21T00:00:00",
          "2013-08-02T00:00:00",
          "2013-10-18T00:00:00",
          "2013-12-20T00:00:00",
          "2014-01-03T00:00:00",
          "2014-02-21T00:00:00",
          "2014-04-03T00:00:00",
          "2014-05-16T00:00:00",
          "2014-07-11T00:00:00",
          "2014-08-08T00:00:00",
          "2014-08-15T00:00:00",
          "2014-09-05T00:00:00",
          "2014-09-12T00:00:00",
          "2014-10-17T00:00:00",
          "2014-12-05T00:00:00",
          "2014-12-29T00:00:00",
          "2014-12-29T00:00:00",
          "2015-01-30T00:00:00",
          "2015-02-20T00:00:00",
          "2015-02-20T00:00:00",
          "2015-03-06T00:00:00",
          "2015-03-13T00:00:00",
          "2015-04-10T00:00:00",
          "2015-04-17T00:00:00",
          "2015-07-03T00:00:00",
          "2015-07-17T00:00:00",
          "2015-08-14T00:00:00",
          "2015-08-28T00:00:00",
          "2015-10-02T00:00:00",
          "2015-11-06T00:00:00",
          "2015-11-20T00:00:00",
          "2015-11-20T00:00:00",
          "2015-11-27T00:00:00",
          "2015-12-04T00:00:00",
          "2016-01-25T00:00:00",
          "2016-01-28T00:00:00",
          "2016-02-12T00:00:00",
          "2016-03-11T00:00:00",
          "2016-03-11T00:00:00",
          "2016-03-25T00:00:00",
          "2016-04-08T00:00:00",
          "2016-04-22T00:00:00",
          "2016-04-29T00:00:00",
          "2016-05-06T00:00:00",
          "2016-05-06T00:00:00",
          "2016-06-10T00:00:00",
          "2016-07-29T00:00:00",
          "2016-07-29T00:00:00",
          "2016-07-29T00:00:00",
          "2016-08-19T00:00:00",
          "2016-09-16T00:00:00",
          "2016-10-07T00:00:00",
          "2016-10-07T00:00:00",
          "2016-10-21T00:00:00",
          "2016-10-28T00:00:00",
          "2016-12-16T00:00:00",
          "2017-01-20T00:00:00",
          "2017-03-03T00:00:00",
          "2017-03-03T00:00:00",
          "2017-03-17T00:00:00",
          "2017-04-14T00:00:00",
          "2017-04-14T00:00:00",
          "2017-06-01T00:00:00",
          "2017-07-14T00:00:00",
          "2017-07-27T00:00:00",
          "2017-08-10T00:00:00",
          "2017-08-18T00:00:00",
          "2017-08-18T00:00:00",
          "2017-09-14T00:00:00",
          "2017-09-28T00:00:00",
          "2017-12-01T00:00:00",
          "2017-12-19T00:00:00",
          "2018-01-11T00:00:00",
          "2018-02-01T00:00:00",
          "2018-02-09T00:00:00",
          "2018-03-08T00:00:00",
          "2018-03-15T00:00:00",
          "2018-03-15T00:00:00",
          "2018-04-30T00:00:00",
          "2018-05-10T00:00:00",
          "2018-05-17T00:00:00",
          "2018-06-01T00:00:00",
          "2018-06-07T00:00:00",
          "2018-06-26T00:00:00",
          "2018-07-18T00:00:00",
          "2018-08-02T00:00:00",
          "2018-08-16T00:00:00",
          "2018-08-16T00:00:00",
          "2018-09-27T00:00:00",
          "2018-09-27T00:00:00",
          "2018-10-25T00:00:00",
          "2018-11-05T00:00:00",
          "2018-11-12T00:00:00",
          "2018-11-12T00:00:00",
          "2018-11-22T00:00:00",
          "2018-11-22T00:00:00",
          "2018-12-18T00:00:00",
          "2019-01-17T00:00:00",
          "2019-01-24T00:00:00",
          "2019-01-31T00:00:00",
          "2019-02-22T00:00:00",
          "2019-02-22T00:00:00",
          "2019-03-07T00:00:00",
          "2019-04-04T00:00:00",
          "2019-05-17T00:00:00",
          "2019-07-01T00:00:00",
          "2019-07-01T00:00:00",
          "2019-07-01T00:00:00",
          "2019-07-22T00:00:00",
          "2019-08-29T00:00:00",
          "2019-09-19T00:00:00",
          "2019-09-30T00:00:00",
          "2019-09-30T00:00:00",
          "2019-10-17T00:00:00",
          "2019-10-17T00:00:00",
          "2019-10-17T00:00:00",
          "2019-11-14T00:00:00",
          "2019-11-14T00:00:00",
          "2020-01-09T00:00:00",
          "2020-02-06T00:00:00",
          "2020-02-06T00:00:00",
          "2020-03-05T00:00:00",
          "2020-04-02T00:00:00",
          "2020-04-02T00:00:00",
          "2020-05-07T00:00:00",
          "2020-05-21T00:00:00",
          "2020-05-21T00:00:00",
          "2020-06-04T00:00:00",
          "2020-07-02T00:00:00",
          "2020-07-02T00:00:00",
          "2020-08-06T00:00:00",
          "2020-08-06T00:00:00",
          "2020-09-02T00:00:00",
          "2020-09-02T00:00:00",
          "2020-09-16T00:00:00",
          "2020-10-01T00:00:00",
          "2020-10-09T00:00:00",
          "2020-11-05T00:00:00",
          "2020-12-03T00:00:00",
          "2021-01-07T00:00:00",
          "2021-01-07T00:00:00",
          "2021-04-01T00:00:00",
          "2021-04-15T00:00:00",
          "2021-04-15T00:00:00"
         ],
         "xaxis": "x",
         "y": [
          1294,
          1098,
          887,
          1319,
          2569,
          183,
          3048,
          845,
          8654,
          373,
          2640,
          500,
          621,
          452,
          413,
          1605,
          2063,
          1876,
          367,
          1368,
          939,
          4109,
          2035,
          352,
          151,
          1739,
          1797,
          null,
          108,
          166,
          234,
          137,
          481,
          null,
          1292,
          4097,
          290,
          1989,
          293,
          72,
          268,
          617,
          6063,
          196,
          938,
          735,
          174,
          1128,
          82,
          151,
          3742,
          4694,
          2408,
          287,
          864,
          316,
          1330,
          84,
          419,
          323,
          5812,
          108,
          142,
          4276,
          156,
          96,
          136,
          3288,
          989,
          89,
          171,
          9363,
          1058,
          5461,
          46480,
          210,
          1716,
          929,
          223,
          69,
          1021,
          48,
          83,
          41,
          221,
          150,
          567,
          2419,
          113,
          5118,
          240,
          3158,
          17716,
          5587,
          598,
          38,
          409,
          1529,
          18,
          273,
          550,
          199,
          1058,
          839,
          135,
          1934,
          408,
          119,
          1108,
          70,
          61,
          221,
          186,
          23320,
          1502,
          4107,
          1893,
          750,
          369,
          4358,
          834,
          232,
          139,
          93,
          466,
          29,
          4721,
          11364,
          4010,
          172,
          349,
          5623,
          438,
          6764,
          7198,
          1166,
          3694,
          148,
          4480,
          314,
          131,
          14777,
          142,
          null,
          1107,
          25,
          430,
          69,
          140,
          174,
          492,
          2342,
          2767,
          701,
          261,
          1364,
          410,
          744,
          2764,
          581,
          690
         ],
         "yaxis": "y"
        },
        {
         "hovertemplate": "<b>OLS trendline</b><br>Popularity = 2.80824e-06 * Release Date + -2132.98<br>R<sup>2</sup>=0.002635<br><br>Release Date=%{x}<br>Popularity=%{y} <b>(trend)</b><extra></extra>",
         "legendgroup": "",
         "marker": {
          "color": "#636efa",
          "symbol": "circle"
         },
         "mode": "lines",
         "name": "",
         "showlegend": false,
         "type": "scatter",
         "x": [
          "2010-03-04T00:00:00",
          "2010-06-17T00:00:00",
          "2010-07-19T00:00:00",
          "2011-04-16T00:00:00",
          "2011-04-21T00:00:00",
          "2011-04-21T00:00:00",
          "2011-04-25T00:00:00",
          "2011-11-29T00:00:00",
          "2011-12-04T00:00:00",
          "2011-12-12T00:00:00",
          "2011-12-16T00:00:00",
          "2011-12-22T00:00:00",
          "2011-12-22T00:00:00",
          "2012-03-23T00:00:00",
          "2012-04-28T00:00:00",
          "2012-08-31T00:00:00",
          "2013-02-27T00:00:00",
          "2013-06-21T00:00:00",
          "2013-08-02T00:00:00",
          "2013-10-18T00:00:00",
          "2013-12-20T00:00:00",
          "2014-01-03T00:00:00",
          "2014-02-21T00:00:00",
          "2014-04-03T00:00:00",
          "2014-05-16T00:00:00",
          "2014-07-11T00:00:00",
          "2014-08-08T00:00:00",
          "2014-09-05T00:00:00",
          "2014-09-12T00:00:00",
          "2014-10-17T00:00:00",
          "2014-12-05T00:00:00",
          "2014-12-29T00:00:00",
          "2015-01-30T00:00:00",
          "2015-02-20T00:00:00",
          "2015-02-20T00:00:00",
          "2015-03-06T00:00:00",
          "2015-03-13T00:00:00",
          "2015-04-10T00:00:00",
          "2015-04-17T00:00:00",
          "2015-07-03T00:00:00",
          "2015-07-17T00:00:00",
          "2015-08-14T00:00:00",
          "2015-08-28T00:00:00",
          "2015-10-02T00:00:00",
          "2015-11-06T00:00:00",
          "2015-11-20T00:00:00",
          "2015-11-20T00:00:00",
          "2015-11-27T00:00:00",
          "2015-12-04T00:00:00",
          "2016-01-25T00:00:00",
          "2016-01-28T00:00:00",
          "2016-02-12T00:00:00",
          "2016-03-11T00:00:00",
          "2016-03-11T00:00:00",
          "2016-03-25T00:00:00",
          "2016-04-08T00:00:00",
          "2016-04-22T00:00:00",
          "2016-04-29T00:00:00",
          "2016-05-06T00:00:00",
          "2016-05-06T00:00:00",
          "2016-06-10T00:00:00",
          "2016-07-29T00:00:00",
          "2016-07-29T00:00:00",
          "2016-07-29T00:00:00",
          "2016-08-19T00:00:00",
          "2016-09-16T00:00:00",
          "2016-10-07T00:00:00",
          "2016-10-07T00:00:00",
          "2016-10-21T00:00:00",
          "2016-10-28T00:00:00",
          "2016-12-16T00:00:00",
          "2017-01-20T00:00:00",
          "2017-03-03T00:00:00",
          "2017-03-03T00:00:00",
          "2017-03-17T00:00:00",
          "2017-04-14T00:00:00",
          "2017-04-14T00:00:00",
          "2017-06-01T00:00:00",
          "2017-07-14T00:00:00",
          "2017-07-27T00:00:00",
          "2017-08-10T00:00:00",
          "2017-08-18T00:00:00",
          "2017-08-18T00:00:00",
          "2017-09-14T00:00:00",
          "2017-09-28T00:00:00",
          "2017-12-01T00:00:00",
          "2017-12-19T00:00:00",
          "2018-01-11T00:00:00",
          "2018-02-01T00:00:00",
          "2018-02-09T00:00:00",
          "2018-03-08T00:00:00",
          "2018-03-15T00:00:00",
          "2018-03-15T00:00:00",
          "2018-04-30T00:00:00",
          "2018-05-10T00:00:00",
          "2018-05-17T00:00:00",
          "2018-06-01T00:00:00",
          "2018-06-07T00:00:00",
          "2018-06-26T00:00:00",
          "2018-07-18T00:00:00",
          "2018-08-02T00:00:00",
          "2018-08-16T00:00:00",
          "2018-08-16T00:00:00",
          "2018-09-27T00:00:00",
          "2018-09-27T00:00:00",
          "2018-10-25T00:00:00",
          "2018-11-05T00:00:00",
          "2018-11-12T00:00:00",
          "2018-11-12T00:00:00",
          "2018-11-22T00:00:00",
          "2018-11-22T00:00:00",
          "2018-12-18T00:00:00",
          "2019-01-17T00:00:00",
          "2019-01-24T00:00:00",
          "2019-01-31T00:00:00",
          "2019-02-22T00:00:00",
          "2019-02-22T00:00:00",
          "2019-03-07T00:00:00",
          "2019-04-04T00:00:00",
          "2019-05-17T00:00:00",
          "2019-07-01T00:00:00",
          "2019-07-01T00:00:00",
          "2019-07-01T00:00:00",
          "2019-07-22T00:00:00",
          "2019-08-29T00:00:00",
          "2019-09-19T00:00:00",
          "2019-09-30T00:00:00",
          "2019-09-30T00:00:00",
          "2019-10-17T00:00:00",
          "2019-10-17T00:00:00",
          "2019-10-17T00:00:00",
          "2019-11-14T00:00:00",
          "2019-11-14T00:00:00",
          "2020-01-09T00:00:00",
          "2020-02-06T00:00:00",
          "2020-02-06T00:00:00",
          "2020-03-05T00:00:00",
          "2020-04-02T00:00:00",
          "2020-04-02T00:00:00",
          "2020-05-07T00:00:00",
          "2020-05-21T00:00:00",
          "2020-06-04T00:00:00",
          "2020-07-02T00:00:00",
          "2020-07-02T00:00:00",
          "2020-08-06T00:00:00",
          "2020-08-06T00:00:00",
          "2020-09-02T00:00:00",
          "2020-09-02T00:00:00",
          "2020-09-16T00:00:00",
          "2020-10-01T00:00:00",
          "2020-10-09T00:00:00",
          "2020-11-05T00:00:00",
          "2020-12-03T00:00:00",
          "2021-01-07T00:00:00",
          "2021-01-07T00:00:00",
          "2021-04-01T00:00:00",
          "2021-04-15T00:00:00",
          "2021-04-15T00:00:00"
         ],
         "xaxis": "x",
         "y": [
          1426.9140262501064,
          1452.3904019228416,
          1460.1546306992946,
          1525.9079431498785,
          1527.1211038961992,
          1527.1211038961992,
          1528.0916324932555,
          1580.9854410328398,
          1582.1986017791605,
          1584.1396589732735,
          1585.1101875703303,
          1586.565980465915,
          1586.565980465915,
          1608.8881381982164,
          1617.622895571726,
          1647.9519142297445,
          1691.6257010972909,
          1719.2857661134035,
          1729.4763163824978,
          1748.1589918758368,
          1763.4448172794782,
          1766.8416673691763,
          1778.7306426831196,
          1788.6785608029495,
          1799.1117432213077,
          1812.6991435801,
          1819.4928437594963,
          1826.2865439388925,
          1827.9849689837415,
          1836.4770942079863,
          1848.3660695219296,
          1854.189241104269,
          1861.953469880722,
          1867.048745015269,
          1867.048745015269,
          1870.4455951049672,
          1872.1440201498162,
          1878.9377203292124,
          1880.6361453740615,
          1899.3188208674005,
          1902.7156709570986,
          1909.5093711364948,
          1912.9062212261929,
          1921.398346450438,
          1929.8904716746829,
          1933.287321764381,
          1933.287321764381,
          1934.98574680923,
          1936.684171854079,
          1949.3010436158147,
          1950.0289400636075,
          1953.6684223025695,
          1960.4621224819657,
          1960.4621224819657,
          1963.8589725716633,
          1967.2558226613614,
          1970.6526727510595,
          1972.351097795909,
          1974.0495228407576,
          1974.0495228407576,
          1982.5416480650033,
          1994.4306233789462,
          1994.4306233789462,
          1994.4306233789462,
          1999.5258985134938,
          2006.319598692889,
          2011.4148738274366,
          2011.4148738274366,
          2014.8117239171347,
          2016.5101489619833,
          2028.399124275927,
          2036.8912495001719,
          2047.0817997692661,
          2047.0817997692661,
          2050.478649858964,
          2057.2723500383604,
          2057.2723500383604,
          2068.9186932030393,
          2079.3518756213975,
          2082.5060935618317,
          2085.9029436515298,
          2087.844000845643,
          2087.844000845643,
          2094.3950688757745,
          2097.7919189654726,
          2113.3203765183785,
          2117.6877552051333,
          2123.268294638208,
          2128.3635697727555,
          2130.304626966869,
          2136.8556949970002,
          2138.5541200418497,
          2138.5541200418497,
          2149.7151989080007,
          2152.141520400642,
          2153.8399454454907,
          2157.4794276844527,
          2158.9352205800383,
          2163.545231416057,
          2168.8831386998677,
          2172.5226209388297,
          2175.919471028528,
          2175.919471028528,
          2186.110021297622,
          2186.110021297622,
          2192.9037214770183,
          2195.5726751189245,
          2197.271100163773,
          2197.271100163773,
          2199.6974216564145,
          2199.6974216564145,
          2206.0058575372827,
          2213.284822015207,
          2214.9832470600554,
          2216.681672104905,
          2222.0195793887165,
          2222.0195793887165,
          2225.1737973291497,
          2231.967497508546,
          2242.400679926904,
          2253.319126643791,
          2253.319126643791,
          2253.319126643791,
          2258.414401778338,
          2267.6344234503754,
          2272.729698584923,
          2275.3986522268283,
          2275.3986522268283,
          2279.523398764319,
          2279.523398764319,
          2279.523398764319,
          2286.3170989437153,
          2286.3170989437153,
          2299.9044993025077,
          2306.698199481904,
          2306.698199481904,
          2313.491899661299,
          2320.2855998406953,
          2320.2855998406953,
          2328.777725064941,
          2332.174575154639,
          2335.571425244337,
          2342.3651254237334,
          2342.3651254237334,
          2350.857250647978,
          2350.857250647978,
          2357.4083186781104,
          2357.4083186781104,
          2360.8051687678085,
          2364.4446510067705,
          2366.385708200884,
          2372.9367762310153,
          2379.7304764104115,
          2388.222601634657,
          2388.222601634657,
          2408.603702172845,
          2412.000552262543,
          2412.000552262543
         ],
         "yaxis": "y"
        }
       ],
       "layout": {
        "autosize": true,
        "legend": {
         "tracegroupgap": 0
        },
        "margin": {
         "t": 60
        },
        "template": {
         "data": {
          "bar": [
           {
            "error_x": {
             "color": "#2a3f5f"
            },
            "error_y": {
             "color": "#2a3f5f"
            },
            "marker": {
             "line": {
              "color": "#E5ECF6",
              "width": 0.5
             }
            },
            "type": "bar"
           }
          ],
          "barpolar": [
           {
            "marker": {
             "line": {
              "color": "#E5ECF6",
              "width": 0.5
             }
            },
            "type": "barpolar"
           }
          ],
          "carpet": [
           {
            "aaxis": {
             "endlinecolor": "#2a3f5f",
             "gridcolor": "white",
             "linecolor": "white",
             "minorgridcolor": "white",
             "startlinecolor": "#2a3f5f"
            },
            "baxis": {
             "endlinecolor": "#2a3f5f",
             "gridcolor": "white",
             "linecolor": "white",
             "minorgridcolor": "white",
             "startlinecolor": "#2a3f5f"
            },
            "type": "carpet"
           }
          ],
          "choropleth": [
           {
            "colorbar": {
             "outlinewidth": 0,
             "ticks": ""
            },
            "type": "choropleth"
           }
          ],
          "contour": [
           {
            "colorbar": {
             "outlinewidth": 0,
             "ticks": ""
            },
            "colorscale": [
             [
              0,
              "#0d0887"
             ],
             [
              0.1111111111111111,
              "#46039f"
             ],
             [
              0.2222222222222222,
              "#7201a8"
             ],
             [
              0.3333333333333333,
              "#9c179e"
             ],
             [
              0.4444444444444444,
              "#bd3786"
             ],
             [
              0.5555555555555556,
              "#d8576b"
             ],
             [
              0.6666666666666666,
              "#ed7953"
             ],
             [
              0.7777777777777778,
              "#fb9f3a"
             ],
             [
              0.8888888888888888,
              "#fdca26"
             ],
             [
              1,
              "#f0f921"
             ]
            ],
            "type": "contour"
           }
          ],
          "contourcarpet": [
           {
            "colorbar": {
             "outlinewidth": 0,
             "ticks": ""
            },
            "type": "contourcarpet"
           }
          ],
          "heatmap": [
           {
            "colorbar": {
             "outlinewidth": 0,
             "ticks": ""
            },
            "colorscale": [
             [
              0,
              "#0d0887"
             ],
             [
              0.1111111111111111,
              "#46039f"
             ],
             [
              0.2222222222222222,
              "#7201a8"
             ],
             [
              0.3333333333333333,
              "#9c179e"
             ],
             [
              0.4444444444444444,
              "#bd3786"
             ],
             [
              0.5555555555555556,
              "#d8576b"
             ],
             [
              0.6666666666666666,
              "#ed7953"
             ],
             [
              0.7777777777777778,
              "#fb9f3a"
             ],
             [
              0.8888888888888888,
              "#fdca26"
             ],
             [
              1,
              "#f0f921"
             ]
            ],
            "type": "heatmap"
           }
          ],
          "heatmapgl": [
           {
            "colorbar": {
             "outlinewidth": 0,
             "ticks": ""
            },
            "colorscale": [
             [
              0,
              "#0d0887"
             ],
             [
              0.1111111111111111,
              "#46039f"
             ],
             [
              0.2222222222222222,
              "#7201a8"
             ],
             [
              0.3333333333333333,
              "#9c179e"
             ],
             [
              0.4444444444444444,
              "#bd3786"
             ],
             [
              0.5555555555555556,
              "#d8576b"
             ],
             [
              0.6666666666666666,
              "#ed7953"
             ],
             [
              0.7777777777777778,
              "#fb9f3a"
             ],
             [
              0.8888888888888888,
              "#fdca26"
             ],
             [
              1,
              "#f0f921"
             ]
            ],
            "type": "heatmapgl"
           }
          ],
          "histogram": [
           {
            "marker": {
             "colorbar": {
              "outlinewidth": 0,
              "ticks": ""
             }
            },
            "type": "histogram"
           }
          ],
          "histogram2d": [
           {
            "colorbar": {
             "outlinewidth": 0,
             "ticks": ""
            },
            "colorscale": [
             [
              0,
              "#0d0887"
             ],
             [
              0.1111111111111111,
              "#46039f"
             ],
             [
              0.2222222222222222,
              "#7201a8"
             ],
             [
              0.3333333333333333,
              "#9c179e"
             ],
             [
              0.4444444444444444,
              "#bd3786"
             ],
             [
              0.5555555555555556,
              "#d8576b"
             ],
             [
              0.6666666666666666,
              "#ed7953"
             ],
             [
              0.7777777777777778,
              "#fb9f3a"
             ],
             [
              0.8888888888888888,
              "#fdca26"
             ],
             [
              1,
              "#f0f921"
             ]
            ],
            "type": "histogram2d"
           }
          ],
          "histogram2dcontour": [
           {
            "colorbar": {
             "outlinewidth": 0,
             "ticks": ""
            },
            "colorscale": [
             [
              0,
              "#0d0887"
             ],
             [
              0.1111111111111111,
              "#46039f"
             ],
             [
              0.2222222222222222,
              "#7201a8"
             ],
             [
              0.3333333333333333,
              "#9c179e"
             ],
             [
              0.4444444444444444,
              "#bd3786"
             ],
             [
              0.5555555555555556,
              "#d8576b"
             ],
             [
              0.6666666666666666,
              "#ed7953"
             ],
             [
              0.7777777777777778,
              "#fb9f3a"
             ],
             [
              0.8888888888888888,
              "#fdca26"
             ],
             [
              1,
              "#f0f921"
             ]
            ],
            "type": "histogram2dcontour"
           }
          ],
          "mesh3d": [
           {
            "colorbar": {
             "outlinewidth": 0,
             "ticks": ""
            },
            "type": "mesh3d"
           }
          ],
          "parcoords": [
           {
            "line": {
             "colorbar": {
              "outlinewidth": 0,
              "ticks": ""
             }
            },
            "type": "parcoords"
           }
          ],
          "pie": [
           {
            "automargin": true,
            "type": "pie"
           }
          ],
          "scatter": [
           {
            "marker": {
             "colorbar": {
              "outlinewidth": 0,
              "ticks": ""
             }
            },
            "type": "scatter"
           }
          ],
          "scatter3d": [
           {
            "line": {
             "colorbar": {
              "outlinewidth": 0,
              "ticks": ""
             }
            },
            "marker": {
             "colorbar": {
              "outlinewidth": 0,
              "ticks": ""
             }
            },
            "type": "scatter3d"
           }
          ],
          "scattercarpet": [
           {
            "marker": {
             "colorbar": {
              "outlinewidth": 0,
              "ticks": ""
             }
            },
            "type": "scattercarpet"
           }
          ],
          "scattergeo": [
           {
            "marker": {
             "colorbar": {
              "outlinewidth": 0,
              "ticks": ""
             }
            },
            "type": "scattergeo"
           }
          ],
          "scattergl": [
           {
            "marker": {
             "colorbar": {
              "outlinewidth": 0,
              "ticks": ""
             }
            },
            "type": "scattergl"
           }
          ],
          "scattermapbox": [
           {
            "marker": {
             "colorbar": {
              "outlinewidth": 0,
              "ticks": ""
             }
            },
            "type": "scattermapbox"
           }
          ],
          "scatterpolar": [
           {
            "marker": {
             "colorbar": {
              "outlinewidth": 0,
              "ticks": ""
             }
            },
            "type": "scatterpolar"
           }
          ],
          "scatterpolargl": [
           {
            "marker": {
             "colorbar": {
              "outlinewidth": 0,
              "ticks": ""
             }
            },
            "type": "scatterpolargl"
           }
          ],
          "scatterternary": [
           {
            "marker": {
             "colorbar": {
              "outlinewidth": 0,
              "ticks": ""
             }
            },
            "type": "scatterternary"
           }
          ],
          "surface": [
           {
            "colorbar": {
             "outlinewidth": 0,
             "ticks": ""
            },
            "colorscale": [
             [
              0,
              "#0d0887"
             ],
             [
              0.1111111111111111,
              "#46039f"
             ],
             [
              0.2222222222222222,
              "#7201a8"
             ],
             [
              0.3333333333333333,
              "#9c179e"
             ],
             [
              0.4444444444444444,
              "#bd3786"
             ],
             [
              0.5555555555555556,
              "#d8576b"
             ],
             [
              0.6666666666666666,
              "#ed7953"
             ],
             [
              0.7777777777777778,
              "#fb9f3a"
             ],
             [
              0.8888888888888888,
              "#fdca26"
             ],
             [
              1,
              "#f0f921"
             ]
            ],
            "type": "surface"
           }
          ],
          "table": [
           {
            "cells": {
             "fill": {
              "color": "#EBF0F8"
             },
             "line": {
              "color": "white"
             }
            },
            "header": {
             "fill": {
              "color": "#C8D4E3"
             },
             "line": {
              "color": "white"
             }
            },
            "type": "table"
           }
          ]
         },
         "layout": {
          "annotationdefaults": {
           "arrowcolor": "#2a3f5f",
           "arrowhead": 0,
           "arrowwidth": 1
          },
          "autotypenumbers": "strict",
          "coloraxis": {
           "colorbar": {
            "outlinewidth": 0,
            "ticks": ""
           }
          },
          "colorscale": {
           "diverging": [
            [
             0,
             "#8e0152"
            ],
            [
             0.1,
             "#c51b7d"
            ],
            [
             0.2,
             "#de77ae"
            ],
            [
             0.3,
             "#f1b6da"
            ],
            [
             0.4,
             "#fde0ef"
            ],
            [
             0.5,
             "#f7f7f7"
            ],
            [
             0.6,
             "#e6f5d0"
            ],
            [
             0.7,
             "#b8e186"
            ],
            [
             0.8,
             "#7fbc41"
            ],
            [
             0.9,
             "#4d9221"
            ],
            [
             1,
             "#276419"
            ]
           ],
           "sequential": [
            [
             0,
             "#0d0887"
            ],
            [
             0.1111111111111111,
             "#46039f"
            ],
            [
             0.2222222222222222,
             "#7201a8"
            ],
            [
             0.3333333333333333,
             "#9c179e"
            ],
            [
             0.4444444444444444,
             "#bd3786"
            ],
            [
             0.5555555555555556,
             "#d8576b"
            ],
            [
             0.6666666666666666,
             "#ed7953"
            ],
            [
             0.7777777777777778,
             "#fb9f3a"
            ],
            [
             0.8888888888888888,
             "#fdca26"
            ],
            [
             1,
             "#f0f921"
            ]
           ],
           "sequentialminus": [
            [
             0,
             "#0d0887"
            ],
            [
             0.1111111111111111,
             "#46039f"
            ],
            [
             0.2222222222222222,
             "#7201a8"
            ],
            [
             0.3333333333333333,
             "#9c179e"
            ],
            [
             0.4444444444444444,
             "#bd3786"
            ],
            [
             0.5555555555555556,
             "#d8576b"
            ],
            [
             0.6666666666666666,
             "#ed7953"
            ],
            [
             0.7777777777777778,
             "#fb9f3a"
            ],
            [
             0.8888888888888888,
             "#fdca26"
            ],
            [
             1,
             "#f0f921"
            ]
           ]
          },
          "colorway": [
           "#636efa",
           "#EF553B",
           "#00cc96",
           "#ab63fa",
           "#FFA15A",
           "#19d3f3",
           "#FF6692",
           "#B6E880",
           "#FF97FF",
           "#FECB52"
          ],
          "font": {
           "color": "#2a3f5f"
          },
          "geo": {
           "bgcolor": "white",
           "lakecolor": "white",
           "landcolor": "#E5ECF6",
           "showlakes": true,
           "showland": true,
           "subunitcolor": "white"
          },
          "hoverlabel": {
           "align": "left"
          },
          "hovermode": "closest",
          "mapbox": {
           "style": "light"
          },
          "paper_bgcolor": "white",
          "plot_bgcolor": "#E5ECF6",
          "polar": {
           "angularaxis": {
            "gridcolor": "white",
            "linecolor": "white",
            "ticks": ""
           },
           "bgcolor": "#E5ECF6",
           "radialaxis": {
            "gridcolor": "white",
            "linecolor": "white",
            "ticks": ""
           }
          },
          "scene": {
           "xaxis": {
            "backgroundcolor": "#E5ECF6",
            "gridcolor": "white",
            "gridwidth": 2,
            "linecolor": "white",
            "showbackground": true,
            "ticks": "",
            "zerolinecolor": "white"
           },
           "yaxis": {
            "backgroundcolor": "#E5ECF6",
            "gridcolor": "white",
            "gridwidth": 2,
            "linecolor": "white",
            "showbackground": true,
            "ticks": "",
            "zerolinecolor": "white"
           },
           "zaxis": {
            "backgroundcolor": "#E5ECF6",
            "gridcolor": "white",
            "gridwidth": 2,
            "linecolor": "white",
            "showbackground": true,
            "ticks": "",
            "zerolinecolor": "white"
           }
          },
          "shapedefaults": {
           "line": {
            "color": "#2a3f5f"
           }
          },
          "ternary": {
           "aaxis": {
            "gridcolor": "white",
            "linecolor": "white",
            "ticks": ""
           },
           "baxis": {
            "gridcolor": "white",
            "linecolor": "white",
            "ticks": ""
           },
           "bgcolor": "#E5ECF6",
           "caxis": {
            "gridcolor": "white",
            "linecolor": "white",
            "ticks": ""
           }
          },
          "title": {
           "x": 0.05
          },
          "xaxis": {
           "automargin": true,
           "gridcolor": "white",
           "linecolor": "white",
           "ticks": "",
           "title": {
            "standoff": 15
           },
           "zerolinecolor": "white",
           "zerolinewidth": 2
          },
          "yaxis": {
           "automargin": true,
           "gridcolor": "white",
           "linecolor": "white",
           "ticks": "",
           "title": {
            "standoff": 15
           },
           "zerolinecolor": "white",
           "zerolinewidth": 2
          }
         }
        },
        "xaxis": {
         "anchor": "y",
         "autorange": true,
         "domain": [
          0,
          1
         ],
         "range": [
          "2009-07-01 03:51:22.0144",
          "2021-12-16 20:08:37.9856"
         ],
         "title": {
          "text": "Release Date"
         },
         "type": "date"
        },
        "yaxis": {
         "anchor": "x",
         "autorange": true,
         "domain": [
          0,
          1
         ],
         "range": [
          -3276.267034990792,
          49774.26703499079
         ],
         "title": {
          "text": "Popularity"
         },
         "type": "linear"
        }
       }
      },
      "image/png": "[encoded data removed]",
      "text/html": [
       "<div>                            <div id=\"6c01d59c-e730-4859-99d6-e15585bde5eb\" class=\"plotly-graph-div\" style=\"height:525px; width:100%;\"></div>            <script type=\"text/javascript\">                require([\"plotly\"], function(Plotly) {                    window.PLOTLYENV=window.PLOTLYENV || {};                                    if (document.getElementById(\"6c01d59c-e730-4859-99d6-e15585bde5eb\")) {                    Plotly.newPlot(                        \"6c01d59c-e730-4859-99d6-e15585bde5eb\",                        [{\"customdata\": [[\"Popcorn, Soda\\ufffdMurder?\"], [\"The Nightmare Maze\"], [\"What Happened Last Night?\"], [\"Paranoia\"], [\"Imprisoned\"], [\"Land of Three Classes\"], [\"Marine Raider\"], [\"Dilemma\"], [\"Zombie Exodus\"], [\"Zebulon\"], [\"Mobile Armored Marine: Mission to Far Hope\"], [\"The Race\"], [\"Dead Already?\"], [\"Apex Patrol\"], [\"The Sons of the Cherry\"], [\"Way Walkers: University\"], [\"Life of a Wizard\"], [\"Sabres of Infinity\"], [\"Paradox Factor\"], [\"Way Walkers: University 2\"], [\"Burn(t)\"], [\"UnNatural\"], [\"Tin Star\"], [\"Trial of the Demon Hunter\"], [\"Planetary Quarantine\"], [\"Life of a Mobster\"], [\"Fatehaven\"], [\"Path of Light\"], [\"Sword of the Elements\"], [\"The Gangs of Old Camp\"], [\"Divided We Fall\"], [\"The Ascot\"], [\"Somme Trench\"], [\"Silent Gear\"], [\"Lords of Aswisk - First of His Blood\"], [\"The Lost Heir: The Fall of Daria\"], [\"Seven Bullets\"], [\"Zombien\"], [\"The Volunteer Firefighter\"], [\"The Shadow Horror\"], [\"No Proper Thief\"], [\"Double/Cross\"], [\"Samurai of Hyuga\"], [\"Dancing with Demons\"], [\"So, You\\u2019re Possessed!\"], [\"Founders Saga: The Culling\"], [\"Attack of the Clockwork Army\"], [\"A Study in Steampunk: Choice by Gaslight\"], [\"Captive of Fortune\"], [\"Factions: Raids of the Divided\"], [\"Community College Hero\"], [\"Vampire House\"], [\"Lost Heir 2: Forging a Kingdom\"], [\"Wizardy Level C\"], [\"Magikiras\"], [\"Scarlet Sails\"], [\"Guns of Infinity\"], [\"First Year Demons\"], [\"Best of Us\"], [\"Gambling With Eternity\"], [\"Doomsday on Demand\"], [\"Starship Adventures\"], [\"The Iron Destinies\"], [\"Swamp Castle\"], [\"The 3Games\"], [\"Academy of Disaster\"], [\"Machinations: Fog of War\"], [\"Samurai of Hyuga Book 2\"], [\"Elemental Saga: The Awakening\"], [\"Tomb of the Khan\"], [\"Twin Flames\"], [\"Zombie Exodus: Safe Haven\"], [\"Tokyo Wizard\"], [\"Evertree Inn\"], [\"The Great Tournament\"], [\"Spacing Out\"], [\"The Lost Heir 3: Demon War\"], [\"Paradigm City\"], [\"The Daily Blackmail\"], [\"Treasure of the Forbidden City\"], [\"My Day off Work\"], [\"The Spy and the Labyrinth\"], [\"Diamant Rose\"], [\"The Dryad\\u2019s Riddle\"], [\"Knight of the Fellowship\"], [\"Lost in the Pages\"], [\"Highlands, Deep Waters\"], [\"Samurai of Hyuga Book 3\"], [\"Foundation of Nightmares\"], [\"The Aether: Life as a God\"], [\"Comrade or Czar\"], [\"The Great Tournament 2\"], [\"Wayhaven Chronicles: Book One\"], [\"Fallen Hero: Rebirth\"], [\"Highway Wars\"], [\"NE by NW Oz\"], [\"The Kepler Colony: Evacuation\"], [\"Community College Hero: Knowledge is Power\"], [\"A Mummy is Not an Antique\"], [\"The Courting of Miss Bennet\"], [\"Doomsday on Demand 2\"], [\"The Harbinger\\u2019s Head\"], [\"The Last Wizard\"], [\"The Magician\\u2019s Burden\"], [\"The Haze Under Windbrooke\"], [\"The Grim and I\"], [\"The Twelve Trials\"], [\"Nuclear Powered Toaster\"], [\"Love at Elevation\"], [\"Missing Wings\"], [\"The Slayer of Evil\"], [\"The Butler Did It\"], [\"Critical Mass: The Bridge\"], [\"Life of a Mercenary\"], [\"Gladiator: Road to the Colosseum\"], [\"Keeper of the Sun and Moon\"], [\"Dragon Racer\"], [\"Tudor Intrigue\"], [\"The Paths to Greatness\"], [\"Sordwin\"], [\"Totem Force\"], [\"The Saga of Oedipus Rex\"], [\"Scratch\"], [\"Who Was the Real Robin Hood?\"], [\"A Sensei\\u2019s Story\"], [\"One Minute Mysteries\"], [\"Samurai of Hyuga Book 4\"], [\"Hero or Villain: Genesis\"], [\"The Parenting Simulator\"], [\"Death at the Rectory\"], [\"Moonrise\"], [\"War of the Gods\"], [\"The Oldest Dream\"], [\"Breach: The Archangel Job\"], [\"The War for the West\"], [\"Street Jam: The Rise\"], [\"The Shadow Society\"], [\"Critical Mass: The Black Vein\"], [\"The Soul Stone War\"], [\"The Aegis Saga*\"], [\"Kidnapped Prom Queen\"], [\"Wayhaven Chronicles: Book Two*\"], [\"AI-Aftermath\"], [\"Journey into Darkness\"], [\"War for Magincia\"], [\"Trees Don\\u2019t Tell\"], [\"President Disaster\"], [\"The Floating City\"], [\"Macabre Mansion\"], [\"A Sorcerer\\u2019s Story\"], [\"Balance of Superpower\"], [\"Hero or Villain: Battle Royale*\"], [\"Demon: Recollect\"], [\"Too Different\"], [\"Score of a Lifetime\"], [\"After the Storm\"], [\"The Brothers\\u2019 War\"], [\"Relics of the Lost Age\"], [\"Keeper of the Day and Night\"], [\"The Mage\\u2019s Adventures\"], [\"War of 2022\"]], \"hovertemplate\": \"Release Date=%{x}<br>Popularity=%{y}<br>HG Story Title=%{customdata[0]}<extra></extra>\", \"legendgroup\": \"\", \"marker\": {\"color\": \"#636efa\", \"symbol\": \"circle\"}, \"mode\": \"markers\", \"name\": \"\", \"orientation\": \"v\", \"showlegend\": false, \"type\": \"scatter\", \"x\": [\"2010-03-04T00:00:00\", \"2010-06-17T00:00:00\", \"2010-07-19T00:00:00\", \"2011-04-16T00:00:00\", \"2011-04-21T00:00:00\", \"2011-04-21T00:00:00\", \"2011-04-25T00:00:00\", \"2011-11-29T00:00:00\", \"2011-12-04T00:00:00\", \"2011-12-12T00:00:00\", \"2011-12-16T00:00:00\", \"2011-12-22T00:00:00\", \"2011-12-22T00:00:00\", \"2012-03-23T00:00:00\", \"2012-04-28T00:00:00\", \"2012-08-31T00:00:00\", \"2013-02-27T00:00:00\", \"2013-06-21T00:00:00\", \"2013-08-02T00:00:00\", \"2013-10-18T00:00:00\", \"2013-12-20T00:00:00\", \"2014-01-03T00:00:00\", \"2014-02-21T00:00:00\", \"2014-04-03T00:00:00\", \"2014-05-16T00:00:00\", \"2014-07-11T00:00:00\", \"2014-08-08T00:00:00\", \"2014-08-15T00:00:00\", \"2014-09-05T00:00:00\", \"2014-09-12T00:00:00\", \"2014-10-17T00:00:00\", \"2014-12-05T00:00:00\", \"2014-12-29T00:00:00\", \"2014-12-29T00:00:00\", \"2015-01-30T00:00:00\", \"2015-02-20T00:00:00\", \"2015-02-20T00:00:00\", \"2015-03-06T00:00:00\", \"2015-03-13T00:00:00\", \"2015-04-10T00:00:00\", \"2015-04-17T00:00:00\", \"2015-07-03T00:00:00\", \"2015-07-17T00:00:00\", \"2015-08-14T00:00:00\", \"2015-08-28T00:00:00\", \"2015-10-02T00:00:00\", \"2015-11-06T00:00:00\", \"2015-11-20T00:00:00\", \"2015-11-20T00:00:00\", \"2015-11-27T00:00:00\", \"2015-12-04T00:00:00\", \"2016-01-25T00:00:00\", \"2016-01-28T00:00:00\", \"2016-02-12T00:00:00\", \"2016-03-11T00:00:00\", \"2016-03-11T00:00:00\", \"2016-03-25T00:00:00\", \"2016-04-08T00:00:00\", \"2016-04-22T00:00:00\", \"2016-04-29T00:00:00\", \"2016-05-06T00:00:00\", \"2016-05-06T00:00:00\", \"2016-06-10T00:00:00\", \"2016-07-29T00:00:00\", \"2016-07-29T00:00:00\", \"2016-07-29T00:00:00\", \"2016-08-19T00:00:00\", \"2016-09-16T00:00:00\", \"2016-10-07T00:00:00\", \"2016-10-07T00:00:00\", \"2016-10-21T00:00:00\", \"2016-10-28T00:00:00\", \"2016-12-16T00:00:00\", \"2017-01-20T00:00:00\", \"2017-03-03T00:00:00\", \"2017-03-03T00:00:00\", \"2017-03-17T00:00:00\", \"2017-04-14T00:00:00\", \"2017-04-14T00:00:00\", \"2017-06-01T00:00:00\", \"2017-07-14T00:00:00\", \"2017-07-27T00:00:00\", \"2017-08-10T00:00:00\", \"2017-08-18T00:00:00\", \"2017-08-18T00:00:00\", \"2017-09-14T00:00:00\", \"2017-09-28T00:00:00\", \"2017-12-01T00:00:00\", \"2017-12-19T00:00:00\", \"2018-01-11T00:00:00\", \"2018-02-01T00:00:00\", \"2018-02-09T00:00:00\", \"2018-03-08T00:00:00\", \"2018-03-15T00:00:00\", \"2018-03-15T00:00:00\", \"2018-04-30T00:00:00\", \"2018-05-10T00:00:00\", \"2018-05-17T00:00:00\", \"2018-06-01T00:00:00\", \"2018-06-07T00:00:00\", \"2018-06-26T00:00:00\", \"2018-07-18T00:00:00\", \"2018-08-02T00:00:00\", \"2018-08-16T00:00:00\", \"2018-08-16T00:00:00\", \"2018-09-27T00:00:00\", \"2018-09-27T00:00:00\", \"2018-10-25T00:00:00\", \"2018-11-05T00:00:00\", \"2018-11-12T00:00:00\", \"2018-11-12T00:00:00\", \"2018-11-22T00:00:00\", \"2018-11-22T00:00:00\", \"2018-12-18T00:00:00\", \"2019-01-17T00:00:00\", \"2019-01-24T00:00:00\", \"2019-01-31T00:00:00\", \"2019-02-22T00:00:00\", \"2019-02-22T00:00:00\", \"2019-03-07T00:00:00\", \"2019-04-04T00:00:00\", \"2019-05-17T00:00:00\", \"2019-07-01T00:00:00\", \"2019-07-01T00:00:00\", \"2019-07-01T00:00:00\", \"2019-07-22T00:00:00\", \"2019-08-29T00:00:00\", \"2019-09-19T00:00:00\", \"2019-09-30T00:00:00\", \"2019-09-30T00:00:00\", \"2019-10-17T00:00:00\", \"2019-10-17T00:00:00\", \"2019-10-17T00:00:00\", \"2019-11-14T00:00:00\", \"2019-11-14T00:00:00\", \"2020-01-09T00:00:00\", \"2020-02-06T00:00:00\", \"2020-02-06T00:00:00\", \"2020-03-05T00:00:00\", \"2020-04-02T00:00:00\", \"2020-04-02T00:00:00\", \"2020-05-07T00:00:00\", \"2020-05-21T00:00:00\", \"2020-05-21T00:00:00\", \"2020-06-04T00:00:00\", \"2020-07-02T00:00:00\", \"2020-07-02T00:00:00\", \"2020-08-06T00:00:00\", \"2020-08-06T00:00:00\", \"2020-09-02T00:00:00\", \"2020-09-02T00:00:00\", \"2020-09-16T00:00:00\", \"2020-10-01T00:00:00\", \"2020-10-09T00:00:00\", \"2020-11-05T00:00:00\", \"2020-12-03T00:00:00\", \"2021-01-07T00:00:00\", \"2021-01-07T00:00:00\", \"2021-04-01T00:00:00\", \"2021-04-15T00:00:00\", \"2021-04-15T00:00:00\"], \"xaxis\": \"x\", \"y\": [1294.0, 1098.0, 887.0, 1319.0, 2569.0, 183.0, 3048.0, 845.0, 8654.0, 373.0, 2640.0, 500.0, 621.0, 452.0, 413.0, 1605.0, 2063.0, 1876.0, 367.0, 1368.0, 939.0, 4109.0, 2035.0, 352.0, 151.0, 1739.0, 1797.0, null, 108.0, 166.0, 234.0, 137.0, 481.0, null, 1292.0, 4097.0, 290.0, 1989.0, 293.0, 72.0, 268.0, 617.0, 6063.0, 196.0, 938.0, 735.0, 174.0, 1128.0, 82.0, 151.0, 3742.0, 4694.0, 2408.0, 287.0, 864.0, 316.0, 1330.0, 84.0, 419.0, 323.0, 5812.0, 108.0, 142.0, 4276.0, 156.0, 96.0, 136.0, 3288.0, 989.0, 89.0, 171.0, 9363.0, 1058.0, 5461.0, 46480.0, 210.0, 1716.0, 929.0, 223.0, 69.0, 1021.0, 48.0, 83.0, 41.0, 221.0, 150.0, 567.0, 2419.0, 113.0, 5118.0, 240.0, 3158.0, 17716.0, 5587.0, 598.0, 38.0, 409.0, 1529.0, 18.0, 273.0, 550.0, 199.0, 1058.0, 839.0, 135.0, 1934.0, 408.0, 119.0, 1108.0, 70.0, 61.0, 221.0, 186.0, 23320.0, 1502.0, 4107.0, 1893.0, 750.0, 369.0, 4358.0, 834.0, 232.0, 139.0, 93.0, 466.0, 29.0, 4721.0, 11364.0, 4010.0, 172.0, 349.0, 5623.0, 438.0, 6764.0, 7198.0, 1166.0, 3694.0, 148.0, 4480.0, 314.0, 131.0, 14777.0, 142.0, null, 1107.0, 25.0, 430.0, 69.0, 140.0, 174.0, 492.0, 2342.0, 2767.0, 701.0, 261.0, 1364.0, 410.0, 744.0, 2764.0, 581.0, 690.0], \"yaxis\": \"y\"}, {\"hovertemplate\": \"<b>OLS trendline</b><br>Popularity = 2.80824e-06 * Release Date + -2132.98<br>R<sup>2</sup>=0.002635<br><br>Release Date=%{x}<br>Popularity=%{y} <b>(trend)</b><extra></extra>\", \"legendgroup\": \"\", \"marker\": {\"color\": \"#636efa\", \"symbol\": \"circle\"}, \"mode\": \"lines\", \"name\": \"\", \"showlegend\": false, \"type\": \"scatter\", \"x\": [\"2010-03-04T00:00:00\", \"2010-06-17T00:00:00\", \"2010-07-19T00:00:00\", \"2011-04-16T00:00:00\", \"2011-04-21T00:00:00\", \"2011-04-21T00:00:00\", \"2011-04-25T00:00:00\", \"2011-11-29T00:00:00\", \"2011-12-04T00:00:00\", \"2011-12-12T00:00:00\", \"2011-12-16T00:00:00\", \"2011-12-22T00:00:00\", \"2011-12-22T00:00:00\", \"2012-03-23T00:00:00\", \"2012-04-28T00:00:00\", \"2012-08-31T00:00:00\", \"2013-02-27T00:00:00\", \"2013-06-21T00:00:00\", \"2013-08-02T00:00:00\", \"2013-10-18T00:00:00\", \"2013-12-20T00:00:00\", \"2014-01-03T00:00:00\", \"2014-02-21T00:00:00\", \"2014-04-03T00:00:00\", \"2014-05-16T00:00:00\", \"2014-07-11T00:00:00\", \"2014-08-08T00:00:00\", \"2014-09-05T00:00:00\", \"2014-09-12T00:00:00\", \"2014-10-17T00:00:00\", \"2014-12-05T00:00:00\", \"2014-12-29T00:00:00\", \"2015-01-30T00:00:00\", \"2015-02-20T00:00:00\", \"2015-02-20T00:00:00\", \"2015-03-06T00:00:00\", \"2015-03-13T00:00:00\", \"2015-04-10T00:00:00\", \"2015-04-17T00:00:00\", \"2015-07-03T00:00:00\", \"2015-07-17T00:00:00\", \"2015-08-14T00:00:00\", \"2015-08-28T00:00:00\", \"2015-10-02T00:00:00\", \"2015-11-06T00:00:00\", \"2015-11-20T00:00:00\", \"2015-11-20T00:00:00\", \"2015-11-27T00:00:00\", \"2015-12-04T00:00:00\", \"2016-01-25T00:00:00\", \"2016-01-28T00:00:00\", \"2016-02-12T00:00:00\", \"2016-03-11T00:00:00\", \"2016-03-11T00:00:00\", \"2016-03-25T00:00:00\", \"2016-04-08T00:00:00\", \"2016-04-22T00:00:00\", \"2016-04-29T00:00:00\", \"2016-05-06T00:00:00\", \"2016-05-06T00:00:00\", \"2016-06-10T00:00:00\", \"2016-07-29T00:00:00\", \"2016-07-29T00:00:00\", \"2016-07-29T00:00:00\", \"2016-08-19T00:00:00\", \"2016-09-16T00:00:00\", \"2016-10-07T00:00:00\", \"2016-10-07T00:00:00\", \"2016-10-21T00:00:00\", \"2016-10-28T00:00:00\", \"2016-12-16T00:00:00\", \"2017-01-20T00:00:00\", \"2017-03-03T00:00:00\", \"2017-03-03T00:00:00\", \"2017-03-17T00:00:00\", \"2017-04-14T00:00:00\", \"2017-04-14T00:00:00\", \"2017-06-01T00:00:00\", \"2017-07-14T00:00:00\", \"2017-07-27T00:00:00\", \"2017-08-10T00:00:00\", \"2017-08-18T00:00:00\", \"2017-08-18T00:00:00\", \"2017-09-14T00:00:00\", \"2017-09-28T00:00:00\", \"2017-12-01T00:00:00\", \"2017-12-19T00:00:00\", \"2018-01-11T00:00:00\", \"2018-02-01T00:00:00\", \"2018-02-09T00:00:00\", \"2018-03-08T00:00:00\", \"2018-03-15T00:00:00\", \"2018-03-15T00:00:00\", \"2018-04-30T00:00:00\", \"2018-05-10T00:00:00\", \"2018-05-17T00:00:00\", \"2018-06-01T00:00:00\", \"2018-06-07T00:00:00\", \"2018-06-26T00:00:00\", \"2018-07-18T00:00:00\", \"2018-08-02T00:00:00\", \"2018-08-16T00:00:00\", \"2018-08-16T00:00:00\", \"2018-09-27T00:00:00\", \"2018-09-27T00:00:00\", \"2018-10-25T00:00:00\", \"2018-11-05T00:00:00\", \"2018-11-12T00:00:00\", \"2018-11-12T00:00:00\", \"2018-11-22T00:00:00\", \"2018-11-22T00:00:00\", \"2018-12-18T00:00:00\", \"2019-01-17T00:00:00\", \"2019-01-24T00:00:00\", \"2019-01-31T00:00:00\", \"2019-02-22T00:00:00\", \"2019-02-22T00:00:00\", \"2019-03-07T00:00:00\", \"2019-04-04T00:00:00\", \"2019-05-17T00:00:00\", \"2019-07-01T00:00:00\", \"2019-07-01T00:00:00\", \"2019-07-01T00:00:00\", \"2019-07-22T00:00:00\", \"2019-08-29T00:00:00\", \"2019-09-19T00:00:00\", \"2019-09-30T00:00:00\", \"2019-09-30T00:00:00\", \"2019-10-17T00:00:00\", \"2019-10-17T00:00:00\", \"2019-10-17T00:00:00\", \"2019-11-14T00:00:00\", \"2019-11-14T00:00:00\", \"2020-01-09T00:00:00\", \"2020-02-06T00:00:00\", \"2020-02-06T00:00:00\", \"2020-03-05T00:00:00\", \"2020-04-02T00:00:00\", \"2020-04-02T00:00:00\", \"2020-05-07T00:00:00\", \"2020-05-21T00:00:00\", \"2020-06-04T00:00:00\", \"2020-07-02T00:00:00\", \"2020-07-02T00:00:00\", \"2020-08-06T00:00:00\", \"2020-08-06T00:00:00\", \"2020-09-02T00:00:00\", \"2020-09-02T00:00:00\", \"2020-09-16T00:00:00\", \"2020-10-01T00:00:00\", \"2020-10-09T00:00:00\", \"2020-11-05T00:00:00\", \"2020-12-03T00:00:00\", \"2021-01-07T00:00:00\", \"2021-01-07T00:00:00\", \"2021-04-01T00:00:00\", \"2021-04-15T00:00:00\", \"2021-04-15T00:00:00\"], \"xaxis\": \"x\", \"y\": [1426.9140262501064, 1452.3904019228416, 1460.1546306992946, 1525.9079431498785, 1527.1211038961992, 1527.1211038961992, 1528.0916324932555, 1580.9854410328398, 1582.1986017791605, 1584.1396589732735, 1585.1101875703303, 1586.565980465915, 1586.565980465915, 1608.8881381982164, 1617.622895571726, 1647.9519142297445, 1691.6257010972909, 1719.2857661134035, 1729.4763163824978, 1748.1589918758368, 1763.4448172794782, 1766.8416673691763, 1778.7306426831196, 1788.6785608029495, 1799.1117432213077, 1812.6991435801, 1819.4928437594963, 1826.2865439388925, 1827.9849689837415, 1836.4770942079863, 1848.3660695219296, 1854.189241104269, 1861.953469880722, 1867.048745015269, 1867.048745015269, 1870.4455951049672, 1872.1440201498162, 1878.9377203292124, 1880.6361453740615, 1899.3188208674005, 1902.7156709570986, 1909.5093711364948, 1912.9062212261929, 1921.398346450438, 1929.8904716746829, 1933.287321764381, 1933.287321764381, 1934.98574680923, 1936.684171854079, 1949.3010436158147, 1950.0289400636075, 1953.6684223025695, 1960.4621224819657, 1960.4621224819657, 1963.8589725716633, 1967.2558226613614, 1970.6526727510595, 1972.351097795909, 1974.0495228407576, 1974.0495228407576, 1982.5416480650033, 1994.4306233789462, 1994.4306233789462, 1994.4306233789462, 1999.5258985134938, 2006.319598692889, 2011.4148738274366, 2011.4148738274366, 2014.8117239171347, 2016.5101489619833, 2028.399124275927, 2036.8912495001719, 2047.0817997692661, 2047.0817997692661, 2050.478649858964, 2057.2723500383604, 2057.2723500383604, 2068.9186932030393, 2079.3518756213975, 2082.5060935618317, 2085.9029436515298, 2087.844000845643, 2087.844000845643, 2094.3950688757745, 2097.7919189654726, 2113.3203765183785, 2117.6877552051333, 2123.268294638208, 2128.3635697727555, 2130.304626966869, 2136.8556949970002, 2138.5541200418497, 2138.5541200418497, 2149.7151989080007, 2152.141520400642, 2153.8399454454907, 2157.4794276844527, 2158.9352205800383, 2163.545231416057, 2168.8831386998677, 2172.5226209388297, 2175.919471028528, 2175.919471028528, 2186.110021297622, 2186.110021297622, 2192.9037214770183, 2195.5726751189245, 2197.271100163773, 2197.271100163773, 2199.6974216564145, 2199.6974216564145, 2206.0058575372827, 2213.284822015207, 2214.9832470600554, 2216.681672104905, 2222.0195793887165, 2222.0195793887165, 2225.1737973291497, 2231.967497508546, 2242.400679926904, 2253.319126643791, 2253.319126643791, 2253.319126643791, 2258.414401778338, 2267.6344234503754, 2272.729698584923, 2275.3986522268283, 2275.3986522268283, 2279.523398764319, 2279.523398764319, 2279.523398764319, 2286.3170989437153, 2286.3170989437153, 2299.9044993025077, 2306.698199481904, 2306.698199481904, 2313.491899661299, 2320.2855998406953, 2320.2855998406953, 2328.777725064941, 2332.174575154639, 2335.571425244337, 2342.3651254237334, 2342.3651254237334, 2350.857250647978, 2350.857250647978, 2357.4083186781104, 2357.4083186781104, 2360.8051687678085, 2364.4446510067705, 2366.385708200884, 2372.9367762310153, 2379.7304764104115, 2388.222601634657, 2388.222601634657, 2408.603702172845, 2412.000552262543, 2412.000552262543], \"yaxis\": \"y\"}],                        {\"legend\": {\"tracegroupgap\": 0}, \"margin\": {\"t\": 60}, \"template\": {\"data\": {\"bar\": [{\"error_x\": {\"color\": \"#2a3f5f\"}, \"error_y\": {\"color\": \"#2a3f5f\"}, \"marker\": {\"line\": {\"color\": \"#E5ECF6\", \"width\": 0.5}}, \"type\": \"bar\"}], \"barpolar\": [{\"marker\": {\"line\": {\"color\": \"#E5ECF6\", \"width\": 0.5}}, \"type\": \"barpolar\"}], \"carpet\": [{\"aaxis\": {\"endlinecolor\": \"#2a3f5f\", \"gridcolor\": \"white\", \"linecolor\": \"white\", \"minorgridcolor\": \"white\", \"startlinecolor\": \"#2a3f5f\"}, \"baxis\": {\"endlinecolor\": \"#2a3f5f\", \"gridcolor\": \"white\", \"linecolor\": \"white\", \"minorgridcolor\": \"white\", \"startlinecolor\": \"#2a3f5f\"}, \"type\": \"carpet\"}], \"choropleth\": [{\"colorbar\": {\"outlinewidth\": 0, \"ticks\": \"\"}, \"type\": \"choropleth\"}], \"contour\": [{\"colorbar\": {\"outlinewidth\": 0, \"ticks\": \"\"}, \"colorscale\": [[0.0, \"#0d0887\"], [0.1111111111111111, \"#46039f\"], [0.2222222222222222, \"#7201a8\"], [0.3333333333333333, \"#9c179e\"], [0.4444444444444444, \"#bd3786\"], [0.5555555555555556, \"#d8576b\"], [0.6666666666666666, \"#ed7953\"], [0.7777777777777778, \"#fb9f3a\"], [0.8888888888888888, \"#fdca26\"], [1.0, \"#f0f921\"]], \"type\": \"contour\"}], \"contourcarpet\": [{\"colorbar\": {\"outlinewidth\": 0, \"ticks\": \"\"}, \"type\": \"contourcarpet\"}], \"heatmap\": [{\"colorbar\": {\"outlinewidth\": 0, \"ticks\": \"\"}, \"colorscale\": [[0.0, \"#0d0887\"], [0.1111111111111111, \"#46039f\"], [0.2222222222222222, \"#7201a8\"], [0.3333333333333333, \"#9c179e\"], [0.4444444444444444, \"#bd3786\"], [0.5555555555555556, \"#d8576b\"], [0.6666666666666666, \"#ed7953\"], [0.7777777777777778, \"#fb9f3a\"], [0.8888888888888888, \"#fdca26\"], [1.0, \"#f0f921\"]], \"type\": \"heatmap\"}], \"heatmapgl\": [{\"colorbar\": {\"outlinewidth\": 0, \"ticks\": \"\"}, \"colorscale\": [[0.0, \"#0d0887\"], [0.1111111111111111, \"#46039f\"], [0.2222222222222222, \"#7201a8\"], [0.3333333333333333, \"#9c179e\"], [0.4444444444444444, \"#bd3786\"], [0.5555555555555556, \"#d8576b\"], [0.6666666666666666, \"#ed7953\"], [0.7777777777777778, \"#fb9f3a\"], [0.8888888888888888, \"#fdca26\"], [1.0, \"#f0f921\"]], \"type\": \"heatmapgl\"}], \"histogram\": [{\"marker\": {\"colorbar\": {\"outlinewidth\": 0, \"ticks\": \"\"}}, \"type\": \"histogram\"}], \"histogram2d\": [{\"colorbar\": {\"outlinewidth\": 0, \"ticks\": \"\"}, \"colorscale\": [[0.0, \"#0d0887\"], [0.1111111111111111, \"#46039f\"], [0.2222222222222222, \"#7201a8\"], [0.3333333333333333, \"#9c179e\"], [0.4444444444444444, \"#bd3786\"], [0.5555555555555556, \"#d8576b\"], [0.6666666666666666, \"#ed7953\"], [0.7777777777777778, \"#fb9f3a\"], [0.8888888888888888, \"#fdca26\"], [1.0, \"#f0f921\"]], \"type\": \"histogram2d\"}], \"histogram2dcontour\": [{\"colorbar\": {\"outlinewidth\": 0, \"ticks\": \"\"}, \"colorscale\": [[0.0, \"#0d0887\"], [0.1111111111111111, \"#46039f\"], [0.2222222222222222, \"#7201a8\"], [0.3333333333333333, \"#9c179e\"], [0.4444444444444444, \"#bd3786\"], [0.5555555555555556, \"#d8576b\"], [0.6666666666666666, \"#ed7953\"], [0.7777777777777778, \"#fb9f3a\"], [0.8888888888888888, \"#fdca26\"], [1.0, \"#f0f921\"]], \"type\": \"histogram2dcontour\"}], \"mesh3d\": [{\"colorbar\": {\"outlinewidth\": 0, \"ticks\": \"\"}, \"type\": \"mesh3d\"}], \"parcoords\": [{\"line\": {\"colorbar\": {\"outlinewidth\": 0, \"ticks\": \"\"}}, \"type\": \"parcoords\"}], \"pie\": [{\"automargin\": true, \"type\": \"pie\"}], \"scatter\": [{\"marker\": {\"colorbar\": {\"outlinewidth\": 0, \"ticks\": \"\"}}, \"type\": \"scatter\"}], \"scatter3d\": [{\"line\": {\"colorbar\": {\"outlinewidth\": 0, \"ticks\": \"\"}}, \"marker\": {\"colorbar\": {\"outlinewidth\": 0, \"ticks\": \"\"}}, \"type\": \"scatter3d\"}], \"scattercarpet\": [{\"marker\": {\"colorbar\": {\"outlinewidth\": 0, \"ticks\": \"\"}}, \"type\": \"scattercarpet\"}], \"scattergeo\": [{\"marker\": {\"colorbar\": {\"outlinewidth\": 0, \"ticks\": \"\"}}, \"type\": \"scattergeo\"}], \"scattergl\": [{\"marker\": {\"colorbar\": {\"outlinewidth\": 0, \"ticks\": \"\"}}, \"type\": \"scattergl\"}], \"scattermapbox\": [{\"marker\": {\"colorbar\": {\"outlinewidth\": 0, \"ticks\": \"\"}}, \"type\": \"scattermapbox\"}], \"scatterpolar\": [{\"marker\": {\"colorbar\": {\"outlinewidth\": 0, \"ticks\": \"\"}}, \"type\": \"scatterpolar\"}], \"scatterpolargl\": [{\"marker\": {\"colorbar\": {\"outlinewidth\": 0, \"ticks\": \"\"}}, \"type\": \"scatterpolargl\"}], \"scatterternary\": [{\"marker\": {\"colorbar\": {\"outlinewidth\": 0, \"ticks\": \"\"}}, \"type\": \"scatterternary\"}], \"surface\": [{\"colorbar\": {\"outlinewidth\": 0, \"ticks\": \"\"}, \"colorscale\": [[0.0, \"#0d0887\"], [0.1111111111111111, \"#46039f\"], [0.2222222222222222, \"#7201a8\"], [0.3333333333333333, \"#9c179e\"], [0.4444444444444444, \"#bd3786\"], [0.5555555555555556, \"#d8576b\"], [0.6666666666666666, \"#ed7953\"], [0.7777777777777778, \"#fb9f3a\"], [0.8888888888888888, \"#fdca26\"], [1.0, \"#f0f921\"]], \"type\": \"surface\"}], \"table\": [{\"cells\": {\"fill\": {\"color\": \"#EBF0F8\"}, \"line\": {\"color\": \"white\"}}, \"header\": {\"fill\": {\"color\": \"#C8D4E3\"}, \"line\": {\"color\": \"white\"}}, \"type\": \"table\"}]}, \"layout\": {\"annotationdefaults\": {\"arrowcolor\": \"#2a3f5f\", \"arrowhead\": 0, \"arrowwidth\": 1}, \"autotypenumbers\": \"strict\", \"coloraxis\": {\"colorbar\": {\"outlinewidth\": 0, \"ticks\": \"\"}}, \"colorscale\": {\"diverging\": [[0, \"#8e0152\"], [0.1, \"#c51b7d\"], [0.2, \"#de77ae\"], [0.3, \"#f1b6da\"], [0.4, \"#fde0ef\"], [0.5, \"#f7f7f7\"], [0.6, \"#e6f5d0\"], [0.7, \"#b8e186\"], [0.8, \"#7fbc41\"], [0.9, \"#4d9221\"], [1, \"#276419\"]], \"sequential\": [[0.0, \"#0d0887\"], [0.1111111111111111, \"#46039f\"], [0.2222222222222222, \"#7201a8\"], [0.3333333333333333, \"#9c179e\"], [0.4444444444444444, \"#bd3786\"], [0.5555555555555556, \"#d8576b\"], [0.6666666666666666, \"#ed7953\"], [0.7777777777777778, \"#fb9f3a\"], [0.8888888888888888, \"#fdca26\"], [1.0, \"#f0f921\"]], \"sequentialminus\": [[0.0, \"#0d0887\"], [0.1111111111111111, \"#46039f\"], [0.2222222222222222, \"#7201a8\"], [0.3333333333333333, \"#9c179e\"], [0.4444444444444444, \"#bd3786\"], [0.5555555555555556, \"#d8576b\"], [0.6666666666666666, \"#ed7953\"], [0.7777777777777778, \"#fb9f3a\"], [0.8888888888888888, \"#fdca26\"], [1.0, \"#f0f921\"]]}, \"colorway\": [\"#636efa\", \"#EF553B\", \"#00cc96\", \"#ab63fa\", \"#FFA15A\", \"#19d3f3\", \"#FF6692\", \"#B6E880\", \"#FF97FF\", \"#FECB52\"], \"font\": {\"color\": \"#2a3f5f\"}, \"geo\": {\"bgcolor\": \"white\", \"lakecolor\": \"white\", \"landcolor\": \"#E5ECF6\", \"showlakes\": true, \"showland\": true, \"subunitcolor\": \"white\"}, \"hoverlabel\": {\"align\": \"left\"}, \"hovermode\": \"closest\", \"mapbox\": {\"style\": \"light\"}, \"paper_bgcolor\": \"white\", \"plot_bgcolor\": \"#E5ECF6\", \"polar\": {\"angularaxis\": {\"gridcolor\": \"white\", \"linecolor\": \"white\", \"ticks\": \"\"}, \"bgcolor\": \"#E5ECF6\", \"radialaxis\": {\"gridcolor\": \"white\", \"linecolor\": \"white\", \"ticks\": \"\"}}, \"scene\": {\"xaxis\": {\"backgroundcolor\": \"#E5ECF6\", \"gridcolor\": \"white\", \"gridwidth\": 2, \"linecolor\": \"white\", \"showbackground\": true, \"ticks\": \"\", \"zerolinecolor\": \"white\"}, \"yaxis\": {\"backgroundcolor\": \"#E5ECF6\", \"gridcolor\": \"white\", \"gridwidth\": 2, \"linecolor\": \"white\", \"showbackground\": true, \"ticks\": \"\", \"zerolinecolor\": \"white\"}, \"zaxis\": {\"backgroundcolor\": \"#E5ECF6\", \"gridcolor\": \"white\", \"gridwidth\": 2, \"linecolor\": \"white\", \"showbackground\": true, \"ticks\": \"\", \"zerolinecolor\": \"white\"}}, \"shapedefaults\": {\"line\": {\"color\": \"#2a3f5f\"}}, \"ternary\": {\"aaxis\": {\"gridcolor\": \"white\", \"linecolor\": \"white\", \"ticks\": \"\"}, \"baxis\": {\"gridcolor\": \"white\", \"linecolor\": \"white\", \"ticks\": \"\"}, \"bgcolor\": \"#E5ECF6\", \"caxis\": {\"gridcolor\": \"white\", \"linecolor\": \"white\", \"ticks\": \"\"}}, \"title\": {\"x\": 0.05}, \"xaxis\": {\"automargin\": true, \"gridcolor\": \"white\", \"linecolor\": \"white\", \"ticks\": \"\", \"title\": {\"standoff\": 15}, \"zerolinecolor\": \"white\", \"zerolinewidth\": 2}, \"yaxis\": {\"automargin\": true, \"gridcolor\": \"white\", \"linecolor\": \"white\", \"ticks\": \"\", \"title\": {\"standoff\": 15}, \"zerolinecolor\": \"white\", \"zerolinewidth\": 2}}}, \"xaxis\": {\"anchor\": \"y\", \"domain\": [0.0, 1.0], \"title\": {\"text\": \"Release Date\"}}, \"yaxis\": {\"anchor\": \"x\", \"domain\": [0.0, 1.0], \"title\": {\"text\": \"Popularity\"}}},                        {\"responsive\": true}                    ).then(function(){\n",
       "                            \n",
       "var gd = document.getElementById('6c01d59c-e730-4859-99d6-e15585bde5eb');\n",
       "var x = new MutationObserver(function (mutations, observer) {{\n",
       "        var display = window.getComputedStyle(gd).display;\n",
       "        if (!display || display === 'none') {{\n",
       "            console.log([gd, 'removed!']);\n",
       "            Plotly.purge(gd);\n",
       "            observer.disconnect();\n",
       "        }}\n",
       "}});\n",
       "\n",
       "// Listen for the removal of the full notebook cells\n",
       "var notebookContainer = gd.closest('#notebook-container');\n",
       "if (notebookContainer) {{\n",
       "    x.observe(notebookContainer, {childList: true});\n",
       "}}\n",
       "\n",
       "// Listen for the clearing of the current output cell\n",
       "var outputEl = gd.closest('.output');\n",
       "if (outputEl) {{\n",
       "    x.observe(outputEl, {childList: true});\n",
       "}}\n",
       "\n",
       "                        })                };                });            </script>        </div>"
      ]
     },
     "metadata": {},
     "output_type": "display_data"
    }
   ],
   "source": [
    "# okay that wasn't very helpful... but what is the outlier?\n",
    "px.scatter(data, x='Release Date', y='Popularity', hover_data=['HG Story Title'], trendline='ols')"
   ]
  },
  {
   "cell_type": "markdown",
   "metadata": {},
   "source": [
    "It doesn't look like there's much of a relationship between popularity and release date.\n",
    "\n",
    "### How does genre (and subgenre) relate to popularity?\n",
    "\n",
    "Let's plot the average popularity per genre:"
   ]
  },
  {
   "cell_type": "code",
   "execution_count": 114,
   "metadata": {},
   "outputs": [],
   "source": [
    "genre_pop_group = data_clean[['Genre', 'Popularity']].groupby('Genre').mean()"
   ]
  },
  {
   "cell_type": "code",
   "execution_count": 123,
   "metadata": {},
   "outputs": [
    {
     "data": {
      "application/vnd.plotly.v1+json": {
       "config": {
        "plotlyServerURL": "https://plot.ly"
       },
       "data": [
        {
         "alignmentgroup": "True",
         "hovertemplate": "Genre=%{x}<br>Popularity=%{y}<extra></extra>",
         "legendgroup": "",
         "marker": {
          "color": "#636efa"
         },
         "name": "",
         "offsetgroup": "",
         "orientation": "v",
         "showlegend": false,
         "textposition": "auto",
         "type": "bar",
         "x": [
          "Adventure",
          "Crime",
          "Fantasy",
          "Historical",
          "Horror",
          "Humor",
          "Mystery",
          "Post-apocalyptic",
          "Puzzle",
          "Romance",
          "School",
          "Sci-Fi",
          "Slice of Life",
          "Spy",
          "Steampunk",
          "Superhero",
          "Supernatural",
          "War"
         ],
         "xaxis": "x",
         "y": [
          69,
          1732.1666666666667,
          3415.3333333333335,
          975.6666666666666,
          345.5,
          162,
          388.90909090909093,
          1227.1666666666667,
          316.8333333333333,
          741.4,
          96,
          513.4666666666667,
          1189.1666666666667,
          83,
          414.75,
          3241.222222222222,
          3968.35,
          1128.4285714285713
         ],
         "yaxis": "y"
        }
       ],
       "layout": {
        "autosize": true,
        "barmode": "relative",
        "legend": {
         "tracegroupgap": 0
        },
        "margin": {
         "t": 60
        },
        "template": {
         "data": {
          "bar": [
           {
            "error_x": {
             "color": "#2a3f5f"
            },
            "error_y": {
             "color": "#2a3f5f"
            },
            "marker": {
             "line": {
              "color": "#E5ECF6",
              "width": 0.5
             }
            },
            "type": "bar"
           }
          ],
          "barpolar": [
           {
            "marker": {
             "line": {
              "color": "#E5ECF6",
              "width": 0.5
             }
            },
            "type": "barpolar"
           }
          ],
          "carpet": [
           {
            "aaxis": {
             "endlinecolor": "#2a3f5f",
             "gridcolor": "white",
             "linecolor": "white",
             "minorgridcolor": "white",
             "startlinecolor": "#2a3f5f"
            },
            "baxis": {
             "endlinecolor": "#2a3f5f",
             "gridcolor": "white",
             "linecolor": "white",
             "minorgridcolor": "white",
             "startlinecolor": "#2a3f5f"
            },
            "type": "carpet"
           }
          ],
          "choropleth": [
           {
            "colorbar": {
             "outlinewidth": 0,
             "ticks": ""
            },
            "type": "choropleth"
           }
          ],
          "contour": [
           {
            "colorbar": {
             "outlinewidth": 0,
             "ticks": ""
            },
            "colorscale": [
             [
              0,
              "#0d0887"
             ],
             [
              0.1111111111111111,
              "#46039f"
             ],
             [
              0.2222222222222222,
              "#7201a8"
             ],
             [
              0.3333333333333333,
              "#9c179e"
             ],
             [
              0.4444444444444444,
              "#bd3786"
             ],
             [
              0.5555555555555556,
              "#d8576b"
             ],
             [
              0.6666666666666666,
              "#ed7953"
             ],
             [
              0.7777777777777778,
              "#fb9f3a"
             ],
             [
              0.8888888888888888,
              "#fdca26"
             ],
             [
              1,
              "#f0f921"
             ]
            ],
            "type": "contour"
           }
          ],
          "contourcarpet": [
           {
            "colorbar": {
             "outlinewidth": 0,
             "ticks": ""
            },
            "type": "contourcarpet"
           }
          ],
          "heatmap": [
           {
            "colorbar": {
             "outlinewidth": 0,
             "ticks": ""
            },
            "colorscale": [
             [
              0,
              "#0d0887"
             ],
             [
              0.1111111111111111,
              "#46039f"
             ],
             [
              0.2222222222222222,
              "#7201a8"
             ],
             [
              0.3333333333333333,
              "#9c179e"
             ],
             [
              0.4444444444444444,
              "#bd3786"
             ],
             [
              0.5555555555555556,
              "#d8576b"
             ],
             [
              0.6666666666666666,
              "#ed7953"
             ],
             [
              0.7777777777777778,
              "#fb9f3a"
             ],
             [
              0.8888888888888888,
              "#fdca26"
             ],
             [
              1,
              "#f0f921"
             ]
            ],
            "type": "heatmap"
           }
          ],
          "heatmapgl": [
           {
            "colorbar": {
             "outlinewidth": 0,
             "ticks": ""
            },
            "colorscale": [
             [
              0,
              "#0d0887"
             ],
             [
              0.1111111111111111,
              "#46039f"
             ],
             [
              0.2222222222222222,
              "#7201a8"
             ],
             [
              0.3333333333333333,
              "#9c179e"
             ],
             [
              0.4444444444444444,
              "#bd3786"
             ],
             [
              0.5555555555555556,
              "#d8576b"
             ],
             [
              0.6666666666666666,
              "#ed7953"
             ],
             [
              0.7777777777777778,
              "#fb9f3a"
             ],
             [
              0.8888888888888888,
              "#fdca26"
             ],
             [
              1,
              "#f0f921"
             ]
            ],
            "type": "heatmapgl"
           }
          ],
          "histogram": [
           {
            "marker": {
             "colorbar": {
              "outlinewidth": 0,
              "ticks": ""
             }
            },
            "type": "histogram"
           }
          ],
          "histogram2d": [
           {
            "colorbar": {
             "outlinewidth": 0,
             "ticks": ""
            },
            "colorscale": [
             [
              0,
              "#0d0887"
             ],
             [
              0.1111111111111111,
              "#46039f"
             ],
             [
              0.2222222222222222,
              "#7201a8"
             ],
             [
              0.3333333333333333,
              "#9c179e"
             ],
             [
              0.4444444444444444,
              "#bd3786"
             ],
             [
              0.5555555555555556,
              "#d8576b"
             ],
             [
              0.6666666666666666,
              "#ed7953"
             ],
             [
              0.7777777777777778,
              "#fb9f3a"
             ],
             [
              0.8888888888888888,
              "#fdca26"
             ],
             [
              1,
              "#f0f921"
             ]
            ],
            "type": "histogram2d"
           }
          ],
          "histogram2dcontour": [
           {
            "colorbar": {
             "outlinewidth": 0,
             "ticks": ""
            },
            "colorscale": [
             [
              0,
              "#0d0887"
             ],
             [
              0.1111111111111111,
              "#46039f"
             ],
             [
              0.2222222222222222,
              "#7201a8"
             ],
             [
              0.3333333333333333,
              "#9c179e"
             ],
             [
              0.4444444444444444,
              "#bd3786"
             ],
             [
              0.5555555555555556,
              "#d8576b"
             ],
             [
              0.6666666666666666,
              "#ed7953"
             ],
             [
              0.7777777777777778,
              "#fb9f3a"
             ],
             [
              0.8888888888888888,
              "#fdca26"
             ],
             [
              1,
              "#f0f921"
             ]
            ],
            "type": "histogram2dcontour"
           }
          ],
          "mesh3d": [
           {
            "colorbar": {
             "outlinewidth": 0,
             "ticks": ""
            },
            "type": "mesh3d"
           }
          ],
          "parcoords": [
           {
            "line": {
             "colorbar": {
              "outlinewidth": 0,
              "ticks": ""
             }
            },
            "type": "parcoords"
           }
          ],
          "pie": [
           {
            "automargin": true,
            "type": "pie"
           }
          ],
          "scatter": [
           {
            "marker": {
             "colorbar": {
              "outlinewidth": 0,
              "ticks": ""
             }
            },
            "type": "scatter"
           }
          ],
          "scatter3d": [
           {
            "line": {
             "colorbar": {
              "outlinewidth": 0,
              "ticks": ""
             }
            },
            "marker": {
             "colorbar": {
              "outlinewidth": 0,
              "ticks": ""
             }
            },
            "type": "scatter3d"
           }
          ],
          "scattercarpet": [
           {
            "marker": {
             "colorbar": {
              "outlinewidth": 0,
              "ticks": ""
             }
            },
            "type": "scattercarpet"
           }
          ],
          "scattergeo": [
           {
            "marker": {
             "colorbar": {
              "outlinewidth": 0,
              "ticks": ""
             }
            },
            "type": "scattergeo"
           }
          ],
          "scattergl": [
           {
            "marker": {
             "colorbar": {
              "outlinewidth": 0,
              "ticks": ""
             }
            },
            "type": "scattergl"
           }
          ],
          "scattermapbox": [
           {
            "marker": {
             "colorbar": {
              "outlinewidth": 0,
              "ticks": ""
             }
            },
            "type": "scattermapbox"
           }
          ],
          "scatterpolar": [
           {
            "marker": {
             "colorbar": {
              "outlinewidth": 0,
              "ticks": ""
             }
            },
            "type": "scatterpolar"
           }
          ],
          "scatterpolargl": [
           {
            "marker": {
             "colorbar": {
              "outlinewidth": 0,
              "ticks": ""
             }
            },
            "type": "scatterpolargl"
           }
          ],
          "scatterternary": [
           {
            "marker": {
             "colorbar": {
              "outlinewidth": 0,
              "ticks": ""
             }
            },
            "type": "scatterternary"
           }
          ],
          "surface": [
           {
            "colorbar": {
             "outlinewidth": 0,
             "ticks": ""
            },
            "colorscale": [
             [
              0,
              "#0d0887"
             ],
             [
              0.1111111111111111,
              "#46039f"
             ],
             [
              0.2222222222222222,
              "#7201a8"
             ],
             [
              0.3333333333333333,
              "#9c179e"
             ],
             [
              0.4444444444444444,
              "#bd3786"
             ],
             [
              0.5555555555555556,
              "#d8576b"
             ],
             [
              0.6666666666666666,
              "#ed7953"
             ],
             [
              0.7777777777777778,
              "#fb9f3a"
             ],
             [
              0.8888888888888888,
              "#fdca26"
             ],
             [
              1,
              "#f0f921"
             ]
            ],
            "type": "surface"
           }
          ],
          "table": [
           {
            "cells": {
             "fill": {
              "color": "#EBF0F8"
             },
             "line": {
              "color": "white"
             }
            },
            "header": {
             "fill": {
              "color": "#C8D4E3"
             },
             "line": {
              "color": "white"
             }
            },
            "type": "table"
           }
          ]
         },
         "layout": {
          "annotationdefaults": {
           "arrowcolor": "#2a3f5f",
           "arrowhead": 0,
           "arrowwidth": 1
          },
          "autotypenumbers": "strict",
          "coloraxis": {
           "colorbar": {
            "outlinewidth": 0,
            "ticks": ""
           }
          },
          "colorscale": {
           "diverging": [
            [
             0,
             "#8e0152"
            ],
            [
             0.1,
             "#c51b7d"
            ],
            [
             0.2,
             "#de77ae"
            ],
            [
             0.3,
             "#f1b6da"
            ],
            [
             0.4,
             "#fde0ef"
            ],
            [
             0.5,
             "#f7f7f7"
            ],
            [
             0.6,
             "#e6f5d0"
            ],
            [
             0.7,
             "#b8e186"
            ],
            [
             0.8,
             "#7fbc41"
            ],
            [
             0.9,
             "#4d9221"
            ],
            [
             1,
             "#276419"
            ]
           ],
           "sequential": [
            [
             0,
             "#0d0887"
            ],
            [
             0.1111111111111111,
             "#46039f"
            ],
            [
             0.2222222222222222,
             "#7201a8"
            ],
            [
             0.3333333333333333,
             "#9c179e"
            ],
            [
             0.4444444444444444,
             "#bd3786"
            ],
            [
             0.5555555555555556,
             "#d8576b"
            ],
            [
             0.6666666666666666,
             "#ed7953"
            ],
            [
             0.7777777777777778,
             "#fb9f3a"
            ],
            [
             0.8888888888888888,
             "#fdca26"
            ],
            [
             1,
             "#f0f921"
            ]
           ],
           "sequentialminus": [
            [
             0,
             "#0d0887"
            ],
            [
             0.1111111111111111,
             "#46039f"
            ],
            [
             0.2222222222222222,
             "#7201a8"
            ],
            [
             0.3333333333333333,
             "#9c179e"
            ],
            [
             0.4444444444444444,
             "#bd3786"
            ],
            [
             0.5555555555555556,
             "#d8576b"
            ],
            [
             0.6666666666666666,
             "#ed7953"
            ],
            [
             0.7777777777777778,
             "#fb9f3a"
            ],
            [
             0.8888888888888888,
             "#fdca26"
            ],
            [
             1,
             "#f0f921"
            ]
           ]
          },
          "colorway": [
           "#636efa",
           "#EF553B",
           "#00cc96",
           "#ab63fa",
           "#FFA15A",
           "#19d3f3",
           "#FF6692",
           "#B6E880",
           "#FF97FF",
           "#FECB52"
          ],
          "font": {
           "color": "#2a3f5f"
          },
          "geo": {
           "bgcolor": "white",
           "lakecolor": "white",
           "landcolor": "#E5ECF6",
           "showlakes": true,
           "showland": true,
           "subunitcolor": "white"
          },
          "hoverlabel": {
           "align": "left"
          },
          "hovermode": "closest",
          "mapbox": {
           "style": "light"
          },
          "paper_bgcolor": "white",
          "plot_bgcolor": "#E5ECF6",
          "polar": {
           "angularaxis": {
            "gridcolor": "white",
            "linecolor": "white",
            "ticks": ""
           },
           "bgcolor": "#E5ECF6",
           "radialaxis": {
            "gridcolor": "white",
            "linecolor": "white",
            "ticks": ""
           }
          },
          "scene": {
           "xaxis": {
            "backgroundcolor": "#E5ECF6",
            "gridcolor": "white",
            "gridwidth": 2,
            "linecolor": "white",
            "showbackground": true,
            "ticks": "",
            "zerolinecolor": "white"
           },
           "yaxis": {
            "backgroundcolor": "#E5ECF6",
            "gridcolor": "white",
            "gridwidth": 2,
            "linecolor": "white",
            "showbackground": true,
            "ticks": "",
            "zerolinecolor": "white"
           },
           "zaxis": {
            "backgroundcolor": "#E5ECF6",
            "gridcolor": "white",
            "gridwidth": 2,
            "linecolor": "white",
            "showbackground": true,
            "ticks": "",
            "zerolinecolor": "white"
           }
          },
          "shapedefaults": {
           "line": {
            "color": "#2a3f5f"
           }
          },
          "ternary": {
           "aaxis": {
            "gridcolor": "white",
            "linecolor": "white",
            "ticks": ""
           },
           "baxis": {
            "gridcolor": "white",
            "linecolor": "white",
            "ticks": ""
           },
           "bgcolor": "#E5ECF6",
           "caxis": {
            "gridcolor": "white",
            "linecolor": "white",
            "ticks": ""
           }
          },
          "title": {
           "x": 0.05
          },
          "xaxis": {
           "automargin": true,
           "gridcolor": "white",
           "linecolor": "white",
           "ticks": "",
           "title": {
            "standoff": 15
           },
           "zerolinecolor": "white",
           "zerolinewidth": 2
          },
          "yaxis": {
           "automargin": true,
           "gridcolor": "white",
           "linecolor": "white",
           "ticks": "",
           "title": {
            "standoff": 15
           },
           "zerolinecolor": "white",
           "zerolinewidth": 2
          }
         }
        },
        "xaxis": {
         "anchor": "y",
         "autorange": true,
         "domain": [
          0,
          1
         ],
         "range": [
          -0.5,
          17.5
         ],
         "title": {
          "text": "Genre"
         },
         "type": "category"
        },
        "yaxis": {
         "anchor": "x",
         "autorange": true,
         "domain": [
          0,
          1
         ],
         "range": [
          0,
          4177.210526315789
         ],
         "title": {
          "text": "Popularity"
         },
         "type": "linear"
        }
       }
      },
      "image/png": "[encoded data removed]",
      "text/html": [
       "<div>                            <div id=\"b56bb3ee-bef4-442e-9c4e-388e369a5dfc\" class=\"plotly-graph-div\" style=\"height:525px; width:100%;\"></div>            <script type=\"text/javascript\">                require([\"plotly\"], function(Plotly) {                    window.PLOTLYENV=window.PLOTLYENV || {};                                    if (document.getElementById(\"b56bb3ee-bef4-442e-9c4e-388e369a5dfc\")) {                    Plotly.newPlot(                        \"b56bb3ee-bef4-442e-9c4e-388e369a5dfc\",                        [{\"alignmentgroup\": \"True\", \"hovertemplate\": \"Genre=%{x}<br>Popularity=%{y}<extra></extra>\", \"legendgroup\": \"\", \"marker\": {\"color\": \"#636efa\"}, \"name\": \"\", \"offsetgroup\": \"\", \"orientation\": \"v\", \"showlegend\": false, \"textposition\": \"auto\", \"type\": \"bar\", \"x\": [\"Adventure\", \"Crime\", \"Fantasy\", \"Historical\", \"Horror\", \"Humor\", \"Mystery\", \"Post-apocalyptic\", \"Puzzle\", \"Romance\", \"School\", \"Sci-Fi\", \"Slice of Life\", \"Spy\", \"Steampunk\", \"Superhero\", \"Supernatural\", \"War\"], \"xaxis\": \"x\", \"y\": [69.0, 1732.1666666666667, 3415.3333333333335, 975.6666666666666, 345.5, 162.0, 388.90909090909093, 1227.1666666666667, 316.8333333333333, 741.4, 96.0, 513.4666666666667, 1189.1666666666667, 83.0, 414.75, 3241.222222222222, 3968.35, 1128.4285714285713], \"yaxis\": \"y\"}],                        {\"barmode\": \"relative\", \"legend\": {\"tracegroupgap\": 0}, \"margin\": {\"t\": 60}, \"template\": {\"data\": {\"bar\": [{\"error_x\": {\"color\": \"#2a3f5f\"}, \"error_y\": {\"color\": \"#2a3f5f\"}, \"marker\": {\"line\": {\"color\": \"#E5ECF6\", \"width\": 0.5}}, \"type\": \"bar\"}], \"barpolar\": [{\"marker\": {\"line\": {\"color\": \"#E5ECF6\", \"width\": 0.5}}, \"type\": \"barpolar\"}], \"carpet\": [{\"aaxis\": {\"endlinecolor\": \"#2a3f5f\", \"gridcolor\": \"white\", \"linecolor\": \"white\", \"minorgridcolor\": \"white\", \"startlinecolor\": \"#2a3f5f\"}, \"baxis\": {\"endlinecolor\": \"#2a3f5f\", \"gridcolor\": \"white\", \"linecolor\": \"white\", \"minorgridcolor\": \"white\", \"startlinecolor\": \"#2a3f5f\"}, \"type\": \"carpet\"}], \"choropleth\": [{\"colorbar\": {\"outlinewidth\": 0, \"ticks\": \"\"}, \"type\": \"choropleth\"}], \"contour\": [{\"colorbar\": {\"outlinewidth\": 0, \"ticks\": \"\"}, \"colorscale\": [[0.0, \"#0d0887\"], [0.1111111111111111, \"#46039f\"], [0.2222222222222222, \"#7201a8\"], [0.3333333333333333, \"#9c179e\"], [0.4444444444444444, \"#bd3786\"], [0.5555555555555556, \"#d8576b\"], [0.6666666666666666, \"#ed7953\"], [0.7777777777777778, \"#fb9f3a\"], [0.8888888888888888, \"#fdca26\"], [1.0, \"#f0f921\"]], \"type\": \"contour\"}], \"contourcarpet\": [{\"colorbar\": {\"outlinewidth\": 0, \"ticks\": \"\"}, \"type\": \"contourcarpet\"}], \"heatmap\": [{\"colorbar\": {\"outlinewidth\": 0, \"ticks\": \"\"}, \"colorscale\": [[0.0, \"#0d0887\"], [0.1111111111111111, \"#46039f\"], [0.2222222222222222, \"#7201a8\"], [0.3333333333333333, \"#9c179e\"], [0.4444444444444444, \"#bd3786\"], [0.5555555555555556, \"#d8576b\"], [0.6666666666666666, \"#ed7953\"], [0.7777777777777778, \"#fb9f3a\"], [0.8888888888888888, \"#fdca26\"], [1.0, \"#f0f921\"]], \"type\": \"heatmap\"}], \"heatmapgl\": [{\"colorbar\": {\"outlinewidth\": 0, \"ticks\": \"\"}, \"colorscale\": [[0.0, \"#0d0887\"], [0.1111111111111111, \"#46039f\"], [0.2222222222222222, \"#7201a8\"], [0.3333333333333333, \"#9c179e\"], [0.4444444444444444, \"#bd3786\"], [0.5555555555555556, \"#d8576b\"], [0.6666666666666666, \"#ed7953\"], [0.7777777777777778, \"#fb9f3a\"], [0.8888888888888888, \"#fdca26\"], [1.0, \"#f0f921\"]], \"type\": \"heatmapgl\"}], \"histogram\": [{\"marker\": {\"colorbar\": {\"outlinewidth\": 0, \"ticks\": \"\"}}, \"type\": \"histogram\"}], \"histogram2d\": [{\"colorbar\": {\"outlinewidth\": 0, \"ticks\": \"\"}, \"colorscale\": [[0.0, \"#0d0887\"], [0.1111111111111111, \"#46039f\"], [0.2222222222222222, \"#7201a8\"], [0.3333333333333333, \"#9c179e\"], [0.4444444444444444, \"#bd3786\"], [0.5555555555555556, \"#d8576b\"], [0.6666666666666666, \"#ed7953\"], [0.7777777777777778, \"#fb9f3a\"], [0.8888888888888888, \"#fdca26\"], [1.0, \"#f0f921\"]], \"type\": \"histogram2d\"}], \"histogram2dcontour\": [{\"colorbar\": {\"outlinewidth\": 0, \"ticks\": \"\"}, \"colorscale\": [[0.0, \"#0d0887\"], [0.1111111111111111, \"#46039f\"], [0.2222222222222222, \"#7201a8\"], [0.3333333333333333, \"#9c179e\"], [0.4444444444444444, \"#bd3786\"], [0.5555555555555556, \"#d8576b\"], [0.6666666666666666, \"#ed7953\"], [0.7777777777777778, \"#fb9f3a\"], [0.8888888888888888, \"#fdca26\"], [1.0, \"#f0f921\"]], \"type\": \"histogram2dcontour\"}], \"mesh3d\": [{\"colorbar\": {\"outlinewidth\": 0, \"ticks\": \"\"}, \"type\": \"mesh3d\"}], \"parcoords\": [{\"line\": {\"colorbar\": {\"outlinewidth\": 0, \"ticks\": \"\"}}, \"type\": \"parcoords\"}], \"pie\": [{\"automargin\": true, \"type\": \"pie\"}], \"scatter\": [{\"marker\": {\"colorbar\": {\"outlinewidth\": 0, \"ticks\": \"\"}}, \"type\": \"scatter\"}], \"scatter3d\": [{\"line\": {\"colorbar\": {\"outlinewidth\": 0, \"ticks\": \"\"}}, \"marker\": {\"colorbar\": {\"outlinewidth\": 0, \"ticks\": \"\"}}, \"type\": \"scatter3d\"}], \"scattercarpet\": [{\"marker\": {\"colorbar\": {\"outlinewidth\": 0, \"ticks\": \"\"}}, \"type\": \"scattercarpet\"}], \"scattergeo\": [{\"marker\": {\"colorbar\": {\"outlinewidth\": 0, \"ticks\": \"\"}}, \"type\": \"scattergeo\"}], \"scattergl\": [{\"marker\": {\"colorbar\": {\"outlinewidth\": 0, \"ticks\": \"\"}}, \"type\": \"scattergl\"}], \"scattermapbox\": [{\"marker\": {\"colorbar\": {\"outlinewidth\": 0, \"ticks\": \"\"}}, \"type\": \"scattermapbox\"}], \"scatterpolar\": [{\"marker\": {\"colorbar\": {\"outlinewidth\": 0, \"ticks\": \"\"}}, \"type\": \"scatterpolar\"}], \"scatterpolargl\": [{\"marker\": {\"colorbar\": {\"outlinewidth\": 0, \"ticks\": \"\"}}, \"type\": \"scatterpolargl\"}], \"scatterternary\": [{\"marker\": {\"colorbar\": {\"outlinewidth\": 0, \"ticks\": \"\"}}, \"type\": \"scatterternary\"}], \"surface\": [{\"colorbar\": {\"outlinewidth\": 0, \"ticks\": \"\"}, \"colorscale\": [[0.0, \"#0d0887\"], [0.1111111111111111, \"#46039f\"], [0.2222222222222222, \"#7201a8\"], [0.3333333333333333, \"#9c179e\"], [0.4444444444444444, \"#bd3786\"], [0.5555555555555556, \"#d8576b\"], [0.6666666666666666, \"#ed7953\"], [0.7777777777777778, \"#fb9f3a\"], [0.8888888888888888, \"#fdca26\"], [1.0, \"#f0f921\"]], \"type\": \"surface\"}], \"table\": [{\"cells\": {\"fill\": {\"color\": \"#EBF0F8\"}, \"line\": {\"color\": \"white\"}}, \"header\": {\"fill\": {\"color\": \"#C8D4E3\"}, \"line\": {\"color\": \"white\"}}, \"type\": \"table\"}]}, \"layout\": {\"annotationdefaults\": {\"arrowcolor\": \"#2a3f5f\", \"arrowhead\": 0, \"arrowwidth\": 1}, \"autotypenumbers\": \"strict\", \"coloraxis\": {\"colorbar\": {\"outlinewidth\": 0, \"ticks\": \"\"}}, \"colorscale\": {\"diverging\": [[0, \"#8e0152\"], [0.1, \"#c51b7d\"], [0.2, \"#de77ae\"], [0.3, \"#f1b6da\"], [0.4, \"#fde0ef\"], [0.5, \"#f7f7f7\"], [0.6, \"#e6f5d0\"], [0.7, \"#b8e186\"], [0.8, \"#7fbc41\"], [0.9, \"#4d9221\"], [1, \"#276419\"]], \"sequential\": [[0.0, \"#0d0887\"], [0.1111111111111111, \"#46039f\"], [0.2222222222222222, \"#7201a8\"], [0.3333333333333333, \"#9c179e\"], [0.4444444444444444, \"#bd3786\"], [0.5555555555555556, \"#d8576b\"], [0.6666666666666666, \"#ed7953\"], [0.7777777777777778, \"#fb9f3a\"], [0.8888888888888888, \"#fdca26\"], [1.0, \"#f0f921\"]], \"sequentialminus\": [[0.0, \"#0d0887\"], [0.1111111111111111, \"#46039f\"], [0.2222222222222222, \"#7201a8\"], [0.3333333333333333, \"#9c179e\"], [0.4444444444444444, \"#bd3786\"], [0.5555555555555556, \"#d8576b\"], [0.6666666666666666, \"#ed7953\"], [0.7777777777777778, \"#fb9f3a\"], [0.8888888888888888, \"#fdca26\"], [1.0, \"#f0f921\"]]}, \"colorway\": [\"#636efa\", \"#EF553B\", \"#00cc96\", \"#ab63fa\", \"#FFA15A\", \"#19d3f3\", \"#FF6692\", \"#B6E880\", \"#FF97FF\", \"#FECB52\"], \"font\": {\"color\": \"#2a3f5f\"}, \"geo\": {\"bgcolor\": \"white\", \"lakecolor\": \"white\", \"landcolor\": \"#E5ECF6\", \"showlakes\": true, \"showland\": true, \"subunitcolor\": \"white\"}, \"hoverlabel\": {\"align\": \"left\"}, \"hovermode\": \"closest\", \"mapbox\": {\"style\": \"light\"}, \"paper_bgcolor\": \"white\", \"plot_bgcolor\": \"#E5ECF6\", \"polar\": {\"angularaxis\": {\"gridcolor\": \"white\", \"linecolor\": \"white\", \"ticks\": \"\"}, \"bgcolor\": \"#E5ECF6\", \"radialaxis\": {\"gridcolor\": \"white\", \"linecolor\": \"white\", \"ticks\": \"\"}}, \"scene\": {\"xaxis\": {\"backgroundcolor\": \"#E5ECF6\", \"gridcolor\": \"white\", \"gridwidth\": 2, \"linecolor\": \"white\", \"showbackground\": true, \"ticks\": \"\", \"zerolinecolor\": \"white\"}, \"yaxis\": {\"backgroundcolor\": \"#E5ECF6\", \"gridcolor\": \"white\", \"gridwidth\": 2, \"linecolor\": \"white\", \"showbackground\": true, \"ticks\": \"\", \"zerolinecolor\": \"white\"}, \"zaxis\": {\"backgroundcolor\": \"#E5ECF6\", \"gridcolor\": \"white\", \"gridwidth\": 2, \"linecolor\": \"white\", \"showbackground\": true, \"ticks\": \"\", \"zerolinecolor\": \"white\"}}, \"shapedefaults\": {\"line\": {\"color\": \"#2a3f5f\"}}, \"ternary\": {\"aaxis\": {\"gridcolor\": \"white\", \"linecolor\": \"white\", \"ticks\": \"\"}, \"baxis\": {\"gridcolor\": \"white\", \"linecolor\": \"white\", \"ticks\": \"\"}, \"bgcolor\": \"#E5ECF6\", \"caxis\": {\"gridcolor\": \"white\", \"linecolor\": \"white\", \"ticks\": \"\"}}, \"title\": {\"x\": 0.05}, \"xaxis\": {\"automargin\": true, \"gridcolor\": \"white\", \"linecolor\": \"white\", \"ticks\": \"\", \"title\": {\"standoff\": 15}, \"zerolinecolor\": \"white\", \"zerolinewidth\": 2}, \"yaxis\": {\"automargin\": true, \"gridcolor\": \"white\", \"linecolor\": \"white\", \"ticks\": \"\", \"title\": {\"standoff\": 15}, \"zerolinecolor\": \"white\", \"zerolinewidth\": 2}}}, \"xaxis\": {\"anchor\": \"y\", \"domain\": [0.0, 1.0], \"title\": {\"text\": \"Genre\"}}, \"yaxis\": {\"anchor\": \"x\", \"domain\": [0.0, 1.0], \"title\": {\"text\": \"Popularity\"}}},                        {\"responsive\": true}                    ).then(function(){\n",
       "                            \n",
       "var gd = document.getElementById('b56bb3ee-bef4-442e-9c4e-388e369a5dfc');\n",
       "var x = new MutationObserver(function (mutations, observer) {{\n",
       "        var display = window.getComputedStyle(gd).display;\n",
       "        if (!display || display === 'none') {{\n",
       "            console.log([gd, 'removed!']);\n",
       "            Plotly.purge(gd);\n",
       "            observer.disconnect();\n",
       "        }}\n",
       "}});\n",
       "\n",
       "// Listen for the removal of the full notebook cells\n",
       "var notebookContainer = gd.closest('#notebook-container');\n",
       "if (notebookContainer) {{\n",
       "    x.observe(notebookContainer, {childList: true});\n",
       "}}\n",
       "\n",
       "// Listen for the clearing of the current output cell\n",
       "var outputEl = gd.closest('.output');\n",
       "if (outputEl) {{\n",
       "    x.observe(outputEl, {childList: true});\n",
       "}}\n",
       "\n",
       "                        })                };                });            </script>        </div>"
      ]
     },
     "metadata": {},
     "output_type": "display_data"
    }
   ],
   "source": [
    "px.bar(genre_pop_group, x=genre_pop_group.index, y='Popularity')"
   ]
  },
  {
   "cell_type": "code",
   "execution_count": 125,
   "metadata": {},
   "outputs": [
    {
     "data": {
      "application/vnd.plotly.v1+json": {
       "config": {
        "plotlyServerURL": "https://plot.ly"
       },
       "data": [
        {
         "alignmentgroup": "True",
         "customdata": [
          [
           "Popcorn, Soda�Murder?"
          ],
          [
           "The Nightmare Maze"
          ],
          [
           "What Happened Last Night?"
          ],
          [
           "Paranoia"
          ],
          [
           "Imprisoned"
          ],
          [
           "Land of Three Classes"
          ],
          [
           "Marine Raider"
          ],
          [
           "Dilemma"
          ],
          [
           "Zombie Exodus"
          ],
          [
           "Zebulon"
          ],
          [
           "Mobile Armored Marine: Mission to Far Hope"
          ],
          [
           "The Race"
          ],
          [
           "Dead Already?"
          ],
          [
           "Apex Patrol"
          ],
          [
           "The Sons of the Cherry"
          ],
          [
           "Way Walkers: University"
          ],
          [
           "Life of a Wizard"
          ],
          [
           "Sabres of Infinity"
          ],
          [
           "Paradox Factor"
          ],
          [
           "Way Walkers: University 2"
          ],
          [
           "Burn(t)"
          ],
          [
           "UnNatural"
          ],
          [
           "Tin Star"
          ],
          [
           "Trial of the Demon Hunter"
          ],
          [
           "Planetary Quarantine"
          ],
          [
           "Life of a Mobster"
          ],
          [
           "Fatehaven"
          ],
          [
           "Sword of the Elements"
          ],
          [
           "The Gangs of Old Camp"
          ],
          [
           "Divided We Fall"
          ],
          [
           "The Ascot"
          ],
          [
           "Somme Trench"
          ],
          [
           "Lords of Aswisk - First of His Blood"
          ],
          [
           "The Lost Heir: The Fall of Daria"
          ],
          [
           "Seven Bullets"
          ],
          [
           "Zombien"
          ],
          [
           "The Volunteer Firefighter"
          ],
          [
           "The Shadow Horror"
          ],
          [
           "No Proper Thief"
          ],
          [
           "Double/Cross"
          ],
          [
           "Samurai of Hyuga"
          ],
          [
           "Dancing with Demons"
          ],
          [
           "So, You’re Possessed!"
          ],
          [
           "Founders Saga: The Culling"
          ],
          [
           "Attack of the Clockwork Army"
          ],
          [
           "A Study in Steampunk: Choice by Gaslight"
          ],
          [
           "Captive of Fortune"
          ],
          [
           "Factions: Raids of the Divided"
          ],
          [
           "Community College Hero"
          ],
          [
           "Vampire House"
          ],
          [
           "Lost Heir 2: Forging a Kingdom"
          ],
          [
           "Wizardy Level C"
          ],
          [
           "Magikiras"
          ],
          [
           "Scarlet Sails"
          ],
          [
           "Guns of Infinity"
          ],
          [
           "First Year Demons"
          ],
          [
           "Best of Us"
          ],
          [
           "Gambling With Eternity"
          ],
          [
           "Doomsday on Demand"
          ],
          [
           "Starship Adventures"
          ],
          [
           "The Iron Destinies"
          ],
          [
           "Swamp Castle"
          ],
          [
           "The 3Games"
          ],
          [
           "Academy of Disaster"
          ],
          [
           "Machinations: Fog of War"
          ],
          [
           "Samurai of Hyuga Book 2"
          ],
          [
           "Elemental Saga: The Awakening"
          ],
          [
           "Tomb of the Khan"
          ],
          [
           "Twin Flames"
          ],
          [
           "Zombie Exodus: Safe Haven"
          ],
          [
           "Tokyo Wizard"
          ],
          [
           "Evertree Inn"
          ],
          [
           "The Great Tournament"
          ],
          [
           "Spacing Out"
          ],
          [
           "The Lost Heir 3: Demon War"
          ],
          [
           "Paradigm City"
          ],
          [
           "The Daily Blackmail"
          ],
          [
           "Treasure of the Forbidden City"
          ],
          [
           "My Day off Work"
          ],
          [
           "The Spy and the Labyrinth"
          ],
          [
           "Diamant Rose"
          ],
          [
           "The Dryad’s Riddle"
          ],
          [
           "Knight of the Fellowship"
          ],
          [
           "Lost in the Pages"
          ],
          [
           "Highlands, Deep Waters"
          ],
          [
           "Samurai of Hyuga Book 3"
          ],
          [
           "Foundation of Nightmares"
          ],
          [
           "The Aether: Life as a God"
          ],
          [
           "Comrade or Czar"
          ],
          [
           "The Great Tournament 2"
          ],
          [
           "Wayhaven Chronicles: Book One"
          ],
          [
           "Fallen Hero: Rebirth"
          ],
          [
           "Highway Wars"
          ],
          [
           "NE by NW Oz"
          ],
          [
           "The Kepler Colony: Evacuation"
          ],
          [
           "Community College Hero: Knowledge is Power"
          ],
          [
           "A Mummy is Not an Antique"
          ],
          [
           "The Courting of Miss Bennet"
          ],
          [
           "Doomsday on Demand 2"
          ],
          [
           "The Harbinger’s Head"
          ],
          [
           "The Last Wizard"
          ],
          [
           "The Magician’s Burden"
          ],
          [
           "The Haze Under Windbrooke"
          ],
          [
           "The Grim and I"
          ],
          [
           "The Twelve Trials"
          ],
          [
           "Nuclear Powered Toaster"
          ],
          [
           "Love at Elevation"
          ],
          [
           "Missing Wings"
          ],
          [
           "The Slayer of Evil"
          ],
          [
           "The Butler Did It"
          ],
          [
           "Critical Mass: The Bridge"
          ],
          [
           "Life of a Mercenary"
          ],
          [
           "Gladiator: Road to the Colosseum"
          ],
          [
           "Keeper of the Sun and Moon"
          ],
          [
           "Dragon Racer"
          ],
          [
           "Tudor Intrigue"
          ],
          [
           "The Paths to Greatness"
          ],
          [
           "Sordwin"
          ],
          [
           "Totem Force"
          ],
          [
           "The Saga of Oedipus Rex"
          ],
          [
           "Scratch"
          ],
          [
           "Who Was the Real Robin Hood?"
          ],
          [
           "A Sensei’s Story"
          ],
          [
           "One Minute Mysteries"
          ],
          [
           "Samurai of Hyuga Book 4"
          ],
          [
           "Hero or Villain: Genesis"
          ],
          [
           "The Parenting Simulator"
          ],
          [
           "Death at the Rectory"
          ],
          [
           "Moonrise"
          ],
          [
           "War of the Gods"
          ],
          [
           "The Oldest Dream"
          ],
          [
           "Breach: The Archangel Job"
          ],
          [
           "The War for the West"
          ],
          [
           "Street Jam: The Rise"
          ],
          [
           "The Shadow Society"
          ],
          [
           "Critical Mass: The Black Vein"
          ],
          [
           "The Soul Stone War"
          ],
          [
           "The Aegis Saga*"
          ],
          [
           "Kidnapped Prom Queen"
          ],
          [
           "Wayhaven Chronicles: Book Two*"
          ],
          [
           "AI-Aftermath"
          ],
          [
           "War for Magincia"
          ],
          [
           "Trees Don’t Tell"
          ],
          [
           "President Disaster"
          ],
          [
           "The Floating City"
          ],
          [
           "Macabre Mansion"
          ],
          [
           "A Sorcerer’s Story"
          ],
          [
           "Balance of Superpower"
          ],
          [
           "Hero or Villain: Battle Royale*"
          ],
          [
           "Demon: Recollect"
          ],
          [
           "Too Different"
          ],
          [
           "Score of a Lifetime"
          ],
          [
           "After the Storm"
          ],
          [
           "The Brothers’ War"
          ],
          [
           "Relics of the Lost Age"
          ],
          [
           "Keeper of the Day and Night"
          ],
          [
           "The Mage’s Adventures"
          ],
          [
           "War of 2022"
          ]
         ],
         "hovertemplate": "Genre=%{x}<br>Popularity=%{y}<br>HG Story Title=%{customdata[0]}<extra></extra>",
         "legendgroup": "",
         "marker": {
          "color": "#636efa"
         },
         "name": "",
         "notched": false,
         "offsetgroup": "",
         "orientation": "v",
         "showlegend": false,
         "type": "box",
         "x": [
          "Mystery",
          "Horror",
          "Mystery",
          "Puzzle",
          "Fantasy",
          "Puzzle",
          "War",
          "Slice of Life",
          "Supernatural",
          "Sci-Fi",
          "Sci-Fi",
          "Slice of Life",
          "Mystery",
          "Sci-Fi",
          "Historical",
          "Fantasy",
          "Fantasy",
          "War",
          "Sci-Fi",
          "Fantasy",
          "Supernatural",
          "Supernatural",
          "Historical",
          "Fantasy",
          "Sci-Fi",
          "Crime",
          "Fantasy",
          "Fantasy",
          "Crime",
          "War",
          "Puzzle",
          "War",
          "Fantasy",
          "Fantasy",
          "Crime",
          "Supernatural",
          "Slice of Life",
          "Horror",
          "Crime",
          "Mystery",
          "Fantasy",
          "Supernatural",
          "Supernatural",
          "Sci-Fi",
          "Steampunk",
          "Steampunk",
          "Fantasy",
          "Puzzle",
          "Superhero",
          "Supernatural",
          "Fantasy",
          "Fantasy",
          "Sci-Fi",
          "Fantasy",
          "War",
          "Supernatural",
          "Superhero",
          "Supernatural",
          "Post-apocalyptic",
          "Sci-Fi",
          "Sci-Fi",
          "Fantasy",
          "Sci-Fi",
          "School",
          "Steampunk",
          "Fantasy",
          "Supernatural",
          "Horror",
          "Fantasy",
          "Supernatural",
          "Fantasy",
          "Fantasy",
          "Fantasy",
          "Sci-Fi",
          "Fantasy",
          "Superhero",
          "Mystery",
          "Adventure",
          "Slice of Life",
          "Horror",
          "Spy",
          "Puzzle",
          "Fantasy",
          "Supernatural",
          "Horror",
          "Fantasy",
          "Fantasy",
          "Supernatural",
          "War",
          "Fantasy",
          "Supernatural",
          "Superhero",
          "Post-apocalyptic",
          "Humor",
          "Sci-Fi",
          "Superhero",
          "Humor",
          "Romance",
          "Post-apocalyptic",
          "Horror",
          "Fantasy",
          "Fantasy",
          "Fantasy",
          "Supernatural",
          "Fantasy",
          "Sci-Fi",
          "Romance",
          "Puzzle",
          "Fantasy",
          "Steampunk",
          "Post-apocalyptic",
          "Fantasy",
          "Historical",
          "Supernatural",
          "Fantasy",
          "Historical",
          "Fantasy",
          "Fantasy",
          "Sci-Fi",
          "Fantasy",
          "Mystery",
          "Fantasy",
          "Slice of Life",
          "Mystery",
          "Fantasy",
          "Superhero",
          "Slice of Life",
          "Mystery",
          "Supernatural",
          "Fantasy",
          "Fantasy",
          "Crime",
          "Fantasy",
          "Crime",
          "Fantasy",
          "Post-apocalyptic",
          "Fantasy",
          "Fantasy",
          "Mystery",
          "Supernatural",
          "Sci-Fi",
          "Fantasy",
          "Mystery",
          "Humor",
          "Post-apocalyptic",
          "Mystery",
          "Supernatural",
          "Superhero",
          "Superhero",
          "Superhero",
          "Romance",
          "Romance",
          "Romance",
          "Historical",
          "Historical",
          "Supernatural",
          "Fantasy",
          "War"
         ],
         "x0": " ",
         "xaxis": "x",
         "y": [
          1294,
          1098,
          887,
          1319,
          2569,
          183,
          3048,
          845,
          8654,
          373,
          2640,
          500,
          621,
          452,
          413,
          1605,
          2063,
          1876,
          367,
          1368,
          939,
          4109,
          2035,
          352,
          151,
          1739,
          1797,
          108,
          166,
          234,
          137,
          481,
          1292,
          4097,
          290,
          1989,
          293,
          72,
          268,
          617,
          6063,
          196,
          938,
          735,
          174,
          1128,
          82,
          151,
          3742,
          4694,
          2408,
          287,
          864,
          316,
          1330,
          84,
          419,
          323,
          5812,
          108,
          142,
          4276,
          156,
          96,
          136,
          3288,
          989,
          89,
          171,
          9363,
          1058,
          5461,
          46480,
          210,
          1716,
          929,
          223,
          69,
          1021,
          48,
          83,
          41,
          221,
          150,
          567,
          2419,
          113,
          5118,
          240,
          3158,
          17716,
          5587,
          598,
          38,
          409,
          1529,
          18,
          273,
          550,
          199,
          1058,
          839,
          135,
          1934,
          408,
          119,
          1108,
          70,
          61,
          221,
          186,
          23320,
          1502,
          4107,
          1893,
          750,
          369,
          4358,
          834,
          232,
          139,
          93,
          466,
          29,
          4721,
          11364,
          4010,
          172,
          349,
          5623,
          438,
          6764,
          7198,
          1166,
          3694,
          148,
          4480,
          314,
          131,
          14777,
          142,
          1107,
          25,
          430,
          69,
          140,
          174,
          492,
          2342,
          2767,
          701,
          261,
          1364,
          410,
          744,
          2764,
          581,
          690
         ],
         "y0": " ",
         "yaxis": "y"
        }
       ],
       "layout": {
        "autosize": true,
        "boxmode": "group",
        "legend": {
         "tracegroupgap": 0
        },
        "margin": {
         "t": 60
        },
        "template": {
         "data": {
          "bar": [
           {
            "error_x": {
             "color": "#2a3f5f"
            },
            "error_y": {
             "color": "#2a3f5f"
            },
            "marker": {
             "line": {
              "color": "#E5ECF6",
              "width": 0.5
             }
            },
            "type": "bar"
           }
          ],
          "barpolar": [
           {
            "marker": {
             "line": {
              "color": "#E5ECF6",
              "width": 0.5
             }
            },
            "type": "barpolar"
           }
          ],
          "carpet": [
           {
            "aaxis": {
             "endlinecolor": "#2a3f5f",
             "gridcolor": "white",
             "linecolor": "white",
             "minorgridcolor": "white",
             "startlinecolor": "#2a3f5f"
            },
            "baxis": {
             "endlinecolor": "#2a3f5f",
             "gridcolor": "white",
             "linecolor": "white",
             "minorgridcolor": "white",
             "startlinecolor": "#2a3f5f"
            },
            "type": "carpet"
           }
          ],
          "choropleth": [
           {
            "colorbar": {
             "outlinewidth": 0,
             "ticks": ""
            },
            "type": "choropleth"
           }
          ],
          "contour": [
           {
            "colorbar": {
             "outlinewidth": 0,
             "ticks": ""
            },
            "colorscale": [
             [
              0,
              "#0d0887"
             ],
             [
              0.1111111111111111,
              "#46039f"
             ],
             [
              0.2222222222222222,
              "#7201a8"
             ],
             [
              0.3333333333333333,
              "#9c179e"
             ],
             [
              0.4444444444444444,
              "#bd3786"
             ],
             [
              0.5555555555555556,
              "#d8576b"
             ],
             [
              0.6666666666666666,
              "#ed7953"
             ],
             [
              0.7777777777777778,
              "#fb9f3a"
             ],
             [
              0.8888888888888888,
              "#fdca26"
             ],
             [
              1,
              "#f0f921"
             ]
            ],
            "type": "contour"
           }
          ],
          "contourcarpet": [
           {
            "colorbar": {
             "outlinewidth": 0,
             "ticks": ""
            },
            "type": "contourcarpet"
           }
          ],
          "heatmap": [
           {
            "colorbar": {
             "outlinewidth": 0,
             "ticks": ""
            },
            "colorscale": [
             [
              0,
              "#0d0887"
             ],
             [
              0.1111111111111111,
              "#46039f"
             ],
             [
              0.2222222222222222,
              "#7201a8"
             ],
             [
              0.3333333333333333,
              "#9c179e"
             ],
             [
              0.4444444444444444,
              "#bd3786"
             ],
             [
              0.5555555555555556,
              "#d8576b"
             ],
             [
              0.6666666666666666,
              "#ed7953"
             ],
             [
              0.7777777777777778,
              "#fb9f3a"
             ],
             [
              0.8888888888888888,
              "#fdca26"
             ],
             [
              1,
              "#f0f921"
             ]
            ],
            "type": "heatmap"
           }
          ],
          "heatmapgl": [
           {
            "colorbar": {
             "outlinewidth": 0,
             "ticks": ""
            },
            "colorscale": [
             [
              0,
              "#0d0887"
             ],
             [
              0.1111111111111111,
              "#46039f"
             ],
             [
              0.2222222222222222,
              "#7201a8"
             ],
             [
              0.3333333333333333,
              "#9c179e"
             ],
             [
              0.4444444444444444,
              "#bd3786"
             ],
             [
              0.5555555555555556,
              "#d8576b"
             ],
             [
              0.6666666666666666,
              "#ed7953"
             ],
             [
              0.7777777777777778,
              "#fb9f3a"
             ],
             [
              0.8888888888888888,
              "#fdca26"
             ],
             [
              1,
              "#f0f921"
             ]
            ],
            "type": "heatmapgl"
           }
          ],
          "histogram": [
           {
            "marker": {
             "colorbar": {
              "outlinewidth": 0,
              "ticks": ""
             }
            },
            "type": "histogram"
           }
          ],
          "histogram2d": [
           {
            "colorbar": {
             "outlinewidth": 0,
             "ticks": ""
            },
            "colorscale": [
             [
              0,
              "#0d0887"
             ],
             [
              0.1111111111111111,
              "#46039f"
             ],
             [
              0.2222222222222222,
              "#7201a8"
             ],
             [
              0.3333333333333333,
              "#9c179e"
             ],
             [
              0.4444444444444444,
              "#bd3786"
             ],
             [
              0.5555555555555556,
              "#d8576b"
             ],
             [
              0.6666666666666666,
              "#ed7953"
             ],
             [
              0.7777777777777778,
              "#fb9f3a"
             ],
             [
              0.8888888888888888,
              "#fdca26"
             ],
             [
              1,
              "#f0f921"
             ]
            ],
            "type": "histogram2d"
           }
          ],
          "histogram2dcontour": [
           {
            "colorbar": {
             "outlinewidth": 0,
             "ticks": ""
            },
            "colorscale": [
             [
              0,
              "#0d0887"
             ],
             [
              0.1111111111111111,
              "#46039f"
             ],
             [
              0.2222222222222222,
              "#7201a8"
             ],
             [
              0.3333333333333333,
              "#9c179e"
             ],
             [
              0.4444444444444444,
              "#bd3786"
             ],
             [
              0.5555555555555556,
              "#d8576b"
             ],
             [
              0.6666666666666666,
              "#ed7953"
             ],
             [
              0.7777777777777778,
              "#fb9f3a"
             ],
             [
              0.8888888888888888,
              "#fdca26"
             ],
             [
              1,
              "#f0f921"
             ]
            ],
            "type": "histogram2dcontour"
           }
          ],
          "mesh3d": [
           {
            "colorbar": {
             "outlinewidth": 0,
             "ticks": ""
            },
            "type": "mesh3d"
           }
          ],
          "parcoords": [
           {
            "line": {
             "colorbar": {
              "outlinewidth": 0,
              "ticks": ""
             }
            },
            "type": "parcoords"
           }
          ],
          "pie": [
           {
            "automargin": true,
            "type": "pie"
           }
          ],
          "scatter": [
           {
            "marker": {
             "colorbar": {
              "outlinewidth": 0,
              "ticks": ""
             }
            },
            "type": "scatter"
           }
          ],
          "scatter3d": [
           {
            "line": {
             "colorbar": {
              "outlinewidth": 0,
              "ticks": ""
             }
            },
            "marker": {
             "colorbar": {
              "outlinewidth": 0,
              "ticks": ""
             }
            },
            "type": "scatter3d"
           }
          ],
          "scattercarpet": [
           {
            "marker": {
             "colorbar": {
              "outlinewidth": 0,
              "ticks": ""
             }
            },
            "type": "scattercarpet"
           }
          ],
          "scattergeo": [
           {
            "marker": {
             "colorbar": {
              "outlinewidth": 0,
              "ticks": ""
             }
            },
            "type": "scattergeo"
           }
          ],
          "scattergl": [
           {
            "marker": {
             "colorbar": {
              "outlinewidth": 0,
              "ticks": ""
             }
            },
            "type": "scattergl"
           }
          ],
          "scattermapbox": [
           {
            "marker": {
             "colorbar": {
              "outlinewidth": 0,
              "ticks": ""
             }
            },
            "type": "scattermapbox"
           }
          ],
          "scatterpolar": [
           {
            "marker": {
             "colorbar": {
              "outlinewidth": 0,
              "ticks": ""
             }
            },
            "type": "scatterpolar"
           }
          ],
          "scatterpolargl": [
           {
            "marker": {
             "colorbar": {
              "outlinewidth": 0,
              "ticks": ""
             }
            },
            "type": "scatterpolargl"
           }
          ],
          "scatterternary": [
           {
            "marker": {
             "colorbar": {
              "outlinewidth": 0,
              "ticks": ""
             }
            },
            "type": "scatterternary"
           }
          ],
          "surface": [
           {
            "colorbar": {
             "outlinewidth": 0,
             "ticks": ""
            },
            "colorscale": [
             [
              0,
              "#0d0887"
             ],
             [
              0.1111111111111111,
              "#46039f"
             ],
             [
              0.2222222222222222,
              "#7201a8"
             ],
             [
              0.3333333333333333,
              "#9c179e"
             ],
             [
              0.4444444444444444,
              "#bd3786"
             ],
             [
              0.5555555555555556,
              "#d8576b"
             ],
             [
              0.6666666666666666,
              "#ed7953"
             ],
             [
              0.7777777777777778,
              "#fb9f3a"
             ],
             [
              0.8888888888888888,
              "#fdca26"
             ],
             [
              1,
              "#f0f921"
             ]
            ],
            "type": "surface"
           }
          ],
          "table": [
           {
            "cells": {
             "fill": {
              "color": "#EBF0F8"
             },
             "line": {
              "color": "white"
             }
            },
            "header": {
             "fill": {
              "color": "#C8D4E3"
             },
             "line": {
              "color": "white"
             }
            },
            "type": "table"
           }
          ]
         },
         "layout": {
          "annotationdefaults": {
           "arrowcolor": "#2a3f5f",
           "arrowhead": 0,
           "arrowwidth": 1
          },
          "autotypenumbers": "strict",
          "coloraxis": {
           "colorbar": {
            "outlinewidth": 0,
            "ticks": ""
           }
          },
          "colorscale": {
           "diverging": [
            [
             0,
             "#8e0152"
            ],
            [
             0.1,
             "#c51b7d"
            ],
            [
             0.2,
             "#de77ae"
            ],
            [
             0.3,
             "#f1b6da"
            ],
            [
             0.4,
             "#fde0ef"
            ],
            [
             0.5,
             "#f7f7f7"
            ],
            [
             0.6,
             "#e6f5d0"
            ],
            [
             0.7,
             "#b8e186"
            ],
            [
             0.8,
             "#7fbc41"
            ],
            [
             0.9,
             "#4d9221"
            ],
            [
             1,
             "#276419"
            ]
           ],
           "sequential": [
            [
             0,
             "#0d0887"
            ],
            [
             0.1111111111111111,
             "#46039f"
            ],
            [
             0.2222222222222222,
             "#7201a8"
            ],
            [
             0.3333333333333333,
             "#9c179e"
            ],
            [
             0.4444444444444444,
             "#bd3786"
            ],
            [
             0.5555555555555556,
             "#d8576b"
            ],
            [
             0.6666666666666666,
             "#ed7953"
            ],
            [
             0.7777777777777778,
             "#fb9f3a"
            ],
            [
             0.8888888888888888,
             "#fdca26"
            ],
            [
             1,
             "#f0f921"
            ]
           ],
           "sequentialminus": [
            [
             0,
             "#0d0887"
            ],
            [
             0.1111111111111111,
             "#46039f"
            ],
            [
             0.2222222222222222,
             "#7201a8"
            ],
            [
             0.3333333333333333,
             "#9c179e"
            ],
            [
             0.4444444444444444,
             "#bd3786"
            ],
            [
             0.5555555555555556,
             "#d8576b"
            ],
            [
             0.6666666666666666,
             "#ed7953"
            ],
            [
             0.7777777777777778,
             "#fb9f3a"
            ],
            [
             0.8888888888888888,
             "#fdca26"
            ],
            [
             1,
             "#f0f921"
            ]
           ]
          },
          "colorway": [
           "#636efa",
           "#EF553B",
           "#00cc96",
           "#ab63fa",
           "#FFA15A",
           "#19d3f3",
           "#FF6692",
           "#B6E880",
           "#FF97FF",
           "#FECB52"
          ],
          "font": {
           "color": "#2a3f5f"
          },
          "geo": {
           "bgcolor": "white",
           "lakecolor": "white",
           "landcolor": "#E5ECF6",
           "showlakes": true,
           "showland": true,
           "subunitcolor": "white"
          },
          "hoverlabel": {
           "align": "left"
          },
          "hovermode": "closest",
          "mapbox": {
           "style": "light"
          },
          "paper_bgcolor": "white",
          "plot_bgcolor": "#E5ECF6",
          "polar": {
           "angularaxis": {
            "gridcolor": "white",
            "linecolor": "white",
            "ticks": ""
           },
           "bgcolor": "#E5ECF6",
           "radialaxis": {
            "gridcolor": "white",
            "linecolor": "white",
            "ticks": ""
           }
          },
          "scene": {
           "xaxis": {
            "backgroundcolor": "#E5ECF6",
            "gridcolor": "white",
            "gridwidth": 2,
            "linecolor": "white",
            "showbackground": true,
            "ticks": "",
            "zerolinecolor": "white"
           },
           "yaxis": {
            "backgroundcolor": "#E5ECF6",
            "gridcolor": "white",
            "gridwidth": 2,
            "linecolor": "white",
            "showbackground": true,
            "ticks": "",
            "zerolinecolor": "white"
           },
           "zaxis": {
            "backgroundcolor": "#E5ECF6",
            "gridcolor": "white",
            "gridwidth": 2,
            "linecolor": "white",
            "showbackground": true,
            "ticks": "",
            "zerolinecolor": "white"
           }
          },
          "shapedefaults": {
           "line": {
            "color": "#2a3f5f"
           }
          },
          "ternary": {
           "aaxis": {
            "gridcolor": "white",
            "linecolor": "white",
            "ticks": ""
           },
           "baxis": {
            "gridcolor": "white",
            "linecolor": "white",
            "ticks": ""
           },
           "bgcolor": "#E5ECF6",
           "caxis": {
            "gridcolor": "white",
            "linecolor": "white",
            "ticks": ""
           }
          },
          "title": {
           "x": 0.05
          },
          "xaxis": {
           "automargin": true,
           "gridcolor": "white",
           "linecolor": "white",
           "ticks": "",
           "title": {
            "standoff": 15
           },
           "zerolinecolor": "white",
           "zerolinewidth": 2
          },
          "yaxis": {
           "automargin": true,
           "gridcolor": "white",
           "linecolor": "white",
           "ticks": "",
           "title": {
            "standoff": 15
           },
           "zerolinecolor": "white",
           "zerolinewidth": 2
          }
         }
        },
        "xaxis": {
         "anchor": "y",
         "autorange": true,
         "domain": [
          0,
          1
         ],
         "range": [
          -0.5,
          17.5
         ],
         "title": {
          "text": "Genre"
         },
         "type": "category"
        },
        "yaxis": {
         "anchor": "x",
         "autorange": true,
         "domain": [
          0,
          1
         ],
         "range": [
          -2563.2222222222217,
          49061.22222222222
         ],
         "title": {
          "text": "Popularity"
         },
         "type": "linear"
        }
       }
      },
      "image/png": "[encoded data removed]",
      "text/html": [
       "<div>                            <div id=\"56ef79ce-bf39-4507-b0c3-c4110b93c4fd\" class=\"plotly-graph-div\" style=\"height:525px; width:100%;\"></div>            <script type=\"text/javascript\">                require([\"plotly\"], function(Plotly) {                    window.PLOTLYENV=window.PLOTLYENV || {};                                    if (document.getElementById(\"56ef79ce-bf39-4507-b0c3-c4110b93c4fd\")) {                    Plotly.newPlot(                        \"56ef79ce-bf39-4507-b0c3-c4110b93c4fd\",                        [{\"alignmentgroup\": \"True\", \"customdata\": [[\"Popcorn, Soda\\ufffdMurder?\"], [\"The Nightmare Maze\"], [\"What Happened Last Night?\"], [\"Paranoia\"], [\"Imprisoned\"], [\"Land of Three Classes\"], [\"Marine Raider\"], [\"Dilemma\"], [\"Zombie Exodus\"], [\"Zebulon\"], [\"Mobile Armored Marine: Mission to Far Hope\"], [\"The Race\"], [\"Dead Already?\"], [\"Apex Patrol\"], [\"The Sons of the Cherry\"], [\"Way Walkers: University\"], [\"Life of a Wizard\"], [\"Sabres of Infinity\"], [\"Paradox Factor\"], [\"Way Walkers: University 2\"], [\"Burn(t)\"], [\"UnNatural\"], [\"Tin Star\"], [\"Trial of the Demon Hunter\"], [\"Planetary Quarantine\"], [\"Life of a Mobster\"], [\"Fatehaven\"], [\"Sword of the Elements\"], [\"The Gangs of Old Camp\"], [\"Divided We Fall\"], [\"The Ascot\"], [\"Somme Trench\"], [\"Lords of Aswisk - First of His Blood\"], [\"The Lost Heir: The Fall of Daria\"], [\"Seven Bullets\"], [\"Zombien\"], [\"The Volunteer Firefighter\"], [\"The Shadow Horror\"], [\"No Proper Thief\"], [\"Double/Cross\"], [\"Samurai of Hyuga\"], [\"Dancing with Demons\"], [\"So, You\\u2019re Possessed!\"], [\"Founders Saga: The Culling\"], [\"Attack of the Clockwork Army\"], [\"A Study in Steampunk: Choice by Gaslight\"], [\"Captive of Fortune\"], [\"Factions: Raids of the Divided\"], [\"Community College Hero\"], [\"Vampire House\"], [\"Lost Heir 2: Forging a Kingdom\"], [\"Wizardy Level C\"], [\"Magikiras\"], [\"Scarlet Sails\"], [\"Guns of Infinity\"], [\"First Year Demons\"], [\"Best of Us\"], [\"Gambling With Eternity\"], [\"Doomsday on Demand\"], [\"Starship Adventures\"], [\"The Iron Destinies\"], [\"Swamp Castle\"], [\"The 3Games\"], [\"Academy of Disaster\"], [\"Machinations: Fog of War\"], [\"Samurai of Hyuga Book 2\"], [\"Elemental Saga: The Awakening\"], [\"Tomb of the Khan\"], [\"Twin Flames\"], [\"Zombie Exodus: Safe Haven\"], [\"Tokyo Wizard\"], [\"Evertree Inn\"], [\"The Great Tournament\"], [\"Spacing Out\"], [\"The Lost Heir 3: Demon War\"], [\"Paradigm City\"], [\"The Daily Blackmail\"], [\"Treasure of the Forbidden City\"], [\"My Day off Work\"], [\"The Spy and the Labyrinth\"], [\"Diamant Rose\"], [\"The Dryad\\u2019s Riddle\"], [\"Knight of the Fellowship\"], [\"Lost in the Pages\"], [\"Highlands, Deep Waters\"], [\"Samurai of Hyuga Book 3\"], [\"Foundation of Nightmares\"], [\"The Aether: Life as a God\"], [\"Comrade or Czar\"], [\"The Great Tournament 2\"], [\"Wayhaven Chronicles: Book One\"], [\"Fallen Hero: Rebirth\"], [\"Highway Wars\"], [\"NE by NW Oz\"], [\"The Kepler Colony: Evacuation\"], [\"Community College Hero: Knowledge is Power\"], [\"A Mummy is Not an Antique\"], [\"The Courting of Miss Bennet\"], [\"Doomsday on Demand 2\"], [\"The Harbinger\\u2019s Head\"], [\"The Last Wizard\"], [\"The Magician\\u2019s Burden\"], [\"The Haze Under Windbrooke\"], [\"The Grim and I\"], [\"The Twelve Trials\"], [\"Nuclear Powered Toaster\"], [\"Love at Elevation\"], [\"Missing Wings\"], [\"The Slayer of Evil\"], [\"The Butler Did It\"], [\"Critical Mass: The Bridge\"], [\"Life of a Mercenary\"], [\"Gladiator: Road to the Colosseum\"], [\"Keeper of the Sun and Moon\"], [\"Dragon Racer\"], [\"Tudor Intrigue\"], [\"The Paths to Greatness\"], [\"Sordwin\"], [\"Totem Force\"], [\"The Saga of Oedipus Rex\"], [\"Scratch\"], [\"Who Was the Real Robin Hood?\"], [\"A Sensei\\u2019s Story\"], [\"One Minute Mysteries\"], [\"Samurai of Hyuga Book 4\"], [\"Hero or Villain: Genesis\"], [\"The Parenting Simulator\"], [\"Death at the Rectory\"], [\"Moonrise\"], [\"War of the Gods\"], [\"The Oldest Dream\"], [\"Breach: The Archangel Job\"], [\"The War for the West\"], [\"Street Jam: The Rise\"], [\"The Shadow Society\"], [\"Critical Mass: The Black Vein\"], [\"The Soul Stone War\"], [\"The Aegis Saga*\"], [\"Kidnapped Prom Queen\"], [\"Wayhaven Chronicles: Book Two*\"], [\"AI-Aftermath\"], [\"War for Magincia\"], [\"Trees Don\\u2019t Tell\"], [\"President Disaster\"], [\"The Floating City\"], [\"Macabre Mansion\"], [\"A Sorcerer\\u2019s Story\"], [\"Balance of Superpower\"], [\"Hero or Villain: Battle Royale*\"], [\"Demon: Recollect\"], [\"Too Different\"], [\"Score of a Lifetime\"], [\"After the Storm\"], [\"The Brothers\\u2019 War\"], [\"Relics of the Lost Age\"], [\"Keeper of the Day and Night\"], [\"The Mage\\u2019s Adventures\"], [\"War of 2022\"]], \"hovertemplate\": \"Genre=%{x}<br>Popularity=%{y}<br>HG Story Title=%{customdata[0]}<extra></extra>\", \"legendgroup\": \"\", \"marker\": {\"color\": \"#636efa\"}, \"name\": \"\", \"notched\": false, \"offsetgroup\": \"\", \"orientation\": \"v\", \"showlegend\": false, \"type\": \"box\", \"x\": [\"Mystery\", \"Horror\", \"Mystery\", \"Puzzle\", \"Fantasy\", \"Puzzle\", \"War\", \"Slice of Life\", \"Supernatural\", \"Sci-Fi\", \"Sci-Fi\", \"Slice of Life\", \"Mystery\", \"Sci-Fi\", \"Historical\", \"Fantasy\", \"Fantasy\", \"War\", \"Sci-Fi\", \"Fantasy\", \"Supernatural\", \"Supernatural\", \"Historical\", \"Fantasy\", \"Sci-Fi\", \"Crime\", \"Fantasy\", \"Fantasy\", \"Crime\", \"War\", \"Puzzle\", \"War\", \"Fantasy\", \"Fantasy\", \"Crime\", \"Supernatural\", \"Slice of Life\", \"Horror\", \"Crime\", \"Mystery\", \"Fantasy\", \"Supernatural\", \"Supernatural\", \"Sci-Fi\", \"Steampunk\", \"Steampunk\", \"Fantasy\", \"Puzzle\", \"Superhero\", \"Supernatural\", \"Fantasy\", \"Fantasy\", \"Sci-Fi\", \"Fantasy\", \"War\", \"Supernatural\", \"Superhero\", \"Supernatural\", \"Post-apocalyptic\", \"Sci-Fi\", \"Sci-Fi\", \"Fantasy\", \"Sci-Fi\", \"School\", \"Steampunk\", \"Fantasy\", \"Supernatural\", \"Horror\", \"Fantasy\", \"Supernatural\", \"Fantasy\", \"Fantasy\", \"Fantasy\", \"Sci-Fi\", \"Fantasy\", \"Superhero\", \"Mystery\", \"Adventure\", \"Slice of Life\", \"Horror\", \"Spy\", \"Puzzle\", \"Fantasy\", \"Supernatural\", \"Horror\", \"Fantasy\", \"Fantasy\", \"Supernatural\", \"War\", \"Fantasy\", \"Supernatural\", \"Superhero\", \"Post-apocalyptic\", \"Humor\", \"Sci-Fi\", \"Superhero\", \"Humor\", \"Romance\", \"Post-apocalyptic\", \"Horror\", \"Fantasy\", \"Fantasy\", \"Fantasy\", \"Supernatural\", \"Fantasy\", \"Sci-Fi\", \"Romance\", \"Puzzle\", \"Fantasy\", \"Steampunk\", \"Post-apocalyptic\", \"Fantasy\", \"Historical\", \"Supernatural\", \"Fantasy\", \"Historical\", \"Fantasy\", \"Fantasy\", \"Sci-Fi\", \"Fantasy\", \"Mystery\", \"Fantasy\", \"Slice of Life\", \"Mystery\", \"Fantasy\", \"Superhero\", \"Slice of Life\", \"Mystery\", \"Supernatural\", \"Fantasy\", \"Fantasy\", \"Crime\", \"Fantasy\", \"Crime\", \"Fantasy\", \"Post-apocalyptic\", \"Fantasy\", \"Fantasy\", \"Mystery\", \"Supernatural\", \"Sci-Fi\", \"Fantasy\", \"Mystery\", \"Humor\", \"Post-apocalyptic\", \"Mystery\", \"Supernatural\", \"Superhero\", \"Superhero\", \"Superhero\", \"Romance\", \"Romance\", \"Romance\", \"Historical\", \"Historical\", \"Supernatural\", \"Fantasy\", \"War\"], \"x0\": \" \", \"xaxis\": \"x\", \"y\": [1294.0, 1098.0, 887.0, 1319.0, 2569.0, 183.0, 3048.0, 845.0, 8654.0, 373.0, 2640.0, 500.0, 621.0, 452.0, 413.0, 1605.0, 2063.0, 1876.0, 367.0, 1368.0, 939.0, 4109.0, 2035.0, 352.0, 151.0, 1739.0, 1797.0, 108.0, 166.0, 234.0, 137.0, 481.0, 1292.0, 4097.0, 290.0, 1989.0, 293.0, 72.0, 268.0, 617.0, 6063.0, 196.0, 938.0, 735.0, 174.0, 1128.0, 82.0, 151.0, 3742.0, 4694.0, 2408.0, 287.0, 864.0, 316.0, 1330.0, 84.0, 419.0, 323.0, 5812.0, 108.0, 142.0, 4276.0, 156.0, 96.0, 136.0, 3288.0, 989.0, 89.0, 171.0, 9363.0, 1058.0, 5461.0, 46480.0, 210.0, 1716.0, 929.0, 223.0, 69.0, 1021.0, 48.0, 83.0, 41.0, 221.0, 150.0, 567.0, 2419.0, 113.0, 5118.0, 240.0, 3158.0, 17716.0, 5587.0, 598.0, 38.0, 409.0, 1529.0, 18.0, 273.0, 550.0, 199.0, 1058.0, 839.0, 135.0, 1934.0, 408.0, 119.0, 1108.0, 70.0, 61.0, 221.0, 186.0, 23320.0, 1502.0, 4107.0, 1893.0, 750.0, 369.0, 4358.0, 834.0, 232.0, 139.0, 93.0, 466.0, 29.0, 4721.0, 11364.0, 4010.0, 172.0, 349.0, 5623.0, 438.0, 6764.0, 7198.0, 1166.0, 3694.0, 148.0, 4480.0, 314.0, 131.0, 14777.0, 142.0, 1107.0, 25.0, 430.0, 69.0, 140.0, 174.0, 492.0, 2342.0, 2767.0, 701.0, 261.0, 1364.0, 410.0, 744.0, 2764.0, 581.0, 690.0], \"y0\": \" \", \"yaxis\": \"y\"}],                        {\"boxmode\": \"group\", \"legend\": {\"tracegroupgap\": 0}, \"margin\": {\"t\": 60}, \"template\": {\"data\": {\"bar\": [{\"error_x\": {\"color\": \"#2a3f5f\"}, \"error_y\": {\"color\": \"#2a3f5f\"}, \"marker\": {\"line\": {\"color\": \"#E5ECF6\", \"width\": 0.5}}, \"type\": \"bar\"}], \"barpolar\": [{\"marker\": {\"line\": {\"color\": \"#E5ECF6\", \"width\": 0.5}}, \"type\": \"barpolar\"}], \"carpet\": [{\"aaxis\": {\"endlinecolor\": \"#2a3f5f\", \"gridcolor\": \"white\", \"linecolor\": \"white\", \"minorgridcolor\": \"white\", \"startlinecolor\": \"#2a3f5f\"}, \"baxis\": {\"endlinecolor\": \"#2a3f5f\", \"gridcolor\": \"white\", \"linecolor\": \"white\", \"minorgridcolor\": \"white\", \"startlinecolor\": \"#2a3f5f\"}, \"type\": \"carpet\"}], \"choropleth\": [{\"colorbar\": {\"outlinewidth\": 0, \"ticks\": \"\"}, \"type\": \"choropleth\"}], \"contour\": [{\"colorbar\": {\"outlinewidth\": 0, \"ticks\": \"\"}, \"colorscale\": [[0.0, \"#0d0887\"], [0.1111111111111111, \"#46039f\"], [0.2222222222222222, \"#7201a8\"], [0.3333333333333333, \"#9c179e\"], [0.4444444444444444, \"#bd3786\"], [0.5555555555555556, \"#d8576b\"], [0.6666666666666666, \"#ed7953\"], [0.7777777777777778, \"#fb9f3a\"], [0.8888888888888888, \"#fdca26\"], [1.0, \"#f0f921\"]], \"type\": \"contour\"}], \"contourcarpet\": [{\"colorbar\": {\"outlinewidth\": 0, \"ticks\": \"\"}, \"type\": \"contourcarpet\"}], \"heatmap\": [{\"colorbar\": {\"outlinewidth\": 0, \"ticks\": \"\"}, \"colorscale\": [[0.0, \"#0d0887\"], [0.1111111111111111, \"#46039f\"], [0.2222222222222222, \"#7201a8\"], [0.3333333333333333, \"#9c179e\"], [0.4444444444444444, \"#bd3786\"], [0.5555555555555556, \"#d8576b\"], [0.6666666666666666, \"#ed7953\"], [0.7777777777777778, \"#fb9f3a\"], [0.8888888888888888, \"#fdca26\"], [1.0, \"#f0f921\"]], \"type\": \"heatmap\"}], \"heatmapgl\": [{\"colorbar\": {\"outlinewidth\": 0, \"ticks\": \"\"}, \"colorscale\": [[0.0, \"#0d0887\"], [0.1111111111111111, \"#46039f\"], [0.2222222222222222, \"#7201a8\"], [0.3333333333333333, \"#9c179e\"], [0.4444444444444444, \"#bd3786\"], [0.5555555555555556, \"#d8576b\"], [0.6666666666666666, \"#ed7953\"], [0.7777777777777778, \"#fb9f3a\"], [0.8888888888888888, \"#fdca26\"], [1.0, \"#f0f921\"]], \"type\": \"heatmapgl\"}], \"histogram\": [{\"marker\": {\"colorbar\": {\"outlinewidth\": 0, \"ticks\": \"\"}}, \"type\": \"histogram\"}], \"histogram2d\": [{\"colorbar\": {\"outlinewidth\": 0, \"ticks\": \"\"}, \"colorscale\": [[0.0, \"#0d0887\"], [0.1111111111111111, \"#46039f\"], [0.2222222222222222, \"#7201a8\"], [0.3333333333333333, \"#9c179e\"], [0.4444444444444444, \"#bd3786\"], [0.5555555555555556, \"#d8576b\"], [0.6666666666666666, \"#ed7953\"], [0.7777777777777778, \"#fb9f3a\"], [0.8888888888888888, \"#fdca26\"], [1.0, \"#f0f921\"]], \"type\": \"histogram2d\"}], \"histogram2dcontour\": [{\"colorbar\": {\"outlinewidth\": 0, \"ticks\": \"\"}, \"colorscale\": [[0.0, \"#0d0887\"], [0.1111111111111111, \"#46039f\"], [0.2222222222222222, \"#7201a8\"], [0.3333333333333333, \"#9c179e\"], [0.4444444444444444, \"#bd3786\"], [0.5555555555555556, \"#d8576b\"], [0.6666666666666666, \"#ed7953\"], [0.7777777777777778, \"#fb9f3a\"], [0.8888888888888888, \"#fdca26\"], [1.0, \"#f0f921\"]], \"type\": \"histogram2dcontour\"}], \"mesh3d\": [{\"colorbar\": {\"outlinewidth\": 0, \"ticks\": \"\"}, \"type\": \"mesh3d\"}], \"parcoords\": [{\"line\": {\"colorbar\": {\"outlinewidth\": 0, \"ticks\": \"\"}}, \"type\": \"parcoords\"}], \"pie\": [{\"automargin\": true, \"type\": \"pie\"}], \"scatter\": [{\"marker\": {\"colorbar\": {\"outlinewidth\": 0, \"ticks\": \"\"}}, \"type\": \"scatter\"}], \"scatter3d\": [{\"line\": {\"colorbar\": {\"outlinewidth\": 0, \"ticks\": \"\"}}, \"marker\": {\"colorbar\": {\"outlinewidth\": 0, \"ticks\": \"\"}}, \"type\": \"scatter3d\"}], \"scattercarpet\": [{\"marker\": {\"colorbar\": {\"outlinewidth\": 0, \"ticks\": \"\"}}, \"type\": \"scattercarpet\"}], \"scattergeo\": [{\"marker\": {\"colorbar\": {\"outlinewidth\": 0, \"ticks\": \"\"}}, \"type\": \"scattergeo\"}], \"scattergl\": [{\"marker\": {\"colorbar\": {\"outlinewidth\": 0, \"ticks\": \"\"}}, \"type\": \"scattergl\"}], \"scattermapbox\": [{\"marker\": {\"colorbar\": {\"outlinewidth\": 0, \"ticks\": \"\"}}, \"type\": \"scattermapbox\"}], \"scatterpolar\": [{\"marker\": {\"colorbar\": {\"outlinewidth\": 0, \"ticks\": \"\"}}, \"type\": \"scatterpolar\"}], \"scatterpolargl\": [{\"marker\": {\"colorbar\": {\"outlinewidth\": 0, \"ticks\": \"\"}}, \"type\": \"scatterpolargl\"}], \"scatterternary\": [{\"marker\": {\"colorbar\": {\"outlinewidth\": 0, \"ticks\": \"\"}}, \"type\": \"scatterternary\"}], \"surface\": [{\"colorbar\": {\"outlinewidth\": 0, \"ticks\": \"\"}, \"colorscale\": [[0.0, \"#0d0887\"], [0.1111111111111111, \"#46039f\"], [0.2222222222222222, \"#7201a8\"], [0.3333333333333333, \"#9c179e\"], [0.4444444444444444, \"#bd3786\"], [0.5555555555555556, \"#d8576b\"], [0.6666666666666666, \"#ed7953\"], [0.7777777777777778, \"#fb9f3a\"], [0.8888888888888888, \"#fdca26\"], [1.0, \"#f0f921\"]], \"type\": \"surface\"}], \"table\": [{\"cells\": {\"fill\": {\"color\": \"#EBF0F8\"}, \"line\": {\"color\": \"white\"}}, \"header\": {\"fill\": {\"color\": \"#C8D4E3\"}, \"line\": {\"color\": \"white\"}}, \"type\": \"table\"}]}, \"layout\": {\"annotationdefaults\": {\"arrowcolor\": \"#2a3f5f\", \"arrowhead\": 0, \"arrowwidth\": 1}, \"autotypenumbers\": \"strict\", \"coloraxis\": {\"colorbar\": {\"outlinewidth\": 0, \"ticks\": \"\"}}, \"colorscale\": {\"diverging\": [[0, \"#8e0152\"], [0.1, \"#c51b7d\"], [0.2, \"#de77ae\"], [0.3, \"#f1b6da\"], [0.4, \"#fde0ef\"], [0.5, \"#f7f7f7\"], [0.6, \"#e6f5d0\"], [0.7, \"#b8e186\"], [0.8, \"#7fbc41\"], [0.9, \"#4d9221\"], [1, \"#276419\"]], \"sequential\": [[0.0, \"#0d0887\"], [0.1111111111111111, \"#46039f\"], [0.2222222222222222, \"#7201a8\"], [0.3333333333333333, \"#9c179e\"], [0.4444444444444444, \"#bd3786\"], [0.5555555555555556, \"#d8576b\"], [0.6666666666666666, \"#ed7953\"], [0.7777777777777778, \"#fb9f3a\"], [0.8888888888888888, \"#fdca26\"], [1.0, \"#f0f921\"]], \"sequentialminus\": [[0.0, \"#0d0887\"], [0.1111111111111111, \"#46039f\"], [0.2222222222222222, \"#7201a8\"], [0.3333333333333333, \"#9c179e\"], [0.4444444444444444, \"#bd3786\"], [0.5555555555555556, \"#d8576b\"], [0.6666666666666666, \"#ed7953\"], [0.7777777777777778, \"#fb9f3a\"], [0.8888888888888888, \"#fdca26\"], [1.0, \"#f0f921\"]]}, \"colorway\": [\"#636efa\", \"#EF553B\", \"#00cc96\", \"#ab63fa\", \"#FFA15A\", \"#19d3f3\", \"#FF6692\", \"#B6E880\", \"#FF97FF\", \"#FECB52\"], \"font\": {\"color\": \"#2a3f5f\"}, \"geo\": {\"bgcolor\": \"white\", \"lakecolor\": \"white\", \"landcolor\": \"#E5ECF6\", \"showlakes\": true, \"showland\": true, \"subunitcolor\": \"white\"}, \"hoverlabel\": {\"align\": \"left\"}, \"hovermode\": \"closest\", \"mapbox\": {\"style\": \"light\"}, \"paper_bgcolor\": \"white\", \"plot_bgcolor\": \"#E5ECF6\", \"polar\": {\"angularaxis\": {\"gridcolor\": \"white\", \"linecolor\": \"white\", \"ticks\": \"\"}, \"bgcolor\": \"#E5ECF6\", \"radialaxis\": {\"gridcolor\": \"white\", \"linecolor\": \"white\", \"ticks\": \"\"}}, \"scene\": {\"xaxis\": {\"backgroundcolor\": \"#E5ECF6\", \"gridcolor\": \"white\", \"gridwidth\": 2, \"linecolor\": \"white\", \"showbackground\": true, \"ticks\": \"\", \"zerolinecolor\": \"white\"}, \"yaxis\": {\"backgroundcolor\": \"#E5ECF6\", \"gridcolor\": \"white\", \"gridwidth\": 2, \"linecolor\": \"white\", \"showbackground\": true, \"ticks\": \"\", \"zerolinecolor\": \"white\"}, \"zaxis\": {\"backgroundcolor\": \"#E5ECF6\", \"gridcolor\": \"white\", \"gridwidth\": 2, \"linecolor\": \"white\", \"showbackground\": true, \"ticks\": \"\", \"zerolinecolor\": \"white\"}}, \"shapedefaults\": {\"line\": {\"color\": \"#2a3f5f\"}}, \"ternary\": {\"aaxis\": {\"gridcolor\": \"white\", \"linecolor\": \"white\", \"ticks\": \"\"}, \"baxis\": {\"gridcolor\": \"white\", \"linecolor\": \"white\", \"ticks\": \"\"}, \"bgcolor\": \"#E5ECF6\", \"caxis\": {\"gridcolor\": \"white\", \"linecolor\": \"white\", \"ticks\": \"\"}}, \"title\": {\"x\": 0.05}, \"xaxis\": {\"automargin\": true, \"gridcolor\": \"white\", \"linecolor\": \"white\", \"ticks\": \"\", \"title\": {\"standoff\": 15}, \"zerolinecolor\": \"white\", \"zerolinewidth\": 2}, \"yaxis\": {\"automargin\": true, \"gridcolor\": \"white\", \"linecolor\": \"white\", \"ticks\": \"\", \"title\": {\"standoff\": 15}, \"zerolinecolor\": \"white\", \"zerolinewidth\": 2}}}, \"xaxis\": {\"anchor\": \"y\", \"domain\": [0.0, 1.0], \"title\": {\"text\": \"Genre\"}}, \"yaxis\": {\"anchor\": \"x\", \"domain\": [0.0, 1.0], \"title\": {\"text\": \"Popularity\"}}},                        {\"responsive\": true}                    ).then(function(){\n",
       "                            \n",
       "var gd = document.getElementById('56ef79ce-bf39-4507-b0c3-c4110b93c4fd');\n",
       "var x = new MutationObserver(function (mutations, observer) {{\n",
       "        var display = window.getComputedStyle(gd).display;\n",
       "        if (!display || display === 'none') {{\n",
       "            console.log([gd, 'removed!']);\n",
       "            Plotly.purge(gd);\n",
       "            observer.disconnect();\n",
       "        }}\n",
       "}});\n",
       "\n",
       "// Listen for the removal of the full notebook cells\n",
       "var notebookContainer = gd.closest('#notebook-container');\n",
       "if (notebookContainer) {{\n",
       "    x.observe(notebookContainer, {childList: true});\n",
       "}}\n",
       "\n",
       "// Listen for the clearing of the current output cell\n",
       "var outputEl = gd.closest('.output');\n",
       "if (outputEl) {{\n",
       "    x.observe(outputEl, {childList: true});\n",
       "}}\n",
       "\n",
       "                        })                };                });            </script>        </div>"
      ]
     },
     "metadata": {},
     "output_type": "display_data"
    }
   ],
   "source": [
    "#Let's do a box plot with error bars...\n",
    "px.box(data_clean, x='Genre', y='Popularity', hover_data=['HG Story Title'])"
   ]
  },
  {
   "cell_type": "code",
   "execution_count": 126,
   "metadata": {},
   "outputs": [
    {
     "data": {
      "application/vnd.plotly.v1+json": {
       "config": {
        "plotlyServerURL": "https://plot.ly"
       },
       "data": [
        {
         "alignmentgroup": "True",
         "customdata": [
          [
           "Popcorn, Soda�Murder?"
          ],
          [
           "The Nightmare Maze"
          ],
          [
           "What Happened Last Night?"
          ],
          [
           "Paranoia"
          ],
          [
           "Imprisoned"
          ],
          [
           "Land of Three Classes"
          ],
          [
           "Marine Raider"
          ],
          [
           "Dilemma"
          ],
          [
           "Zombie Exodus"
          ],
          [
           "Zebulon"
          ],
          [
           "Mobile Armored Marine: Mission to Far Hope"
          ],
          [
           "The Race"
          ],
          [
           "Dead Already?"
          ],
          [
           "Apex Patrol"
          ],
          [
           "The Sons of the Cherry"
          ],
          [
           "Way Walkers: University"
          ],
          [
           "Life of a Wizard"
          ],
          [
           "Sabres of Infinity"
          ],
          [
           "Paradox Factor"
          ],
          [
           "Way Walkers: University 2"
          ],
          [
           "Burn(t)"
          ],
          [
           "UnNatural"
          ],
          [
           "Tin Star"
          ],
          [
           "Trial of the Demon Hunter"
          ],
          [
           "Planetary Quarantine"
          ],
          [
           "Life of a Mobster"
          ],
          [
           "Fatehaven"
          ],
          [
           "Sword of the Elements"
          ],
          [
           "The Gangs of Old Camp"
          ],
          [
           "Divided We Fall"
          ],
          [
           "The Ascot"
          ],
          [
           "Somme Trench"
          ],
          [
           "Lords of Aswisk - First of His Blood"
          ],
          [
           "The Lost Heir: The Fall of Daria"
          ],
          [
           "Seven Bullets"
          ],
          [
           "Zombien"
          ],
          [
           "The Volunteer Firefighter"
          ],
          [
           "The Shadow Horror"
          ],
          [
           "No Proper Thief"
          ],
          [
           "Double/Cross"
          ],
          [
           "Samurai of Hyuga"
          ],
          [
           "Dancing with Demons"
          ],
          [
           "So, You’re Possessed!"
          ],
          [
           "Founders Saga: The Culling"
          ],
          [
           "Attack of the Clockwork Army"
          ],
          [
           "A Study in Steampunk: Choice by Gaslight"
          ],
          [
           "Captive of Fortune"
          ],
          [
           "Factions: Raids of the Divided"
          ],
          [
           "Community College Hero"
          ],
          [
           "Vampire House"
          ],
          [
           "Lost Heir 2: Forging a Kingdom"
          ],
          [
           "Wizardy Level C"
          ],
          [
           "Magikiras"
          ],
          [
           "Scarlet Sails"
          ],
          [
           "Guns of Infinity"
          ],
          [
           "First Year Demons"
          ],
          [
           "Best of Us"
          ],
          [
           "Gambling With Eternity"
          ],
          [
           "Doomsday on Demand"
          ],
          [
           "Starship Adventures"
          ],
          [
           "The Iron Destinies"
          ],
          [
           "Swamp Castle"
          ],
          [
           "The 3Games"
          ],
          [
           "Academy of Disaster"
          ],
          [
           "Machinations: Fog of War"
          ],
          [
           "Samurai of Hyuga Book 2"
          ],
          [
           "Elemental Saga: The Awakening"
          ],
          [
           "Tomb of the Khan"
          ],
          [
           "Twin Flames"
          ],
          [
           "Zombie Exodus: Safe Haven"
          ],
          [
           "Tokyo Wizard"
          ],
          [
           "Evertree Inn"
          ],
          [
           "Spacing Out"
          ],
          [
           "The Lost Heir 3: Demon War"
          ],
          [
           "Paradigm City"
          ],
          [
           "The Daily Blackmail"
          ],
          [
           "Treasure of the Forbidden City"
          ],
          [
           "My Day off Work"
          ],
          [
           "The Spy and the Labyrinth"
          ],
          [
           "Diamant Rose"
          ],
          [
           "The Dryad’s Riddle"
          ],
          [
           "Knight of the Fellowship"
          ],
          [
           "Lost in the Pages"
          ],
          [
           "Highlands, Deep Waters"
          ],
          [
           "Samurai of Hyuga Book 3"
          ],
          [
           "Foundation of Nightmares"
          ],
          [
           "The Aether: Life as a God"
          ],
          [
           "Comrade or Czar"
          ],
          [
           "The Great Tournament 2"
          ],
          [
           "Wayhaven Chronicles: Book One"
          ],
          [
           "Fallen Hero: Rebirth"
          ],
          [
           "Highway Wars"
          ],
          [
           "NE by NW Oz"
          ],
          [
           "The Kepler Colony: Evacuation"
          ],
          [
           "Community College Hero: Knowledge is Power"
          ],
          [
           "A Mummy is Not an Antique"
          ],
          [
           "The Courting of Miss Bennet"
          ],
          [
           "Doomsday on Demand 2"
          ],
          [
           "The Harbinger’s Head"
          ],
          [
           "The Last Wizard"
          ],
          [
           "The Magician’s Burden"
          ],
          [
           "The Haze Under Windbrooke"
          ],
          [
           "The Grim and I"
          ],
          [
           "The Twelve Trials"
          ],
          [
           "Nuclear Powered Toaster"
          ],
          [
           "Love at Elevation"
          ],
          [
           "Missing Wings"
          ],
          [
           "The Slayer of Evil"
          ],
          [
           "The Butler Did It"
          ],
          [
           "Critical Mass: The Bridge"
          ],
          [
           "Life of a Mercenary"
          ],
          [
           "Gladiator: Road to the Colosseum"
          ],
          [
           "Keeper of the Sun and Moon"
          ],
          [
           "Dragon Racer"
          ],
          [
           "Tudor Intrigue"
          ],
          [
           "The Paths to Greatness"
          ],
          [
           "Sordwin"
          ],
          [
           "Totem Force"
          ],
          [
           "The Saga of Oedipus Rex"
          ],
          [
           "Scratch"
          ],
          [
           "Who Was the Real Robin Hood?"
          ],
          [
           "A Sensei’s Story"
          ],
          [
           "One Minute Mysteries"
          ],
          [
           "Samurai of Hyuga Book 4"
          ],
          [
           "Hero or Villain: Genesis"
          ],
          [
           "The Parenting Simulator"
          ],
          [
           "Death at the Rectory"
          ],
          [
           "Moonrise"
          ],
          [
           "War of the Gods"
          ],
          [
           "The Oldest Dream"
          ],
          [
           "Breach: The Archangel Job"
          ],
          [
           "The War for the West"
          ],
          [
           "Street Jam: The Rise"
          ],
          [
           "The Shadow Society"
          ],
          [
           "Critical Mass: The Black Vein"
          ],
          [
           "The Soul Stone War"
          ],
          [
           "The Aegis Saga*"
          ],
          [
           "Kidnapped Prom Queen"
          ],
          [
           "Wayhaven Chronicles: Book Two*"
          ],
          [
           "AI-Aftermath"
          ],
          [
           "War for Magincia"
          ],
          [
           "Trees Don’t Tell"
          ],
          [
           "President Disaster"
          ],
          [
           "The Floating City"
          ],
          [
           "Macabre Mansion"
          ],
          [
           "A Sorcerer’s Story"
          ],
          [
           "Balance of Superpower"
          ],
          [
           "Hero or Villain: Battle Royale*"
          ],
          [
           "Demon: Recollect"
          ],
          [
           "Too Different"
          ],
          [
           "Score of a Lifetime"
          ],
          [
           "After the Storm"
          ],
          [
           "The Brothers’ War"
          ],
          [
           "Relics of the Lost Age"
          ],
          [
           "Keeper of the Day and Night"
          ],
          [
           "The Mage’s Adventures"
          ],
          [
           "War of 2022"
          ]
         ],
         "hovertemplate": "Genre=%{x}<br>Popularity=%{y}<br>HG Story Title=%{customdata[0]}<extra></extra>",
         "legendgroup": "",
         "marker": {
          "color": "#636efa"
         },
         "name": "",
         "notched": false,
         "offsetgroup": "",
         "orientation": "v",
         "showlegend": false,
         "type": "box",
         "x": [
          "Mystery",
          "Horror",
          "Mystery",
          "Puzzle",
          "Fantasy",
          "Puzzle",
          "War",
          "Slice of Life",
          "Supernatural",
          "Sci-Fi",
          "Sci-Fi",
          "Slice of Life",
          "Mystery",
          "Sci-Fi",
          "Historical",
          "Fantasy",
          "Fantasy",
          "War",
          "Sci-Fi",
          "Fantasy",
          "Supernatural",
          "Supernatural",
          "Historical",
          "Fantasy",
          "Sci-Fi",
          "Crime",
          "Fantasy",
          "Fantasy",
          "Crime",
          "War",
          "Puzzle",
          "War",
          "Fantasy",
          "Fantasy",
          "Crime",
          "Supernatural",
          "Slice of Life",
          "Horror",
          "Crime",
          "Mystery",
          "Fantasy",
          "Supernatural",
          "Supernatural",
          "Sci-Fi",
          "Steampunk",
          "Steampunk",
          "Fantasy",
          "Puzzle",
          "Superhero",
          "Supernatural",
          "Fantasy",
          "Fantasy",
          "Sci-Fi",
          "Fantasy",
          "War",
          "Supernatural",
          "Superhero",
          "Supernatural",
          "Post-apocalyptic",
          "Sci-Fi",
          "Sci-Fi",
          "Fantasy",
          "Sci-Fi",
          "School",
          "Steampunk",
          "Fantasy",
          "Supernatural",
          "Horror",
          "Fantasy",
          "Supernatural",
          "Fantasy",
          "Fantasy",
          "Sci-Fi",
          "Fantasy",
          "Superhero",
          "Mystery",
          "Adventure",
          "Slice of Life",
          "Horror",
          "Spy",
          "Puzzle",
          "Fantasy",
          "Supernatural",
          "Horror",
          "Fantasy",
          "Fantasy",
          "Supernatural",
          "War",
          "Fantasy",
          "Supernatural",
          "Superhero",
          "Post-apocalyptic",
          "Humor",
          "Sci-Fi",
          "Superhero",
          "Humor",
          "Romance",
          "Post-apocalyptic",
          "Horror",
          "Fantasy",
          "Fantasy",
          "Fantasy",
          "Supernatural",
          "Fantasy",
          "Sci-Fi",
          "Romance",
          "Puzzle",
          "Fantasy",
          "Steampunk",
          "Post-apocalyptic",
          "Fantasy",
          "Historical",
          "Supernatural",
          "Fantasy",
          "Historical",
          "Fantasy",
          "Fantasy",
          "Sci-Fi",
          "Fantasy",
          "Mystery",
          "Fantasy",
          "Slice of Life",
          "Mystery",
          "Fantasy",
          "Superhero",
          "Slice of Life",
          "Mystery",
          "Supernatural",
          "Fantasy",
          "Fantasy",
          "Crime",
          "Fantasy",
          "Crime",
          "Fantasy",
          "Post-apocalyptic",
          "Fantasy",
          "Fantasy",
          "Mystery",
          "Supernatural",
          "Sci-Fi",
          "Fantasy",
          "Mystery",
          "Humor",
          "Post-apocalyptic",
          "Mystery",
          "Supernatural",
          "Superhero",
          "Superhero",
          "Superhero",
          "Romance",
          "Romance",
          "Romance",
          "Historical",
          "Historical",
          "Supernatural",
          "Fantasy",
          "War"
         ],
         "x0": " ",
         "xaxis": "x",
         "y": [
          1294,
          1098,
          887,
          1319,
          2569,
          183,
          3048,
          845,
          8654,
          373,
          2640,
          500,
          621,
          452,
          413,
          1605,
          2063,
          1876,
          367,
          1368,
          939,
          4109,
          2035,
          352,
          151,
          1739,
          1797,
          108,
          166,
          234,
          137,
          481,
          1292,
          4097,
          290,
          1989,
          293,
          72,
          268,
          617,
          6063,
          196,
          938,
          735,
          174,
          1128,
          82,
          151,
          3742,
          4694,
          2408,
          287,
          864,
          316,
          1330,
          84,
          419,
          323,
          5812,
          108,
          142,
          4276,
          156,
          96,
          136,
          3288,
          989,
          89,
          171,
          9363,
          1058,
          5461,
          210,
          1716,
          929,
          223,
          69,
          1021,
          48,
          83,
          41,
          221,
          150,
          567,
          2419,
          113,
          5118,
          240,
          3158,
          17716,
          5587,
          598,
          38,
          409,
          1529,
          18,
          273,
          550,
          199,
          1058,
          839,
          135,
          1934,
          408,
          119,
          1108,
          70,
          61,
          221,
          186,
          23320,
          1502,
          4107,
          1893,
          750,
          369,
          4358,
          834,
          232,
          139,
          93,
          466,
          29,
          4721,
          11364,
          4010,
          172,
          349,
          5623,
          438,
          6764,
          7198,
          1166,
          3694,
          148,
          4480,
          314,
          131,
          14777,
          142,
          1107,
          25,
          430,
          69,
          140,
          174,
          492,
          2342,
          2767,
          701,
          261,
          1364,
          410,
          744,
          2764,
          581,
          690
         ],
         "y0": " ",
         "yaxis": "y"
        }
       ],
       "layout": {
        "autosize": true,
        "boxmode": "group",
        "legend": {
         "tracegroupgap": 0
        },
        "margin": {
         "t": 60
        },
        "template": {
         "data": {
          "bar": [
           {
            "error_x": {
             "color": "#2a3f5f"
            },
            "error_y": {
             "color": "#2a3f5f"
            },
            "marker": {
             "line": {
              "color": "#E5ECF6",
              "width": 0.5
             }
            },
            "type": "bar"
           }
          ],
          "barpolar": [
           {
            "marker": {
             "line": {
              "color": "#E5ECF6",
              "width": 0.5
             }
            },
            "type": "barpolar"
           }
          ],
          "carpet": [
           {
            "aaxis": {
             "endlinecolor": "#2a3f5f",
             "gridcolor": "white",
             "linecolor": "white",
             "minorgridcolor": "white",
             "startlinecolor": "#2a3f5f"
            },
            "baxis": {
             "endlinecolor": "#2a3f5f",
             "gridcolor": "white",
             "linecolor": "white",
             "minorgridcolor": "white",
             "startlinecolor": "#2a3f5f"
            },
            "type": "carpet"
           }
          ],
          "choropleth": [
           {
            "colorbar": {
             "outlinewidth": 0,
             "ticks": ""
            },
            "type": "choropleth"
           }
          ],
          "contour": [
           {
            "colorbar": {
             "outlinewidth": 0,
             "ticks": ""
            },
            "colorscale": [
             [
              0,
              "#0d0887"
             ],
             [
              0.1111111111111111,
              "#46039f"
             ],
             [
              0.2222222222222222,
              "#7201a8"
             ],
             [
              0.3333333333333333,
              "#9c179e"
             ],
             [
              0.4444444444444444,
              "#bd3786"
             ],
             [
              0.5555555555555556,
              "#d8576b"
             ],
             [
              0.6666666666666666,
              "#ed7953"
             ],
             [
              0.7777777777777778,
              "#fb9f3a"
             ],
             [
              0.8888888888888888,
              "#fdca26"
             ],
             [
              1,
              "#f0f921"
             ]
            ],
            "type": "contour"
           }
          ],
          "contourcarpet": [
           {
            "colorbar": {
             "outlinewidth": 0,
             "ticks": ""
            },
            "type": "contourcarpet"
           }
          ],
          "heatmap": [
           {
            "colorbar": {
             "outlinewidth": 0,
             "ticks": ""
            },
            "colorscale": [
             [
              0,
              "#0d0887"
             ],
             [
              0.1111111111111111,
              "#46039f"
             ],
             [
              0.2222222222222222,
              "#7201a8"
             ],
             [
              0.3333333333333333,
              "#9c179e"
             ],
             [
              0.4444444444444444,
              "#bd3786"
             ],
             [
              0.5555555555555556,
              "#d8576b"
             ],
             [
              0.6666666666666666,
              "#ed7953"
             ],
             [
              0.7777777777777778,
              "#fb9f3a"
             ],
             [
              0.8888888888888888,
              "#fdca26"
             ],
             [
              1,
              "#f0f921"
             ]
            ],
            "type": "heatmap"
           }
          ],
          "heatmapgl": [
           {
            "colorbar": {
             "outlinewidth": 0,
             "ticks": ""
            },
            "colorscale": [
             [
              0,
              "#0d0887"
             ],
             [
              0.1111111111111111,
              "#46039f"
             ],
             [
              0.2222222222222222,
              "#7201a8"
             ],
             [
              0.3333333333333333,
              "#9c179e"
             ],
             [
              0.4444444444444444,
              "#bd3786"
             ],
             [
              0.5555555555555556,
              "#d8576b"
             ],
             [
              0.6666666666666666,
              "#ed7953"
             ],
             [
              0.7777777777777778,
              "#fb9f3a"
             ],
             [
              0.8888888888888888,
              "#fdca26"
             ],
             [
              1,
              "#f0f921"
             ]
            ],
            "type": "heatmapgl"
           }
          ],
          "histogram": [
           {
            "marker": {
             "colorbar": {
              "outlinewidth": 0,
              "ticks": ""
             }
            },
            "type": "histogram"
           }
          ],
          "histogram2d": [
           {
            "colorbar": {
             "outlinewidth": 0,
             "ticks": ""
            },
            "colorscale": [
             [
              0,
              "#0d0887"
             ],
             [
              0.1111111111111111,
              "#46039f"
             ],
             [
              0.2222222222222222,
              "#7201a8"
             ],
             [
              0.3333333333333333,
              "#9c179e"
             ],
             [
              0.4444444444444444,
              "#bd3786"
             ],
             [
              0.5555555555555556,
              "#d8576b"
             ],
             [
              0.6666666666666666,
              "#ed7953"
             ],
             [
              0.7777777777777778,
              "#fb9f3a"
             ],
             [
              0.8888888888888888,
              "#fdca26"
             ],
             [
              1,
              "#f0f921"
             ]
            ],
            "type": "histogram2d"
           }
          ],
          "histogram2dcontour": [
           {
            "colorbar": {
             "outlinewidth": 0,
             "ticks": ""
            },
            "colorscale": [
             [
              0,
              "#0d0887"
             ],
             [
              0.1111111111111111,
              "#46039f"
             ],
             [
              0.2222222222222222,
              "#7201a8"
             ],
             [
              0.3333333333333333,
              "#9c179e"
             ],
             [
              0.4444444444444444,
              "#bd3786"
             ],
             [
              0.5555555555555556,
              "#d8576b"
             ],
             [
              0.6666666666666666,
              "#ed7953"
             ],
             [
              0.7777777777777778,
              "#fb9f3a"
             ],
             [
              0.8888888888888888,
              "#fdca26"
             ],
             [
              1,
              "#f0f921"
             ]
            ],
            "type": "histogram2dcontour"
           }
          ],
          "mesh3d": [
           {
            "colorbar": {
             "outlinewidth": 0,
             "ticks": ""
            },
            "type": "mesh3d"
           }
          ],
          "parcoords": [
           {
            "line": {
             "colorbar": {
              "outlinewidth": 0,
              "ticks": ""
             }
            },
            "type": "parcoords"
           }
          ],
          "pie": [
           {
            "automargin": true,
            "type": "pie"
           }
          ],
          "scatter": [
           {
            "marker": {
             "colorbar": {
              "outlinewidth": 0,
              "ticks": ""
             }
            },
            "type": "scatter"
           }
          ],
          "scatter3d": [
           {
            "line": {
             "colorbar": {
              "outlinewidth": 0,
              "ticks": ""
             }
            },
            "marker": {
             "colorbar": {
              "outlinewidth": 0,
              "ticks": ""
             }
            },
            "type": "scatter3d"
           }
          ],
          "scattercarpet": [
           {
            "marker": {
             "colorbar": {
              "outlinewidth": 0,
              "ticks": ""
             }
            },
            "type": "scattercarpet"
           }
          ],
          "scattergeo": [
           {
            "marker": {
             "colorbar": {
              "outlinewidth": 0,
              "ticks": ""
             }
            },
            "type": "scattergeo"
           }
          ],
          "scattergl": [
           {
            "marker": {
             "colorbar": {
              "outlinewidth": 0,
              "ticks": ""
             }
            },
            "type": "scattergl"
           }
          ],
          "scattermapbox": [
           {
            "marker": {
             "colorbar": {
              "outlinewidth": 0,
              "ticks": ""
             }
            },
            "type": "scattermapbox"
           }
          ],
          "scatterpolar": [
           {
            "marker": {
             "colorbar": {
              "outlinewidth": 0,
              "ticks": ""
             }
            },
            "type": "scatterpolar"
           }
          ],
          "scatterpolargl": [
           {
            "marker": {
             "colorbar": {
              "outlinewidth": 0,
              "ticks": ""
             }
            },
            "type": "scatterpolargl"
           }
          ],
          "scatterternary": [
           {
            "marker": {
             "colorbar": {
              "outlinewidth": 0,
              "ticks": ""
             }
            },
            "type": "scatterternary"
           }
          ],
          "surface": [
           {
            "colorbar": {
             "outlinewidth": 0,
             "ticks": ""
            },
            "colorscale": [
             [
              0,
              "#0d0887"
             ],
             [
              0.1111111111111111,
              "#46039f"
             ],
             [
              0.2222222222222222,
              "#7201a8"
             ],
             [
              0.3333333333333333,
              "#9c179e"
             ],
             [
              0.4444444444444444,
              "#bd3786"
             ],
             [
              0.5555555555555556,
              "#d8576b"
             ],
             [
              0.6666666666666666,
              "#ed7953"
             ],
             [
              0.7777777777777778,
              "#fb9f3a"
             ],
             [
              0.8888888888888888,
              "#fdca26"
             ],
             [
              1,
              "#f0f921"
             ]
            ],
            "type": "surface"
           }
          ],
          "table": [
           {
            "cells": {
             "fill": {
              "color": "#EBF0F8"
             },
             "line": {
              "color": "white"
             }
            },
            "header": {
             "fill": {
              "color": "#C8D4E3"
             },
             "line": {
              "color": "white"
             }
            },
            "type": "table"
           }
          ]
         },
         "layout": {
          "annotationdefaults": {
           "arrowcolor": "#2a3f5f",
           "arrowhead": 0,
           "arrowwidth": 1
          },
          "autotypenumbers": "strict",
          "coloraxis": {
           "colorbar": {
            "outlinewidth": 0,
            "ticks": ""
           }
          },
          "colorscale": {
           "diverging": [
            [
             0,
             "#8e0152"
            ],
            [
             0.1,
             "#c51b7d"
            ],
            [
             0.2,
             "#de77ae"
            ],
            [
             0.3,
             "#f1b6da"
            ],
            [
             0.4,
             "#fde0ef"
            ],
            [
             0.5,
             "#f7f7f7"
            ],
            [
             0.6,
             "#e6f5d0"
            ],
            [
             0.7,
             "#b8e186"
            ],
            [
             0.8,
             "#7fbc41"
            ],
            [
             0.9,
             "#4d9221"
            ],
            [
             1,
             "#276419"
            ]
           ],
           "sequential": [
            [
             0,
             "#0d0887"
            ],
            [
             0.1111111111111111,
             "#46039f"
            ],
            [
             0.2222222222222222,
             "#7201a8"
            ],
            [
             0.3333333333333333,
             "#9c179e"
            ],
            [
             0.4444444444444444,
             "#bd3786"
            ],
            [
             0.5555555555555556,
             "#d8576b"
            ],
            [
             0.6666666666666666,
             "#ed7953"
            ],
            [
             0.7777777777777778,
             "#fb9f3a"
            ],
            [
             0.8888888888888888,
             "#fdca26"
            ],
            [
             1,
             "#f0f921"
            ]
           ],
           "sequentialminus": [
            [
             0,
             "#0d0887"
            ],
            [
             0.1111111111111111,
             "#46039f"
            ],
            [
             0.2222222222222222,
             "#7201a8"
            ],
            [
             0.3333333333333333,
             "#9c179e"
            ],
            [
             0.4444444444444444,
             "#bd3786"
            ],
            [
             0.5555555555555556,
             "#d8576b"
            ],
            [
             0.6666666666666666,
             "#ed7953"
            ],
            [
             0.7777777777777778,
             "#fb9f3a"
            ],
            [
             0.8888888888888888,
             "#fdca26"
            ],
            [
             1,
             "#f0f921"
            ]
           ]
          },
          "colorway": [
           "#636efa",
           "#EF553B",
           "#00cc96",
           "#ab63fa",
           "#FFA15A",
           "#19d3f3",
           "#FF6692",
           "#B6E880",
           "#FF97FF",
           "#FECB52"
          ],
          "font": {
           "color": "#2a3f5f"
          },
          "geo": {
           "bgcolor": "white",
           "lakecolor": "white",
           "landcolor": "#E5ECF6",
           "showlakes": true,
           "showland": true,
           "subunitcolor": "white"
          },
          "hoverlabel": {
           "align": "left"
          },
          "hovermode": "closest",
          "mapbox": {
           "style": "light"
          },
          "paper_bgcolor": "white",
          "plot_bgcolor": "#E5ECF6",
          "polar": {
           "angularaxis": {
            "gridcolor": "white",
            "linecolor": "white",
            "ticks": ""
           },
           "bgcolor": "#E5ECF6",
           "radialaxis": {
            "gridcolor": "white",
            "linecolor": "white",
            "ticks": ""
           }
          },
          "scene": {
           "xaxis": {
            "backgroundcolor": "#E5ECF6",
            "gridcolor": "white",
            "gridwidth": 2,
            "linecolor": "white",
            "showbackground": true,
            "ticks": "",
            "zerolinecolor": "white"
           },
           "yaxis": {
            "backgroundcolor": "#E5ECF6",
            "gridcolor": "white",
            "gridwidth": 2,
            "linecolor": "white",
            "showbackground": true,
            "ticks": "",
            "zerolinecolor": "white"
           },
           "zaxis": {
            "backgroundcolor": "#E5ECF6",
            "gridcolor": "white",
            "gridwidth": 2,
            "linecolor": "white",
            "showbackground": true,
            "ticks": "",
            "zerolinecolor": "white"
           }
          },
          "shapedefaults": {
           "line": {
            "color": "#2a3f5f"
           }
          },
          "ternary": {
           "aaxis": {
            "gridcolor": "white",
            "linecolor": "white",
            "ticks": ""
           },
           "baxis": {
            "gridcolor": "white",
            "linecolor": "white",
            "ticks": ""
           },
           "bgcolor": "#E5ECF6",
           "caxis": {
            "gridcolor": "white",
            "linecolor": "white",
            "ticks": ""
           }
          },
          "title": {
           "x": 0.05
          },
          "xaxis": {
           "automargin": true,
           "gridcolor": "white",
           "linecolor": "white",
           "ticks": "",
           "title": {
            "standoff": 15
           },
           "zerolinecolor": "white",
           "zerolinewidth": 2
          },
          "yaxis": {
           "automargin": true,
           "gridcolor": "white",
           "linecolor": "white",
           "ticks": "",
           "title": {
            "standoff": 15
           },
           "zerolinecolor": "white",
           "zerolinewidth": 2
          }
         }
        },
        "xaxis": {
         "anchor": "y",
         "autorange": true,
         "domain": [
          0,
          1
         ],
         "range": [
          -0.5,
          17.5
         ],
         "title": {
          "text": "Genre"
         },
         "type": "category"
        },
        "yaxis": {
         "anchor": "x",
         "autorange": true,
         "domain": [
          0,
          1
         ],
         "range": [
          -1276.5555555555554,
          24614.555555555555
         ],
         "title": {
          "text": "Popularity"
         },
         "type": "linear"
        }
       }
      },
      "image/png": "[encoded data removed]",
      "text/html": [
       "<div>                            <div id=\"c81fb7de-a1fe-4da4-a71b-068649205c70\" class=\"plotly-graph-div\" style=\"height:525px; width:100%;\"></div>            <script type=\"text/javascript\">                require([\"plotly\"], function(Plotly) {                    window.PLOTLYENV=window.PLOTLYENV || {};                                    if (document.getElementById(\"c81fb7de-a1fe-4da4-a71b-068649205c70\")) {                    Plotly.newPlot(                        \"c81fb7de-a1fe-4da4-a71b-068649205c70\",                        [{\"alignmentgroup\": \"True\", \"customdata\": [[\"Popcorn, Soda\\ufffdMurder?\"], [\"The Nightmare Maze\"], [\"What Happened Last Night?\"], [\"Paranoia\"], [\"Imprisoned\"], [\"Land of Three Classes\"], [\"Marine Raider\"], [\"Dilemma\"], [\"Zombie Exodus\"], [\"Zebulon\"], [\"Mobile Armored Marine: Mission to Far Hope\"], [\"The Race\"], [\"Dead Already?\"], [\"Apex Patrol\"], [\"The Sons of the Cherry\"], [\"Way Walkers: University\"], [\"Life of a Wizard\"], [\"Sabres of Infinity\"], [\"Paradox Factor\"], [\"Way Walkers: University 2\"], [\"Burn(t)\"], [\"UnNatural\"], [\"Tin Star\"], [\"Trial of the Demon Hunter\"], [\"Planetary Quarantine\"], [\"Life of a Mobster\"], [\"Fatehaven\"], [\"Sword of the Elements\"], [\"The Gangs of Old Camp\"], [\"Divided We Fall\"], [\"The Ascot\"], [\"Somme Trench\"], [\"Lords of Aswisk - First of His Blood\"], [\"The Lost Heir: The Fall of Daria\"], [\"Seven Bullets\"], [\"Zombien\"], [\"The Volunteer Firefighter\"], [\"The Shadow Horror\"], [\"No Proper Thief\"], [\"Double/Cross\"], [\"Samurai of Hyuga\"], [\"Dancing with Demons\"], [\"So, You\\u2019re Possessed!\"], [\"Founders Saga: The Culling\"], [\"Attack of the Clockwork Army\"], [\"A Study in Steampunk: Choice by Gaslight\"], [\"Captive of Fortune\"], [\"Factions: Raids of the Divided\"], [\"Community College Hero\"], [\"Vampire House\"], [\"Lost Heir 2: Forging a Kingdom\"], [\"Wizardy Level C\"], [\"Magikiras\"], [\"Scarlet Sails\"], [\"Guns of Infinity\"], [\"First Year Demons\"], [\"Best of Us\"], [\"Gambling With Eternity\"], [\"Doomsday on Demand\"], [\"Starship Adventures\"], [\"The Iron Destinies\"], [\"Swamp Castle\"], [\"The 3Games\"], [\"Academy of Disaster\"], [\"Machinations: Fog of War\"], [\"Samurai of Hyuga Book 2\"], [\"Elemental Saga: The Awakening\"], [\"Tomb of the Khan\"], [\"Twin Flames\"], [\"Zombie Exodus: Safe Haven\"], [\"Tokyo Wizard\"], [\"Evertree Inn\"], [\"Spacing Out\"], [\"The Lost Heir 3: Demon War\"], [\"Paradigm City\"], [\"The Daily Blackmail\"], [\"Treasure of the Forbidden City\"], [\"My Day off Work\"], [\"The Spy and the Labyrinth\"], [\"Diamant Rose\"], [\"The Dryad\\u2019s Riddle\"], [\"Knight of the Fellowship\"], [\"Lost in the Pages\"], [\"Highlands, Deep Waters\"], [\"Samurai of Hyuga Book 3\"], [\"Foundation of Nightmares\"], [\"The Aether: Life as a God\"], [\"Comrade or Czar\"], [\"The Great Tournament 2\"], [\"Wayhaven Chronicles: Book One\"], [\"Fallen Hero: Rebirth\"], [\"Highway Wars\"], [\"NE by NW Oz\"], [\"The Kepler Colony: Evacuation\"], [\"Community College Hero: Knowledge is Power\"], [\"A Mummy is Not an Antique\"], [\"The Courting of Miss Bennet\"], [\"Doomsday on Demand 2\"], [\"The Harbinger\\u2019s Head\"], [\"The Last Wizard\"], [\"The Magician\\u2019s Burden\"], [\"The Haze Under Windbrooke\"], [\"The Grim and I\"], [\"The Twelve Trials\"], [\"Nuclear Powered Toaster\"], [\"Love at Elevation\"], [\"Missing Wings\"], [\"The Slayer of Evil\"], [\"The Butler Did It\"], [\"Critical Mass: The Bridge\"], [\"Life of a Mercenary\"], [\"Gladiator: Road to the Colosseum\"], [\"Keeper of the Sun and Moon\"], [\"Dragon Racer\"], [\"Tudor Intrigue\"], [\"The Paths to Greatness\"], [\"Sordwin\"], [\"Totem Force\"], [\"The Saga of Oedipus Rex\"], [\"Scratch\"], [\"Who Was the Real Robin Hood?\"], [\"A Sensei\\u2019s Story\"], [\"One Minute Mysteries\"], [\"Samurai of Hyuga Book 4\"], [\"Hero or Villain: Genesis\"], [\"The Parenting Simulator\"], [\"Death at the Rectory\"], [\"Moonrise\"], [\"War of the Gods\"], [\"The Oldest Dream\"], [\"Breach: The Archangel Job\"], [\"The War for the West\"], [\"Street Jam: The Rise\"], [\"The Shadow Society\"], [\"Critical Mass: The Black Vein\"], [\"The Soul Stone War\"], [\"The Aegis Saga*\"], [\"Kidnapped Prom Queen\"], [\"Wayhaven Chronicles: Book Two*\"], [\"AI-Aftermath\"], [\"War for Magincia\"], [\"Trees Don\\u2019t Tell\"], [\"President Disaster\"], [\"The Floating City\"], [\"Macabre Mansion\"], [\"A Sorcerer\\u2019s Story\"], [\"Balance of Superpower\"], [\"Hero or Villain: Battle Royale*\"], [\"Demon: Recollect\"], [\"Too Different\"], [\"Score of a Lifetime\"], [\"After the Storm\"], [\"The Brothers\\u2019 War\"], [\"Relics of the Lost Age\"], [\"Keeper of the Day and Night\"], [\"The Mage\\u2019s Adventures\"], [\"War of 2022\"]], \"hovertemplate\": \"Genre=%{x}<br>Popularity=%{y}<br>HG Story Title=%{customdata[0]}<extra></extra>\", \"legendgroup\": \"\", \"marker\": {\"color\": \"#636efa\"}, \"name\": \"\", \"notched\": false, \"offsetgroup\": \"\", \"orientation\": \"v\", \"showlegend\": false, \"type\": \"box\", \"x\": [\"Mystery\", \"Horror\", \"Mystery\", \"Puzzle\", \"Fantasy\", \"Puzzle\", \"War\", \"Slice of Life\", \"Supernatural\", \"Sci-Fi\", \"Sci-Fi\", \"Slice of Life\", \"Mystery\", \"Sci-Fi\", \"Historical\", \"Fantasy\", \"Fantasy\", \"War\", \"Sci-Fi\", \"Fantasy\", \"Supernatural\", \"Supernatural\", \"Historical\", \"Fantasy\", \"Sci-Fi\", \"Crime\", \"Fantasy\", \"Fantasy\", \"Crime\", \"War\", \"Puzzle\", \"War\", \"Fantasy\", \"Fantasy\", \"Crime\", \"Supernatural\", \"Slice of Life\", \"Horror\", \"Crime\", \"Mystery\", \"Fantasy\", \"Supernatural\", \"Supernatural\", \"Sci-Fi\", \"Steampunk\", \"Steampunk\", \"Fantasy\", \"Puzzle\", \"Superhero\", \"Supernatural\", \"Fantasy\", \"Fantasy\", \"Sci-Fi\", \"Fantasy\", \"War\", \"Supernatural\", \"Superhero\", \"Supernatural\", \"Post-apocalyptic\", \"Sci-Fi\", \"Sci-Fi\", \"Fantasy\", \"Sci-Fi\", \"School\", \"Steampunk\", \"Fantasy\", \"Supernatural\", \"Horror\", \"Fantasy\", \"Supernatural\", \"Fantasy\", \"Fantasy\", \"Sci-Fi\", \"Fantasy\", \"Superhero\", \"Mystery\", \"Adventure\", \"Slice of Life\", \"Horror\", \"Spy\", \"Puzzle\", \"Fantasy\", \"Supernatural\", \"Horror\", \"Fantasy\", \"Fantasy\", \"Supernatural\", \"War\", \"Fantasy\", \"Supernatural\", \"Superhero\", \"Post-apocalyptic\", \"Humor\", \"Sci-Fi\", \"Superhero\", \"Humor\", \"Romance\", \"Post-apocalyptic\", \"Horror\", \"Fantasy\", \"Fantasy\", \"Fantasy\", \"Supernatural\", \"Fantasy\", \"Sci-Fi\", \"Romance\", \"Puzzle\", \"Fantasy\", \"Steampunk\", \"Post-apocalyptic\", \"Fantasy\", \"Historical\", \"Supernatural\", \"Fantasy\", \"Historical\", \"Fantasy\", \"Fantasy\", \"Sci-Fi\", \"Fantasy\", \"Mystery\", \"Fantasy\", \"Slice of Life\", \"Mystery\", \"Fantasy\", \"Superhero\", \"Slice of Life\", \"Mystery\", \"Supernatural\", \"Fantasy\", \"Fantasy\", \"Crime\", \"Fantasy\", \"Crime\", \"Fantasy\", \"Post-apocalyptic\", \"Fantasy\", \"Fantasy\", \"Mystery\", \"Supernatural\", \"Sci-Fi\", \"Fantasy\", \"Mystery\", \"Humor\", \"Post-apocalyptic\", \"Mystery\", \"Supernatural\", \"Superhero\", \"Superhero\", \"Superhero\", \"Romance\", \"Romance\", \"Romance\", \"Historical\", \"Historical\", \"Supernatural\", \"Fantasy\", \"War\"], \"x0\": \" \", \"xaxis\": \"x\", \"y\": [1294.0, 1098.0, 887.0, 1319.0, 2569.0, 183.0, 3048.0, 845.0, 8654.0, 373.0, 2640.0, 500.0, 621.0, 452.0, 413.0, 1605.0, 2063.0, 1876.0, 367.0, 1368.0, 939.0, 4109.0, 2035.0, 352.0, 151.0, 1739.0, 1797.0, 108.0, 166.0, 234.0, 137.0, 481.0, 1292.0, 4097.0, 290.0, 1989.0, 293.0, 72.0, 268.0, 617.0, 6063.0, 196.0, 938.0, 735.0, 174.0, 1128.0, 82.0, 151.0, 3742.0, 4694.0, 2408.0, 287.0, 864.0, 316.0, 1330.0, 84.0, 419.0, 323.0, 5812.0, 108.0, 142.0, 4276.0, 156.0, 96.0, 136.0, 3288.0, 989.0, 89.0, 171.0, 9363.0, 1058.0, 5461.0, 210.0, 1716.0, 929.0, 223.0, 69.0, 1021.0, 48.0, 83.0, 41.0, 221.0, 150.0, 567.0, 2419.0, 113.0, 5118.0, 240.0, 3158.0, 17716.0, 5587.0, 598.0, 38.0, 409.0, 1529.0, 18.0, 273.0, 550.0, 199.0, 1058.0, 839.0, 135.0, 1934.0, 408.0, 119.0, 1108.0, 70.0, 61.0, 221.0, 186.0, 23320.0, 1502.0, 4107.0, 1893.0, 750.0, 369.0, 4358.0, 834.0, 232.0, 139.0, 93.0, 466.0, 29.0, 4721.0, 11364.0, 4010.0, 172.0, 349.0, 5623.0, 438.0, 6764.0, 7198.0, 1166.0, 3694.0, 148.0, 4480.0, 314.0, 131.0, 14777.0, 142.0, 1107.0, 25.0, 430.0, 69.0, 140.0, 174.0, 492.0, 2342.0, 2767.0, 701.0, 261.0, 1364.0, 410.0, 744.0, 2764.0, 581.0, 690.0], \"y0\": \" \", \"yaxis\": \"y\"}],                        {\"boxmode\": \"group\", \"legend\": {\"tracegroupgap\": 0}, \"margin\": {\"t\": 60}, \"template\": {\"data\": {\"bar\": [{\"error_x\": {\"color\": \"#2a3f5f\"}, \"error_y\": {\"color\": \"#2a3f5f\"}, \"marker\": {\"line\": {\"color\": \"#E5ECF6\", \"width\": 0.5}}, \"type\": \"bar\"}], \"barpolar\": [{\"marker\": {\"line\": {\"color\": \"#E5ECF6\", \"width\": 0.5}}, \"type\": \"barpolar\"}], \"carpet\": [{\"aaxis\": {\"endlinecolor\": \"#2a3f5f\", \"gridcolor\": \"white\", \"linecolor\": \"white\", \"minorgridcolor\": \"white\", \"startlinecolor\": \"#2a3f5f\"}, \"baxis\": {\"endlinecolor\": \"#2a3f5f\", \"gridcolor\": \"white\", \"linecolor\": \"white\", \"minorgridcolor\": \"white\", \"startlinecolor\": \"#2a3f5f\"}, \"type\": \"carpet\"}], \"choropleth\": [{\"colorbar\": {\"outlinewidth\": 0, \"ticks\": \"\"}, \"type\": \"choropleth\"}], \"contour\": [{\"colorbar\": {\"outlinewidth\": 0, \"ticks\": \"\"}, \"colorscale\": [[0.0, \"#0d0887\"], [0.1111111111111111, \"#46039f\"], [0.2222222222222222, \"#7201a8\"], [0.3333333333333333, \"#9c179e\"], [0.4444444444444444, \"#bd3786\"], [0.5555555555555556, \"#d8576b\"], [0.6666666666666666, \"#ed7953\"], [0.7777777777777778, \"#fb9f3a\"], [0.8888888888888888, \"#fdca26\"], [1.0, \"#f0f921\"]], \"type\": \"contour\"}], \"contourcarpet\": [{\"colorbar\": {\"outlinewidth\": 0, \"ticks\": \"\"}, \"type\": \"contourcarpet\"}], \"heatmap\": [{\"colorbar\": {\"outlinewidth\": 0, \"ticks\": \"\"}, \"colorscale\": [[0.0, \"#0d0887\"], [0.1111111111111111, \"#46039f\"], [0.2222222222222222, \"#7201a8\"], [0.3333333333333333, \"#9c179e\"], [0.4444444444444444, \"#bd3786\"], [0.5555555555555556, \"#d8576b\"], [0.6666666666666666, \"#ed7953\"], [0.7777777777777778, \"#fb9f3a\"], [0.8888888888888888, \"#fdca26\"], [1.0, \"#f0f921\"]], \"type\": \"heatmap\"}], \"heatmapgl\": [{\"colorbar\": {\"outlinewidth\": 0, \"ticks\": \"\"}, \"colorscale\": [[0.0, \"#0d0887\"], [0.1111111111111111, \"#46039f\"], [0.2222222222222222, \"#7201a8\"], [0.3333333333333333, \"#9c179e\"], [0.4444444444444444, \"#bd3786\"], [0.5555555555555556, \"#d8576b\"], [0.6666666666666666, \"#ed7953\"], [0.7777777777777778, \"#fb9f3a\"], [0.8888888888888888, \"#fdca26\"], [1.0, \"#f0f921\"]], \"type\": \"heatmapgl\"}], \"histogram\": [{\"marker\": {\"colorbar\": {\"outlinewidth\": 0, \"ticks\": \"\"}}, \"type\": \"histogram\"}], \"histogram2d\": [{\"colorbar\": {\"outlinewidth\": 0, \"ticks\": \"\"}, \"colorscale\": [[0.0, \"#0d0887\"], [0.1111111111111111, \"#46039f\"], [0.2222222222222222, \"#7201a8\"], [0.3333333333333333, \"#9c179e\"], [0.4444444444444444, \"#bd3786\"], [0.5555555555555556, \"#d8576b\"], [0.6666666666666666, \"#ed7953\"], [0.7777777777777778, \"#fb9f3a\"], [0.8888888888888888, \"#fdca26\"], [1.0, \"#f0f921\"]], \"type\": \"histogram2d\"}], \"histogram2dcontour\": [{\"colorbar\": {\"outlinewidth\": 0, \"ticks\": \"\"}, \"colorscale\": [[0.0, \"#0d0887\"], [0.1111111111111111, \"#46039f\"], [0.2222222222222222, \"#7201a8\"], [0.3333333333333333, \"#9c179e\"], [0.4444444444444444, \"#bd3786\"], [0.5555555555555556, \"#d8576b\"], [0.6666666666666666, \"#ed7953\"], [0.7777777777777778, \"#fb9f3a\"], [0.8888888888888888, \"#fdca26\"], [1.0, \"#f0f921\"]], \"type\": \"histogram2dcontour\"}], \"mesh3d\": [{\"colorbar\": {\"outlinewidth\": 0, \"ticks\": \"\"}, \"type\": \"mesh3d\"}], \"parcoords\": [{\"line\": {\"colorbar\": {\"outlinewidth\": 0, \"ticks\": \"\"}}, \"type\": \"parcoords\"}], \"pie\": [{\"automargin\": true, \"type\": \"pie\"}], \"scatter\": [{\"marker\": {\"colorbar\": {\"outlinewidth\": 0, \"ticks\": \"\"}}, \"type\": \"scatter\"}], \"scatter3d\": [{\"line\": {\"colorbar\": {\"outlinewidth\": 0, \"ticks\": \"\"}}, \"marker\": {\"colorbar\": {\"outlinewidth\": 0, \"ticks\": \"\"}}, \"type\": \"scatter3d\"}], \"scattercarpet\": [{\"marker\": {\"colorbar\": {\"outlinewidth\": 0, \"ticks\": \"\"}}, \"type\": \"scattercarpet\"}], \"scattergeo\": [{\"marker\": {\"colorbar\": {\"outlinewidth\": 0, \"ticks\": \"\"}}, \"type\": \"scattergeo\"}], \"scattergl\": [{\"marker\": {\"colorbar\": {\"outlinewidth\": 0, \"ticks\": \"\"}}, \"type\": \"scattergl\"}], \"scattermapbox\": [{\"marker\": {\"colorbar\": {\"outlinewidth\": 0, \"ticks\": \"\"}}, \"type\": \"scattermapbox\"}], \"scatterpolar\": [{\"marker\": {\"colorbar\": {\"outlinewidth\": 0, \"ticks\": \"\"}}, \"type\": \"scatterpolar\"}], \"scatterpolargl\": [{\"marker\": {\"colorbar\": {\"outlinewidth\": 0, \"ticks\": \"\"}}, \"type\": \"scatterpolargl\"}], \"scatterternary\": [{\"marker\": {\"colorbar\": {\"outlinewidth\": 0, \"ticks\": \"\"}}, \"type\": \"scatterternary\"}], \"surface\": [{\"colorbar\": {\"outlinewidth\": 0, \"ticks\": \"\"}, \"colorscale\": [[0.0, \"#0d0887\"], [0.1111111111111111, \"#46039f\"], [0.2222222222222222, \"#7201a8\"], [0.3333333333333333, \"#9c179e\"], [0.4444444444444444, \"#bd3786\"], [0.5555555555555556, \"#d8576b\"], [0.6666666666666666, \"#ed7953\"], [0.7777777777777778, \"#fb9f3a\"], [0.8888888888888888, \"#fdca26\"], [1.0, \"#f0f921\"]], \"type\": \"surface\"}], \"table\": [{\"cells\": {\"fill\": {\"color\": \"#EBF0F8\"}, \"line\": {\"color\": \"white\"}}, \"header\": {\"fill\": {\"color\": \"#C8D4E3\"}, \"line\": {\"color\": \"white\"}}, \"type\": \"table\"}]}, \"layout\": {\"annotationdefaults\": {\"arrowcolor\": \"#2a3f5f\", \"arrowhead\": 0, \"arrowwidth\": 1}, \"autotypenumbers\": \"strict\", \"coloraxis\": {\"colorbar\": {\"outlinewidth\": 0, \"ticks\": \"\"}}, \"colorscale\": {\"diverging\": [[0, \"#8e0152\"], [0.1, \"#c51b7d\"], [0.2, \"#de77ae\"], [0.3, \"#f1b6da\"], [0.4, \"#fde0ef\"], [0.5, \"#f7f7f7\"], [0.6, \"#e6f5d0\"], [0.7, \"#b8e186\"], [0.8, \"#7fbc41\"], [0.9, \"#4d9221\"], [1, \"#276419\"]], \"sequential\": [[0.0, \"#0d0887\"], [0.1111111111111111, \"#46039f\"], [0.2222222222222222, \"#7201a8\"], [0.3333333333333333, \"#9c179e\"], [0.4444444444444444, \"#bd3786\"], [0.5555555555555556, \"#d8576b\"], [0.6666666666666666, \"#ed7953\"], [0.7777777777777778, \"#fb9f3a\"], [0.8888888888888888, \"#fdca26\"], [1.0, \"#f0f921\"]], \"sequentialminus\": [[0.0, \"#0d0887\"], [0.1111111111111111, \"#46039f\"], [0.2222222222222222, \"#7201a8\"], [0.3333333333333333, \"#9c179e\"], [0.4444444444444444, \"#bd3786\"], [0.5555555555555556, \"#d8576b\"], [0.6666666666666666, \"#ed7953\"], [0.7777777777777778, \"#fb9f3a\"], [0.8888888888888888, \"#fdca26\"], [1.0, \"#f0f921\"]]}, \"colorway\": [\"#636efa\", \"#EF553B\", \"#00cc96\", \"#ab63fa\", \"#FFA15A\", \"#19d3f3\", \"#FF6692\", \"#B6E880\", \"#FF97FF\", \"#FECB52\"], \"font\": {\"color\": \"#2a3f5f\"}, \"geo\": {\"bgcolor\": \"white\", \"lakecolor\": \"white\", \"landcolor\": \"#E5ECF6\", \"showlakes\": true, \"showland\": true, \"subunitcolor\": \"white\"}, \"hoverlabel\": {\"align\": \"left\"}, \"hovermode\": \"closest\", \"mapbox\": {\"style\": \"light\"}, \"paper_bgcolor\": \"white\", \"plot_bgcolor\": \"#E5ECF6\", \"polar\": {\"angularaxis\": {\"gridcolor\": \"white\", \"linecolor\": \"white\", \"ticks\": \"\"}, \"bgcolor\": \"#E5ECF6\", \"radialaxis\": {\"gridcolor\": \"white\", \"linecolor\": \"white\", \"ticks\": \"\"}}, \"scene\": {\"xaxis\": {\"backgroundcolor\": \"#E5ECF6\", \"gridcolor\": \"white\", \"gridwidth\": 2, \"linecolor\": \"white\", \"showbackground\": true, \"ticks\": \"\", \"zerolinecolor\": \"white\"}, \"yaxis\": {\"backgroundcolor\": \"#E5ECF6\", \"gridcolor\": \"white\", \"gridwidth\": 2, \"linecolor\": \"white\", \"showbackground\": true, \"ticks\": \"\", \"zerolinecolor\": \"white\"}, \"zaxis\": {\"backgroundcolor\": \"#E5ECF6\", \"gridcolor\": \"white\", \"gridwidth\": 2, \"linecolor\": \"white\", \"showbackground\": true, \"ticks\": \"\", \"zerolinecolor\": \"white\"}}, \"shapedefaults\": {\"line\": {\"color\": \"#2a3f5f\"}}, \"ternary\": {\"aaxis\": {\"gridcolor\": \"white\", \"linecolor\": \"white\", \"ticks\": \"\"}, \"baxis\": {\"gridcolor\": \"white\", \"linecolor\": \"white\", \"ticks\": \"\"}, \"bgcolor\": \"#E5ECF6\", \"caxis\": {\"gridcolor\": \"white\", \"linecolor\": \"white\", \"ticks\": \"\"}}, \"title\": {\"x\": 0.05}, \"xaxis\": {\"automargin\": true, \"gridcolor\": \"white\", \"linecolor\": \"white\", \"ticks\": \"\", \"title\": {\"standoff\": 15}, \"zerolinecolor\": \"white\", \"zerolinewidth\": 2}, \"yaxis\": {\"automargin\": true, \"gridcolor\": \"white\", \"linecolor\": \"white\", \"ticks\": \"\", \"title\": {\"standoff\": 15}, \"zerolinecolor\": \"white\", \"zerolinewidth\": 2}}}, \"xaxis\": {\"anchor\": \"y\", \"domain\": [0.0, 1.0], \"title\": {\"text\": \"Genre\"}}, \"yaxis\": {\"anchor\": \"x\", \"domain\": [0.0, 1.0], \"title\": {\"text\": \"Popularity\"}}},                        {\"responsive\": true}                    ).then(function(){\n",
       "                            \n",
       "var gd = document.getElementById('c81fb7de-a1fe-4da4-a71b-068649205c70');\n",
       "var x = new MutationObserver(function (mutations, observer) {{\n",
       "        var display = window.getComputedStyle(gd).display;\n",
       "        if (!display || display === 'none') {{\n",
       "            console.log([gd, 'removed!']);\n",
       "            Plotly.purge(gd);\n",
       "            observer.disconnect();\n",
       "        }}\n",
       "}});\n",
       "\n",
       "// Listen for the removal of the full notebook cells\n",
       "var notebookContainer = gd.closest('#notebook-container');\n",
       "if (notebookContainer) {{\n",
       "    x.observe(notebookContainer, {childList: true});\n",
       "}}\n",
       "\n",
       "// Listen for the clearing of the current output cell\n",
       "var outputEl = gd.closest('.output');\n",
       "if (outputEl) {{\n",
       "    x.observe(outputEl, {childList: true});\n",
       "}}\n",
       "\n",
       "                        })                };                });            </script>        </div>"
      ]
     },
     "metadata": {},
     "output_type": "display_data"
    }
   ],
   "source": [
    "#Let's do a box plot with The Great Tournament removed...\n",
    "px.box(data_no_outliers, x='Genre', y='Popularity', hover_data=['HG Story Title'])"
   ]
  },
  {
   "cell_type": "markdown",
   "metadata": {},
   "source": [
    "Superatural, Fantasy, and Superhero are the most popular genres on average. They are also the most popular genres in total, so writers' interests and readers' interests seem to overlap for the most part. Interestingly, it seems that Superhero has the highest floor of popularity: the least popular Superhero game has a popularity of 419, which is the highest minimum popularity of any genre!\n",
    "\n",
    "### Can we create a super-model that predicts popularity using Word Count, Genre, and Free?\n",
    "\n",
    "We'll introduce dummy variables for all of the genres, as well as \"Free?\"."
   ]
  },
  {
   "cell_type": "code",
   "execution_count": 178,
   "metadata": {},
   "outputs": [],
   "source": [
    "# 1. Create categorical variables to represent genre inclusions\n",
    "genre_cols = []\n",
    "genre_cols_quoted = []\n",
    "for genre in set(data['Genre']):\n",
    "    data['is_' + genre] = [int(x) for x in (data['Genre'] == genre)]\n",
    "    genre_cols_quoted.append('\"is_' + genre + '\"')\n",
    "    genre_cols.append('is_'+genre)"
   ]
  },
  {
   "cell_type": "code",
   "execution_count": 188,
   "metadata": {},
   "outputs": [],
   "source": [
    "data['is_free'] = [int(x) for x in (data['Free?'] == 'Yup')]"
   ]
  },
  {
   "cell_type": "code",
   "execution_count": 199,
   "metadata": {},
   "outputs": [],
   "source": [
    "data_clean = data[~data['# of Google Reviews'].isna()]\n",
    "data_clean_X = data_clean[['Word Count', 'is_free'] + genre_cols]\n",
    "\n",
    "data_no_outliers = data_clean[data_clean['HG Story Title'] != 'The Great Tournament']\n",
    "data_noo_X = data_no_outliers[['Word Count', 'is_free'] + genre_cols]"
   ]
  },
  {
   "cell_type": "code",
   "execution_count": 197,
   "metadata": {},
   "outputs": [],
   "source": [
    "results = sm.OLS(data_clean['Popularity'], sm.add_constant(data_clean_X)).fit()"
   ]
  },
  {
   "cell_type": "code",
   "execution_count": 198,
   "metadata": {},
   "outputs": [
    {
     "name": "stdout",
     "output_type": "stream",
     "text": [
      "                            OLS Regression Results                            \n",
      "==============================================================================\n",
      "Dep. Variable:             Popularity   R-squared:                       0.227\n",
      "Model:                            OLS   Adj. R-squared:                  0.120\n",
      "Method:                 Least Squares   F-statistic:                     2.128\n",
      "Date:                Mon, 07 Jun 2021   Prob (F-statistic):            0.00673\n",
      "Time:                        19:07:17   Log-Likelihood:                -1540.1\n",
      "No. Observations:                 158   AIC:                             3120.\n",
      "Df Residuals:                     138   BIC:                             3182.\n",
      "Df Model:                          19                                         \n",
      "Covariance Type:            nonrobust                                         \n",
      "=======================================================================================\n",
      "                          coef    std err          t      P>|t|      [0.025      0.975]\n",
      "---------------------------------------------------------------------------------------\n",
      "const                -983.5624    681.224     -1.444      0.151   -2330.549     363.424\n",
      "Word Count              0.0078      0.002      4.137      0.000       0.004       0.012\n",
      "is_free              3381.5887    964.464      3.506      0.001    1474.550    5288.627\n",
      "is_Puzzle           -1517.5602   1836.358     -0.826      0.410   -5148.597    2113.477\n",
      "is_Adventure        -2640.8180   4283.843     -0.616      0.539   -1.11e+04    5829.640\n",
      "is_Slice of Life     -660.0023   1809.411     -0.365      0.716   -4237.757    2917.752\n",
      "is_Fantasy           2223.1464    830.908      2.676      0.008     580.189    3866.103\n",
      "is_Supernatural      2229.0720   1096.669      2.033      0.044      60.625    4397.519\n",
      "is_Spy                372.8259   4235.742      0.088      0.930   -8002.522    8748.174\n",
      "is_Sci-Fi           -1226.0209   1215.745     -1.008      0.315   -3629.918    1177.876\n",
      "is_War                254.7964   1674.860      0.152      0.879   -3056.910    3566.502\n",
      "is_Humor             -298.6220   2487.436     -0.120      0.905   -5217.037    4619.793\n",
      "is_Romance            208.0959   1962.517      0.106      0.916   -3672.396    4088.588\n",
      "is_Superhero         2651.1027   1513.379      1.752      0.082    -341.306    5643.512\n",
      "is_Crime              -83.6752   1808.689     -0.046      0.963   -3660.002    3492.652\n",
      "is_Horror           -1715.6873   1811.494     -0.947      0.345   -5297.562    1866.187\n",
      "is_Historical       -1562.4927   1838.820     -0.850      0.397   -5198.398    2073.412\n",
      "is_Mystery           -655.8987   1391.732     -0.471      0.638   -3407.775    2095.977\n",
      "is_School             549.5166   4237.682      0.130      0.897   -7829.666    8928.700\n",
      "is_Post-apocalyptic  1080.4842   1809.009      0.597      0.551   -2496.475    4657.443\n",
      "is_Steampunk         -191.8252   2174.996     -0.088      0.930   -4492.453    4108.803\n",
      "==============================================================================\n",
      "Omnibus:                      238.653   Durbin-Watson:                   1.898\n",
      "Prob(Omnibus):                  0.000   Jarque-Bera (JB):            22118.570\n",
      "Skew:                           6.416   Prob(JB):                         0.00\n",
      "Kurtosis:                      59.525   Cond. No.                     4.93e+21\n",
      "==============================================================================\n",
      "\n",
      "Warnings:\n",
      "[1] Standard Errors assume that the covariance matrix of the errors is correctly specified.\n",
      "[2] The smallest eigenvalue is 5.26e-31. This might indicate that there are\n",
      "strong multicollinearity problems or that the design matrix is singular.\n"
     ]
    }
   ],
   "source": [
    "print(results.summary())"
   ]
  },
  {
   "cell_type": "markdown",
   "metadata": {},
   "source": [
    "Now, what the heck does this mean?\n",
    "\n",
    "- The 'coef' field for each genre basically represents how much popularity (in terms of Google + omnibus ratings) you gain/lose by using that genre. Note that the error ranges (the last two columns) are very large, due to the small sample size.\n",
    "\n",
    "If we interpret the linear regression coeffients very literally...\n",
    "\n",
    "- Every additional word gets a game between 0.004 and 0.012 additional ratings.\n",
    "- If a game is free, it'll gain between ~1400 and ~5200 ratings.\n",
    "- If a game is in the fantasy genre, it'll gain between 580 and 3800 ratings (this is likely inflated by The Great Tournament and Life of a Mercenary, which I did not remove for this regression).\n",
    "- If a game is in the supernatural genre, it'll gain between 60 and 4300 ratings (this is barely significant at p<0.05, and would not be \"significant\" if a FDR correction is applied).\n",
    "- If a game is in the superhero genre, it'll gain between -341 and 5643 ratings (this is \"almost significant\" in p-hacker terminology). \n",
    "\n",
    "None of the other conclusions are significant. Based on this analysis, we cannot conclusively say that, for example, puzzle or adventure or horror games will have a penalty to popularity, simply because there are too few games in those categories. Similarly, we can't say that school or post-apocalyptic games will have a bonus to popularity.\n",
    "\n",
    "Now, what if we remove The Great Tournament?"
   ]
  },
  {
   "cell_type": "code",
   "execution_count": 200,
   "metadata": {},
   "outputs": [],
   "source": [
    "results = sm.OLS(data_no_outliers['Popularity'], sm.add_constant(data_noo_X)).fit()"
   ]
  },
  {
   "cell_type": "code",
   "execution_count": 201,
   "metadata": {},
   "outputs": [
    {
     "name": "stdout",
     "output_type": "stream",
     "text": [
      "                            OLS Regression Results                            \n",
      "==============================================================================\n",
      "Dep. Variable:             Popularity   R-squared:                       0.351\n",
      "Model:                            OLS   Adj. R-squared:                  0.261\n",
      "Method:                 Least Squares   F-statistic:                     3.901\n",
      "Date:                Mon, 07 Jun 2021   Prob (F-statistic):           1.42e-06\n",
      "Time:                        19:22:03   Log-Likelihood:                -1451.4\n",
      "No. Observations:                 157   AIC:                             2943.\n",
      "Df Residuals:                     137   BIC:                             3004.\n",
      "Df Model:                          19                                         \n",
      "Covariance Type:            nonrobust                                         \n",
      "=======================================================================================\n",
      "                          coef    std err          t      P>|t|      [0.025      0.975]\n",
      "---------------------------------------------------------------------------------------\n",
      "const                -511.8465    413.149     -1.239      0.218   -1328.820     305.127\n",
      "Word Count              0.0071      0.001      6.206      0.000       0.005       0.009\n",
      "is_free              1694.5948    593.407      2.856      0.005     521.173    2868.016\n",
      "is_Puzzle            -812.8589   1111.620     -0.731      0.466   -3011.010    1385.293\n",
      "is_Adventure        -1396.9067   2592.251     -0.539      0.591   -6522.905    3729.092\n",
      "is_Slice of Life     -183.3519   1094.823     -0.167      0.867   -2348.289    1981.585\n",
      "is_Fantasy           1215.6513    506.747      2.399      0.018     213.595    2217.708\n",
      "is_Supernatural      2282.6964    663.310      3.441      0.001     971.046    3594.347\n",
      "is_Spy                -35.1810   2562.051     -0.014      0.989   -5101.460    5031.098\n",
      "is_Sci-Fi            -988.8510    735.482     -1.344      0.181   -2443.215     465.513\n",
      "is_War                150.2705   1013.033      0.148      0.882   -1852.932    2153.473\n",
      "is_Humor             -178.8962   1504.502     -0.119      0.906   -3153.946    2796.154\n",
      "is_Romance           -124.3192   1187.188     -0.105      0.917   -2471.903    2223.264\n",
      "is_Superhero         2323.9052    915.584      2.538      0.012     513.400    4134.410\n",
      "is_Crime              -68.9012   1093.955     -0.063      0.950   -2232.122    2094.319\n",
      "is_Horror           -1219.5663   1096.119     -1.113      0.268   -3387.066     947.933\n",
      "is_Historical       -1481.3848   1112.191     -1.332      0.185   -3680.666     717.896\n",
      "is_Mystery           -315.6823    842.051     -0.375      0.708   -1980.780    1349.416\n",
      "is_School             126.4772   2563.234      0.049      0.961   -4942.142    5195.096\n",
      "is_Post-apocalyptic   712.5639   1094.405      0.651      0.516   -1451.547    2876.675\n",
      "is_Steampunk         -517.5115   1315.677     -0.393      0.695   -3119.172    2084.149\n",
      "==============================================================================\n",
      "Omnibus:                      157.031   Durbin-Watson:                   1.844\n",
      "Prob(Omnibus):                  0.000   Jarque-Bera (JB):             3526.737\n",
      "Skew:                           3.615   Prob(JB):                         0.00\n",
      "Kurtosis:                      25.065   Cond. No.                     3.24e+21\n",
      "==============================================================================\n",
      "\n",
      "Warnings:\n",
      "[1] Standard Errors assume that the covariance matrix of the errors is correctly specified.\n",
      "[2] The smallest eigenvalue is 1.21e-30. This might indicate that there are\n",
      "strong multicollinearity problems or that the design matrix is singular.\n"
     ]
    }
   ],
   "source": [
    "print(results.summary())"
   ]
  },
  {
   "cell_type": "markdown",
   "metadata": {},
   "source": [
    "These results actually look quite a bit better. Here's a summary:\n",
    "\n",
    "- Every additional word gets a game between 0.005 and 0.009 additional ratings.\n",
    "- If a game is free, it'll gain between 521 and 2868 ratings.\n",
    "- If a game is in the fantasy genre, it'll gain between 213 and 2217 ratings.\n",
    "- If a game is in the supernatural genre, it'll gain between 971 and 3594 ratings.\n",
    "- If a game is in the Superhero genre, it'll gain between 513 and 4134 ratings.\n",
    "\n",
    "These are all the \"significant\" conclusions here. According to the regression coefficients, puzzle, adventure, sci-fi, horror, historical, and steampunk all have penalties, while war, school, and post-apocalyptic all have slight bonuses. But none of those are \"significant\", because the sample size is very, very small."
   ]
  },
  {
   "cell_type": "code",
   "execution_count": null,
   "metadata": {},
   "outputs": [],
   "source": []
  }
 ],
 "metadata": {
  "kernelspec": {
   "display_name": "Python 3",
   "language": "python",
   "name": "python3"
  },
  "language_info": {
   "codemirror_mode": {
    "name": "ipython",
    "version": 3
   },
   "file_extension": ".py",
   "mimetype": "text/x-python",
   "name": "python",
   "nbconvert_exporter": "python",
   "pygments_lexer": "ipython3",
   "version": "3.6.9"
  }
 },
 "nbformat": 4,
 "nbformat_minor": 4
}
